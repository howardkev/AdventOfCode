{
 "cells": [
  {
   "cell_type": "markdown",
   "id": "9f697af2",
   "metadata": {},
   "source": [
    "# --- `Day 13`: Title ---"
   ]
  },
  {
   "cell_type": "code",
   "execution_count": 8,
   "id": "ac96ba0f",
   "metadata": {},
   "outputs": [],
   "source": [
    "import aocd\n",
    "import re\n",
    "import operator\n",
    "from collections import Counter, defaultdict, deque\n",
    "from itertools import combinations\n",
    "from functools import reduce, lru_cache\n",
    "\n",
    "def prod(iterable):\n",
    "    return reduce(operator.mul, iterable, 1)\n",
    "\n",
    "def count(iterable, predicate = bool):\n",
    "    return sum([1 for item in iterable if predicate(item)])\n",
    "\n",
    "def first(iterable, default = None):\n",
    "    return next(iter(iterable), default)\n",
    "\n",
    "def lmap(func, *iterables):\n",
    "    return list(map(func, *iterables))\n",
    "\n",
    "def ints(s):\n",
    "    return lmap(int, re.findall(r\"-?\\d+\", s))\n",
    "\n",
    "def words(s):\n",
    "    return re.findall(r\"[a-zA-Z]+\", s)\n",
    "\n",
    "def list_diff(x):\n",
    "    return [b - a for a, b in zip(x, x[1:])]\n",
    "\n",
    "def binary_to_int(lst):\n",
    "    return int(\"\".join(str(i) for i in lst), 2)\n",
    "\n",
    "def get_column(lst, index):\n",
    "    return [x[index] for x in lst]"
   ]
  },
  {
   "cell_type": "code",
   "execution_count": 144,
   "id": "7280dabd",
   "metadata": {},
   "outputs": [],
   "source": [
    "def parse_line(line):\n",
    "    return tuple(map(int, line.split(\",\")))\n",
    "    \n",
    "def parse_input(input):\n",
    "    a, b = input.split(\"\\n\\n\")\n",
    "    folds = []\n",
    "    for f in b.splitlines():\n",
    "        c, d = f.split('=')\n",
    "        folds.append((c[-1], int(d)))\n",
    "    return (list(map(parse_line, a.splitlines())), folds)"
   ]
  },
  {
   "cell_type": "code",
   "execution_count": null,
   "id": "621f30ed",
   "metadata": {},
   "outputs": [],
   "source": [
    "final_input = parse_input(aocd.get_data(day=13, year=2021))\n",
    "print(final_input[0][:5], final_input[1])"
   ]
  },
  {
   "cell_type": "code",
   "execution_count": 146,
   "id": "69f5f045",
   "metadata": {},
   "outputs": [
    {
     "name": "stdout",
     "output_type": "stream",
     "text": [
      "([(6, 10), (0, 14), (9, 10), (0, 3), (10, 4), (4, 11), (6, 0), (6, 12), (4, 1), (0, 13), (10, 12), (3, 4), (3, 0), (8, 4), (1, 10), (2, 14), (8, 10), (9, 0)], [('y', 7), ('x', 5)])\n"
     ]
    }
   ],
   "source": [
    "test_input = parse_input('''\\\n",
    "6,10\n",
    "0,14\n",
    "9,10\n",
    "0,3\n",
    "10,4\n",
    "4,11\n",
    "6,0\n",
    "6,12\n",
    "4,1\n",
    "0,13\n",
    "10,12\n",
    "3,4\n",
    "3,0\n",
    "8,4\n",
    "1,10\n",
    "2,14\n",
    "8,10\n",
    "9,0\n",
    "\n",
    "fold along y=7\n",
    "fold along x=5\n",
    "''')\n",
    "\n",
    "print(test_input)"
   ]
  },
  {
   "cell_type": "markdown",
   "id": "53a94009",
   "metadata": {},
   "source": [
    "### Helpers"
   ]
  },
  {
   "cell_type": "code",
   "execution_count": 147,
   "id": "facaa590",
   "metadata": {},
   "outputs": [],
   "source": [
    "def printBoard(board, marked = set()):\n",
    "    spacing = 1\n",
    "    for r in range(min(20, len(board))):\n",
    "        print(''.join(str.rjust(str(board[r][c]), spacing)\n",
    "                if (r,c) not in marked else str.rjust('*', spacing) \n",
    "                for c in range(min(40, len(board[0])))))\n",
    "    print(\"\")\n",
    "    \n",
    "def copyBoard(board, x, y, w, h):\n",
    "    result = [['.'] * w for _ in range(h)]\n",
    "    for r in range(h):\n",
    "        for c in range(w):\n",
    "            result[r][c] = board[r + y][c + x]\n",
    "    return result\n",
    "    \n",
    "def foldUp(board, fold):\n",
    "    w,h = len(board[0]), len(board)\n",
    "    result = copyBoard(board, 0, 0, w, fold + 1)\n",
    "            \n",
    "    pos = fold - 1\n",
    "    for r in range(fold + 1, h):\n",
    "        for j in range(w):\n",
    "            if (board[r][j] == '#'):\n",
    "                result[pos][j] = board[r][j]\n",
    "        pos -= 1\n",
    "        if pos < 0:\n",
    "            break\n",
    "            \n",
    "    return result\n",
    "\n",
    "def foldLeft(board, fold):\n",
    "    w,h = len(board[0]), len(board)\n",
    "    result = copyBoard(board, 0, 0, fold, h)\n",
    "            \n",
    "    pos = fold - 1\n",
    "    for c in range(fold + 1, w):\n",
    "        for j in range(h):\n",
    "            if (board[j][c] == '#'):\n",
    "                result[j][pos] = board[j][c]\n",
    "        pos -= 1\n",
    "        if pos < 0:\n",
    "            break\n",
    "    \n",
    "    return result"
   ]
  },
  {
   "cell_type": "markdown",
   "id": "f88b71c4",
   "metadata": {},
   "source": [
    "## Solution 1"
   ]
  },
  {
   "cell_type": "code",
   "execution_count": 157,
   "id": "3b11a060",
   "metadata": {},
   "outputs": [
    {
     "name": "stdout",
     "output_type": "stream",
     "text": [
      "...#..#..#.\n",
      "....#......\n",
      "...........\n",
      "#..........\n",
      "...#....#.#\n",
      "...........\n",
      "...........\n",
      "...........\n",
      "...........\n",
      "...........\n",
      ".#....#.##.\n",
      "....#......\n",
      "......#...#\n",
      "#..........\n",
      "#.#........\n",
      "\n",
      "#.##..#..#.\n",
      "#...#......\n",
      "......#...#\n",
      "#...#......\n",
      ".#.#..#.###\n",
      "...........\n",
      "...........\n",
      "...........\n",
      "\n"
     ]
    },
    {
     "data": {
      "text/plain": [
       "17"
      ]
     },
     "execution_count": 157,
     "metadata": {},
     "output_type": "execute_result"
    }
   ],
   "source": [
    "def solve_1(input, quickExit):\n",
    "    numbers, folds = input\n",
    "    \n",
    "    w = max(numbers)[0] + 1\n",
    "    h = max(numbers, key=lambda x:x[1])[1] + 1\n",
    "    board = [['.'] * w for _ in range(h)]\n",
    "    \n",
    "    for x,y in numbers:\n",
    "        board[y][x] = '#'\n",
    "        \n",
    "    printBoard(board)\n",
    "    \n",
    "    for axis,f in folds:\n",
    "        if axis == 'y':\n",
    "            board = foldUp(board, f)\n",
    "        elif axis == 'x':\n",
    "            board = foldLeft(board, f)\n",
    "        printBoard(board)\n",
    "        if quickExit:\n",
    "            break\n",
    "    \n",
    "    count = 0\n",
    "    for x in board:\n",
    "        count += sum(a == '#' for a in x)\n",
    "    return count\n",
    "\n",
    "solve_1(test_input, True)"
   ]
  },
  {
   "cell_type": "code",
   "execution_count": null,
   "id": "9ae1d9b0",
   "metadata": {},
   "outputs": [],
   "source": [
    "f\"Solution 1: {solve_1(final_input, True)}\""
   ]
  },
  {
   "cell_type": "markdown",
   "id": "c4a93ab3",
   "metadata": {},
   "source": [
    "## Solution 2"
   ]
  },
  {
   "cell_type": "code",
   "execution_count": 153,
   "id": "de89416a",
   "metadata": {},
   "outputs": [
    {
     "name": "stdout",
     "output_type": "stream",
     "text": [
      "...#..#..#.\n",
      "....#......\n",
      "...........\n",
      "#..........\n",
      "...#....#.#\n",
      "...........\n",
      "...........\n",
      "...........\n",
      "...........\n",
      "...........\n",
      ".#....#.##.\n",
      "....#......\n",
      "......#...#\n",
      "#..........\n",
      "#.#........\n",
      "\n",
      "#.##..#..#.\n",
      "#...#......\n",
      "......#...#\n",
      "#...#......\n",
      ".#.#..#.###\n",
      "...........\n",
      "...........\n",
      "...........\n",
      "\n",
      "#####\n",
      "#...#\n",
      "#...#\n",
      "#...#\n",
      "#####\n",
      ".....\n",
      ".....\n",
      ".....\n",
      "\n"
     ]
    },
    {
     "data": {
      "text/plain": [
       "16"
      ]
     },
     "execution_count": 153,
     "metadata": {},
     "output_type": "execute_result"
    }
   ],
   "source": [
    "def solve_2(input):\n",
    "    return solve_1(input, False)\n",
    "    \n",
    "solve_2(test_input)"
   ]
  },
  {
   "cell_type": "code",
   "execution_count": null,
   "id": "a384f741",
   "metadata": {},
   "outputs": [],
   "source": [
    "f\"Solution 2: {solve_2(final_input)}\""
   ]
  },
  {
   "cell_type": "code",
   "execution_count": null,
   "id": "f1e461af",
   "metadata": {},
   "outputs": [],
   "source": []
  }
 ],
 "metadata": {
  "kernelspec": {
   "display_name": "Python 3 (ipykernel)",
   "language": "python",
   "name": "python3"
  },
  "language_info": {
   "codemirror_mode": {
    "name": "ipython",
    "version": 3
   },
   "file_extension": ".py",
   "mimetype": "text/x-python",
   "name": "python",
   "nbconvert_exporter": "python",
   "pygments_lexer": "ipython3",
   "version": "3.9.8"
  }
 },
 "nbformat": 4,
 "nbformat_minor": 5
}
