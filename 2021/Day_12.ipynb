{
 "cells": [
  {
   "cell_type": "markdown",
   "id": "9f697af2",
   "metadata": {},
   "source": [
    "# --- `Day 12`: Title ---"
   ]
  },
  {
   "cell_type": "code",
   "execution_count": 1,
   "id": "ac96ba0f",
   "metadata": {},
   "outputs": [],
   "source": [
    "import aocd\n",
    "import re\n",
    "import operator\n",
    "from collections import Counter, defaultdict, deque\n",
    "from itertools import combinations\n",
    "from functools import reduce, lru_cache\n",
    "\n",
    "def prod(iterable):\n",
    "    return reduce(operator.mul, iterable, 1)\n",
    "\n",
    "def count(iterable, predicate = bool):\n",
    "    return sum([1 for item in iterable if predicate(item)])\n",
    "\n",
    "def first(iterable, default = None):\n",
    "    return next(iter(iterable), default)\n",
    "\n",
    "def lmap(func, *iterables):\n",
    "    return list(map(func, *iterables))\n",
    "\n",
    "def ints(s):\n",
    "    return lmap(int, re.findall(r\"-?\\d+\", s))\n",
    "\n",
    "def words(s):\n",
    "    return re.findall(r\"[a-zA-Z]+\", s)\n",
    "\n",
    "def list_diff(x):\n",
    "    return [b - a for a, b in zip(x, x[1:])]\n",
    "\n",
    "def binary_to_int(lst):\n",
    "    return int(\"\".join(str(i) for i in lst), 2)\n",
    "\n",
    "def get_column(lst, index):\n",
    "    return [x[index] for x in lst]"
   ]
  },
  {
   "cell_type": "code",
   "execution_count": 6,
   "id": "7280dabd",
   "metadata": {},
   "outputs": [],
   "source": [
    "def parse_line(line): \n",
    "    return line.split('-')\n",
    "    \n",
    "def parse_input(input):\n",
    "    return list(map(parse_line, input.splitlines()))"
   ]
  },
  {
   "cell_type": "code",
   "execution_count": null,
   "id": "621f30ed",
   "metadata": {},
   "outputs": [],
   "source": [
    "final_input = parse_input(aocd.get_data(day=12, year=2021))\n",
    "print(final_input[:5])"
   ]
  },
  {
   "cell_type": "code",
   "execution_count": 8,
   "id": "69f5f045",
   "metadata": {},
   "outputs": [
    {
     "name": "stdout",
     "output_type": "stream",
     "text": [
      "[['start', 'A'], ['start', 'b'], ['A', 'c'], ['A', 'b'], ['b', 'd'], ['A', 'end'], ['b', 'end']]\n"
     ]
    }
   ],
   "source": [
    "test_input = parse_input('''\\\n",
    "start-A\n",
    "start-b\n",
    "A-c\n",
    "A-b\n",
    "b-d\n",
    "A-end\n",
    "b-end\n",
    "''')\n",
    "\n",
    "print(test_input)"
   ]
  },
  {
   "cell_type": "markdown",
   "id": "53a94009",
   "metadata": {},
   "source": [
    "### Helpers"
   ]
  },
  {
   "cell_type": "code",
   "execution_count": null,
   "id": "facaa590",
   "metadata": {},
   "outputs": [],
   "source": []
  },
  {
   "cell_type": "markdown",
   "id": "f88b71c4",
   "metadata": {},
   "source": [
    "## Solution 1"
   ]
  },
  {
   "cell_type": "code",
   "execution_count": 97,
   "id": "3b11a060",
   "metadata": {},
   "outputs": [
    {
     "name": "stdout",
     "output_type": "stream",
     "text": [
      "['start', 'A', 'end']\n",
      "['start', 'b', 'end']\n",
      "['start', 'A', 'b', 'end']\n",
      "['start', 'b', 'A', 'end']\n",
      "['start', 'A', 'c', 'A', 'end']\n",
      "['start', 'A', 'b', 'A', 'end']\n",
      "['start', 'A', 'c', 'A', 'b', 'end']\n",
      "['start', 'b', 'A', 'c', 'A', 'end']\n",
      "['start', 'A', 'c', 'A', 'b', 'A', 'end']\n",
      "['start', 'A', 'b', 'A', 'c', 'A', 'end']\n"
     ]
    },
    {
     "data": {
      "text/plain": [
       "10"
      ]
     },
     "execution_count": 97,
     "metadata": {},
     "output_type": "execute_result"
    }
   ],
   "source": [
    "def solve_1(input):\n",
    "    grid = defaultdict(set)\n",
    "    for (a,b) in input:\n",
    "        grid[a].add(b)\n",
    "        grid[b].add(a)\n",
    "        \n",
    "    count = 0\n",
    "    q = [(\"start\", [\"start\"], [\"start\"])]\n",
    "    \n",
    "    while q:\n",
    "        node, visited, path = q.pop(0)\n",
    "        if node == \"end\":\n",
    "            count += 1\n",
    "            #print(path)\n",
    "            continue\n",
    "            \n",
    "        for child in grid[node]:\n",
    "            if child not in visited:\n",
    "                nextVisited = visited[:]\n",
    "                nextPath = path[:] + [child]\n",
    "                if child.islower():\n",
    "                    nextVisited.append(child)\n",
    "                q.append((child, nextVisited, nextPath))\n",
    "                \n",
    "    return count           \n",
    "\n",
    "solve_1(test_input)"
   ]
  },
  {
   "cell_type": "code",
   "execution_count": null,
   "id": "9ae1d9b0",
   "metadata": {},
   "outputs": [],
   "source": [
    "f\"Solution 1: {solve_1(final_input)}\""
   ]
  },
  {
   "cell_type": "markdown",
   "id": "c4a93ab3",
   "metadata": {},
   "source": [
    "## Solution 2"
   ]
  },
  {
   "cell_type": "code",
   "execution_count": 98,
   "id": "de89416a",
   "metadata": {},
   "outputs": [
    {
     "name": "stdout",
     "output_type": "stream",
     "text": [
      "['start', 'A', 'end']\n",
      "['start', 'b', 'end']\n",
      "['start', 'A', 'b', 'end']\n",
      "['start', 'b', 'A', 'end']\n",
      "['start', 'A', 'c', 'A', 'end']\n",
      "['start', 'A', 'b', 'A', 'end']\n",
      "['start', 'b', 'A', 'b', 'end']\n",
      "['start', 'b', 'd', 'b', 'end']\n",
      "['start', 'A', 'c', 'A', 'b', 'end']\n",
      "['start', 'A', 'b', 'A', 'b', 'end']\n",
      "['start', 'A', 'b', 'd', 'b', 'end']\n",
      "['start', 'b', 'A', 'c', 'A', 'end']\n",
      "['start', 'b', 'A', 'b', 'A', 'end']\n",
      "['start', 'b', 'd', 'b', 'A', 'end']\n",
      "['start', 'A', 'c', 'A', 'c', 'A', 'end']\n",
      "['start', 'A', 'c', 'A', 'b', 'A', 'end']\n",
      "['start', 'A', 'b', 'A', 'c', 'A', 'end']\n",
      "['start', 'A', 'b', 'A', 'b', 'A', 'end']\n",
      "['start', 'A', 'b', 'd', 'b', 'A', 'end']\n",
      "['start', 'b', 'A', 'c', 'A', 'b', 'end']\n",
      "['start', 'A', 'c', 'A', 'c', 'A', 'b', 'end']\n",
      "['start', 'A', 'c', 'A', 'b', 'A', 'b', 'end']\n",
      "['start', 'A', 'c', 'A', 'b', 'd', 'b', 'end']\n",
      "['start', 'A', 'b', 'A', 'c', 'A', 'b', 'end']\n",
      "['start', 'b', 'A', 'c', 'A', 'c', 'A', 'end']\n",
      "['start', 'b', 'A', 'c', 'A', 'b', 'A', 'end']\n",
      "['start', 'b', 'A', 'b', 'A', 'c', 'A', 'end']\n",
      "['start', 'b', 'd', 'b', 'A', 'c', 'A', 'end']\n",
      "['start', 'A', 'c', 'A', 'c', 'A', 'b', 'A', 'end']\n",
      "['start', 'A', 'c', 'A', 'b', 'A', 'c', 'A', 'end']\n",
      "['start', 'A', 'c', 'A', 'b', 'A', 'b', 'A', 'end']\n",
      "['start', 'A', 'c', 'A', 'b', 'd', 'b', 'A', 'end']\n",
      "['start', 'A', 'b', 'A', 'c', 'A', 'c', 'A', 'end']\n",
      "['start', 'A', 'b', 'A', 'c', 'A', 'b', 'A', 'end']\n",
      "['start', 'A', 'b', 'A', 'b', 'A', 'c', 'A', 'end']\n",
      "['start', 'A', 'b', 'd', 'b', 'A', 'c', 'A', 'end']\n"
     ]
    },
    {
     "data": {
      "text/plain": [
       "36"
      ]
     },
     "execution_count": 98,
     "metadata": {},
     "output_type": "execute_result"
    }
   ],
   "source": [
    "def solve_2(input):\n",
    "    grid = defaultdict(set)\n",
    "    for (a,b) in input:\n",
    "        grid[a].add(b)\n",
    "        grid[b].add(a)\n",
    "        \n",
    "    count = 0\n",
    "    queue = [(\"start\", [\"start\"], [\"start\"], None)]\n",
    "    \n",
    "    while queue:\n",
    "        node, visited, path, twoTimes = queue.pop(0)\n",
    "        if node == \"end\":\n",
    "            count += 1\n",
    "            #print(path)\n",
    "            continue\n",
    "            \n",
    "        for child in grid[node]:\n",
    "            if child not in visited:\n",
    "                nextVisited = visited[:]\n",
    "                nextPath = path[:] + [child]\n",
    "                if child.islower():\n",
    "                    nextVisited.append(child)\n",
    "                queue.append((child, nextVisited, nextPath, twoTimes))\n",
    "            elif child in visited and child not in [\"start\", \"end\"] and twoTimes is None:\n",
    "                nextPath = path[:] + [child]\n",
    "                queue.append((child, visited, nextPath, child))\n",
    "    return count      \n",
    "    \n",
    "solve_2(test_input)"
   ]
  },
  {
   "cell_type": "code",
   "execution_count": null,
   "id": "a384f741",
   "metadata": {},
   "outputs": [],
   "source": [
    "f\"Solution 2: {solve_2(final_input)}\""
   ]
  },
  {
   "cell_type": "code",
   "execution_count": null,
   "id": "f1e461af",
   "metadata": {},
   "outputs": [],
   "source": []
  }
 ],
 "metadata": {
  "kernelspec": {
   "display_name": "Python 3 (ipykernel)",
   "language": "python",
   "name": "python3"
  },
  "language_info": {
   "codemirror_mode": {
    "name": "ipython",
    "version": 3
   },
   "file_extension": ".py",
   "mimetype": "text/x-python",
   "name": "python",
   "nbconvert_exporter": "python",
   "pygments_lexer": "ipython3",
   "version": "3.9.8"
  }
 },
 "nbformat": 4,
 "nbformat_minor": 5
}
