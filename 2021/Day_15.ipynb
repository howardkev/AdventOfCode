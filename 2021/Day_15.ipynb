{
 "cells": [
  {
   "cell_type": "markdown",
   "id": "9f697af2",
   "metadata": {},
   "source": [
    "# --- `Day 15`: Chiton ---"
   ]
  },
  {
   "cell_type": "code",
   "execution_count": 33,
   "id": "ac96ba0f",
   "metadata": {},
   "outputs": [],
   "source": [
    "import aocd\n",
    "import re\n",
    "import heapq\n",
    "import operator\n",
    "from collections import Counter, defaultdict, deque\n",
    "from itertools import combinations\n",
    "from functools import reduce, lru_cache\n",
    "\n",
    "def prod(iterable):\n",
    "    return reduce(operator.mul, iterable, 1)\n",
    "\n",
    "def count(iterable, predicate = bool):\n",
    "    return sum([1 for item in iterable if predicate(item)])\n",
    "\n",
    "def first(iterable, default = None):\n",
    "    return next(iter(iterable), default)\n",
    "\n",
    "def lmap(func, *iterables):\n",
    "    return list(map(func, *iterables))\n",
    "\n",
    "def ints(s):\n",
    "    return lmap(int, re.findall(r\"-?\\d+\", s))\n",
    "\n",
    "def words(s):\n",
    "    return re.findall(r\"[a-zA-Z]+\", s)\n",
    "\n",
    "def list_diff(x):\n",
    "    return [b - a for a, b in zip(x, x[1:])]\n",
    "\n",
    "def binary_to_int(lst):\n",
    "    return int(\"\".join(str(i) for i in lst), 2)\n",
    "\n",
    "def get_column(lst, index):\n",
    "    return [x[index] for x in lst]"
   ]
  },
  {
   "cell_type": "code",
   "execution_count": 3,
   "id": "7280dabd",
   "metadata": {},
   "outputs": [],
   "source": [
    "def parse_line(line): \n",
    "    return lmap(int, line)\n",
    "    \n",
    "def parse_input(input):\n",
    "    return list(map(parse_line, input.splitlines()))"
   ]
  },
  {
   "cell_type": "code",
   "execution_count": null,
   "id": "621f30ed",
   "metadata": {},
   "outputs": [],
   "source": [
    "final_input = parse_input(aocd.get_data(day=15, year=2021))\n",
    "print(final_input[:5])"
   ]
  },
  {
   "cell_type": "code",
   "execution_count": 5,
   "id": "69f5f045",
   "metadata": {},
   "outputs": [
    {
     "name": "stdout",
     "output_type": "stream",
     "text": [
      "[[1, 1, 6, 3, 7, 5, 1, 7, 4, 2], [1, 3, 8, 1, 3, 7, 3, 6, 7, 2], [2, 1, 3, 6, 5, 1, 1, 3, 2, 8], [3, 6, 9, 4, 9, 3, 1, 5, 6, 9], [7, 4, 6, 3, 4, 1, 7, 1, 1, 1], [1, 3, 1, 9, 1, 2, 8, 1, 3, 7], [1, 3, 5, 9, 9, 1, 2, 4, 2, 1], [3, 1, 2, 5, 4, 2, 1, 6, 3, 9], [1, 2, 9, 3, 1, 3, 8, 5, 2, 1], [2, 3, 1, 1, 9, 4, 4, 5, 8, 1]]\n"
     ]
    }
   ],
   "source": [
    "test_input = parse_input('''\\\n",
    "1163751742\n",
    "1381373672\n",
    "2136511328\n",
    "3694931569\n",
    "7463417111\n",
    "1319128137\n",
    "1359912421\n",
    "3125421639\n",
    "1293138521\n",
    "2311944581\n",
    "''')\n",
    "\n",
    "print(test_input)"
   ]
  },
  {
   "cell_type": "markdown",
   "id": "53a94009",
   "metadata": {},
   "source": [
    "### Helpers"
   ]
  },
  {
   "cell_type": "code",
   "execution_count": 79,
   "id": "facaa590",
   "metadata": {},
   "outputs": [],
   "source": [
    "def printBoard(board, marked = set()):\n",
    "    spacing = 3\n",
    "    for r in range(min(20, len(board))):\n",
    "        print(''.join(str.center(str(board[r][c]), spacing)\n",
    "                if (r,c) not in marked else str.center(f\"({board[r][c]})\", spacing) \n",
    "                for c in range(min(20, len(board[0])))))\n",
    "    print(\"\")\n",
    "    \n",
    "def get4Neighbors(input, r, c, w, h):\n",
    "    #w,h = len(input[0]), len(input)\n",
    "    offsets = [(-1,0), (0,1), (1,0), (0,-1)]\n",
    "    result = []\n",
    "    for (dr,dc) in offsets:\n",
    "        rr = r + dr\n",
    "        cc = c + dc\n",
    "        if 0 <= rr < h and 0 <= cc < w:\n",
    "            result.append((rr,cc))\n",
    "    return result"
   ]
  },
  {
   "cell_type": "markdown",
   "id": "f88b71c4",
   "metadata": {},
   "source": [
    "## Solution 1"
   ]
  },
  {
   "cell_type": "code",
   "execution_count": 77,
   "id": "3b11a060",
   "metadata": {},
   "outputs": [
    {
     "name": "stdout",
     "output_type": "stream",
     "text": [
      "(1) 1  6  3  7  5  1  7  4  2 \n",
      "(1) 3  8  1  3  7  3  6  7  2 \n",
      "(2)(1)(3)(6)(5)(1)(1) 3  2  8 \n",
      " 3  6  9  4  9  3 (1)(5) 6  9 \n",
      " 7  4  6  3  4  1  7 (1)(1) 1 \n",
      " 1  3  1  9  1  2  8  1 (3) 7 \n",
      " 1  3  5  9  9  1  2  4 (2) 1 \n",
      " 3  1  2  5  4  2  1  6 (3) 9 \n",
      " 1  2  9  3  1  3  8  5 (2)(1)\n",
      " 2  3  1  1  9  4  4  5  8 (1)\n",
      "\n"
     ]
    },
    {
     "data": {
      "text/plain": [
       "40"
      ]
     },
     "execution_count": 77,
     "metadata": {},
     "output_type": "execute_result"
    }
   ],
   "source": [
    "def solve_1(input):\n",
    "    board = []\n",
    "    for line in input:\n",
    "        board.append([int(x) for x in line])\n",
    "    w,h = len(board[0]), len(board)\n",
    "    \n",
    "    queue = [(0,0,0)]\n",
    "    distances = [[1e9 for _ in range(w)] for _ in range(h)]\n",
    "    distances[0][0] = 0\n",
    "    visited = set()\n",
    "    previous = {(0 ,0): None}\n",
    "    \n",
    "    while queue:\n",
    "        d,r,c = heapq.heappop(queue)\n",
    "        visited.add((r, c))\n",
    "        \n",
    "        neighbors = get4Neighbors(board, r, c, w, h)\n",
    "        for node in neighbors:\n",
    "            if not node in visited:\n",
    "                rr, cc = node\n",
    "                cost = board[rr][cc] + distances[r][c]\n",
    "                if cost < distances[rr][cc]:\n",
    "                    distances[rr][cc] = cost\n",
    "                    previous[(rr, cc)] = (r, c)\n",
    "                else:\n",
    "                    continue\n",
    "                heapq.heappush(queue, (cost, rr, cc))\n",
    "\n",
    "    # Just for fun\n",
    "    path = set()\n",
    "    pos = (h - 1, w - 1)\n",
    "    while pos:\n",
    "        path.add(pos)\n",
    "        pos = previous[pos]\n",
    "    printBoard(board, path)\n",
    "    \n",
    "    return distances[h - 1][w - 1]\n",
    "    \n",
    "\n",
    "solve_1(test_input)"
   ]
  },
  {
   "cell_type": "code",
   "execution_count": null,
   "id": "9ae1d9b0",
   "metadata": {},
   "outputs": [],
   "source": [
    "f\"Solution 1: {solve_1(final_input)}\""
   ]
  },
  {
   "cell_type": "markdown",
   "id": "c4a93ab3",
   "metadata": {},
   "source": [
    "## Solution 2"
   ]
  },
  {
   "cell_type": "code",
   "execution_count": 65,
   "id": "de89416a",
   "metadata": {},
   "outputs": [
    {
     "data": {
      "text/plain": [
       "315"
      ]
     },
     "execution_count": 65,
     "metadata": {},
     "output_type": "execute_result"
    }
   ],
   "source": [
    "def solve_2(input):\n",
    "    board = []\n",
    "    for line in input:\n",
    "        board.append([int(x) for x in line])\n",
    "    w,h = len(board[0]), len(board)\n",
    "    \n",
    "    queue = [(0,0,0)]\n",
    "    distances = [[1e9 for _ in range(w * 5)] for _ in range(h * 5)]\n",
    "    distances[0][0] = 0\n",
    "    visited = set()\n",
    "    \n",
    "    while queue:\n",
    "        d,r,c = heapq.heappop(queue)\n",
    "        visited.add((r, c))\n",
    "        \n",
    "        neighbors = get4Neighbors(board, r, c, w * 5, h * 5)\n",
    "        for node in neighbors:\n",
    "            if not node in visited:\n",
    "                rr, cc = node\n",
    "                value = board[rr % h][cc % w] + (rr // h) + (cc // w)\n",
    "                while value > 9:\n",
    "                    value -= 9\n",
    "                    \n",
    "                cost = value + distances[r][c]\n",
    "                if cost < distances[rr][cc]:\n",
    "                    distances[rr][cc] = cost\n",
    "                else:\n",
    "                    continue\n",
    "                heapq.heappush(queue, (cost, rr, cc))\n",
    "\n",
    "    return distances[(h * 5) - 1][(w * 5) - 1]\n",
    "    \n",
    "solve_2(test_input)"
   ]
  },
  {
   "cell_type": "code",
   "execution_count": null,
   "id": "a384f741",
   "metadata": {},
   "outputs": [],
   "source": [
    "f\"Solution 2: {solve_2(final_input)}\""
   ]
  },
  {
   "cell_type": "code",
   "execution_count": null,
   "id": "f1e461af",
   "metadata": {},
   "outputs": [],
   "source": []
  }
 ],
 "metadata": {
  "kernelspec": {
   "display_name": "Python 3 (ipykernel)",
   "language": "python",
   "name": "python3"
  },
  "language_info": {
   "codemirror_mode": {
    "name": "ipython",
    "version": 3
   },
   "file_extension": ".py",
   "mimetype": "text/x-python",
   "name": "python",
   "nbconvert_exporter": "python",
   "pygments_lexer": "ipython3",
   "version": "3.9.8"
  }
 },
 "nbformat": 4,
 "nbformat_minor": 5
}
