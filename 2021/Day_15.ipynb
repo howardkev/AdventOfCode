{
 "cells": [
  {
   "cell_type": "markdown",
   "id": "9f697af2",
   "metadata": {},
   "source": [
    "# --- `Day 15`: Chiton ---"
   ]
  },
  {
   "cell_type": "code",
   "execution_count": 33,
   "id": "ac96ba0f",
   "metadata": {},
   "outputs": [],
   "source": [
    "import aocd\n",
    "import re\n",
    "import heapq\n",
    "import operator\n",
    "from collections import Counter, defaultdict, deque\n",
    "from itertools import combinations\n",
    "from functools import reduce, lru_cache\n",
    "\n",
    "def prod(iterable):\n",
    "    return reduce(operator.mul, iterable, 1)\n",
    "\n",
    "def count(iterable, predicate = bool):\n",
    "    return sum([1 for item in iterable if predicate(item)])\n",
    "\n",
    "def first(iterable, default = None):\n",
    "    return next(iter(iterable), default)\n",
    "\n",
    "def lmap(func, *iterables):\n",
    "    return list(map(func, *iterables))\n",
    "\n",
    "def ints(s):\n",
    "    return lmap(int, re.findall(r\"-?\\d+\", s))\n",
    "\n",
    "def words(s):\n",
    "    return re.findall(r\"[a-zA-Z]+\", s)\n",
    "\n",
    "def list_diff(x):\n",
    "    return [b - a for a, b in zip(x, x[1:])]\n",
    "\n",
    "def binary_to_int(lst):\n",
    "    return int(\"\".join(str(i) for i in lst), 2)\n",
    "\n",
    "def get_column(lst, index):\n",
    "    return [x[index] for x in lst]"
   ]
  },
  {
   "cell_type": "code",
   "execution_count": 3,
   "id": "7280dabd",
   "metadata": {},
   "outputs": [],
   "source": [
    "def parse_line(line): \n",
    "    return lmap(int, line)\n",
    "    \n",
    "def parse_input(input):\n",
    "    return list(map(parse_line, input.splitlines()))"
   ]
  },
  {
   "cell_type": "code",
   "execution_count": 4,
   "id": "621f30ed",
   "metadata": {},
   "outputs": [
    {
     "name": "stdout",
     "output_type": "stream",
     "text": [
      "[[9, 1, 9, 7, 7, 9, 9, 9, 6, 7, 1, 4, 2, 9, 4, 9, 7, 1, 1, 9, 2, 4, 9, 1, 2, 5, 5, 9, 8, 5, 7, 2, 6, 6, 4, 2, 5, 9, 8, 9, 8, 9, 2, 8, 9, 5, 7, 9, 5, 3, 4, 9, 9, 8, 9, 9, 3, 5, 6, 7, 8, 8, 5, 2, 8, 5, 6, 4, 9, 1, 8, 6, 6, 5, 9, 7, 2, 4, 9, 8, 8, 3, 4, 5, 4, 3, 5, 5, 7, 2, 1, 8, 3, 8, 9, 9, 4, 6, 8, 9], [9, 4, 5, 4, 6, 9, 9, 4, 2, 8, 9, 5, 2, 9, 7, 7, 9, 1, 6, 2, 4, 8, 7, 9, 7, 6, 8, 7, 3, 7, 4, 1, 9, 9, 7, 9, 7, 5, 7, 9, 9, 3, 7, 1, 6, 6, 9, 5, 9, 9, 8, 5, 5, 7, 5, 9, 3, 4, 6, 8, 7, 7, 9, 9, 2, 8, 6, 2, 7, 8, 3, 9, 5, 7, 9, 9, 8, 3, 4, 5, 9, 9, 8, 2, 3, 7, 2, 5, 1, 9, 1, 7, 6, 8, 2, 6, 4, 2, 3, 9], [1, 4, 7, 6, 1, 2, 4, 5, 6, 7, 6, 7, 8, 9, 6, 2, 8, 9, 2, 9, 9, 8, 2, 4, 2, 1, 1, 4, 6, 5, 8, 3, 6, 8, 1, 6, 9, 9, 6, 9, 1, 9, 6, 9, 4, 9, 8, 9, 3, 7, 9, 9, 9, 6, 9, 9, 6, 8, 9, 3, 2, 4, 9, 2, 8, 7, 5, 8, 3, 5, 6, 6, 9, 9, 2, 8, 5, 3, 5, 8, 8, 8, 5, 1, 6, 5, 8, 5, 8, 8, 9, 5, 5, 7, 2, 9, 4, 8, 5, 7], [5, 7, 9, 1, 9, 1, 8, 2, 3, 9, 9, 9, 6, 6, 7, 8, 8, 3, 7, 7, 9, 8, 1, 8, 2, 1, 1, 9, 9, 9, 5, 2, 8, 6, 7, 4, 9, 6, 7, 4, 9, 5, 8, 7, 3, 6, 7, 9, 9, 9, 9, 6, 5, 7, 9, 9, 3, 7, 9, 4, 2, 1, 9, 9, 9, 9, 9, 4, 7, 8, 1, 1, 7, 2, 9, 6, 4, 9, 1, 6, 8, 1, 9, 5, 6, 7, 9, 9, 1, 7, 3, 4, 7, 9, 4, 6, 9, 6, 9, 7], [7, 1, 6, 9, 6, 3, 5, 3, 9, 9, 7, 1, 6, 4, 6, 9, 7, 4, 1, 8, 7, 2, 3, 4, 8, 3, 9, 9, 9, 8, 4, 9, 9, 9, 1, 4, 9, 9, 9, 9, 9, 1, 6, 8, 4, 1, 7, 2, 4, 5, 8, 6, 5, 8, 9, 9, 5, 9, 9, 3, 1, 1, 4, 9, 9, 1, 2, 8, 1, 8, 9, 9, 8, 5, 6, 7, 2, 4, 1, 7, 8, 8, 5, 9, 3, 8, 1, 8, 7, 6, 7, 6, 9, 9, 8, 8, 3, 8, 5, 8]]\n"
     ]
    }
   ],
   "source": [
    "final_input = parse_input(aocd.get_data(day=15, year=2021))\n",
    "print(final_input[:5])"
   ]
  },
  {
   "cell_type": "code",
   "execution_count": 5,
   "id": "69f5f045",
   "metadata": {},
   "outputs": [
    {
     "name": "stdout",
     "output_type": "stream",
     "text": [
      "[[1, 1, 6, 3, 7, 5, 1, 7, 4, 2], [1, 3, 8, 1, 3, 7, 3, 6, 7, 2], [2, 1, 3, 6, 5, 1, 1, 3, 2, 8], [3, 6, 9, 4, 9, 3, 1, 5, 6, 9], [7, 4, 6, 3, 4, 1, 7, 1, 1, 1], [1, 3, 1, 9, 1, 2, 8, 1, 3, 7], [1, 3, 5, 9, 9, 1, 2, 4, 2, 1], [3, 1, 2, 5, 4, 2, 1, 6, 3, 9], [1, 2, 9, 3, 1, 3, 8, 5, 2, 1], [2, 3, 1, 1, 9, 4, 4, 5, 8, 1]]\n"
     ]
    }
   ],
   "source": [
    "test_input = parse_input('''\\\n",
    "1163751742\n",
    "1381373672\n",
    "2136511328\n",
    "3694931569\n",
    "7463417111\n",
    "1319128137\n",
    "1359912421\n",
    "3125421639\n",
    "1293138521\n",
    "2311944581\n",
    "''')\n",
    "\n",
    "print(test_input)"
   ]
  },
  {
   "cell_type": "markdown",
   "id": "53a94009",
   "metadata": {},
   "source": [
    "### Helpers"
   ]
  },
  {
   "cell_type": "code",
   "execution_count": 45,
   "id": "facaa590",
   "metadata": {},
   "outputs": [],
   "source": [
    "def printBoard(board, marked = set()):\n",
    "    spacing = 3\n",
    "    for r in range(min(20, len(board))):\n",
    "        print(''.join(str.rjust(str(board[r][c]), spacing)\n",
    "                if (r,c) not in marked else str.rjust('*', spacing) \n",
    "                for c in range(min(40, len(board[0])))))\n",
    "    print(\"\")\n",
    "    \n",
    "def get4Neighbors(input, r, c, w, h):\n",
    "    #w,h = len(input[0]), len(input)\n",
    "    offsets = [(-1,0), (0,1), (1,0), (0,-1)]\n",
    "    result = []\n",
    "    for (dr,dc) in offsets:\n",
    "        rr = r + dr\n",
    "        cc = c + dc\n",
    "        if 0 <= rr < h and 0 <= cc < w:\n",
    "            result.append((rr,cc))\n",
    "    return result"
   ]
  },
  {
   "cell_type": "markdown",
   "id": "f88b71c4",
   "metadata": {},
   "source": [
    "## Solution 1"
   ]
  },
  {
   "cell_type": "code",
   "execution_count": 63,
   "id": "3b11a060",
   "metadata": {},
   "outputs": [
    {
     "data": {
      "text/plain": [
       "40"
      ]
     },
     "execution_count": 63,
     "metadata": {},
     "output_type": "execute_result"
    }
   ],
   "source": [
    "def solve_1(input):\n",
    "    board = []\n",
    "    for line in input:\n",
    "        board.append([int(x) for x in line])\n",
    "    w,h = len(board[0]), len(board)\n",
    "    \n",
    "    queue = [(0,0,0)]\n",
    "    distances = [[1e9 for _ in range(w)] for _ in range(h)]\n",
    "    distances[0][0] = 0\n",
    "    visited = set()\n",
    "    \n",
    "    while queue:\n",
    "        d,r,c = heapq.heappop(queue)\n",
    "        visited.add((r, c))\n",
    "        \n",
    "        neighbors = get4Neighbors(board, r, c, w, h)\n",
    "        for node in neighbors:\n",
    "            if not node in visited:\n",
    "                rr, cc = node\n",
    "                cost = board[rr][cc] + distances[r][c]\n",
    "                if cost < distances[rr][cc]:\n",
    "                    distances[rr][cc] = cost\n",
    "                else:\n",
    "                    continue\n",
    "                heapq.heappush(queue, (cost, rr, cc))\n",
    "    #printBoard(distances)\n",
    "    return distances[h - 1][w - 1]\n",
    "    \n",
    "\n",
    "solve_1(test_input)"
   ]
  },
  {
   "cell_type": "code",
   "execution_count": 64,
   "id": "9ae1d9b0",
   "metadata": {},
   "outputs": [
    {
     "data": {
      "text/plain": [
       "'Solution 1: 741'"
      ]
     },
     "execution_count": 64,
     "metadata": {},
     "output_type": "execute_result"
    }
   ],
   "source": [
    "f\"Solution 1: {solve_1(final_input)}\""
   ]
  },
  {
   "cell_type": "markdown",
   "id": "c4a93ab3",
   "metadata": {},
   "source": [
    "## Solution 2"
   ]
  },
  {
   "cell_type": "code",
   "execution_count": 57,
   "id": "de89416a",
   "metadata": {},
   "outputs": [
    {
     "data": {
      "text/plain": [
       "315"
      ]
     },
     "execution_count": 57,
     "metadata": {},
     "output_type": "execute_result"
    }
   ],
   "source": [
    "def solve_2(input):\n",
    "    board = []\n",
    "    for line in input:\n",
    "        board.append([int(x) for x in line])\n",
    "    w,h = len(board[0]), len(board)\n",
    "    \n",
    "    queue = [(0,0,0)]\n",
    "    distances = [[1e9 for _ in range(w * 5)] for _ in range(h * 5)]\n",
    "    distances[0][0] = 0\n",
    "    visited = set()\n",
    "    \n",
    "    while queue:\n",
    "        d,r,c = heapq.heappop(queue)\n",
    "        visited.add((r, c))\n",
    "        \n",
    "        neighbors = get4Neighbors(board, r, c, w * 5, h * 5)\n",
    "        for node in neighbors:\n",
    "            if not node in visited:\n",
    "                rr, cc = node\n",
    "                value = board[rr % h][cc % w] + (rr // h) + (cc // w)\n",
    "                while value > 9:\n",
    "                    value -= 9\n",
    "                    \n",
    "                cost = value + distances[r][c]\n",
    "                if cost < distances[rr][cc]:\n",
    "                    distances[rr][cc] = cost\n",
    "                else:\n",
    "                    continue\n",
    "                heapq.heappush(queue, (cost, rr, cc))\n",
    "\n",
    "    return distances[(h * 5) - 1][(w * 5) - 1]\n",
    "    \n",
    "solve_2(test_input)"
   ]
  },
  {
   "cell_type": "code",
   "execution_count": 56,
   "id": "a384f741",
   "metadata": {},
   "outputs": [
    {
     "data": {
      "text/plain": [
       "'Solution 2: 2976'"
      ]
     },
     "execution_count": 56,
     "metadata": {},
     "output_type": "execute_result"
    }
   ],
   "source": [
    "f\"Solution 2: {solve_2(final_input)}\""
   ]
  },
  {
   "cell_type": "code",
   "execution_count": null,
   "id": "f1e461af",
   "metadata": {},
   "outputs": [],
   "source": []
  }
 ],
 "metadata": {
  "kernelspec": {
   "display_name": "Python 3 (ipykernel)",
   "language": "python",
   "name": "python3"
  },
  "language_info": {
   "codemirror_mode": {
    "name": "ipython",
    "version": 3
   },
   "file_extension": ".py",
   "mimetype": "text/x-python",
   "name": "python",
   "nbconvert_exporter": "python",
   "pygments_lexer": "ipython3",
   "version": "3.9.8"
  }
 },
 "nbformat": 4,
 "nbformat_minor": 5
}
