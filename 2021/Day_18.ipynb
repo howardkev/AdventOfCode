{
 "cells": [
  {
   "cell_type": "markdown",
   "id": "9f697af2",
   "metadata": {},
   "source": [
    "# --- `Day 18`: Snailfish ---"
   ]
  },
  {
   "cell_type": "code",
   "execution_count": 1,
   "id": "ac96ba0f",
   "metadata": {},
   "outputs": [],
   "source": [
    "import aocd\n",
    "import re\n",
    "import heapq\n",
    "import operator\n",
    "from graphviz import Digraph\n",
    "from collections import Counter, defaultdict, deque\n",
    "from itertools import combinations\n",
    "from functools import lru_cache\n",
    "\n",
    "def prod(iterable):\n",
    "    return reduce(operator.mul, iterable, 1)\n",
    "\n",
    "def count(iterable, predicate = bool):\n",
    "    return sum([1 for item in iterable if predicate(item)])\n",
    "\n",
    "def first(iterable, default = None):\n",
    "    return next(iter(iterable), default)\n",
    "\n",
    "def lmap(func, *iterables):\n",
    "    return list(map(func, *iterables))\n",
    "\n",
    "def ints(s):\n",
    "    return lmap(int, re.findall(r\"-?\\d+\", s))\n",
    "\n",
    "def words(s):\n",
    "    return re.findall(r\"[a-zA-Z]+\", s)\n",
    "\n",
    "def list_diff(x):\n",
    "    return [b - a for a, b in zip(x, x[1:])]\n",
    "\n",
    "def binary_to_int(lst):\n",
    "    return int(\"\".join(str(i) for i in lst), 2)\n",
    "\n",
    "def get_column(lst, index):\n",
    "    return [x[index] for x in lst]"
   ]
  },
  {
   "cell_type": "code",
   "execution_count": 2,
   "id": "7280dabd",
   "metadata": {},
   "outputs": [],
   "source": [
    "def parse_line(line): \n",
    "    return str(line)\n",
    "    \n",
    "def parse_input(input):\n",
    "    return list(map(parse_line, input.splitlines()))"
   ]
  },
  {
   "cell_type": "code",
   "execution_count": null,
   "id": "621f30ed",
   "metadata": {},
   "outputs": [],
   "source": [
    "final_input = parse_input(aocd.get_data(day=18, year=2021))\n",
    "print(final_input[:5])"
   ]
  },
  {
   "cell_type": "code",
   "execution_count": 4,
   "id": "69f5f045",
   "metadata": {},
   "outputs": [
    {
     "name": "stdout",
     "output_type": "stream",
     "text": [
      "['[[[0,[5,8]],[[1,7],[9,6]]],[[4,[1,2]],[[1,4],2]]]', '[[[5,[2,8]],4],[5,[[9,9],0]]]', '[6,[[[6,2],[5,6]],[[7,6],[4,7]]]]', '[[[6,[0,7]],[0,9]],[4,[9,[9,0]]]]', '[[[7,[6,4]],[3,[1,3]]],[[[5,5],1],9]]', '[[6,[[7,3],[3,2]]],[[[3,8],[5,7]],4]]', '[[[[5,4],[7,7]],8],[[8,3],8]]', '[[9,3],[[9,9],[6,[4,9]]]]', '[[2,[[7,7],7]],[[5,8],[[9,3],[0,2]]]]', '[[[[5,2],5],[8,[3,7]]],[[5,[7,5]],[4,4]]]']\n"
     ]
    }
   ],
   "source": [
    "test_input = parse_input('''\\\n",
    "[[[0,[5,8]],[[1,7],[9,6]]],[[4,[1,2]],[[1,4],2]]]\n",
    "[[[5,[2,8]],4],[5,[[9,9],0]]]\n",
    "[6,[[[6,2],[5,6]],[[7,6],[4,7]]]]\n",
    "[[[6,[0,7]],[0,9]],[4,[9,[9,0]]]]\n",
    "[[[7,[6,4]],[3,[1,3]]],[[[5,5],1],9]]\n",
    "[[6,[[7,3],[3,2]]],[[[3,8],[5,7]],4]]\n",
    "[[[[5,4],[7,7]],8],[[8,3],8]]\n",
    "[[9,3],[[9,9],[6,[4,9]]]]\n",
    "[[2,[[7,7],7]],[[5,8],[[9,3],[0,2]]]]\n",
    "[[[[5,2],5],[8,[3,7]]],[[5,[7,5]],[4,4]]]\n",
    "''')\n",
    "\n",
    "print(test_input)"
   ]
  },
  {
   "cell_type": "markdown",
   "id": "9b676e8a",
   "metadata": {},
   "source": [
    "### Helpers"
   ]
  },
  {
   "cell_type": "code",
   "execution_count": 5,
   "id": "47cb5cf6",
   "metadata": {},
   "outputs": [
    {
     "name": "stdout",
     "output_type": "stream",
     "text": [
      "[[1,2],3]\n"
     ]
    }
   ],
   "source": [
    "class TreeNode(object):\n",
    "    def __init__(self, x):\n",
    "        self.value = x\n",
    "        self.left = None\n",
    "        self.right = None\n",
    "        self.parent = None\n",
    "        \n",
    "def printTree(tree, top = True):\n",
    "    if tree == None:\n",
    "        return\n",
    "    if tree.value != None:\n",
    "        print(tree.value, end=\"\")\n",
    "    else:\n",
    "        print(\"[\", end=\"\")\n",
    "        printTree(tree.left, False)\n",
    "        print(\",\", end=\"\")\n",
    "        printTree(tree.right, False)\n",
    "        print(\"]\", end=\"\")\n",
    "    if top:\n",
    "        print(\"\")\n",
    "        \n",
    "root = TreeNode(None)\n",
    "c1 = TreeNode(None)\n",
    "c1.left = TreeNode(1)\n",
    "c1.right = TreeNode(2)\n",
    "c2 = TreeNode(3)\n",
    "root.left = c1\n",
    "root.right = c2\n",
    "printTree(root)"
   ]
  },
  {
   "cell_type": "code",
   "execution_count": 6,
   "id": "1c20d562",
   "metadata": {},
   "outputs": [
    {
     "name": "stdout",
     "output_type": "stream",
     "text": [
      "[1,2]\n",
      "[[1,2],3]\n",
      "[[[[1,2],[3,4]],[[5,6],[7,8]]],9]\n",
      "[[[[5,0],[7,4]],[5,5]],[6,6]]\n",
      "[[[[5,0],[7,4]],[5,10]],[16,6]]\n"
     ]
    }
   ],
   "source": [
    "def parse(line):\n",
    "    stack = []\n",
    "    lastDigit = False\n",
    "    for c in line:\n",
    "        if c == '[':\n",
    "            stack.append('[')\n",
    "            lastDigit = False\n",
    "        elif c == ']':\n",
    "            a = stack.pop()\n",
    "            b = stack.pop()\n",
    "            stack.pop() # left bracket\n",
    "            t = TreeNode(None)\n",
    "            t.left = b\n",
    "            t.right = a\n",
    "            a.parent = t\n",
    "            b.parent = t\n",
    "            stack.append(t)\n",
    "            lastDigit = False\n",
    "        elif c == \",\":\n",
    "            lastDigit = False\n",
    "        else:\n",
    "            if lastDigit:\n",
    "                stack[-1].value *= 10\n",
    "                stack[-1].value += int(c)\n",
    "            else:\n",
    "                stack.append(TreeNode(int(c)))\n",
    "            lastDigit = True\n",
    "            \n",
    "    return stack[0]\n",
    "\n",
    "printTree(parse(\"[1,2]\"))\n",
    "printTree(parse(\"[[1,2],3]\"))\n",
    "printTree(parse(\"[[[[1,2],[3,4]],[[5,6],[7,8]]],9]\"))\n",
    "printTree(parse(\"[[[[5,0],[7,4]],[5,5]],[6,6]]\"))\n",
    "printTree(parse(\"[[[[5,0],[7,4]],[5,10]],[16,6]]\"))"
   ]
  },
  {
   "cell_type": "code",
   "execution_count": 7,
   "id": "c12b6538",
   "metadata": {},
   "outputs": [
    {
     "data": {
      "image/svg+xml": "<?xml version=\"1.0\" encoding=\"UTF-8\" standalone=\"no\"?>\n<!DOCTYPE svg PUBLIC \"-//W3C//DTD SVG 1.1//EN\"\n \"http://www.w3.org/Graphics/SVG/1.1/DTD/svg11.dtd\">\n<!-- Generated by graphviz version 2.50.0 (20211204.2007)\n -->\n<!-- Pages: 1 -->\n<svg width=\"134pt\" height=\"116pt\"\n viewBox=\"0.00 0.00 134.00 116.00\" xmlns=\"http://www.w3.org/2000/svg\" xmlns:xlink=\"http://www.w3.org/1999/xlink\">\n<g id=\"graph0\" class=\"graph\" transform=\"scale(1 1) rotate(0) translate(4 112)\">\n<polygon fill=\"white\" stroke=\"transparent\" points=\"-4,4 -4,-112 130,-112 130,4 -4,4\"/>\n<!-- __main__.TreeNode object at 0x10bfbdd90 -->\n<g id=\"node1\" class=\"node\">\n<title>__main__.TreeNode object at 0x10bfbdd90</title>\n<ellipse fill=\"none\" stroke=\"black\" cx=\"63\" cy=\"-90\" rx=\"27\" ry=\"18\"/>\n</g>\n<!-- __main__.TreeNode object at 0x10d428850 -->\n<g id=\"node2\" class=\"node\">\n<title>__main__.TreeNode object at 0x10d428850</title>\n<ellipse fill=\"none\" stroke=\"black\" cx=\"27\" cy=\"-18\" rx=\"27\" ry=\"18\"/>\n<text text-anchor=\"middle\" x=\"27\" y=\"-14.3\" font-family=\"Times,serif\" font-size=\"14.00\">1</text>\n</g>\n<!-- __main__.TreeNode object at 0x10bfbdd90&#45;&gt;__main__.TreeNode object at 0x10d428850 -->\n<g id=\"edge1\" class=\"edge\">\n<title>__main__.TreeNode object at 0x10bfbdd90&#45;&gt;__main__.TreeNode object at 0x10d428850</title>\n<path fill=\"none\" stroke=\"black\" d=\"M54.65,-72.76C48.83,-61.46 41.11,-46.44 35.3,-35.15\"/>\n</g>\n<!-- __main__.TreeNode object at 0x10bfbda60 -->\n<g id=\"node3\" class=\"node\">\n<title>__main__.TreeNode object at 0x10bfbda60</title>\n<ellipse fill=\"none\" stroke=\"black\" cx=\"99\" cy=\"-18\" rx=\"27\" ry=\"18\"/>\n<text text-anchor=\"middle\" x=\"99\" y=\"-14.3\" font-family=\"Times,serif\" font-size=\"14.00\">2</text>\n</g>\n<!-- __main__.TreeNode object at 0x10bfbdd90&#45;&gt;__main__.TreeNode object at 0x10bfbda60 -->\n<g id=\"edge2\" class=\"edge\">\n<title>__main__.TreeNode object at 0x10bfbdd90&#45;&gt;__main__.TreeNode object at 0x10bfbda60</title>\n<path fill=\"none\" stroke=\"black\" d=\"M71.35,-72.76C77.17,-61.46 84.89,-46.44 90.7,-35.15\"/>\n</g>\n</g>\n</svg>\n",
      "text/plain": [
       "<graphviz.dot.Digraph at 0x10bfbd2b0>"
      ]
     },
     "metadata": {},
     "output_type": "display_data"
    },
    {
     "data": {
      "image/svg+xml": "<?xml version=\"1.0\" encoding=\"UTF-8\" standalone=\"no\"?>\n<!DOCTYPE svg PUBLIC \"-//W3C//DTD SVG 1.1//EN\"\n \"http://www.w3.org/Graphics/SVG/1.1/DTD/svg11.dtd\">\n<!-- Generated by graphviz version 2.50.0 (20211204.2007)\n -->\n<!-- Pages: 1 -->\n<svg width=\"170pt\" height=\"188pt\"\n viewBox=\"0.00 0.00 170.00 188.00\" xmlns=\"http://www.w3.org/2000/svg\" xmlns:xlink=\"http://www.w3.org/1999/xlink\">\n<g id=\"graph0\" class=\"graph\" transform=\"scale(1 1) rotate(0) translate(4 184)\">\n<polygon fill=\"white\" stroke=\"transparent\" points=\"-4,4 -4,-184 166,-184 166,4 -4,4\"/>\n<!-- __main__.TreeNode object at 0x10bfbd5b0 -->\n<g id=\"node1\" class=\"node\">\n<title>__main__.TreeNode object at 0x10bfbd5b0</title>\n<ellipse fill=\"none\" stroke=\"black\" cx=\"99\" cy=\"-162\" rx=\"27\" ry=\"18\"/>\n</g>\n<!-- __main__.TreeNode object at 0x10bfbd160 -->\n<g id=\"node2\" class=\"node\">\n<title>__main__.TreeNode object at 0x10bfbd160</title>\n<ellipse fill=\"none\" stroke=\"black\" cx=\"63\" cy=\"-90\" rx=\"27\" ry=\"18\"/>\n</g>\n<!-- __main__.TreeNode object at 0x10bfbd5b0&#45;&gt;__main__.TreeNode object at 0x10bfbd160 -->\n<g id=\"edge1\" class=\"edge\">\n<title>__main__.TreeNode object at 0x10bfbd5b0&#45;&gt;__main__.TreeNode object at 0x10bfbd160</title>\n<path fill=\"none\" stroke=\"black\" d=\"M90.65,-144.76C84.83,-133.46 77.11,-118.44 71.3,-107.15\"/>\n</g>\n<!-- __main__.TreeNode object at 0x10bfbdbe0 -->\n<g id=\"node5\" class=\"node\">\n<title>__main__.TreeNode object at 0x10bfbdbe0</title>\n<ellipse fill=\"none\" stroke=\"black\" cx=\"135\" cy=\"-90\" rx=\"27\" ry=\"18\"/>\n<text text-anchor=\"middle\" x=\"135\" y=\"-86.3\" font-family=\"Times,serif\" font-size=\"14.00\">3</text>\n</g>\n<!-- __main__.TreeNode object at 0x10bfbd5b0&#45;&gt;__main__.TreeNode object at 0x10bfbdbe0 -->\n<g id=\"edge4\" class=\"edge\">\n<title>__main__.TreeNode object at 0x10bfbd5b0&#45;&gt;__main__.TreeNode object at 0x10bfbdbe0</title>\n<path fill=\"none\" stroke=\"black\" d=\"M107.35,-144.76C113.17,-133.46 120.89,-118.44 126.7,-107.15\"/>\n</g>\n<!-- __main__.TreeNode object at 0x10bfbdca0 -->\n<g id=\"node3\" class=\"node\">\n<title>__main__.TreeNode object at 0x10bfbdca0</title>\n<ellipse fill=\"none\" stroke=\"black\" cx=\"27\" cy=\"-18\" rx=\"27\" ry=\"18\"/>\n<text text-anchor=\"middle\" x=\"27\" y=\"-14.3\" font-family=\"Times,serif\" font-size=\"14.00\">1</text>\n</g>\n<!-- __main__.TreeNode object at 0x10bfbd160&#45;&gt;__main__.TreeNode object at 0x10bfbdca0 -->\n<g id=\"edge2\" class=\"edge\">\n<title>__main__.TreeNode object at 0x10bfbd160&#45;&gt;__main__.TreeNode object at 0x10bfbdca0</title>\n<path fill=\"none\" stroke=\"black\" d=\"M54.65,-72.76C48.83,-61.46 41.11,-46.44 35.3,-35.15\"/>\n</g>\n<!-- __main__.TreeNode object at 0x10bfbd2b0 -->\n<g id=\"node4\" class=\"node\">\n<title>__main__.TreeNode object at 0x10bfbd2b0</title>\n<ellipse fill=\"none\" stroke=\"black\" cx=\"99\" cy=\"-18\" rx=\"27\" ry=\"18\"/>\n<text text-anchor=\"middle\" x=\"99\" y=\"-14.3\" font-family=\"Times,serif\" font-size=\"14.00\">2</text>\n</g>\n<!-- __main__.TreeNode object at 0x10bfbd160&#45;&gt;__main__.TreeNode object at 0x10bfbd2b0 -->\n<g id=\"edge3\" class=\"edge\">\n<title>__main__.TreeNode object at 0x10bfbd160&#45;&gt;__main__.TreeNode object at 0x10bfbd2b0</title>\n<path fill=\"none\" stroke=\"black\" d=\"M71.35,-72.76C77.17,-61.46 84.89,-46.44 90.7,-35.15\"/>\n</g>\n</g>\n</svg>\n",
      "text/plain": [
       "<graphviz.dot.Digraph at 0x10bfbd700>"
      ]
     },
     "metadata": {},
     "output_type": "display_data"
    },
    {
     "data": {
      "image/svg+xml": "<?xml version=\"1.0\" encoding=\"UTF-8\" standalone=\"no\"?>\n<!DOCTYPE svg PUBLIC \"-//W3C//DTD SVG 1.1//EN\"\n \"http://www.w3.org/Graphics/SVG/1.1/DTD/svg11.dtd\">\n<!-- Generated by graphviz version 2.50.0 (20211204.2007)\n -->\n<!-- Pages: 1 -->\n<svg width=\"432pt\" height=\"253pt\"\n viewBox=\"0.00 0.00 432.00 253.40\" xmlns=\"http://www.w3.org/2000/svg\" xmlns:xlink=\"http://www.w3.org/1999/xlink\">\n<g id=\"graph0\" class=\"graph\" transform=\"scale(0.76 0.76) rotate(0) translate(4 328)\">\n<polygon fill=\"white\" stroke=\"transparent\" points=\"-4,4 -4,-328 562,-328 562,4 -4,4\"/>\n<!-- __main__.TreeNode object at 0x10bf823d0 -->\n<g id=\"node1\" class=\"node\">\n<title>__main__.TreeNode object at 0x10bf823d0</title>\n<ellipse fill=\"none\" stroke=\"black\" cx=\"279\" cy=\"-306\" rx=\"27\" ry=\"18\"/>\n</g>\n<!-- __main__.TreeNode object at 0x10bf82070 -->\n<g id=\"node2\" class=\"node\">\n<title>__main__.TreeNode object at 0x10bf82070</title>\n<ellipse fill=\"none\" stroke=\"black\" cx=\"189\" cy=\"-234\" rx=\"27\" ry=\"18\"/>\n</g>\n<!-- __main__.TreeNode object at 0x10bf823d0&#45;&gt;__main__.TreeNode object at 0x10bf82070 -->\n<g id=\"edge1\" class=\"edge\">\n<title>__main__.TreeNode object at 0x10bf823d0&#45;&gt;__main__.TreeNode object at 0x10bf82070</title>\n<path fill=\"none\" stroke=\"black\" d=\"M262.07,-291.83C245.98,-279.32 221.92,-260.6 205.85,-248.11\"/>\n</g>\n<!-- __main__.TreeNode object at 0x10bf82430 -->\n<g id=\"node13\" class=\"node\">\n<title>__main__.TreeNode object at 0x10bf82430</title>\n<ellipse fill=\"none\" stroke=\"black\" cx=\"360\" cy=\"-234\" rx=\"27\" ry=\"18\"/>\n</g>\n<!-- __main__.TreeNode object at 0x10bf823d0&#45;&gt;__main__.TreeNode object at 0x10bf82430 -->\n<g id=\"edge12\" class=\"edge\">\n<title>__main__.TreeNode object at 0x10bf823d0&#45;&gt;__main__.TreeNode object at 0x10bf82430</title>\n<path fill=\"none\" stroke=\"black\" d=\"M295,-291.17C309.2,-278.9 329.84,-261.06 344.03,-248.8\"/>\n</g>\n<!-- __main__.TreeNode object at 0x10bfbd520 -->\n<g id=\"node3\" class=\"node\">\n<title>__main__.TreeNode object at 0x10bfbd520</title>\n<ellipse fill=\"none\" stroke=\"black\" cx=\"99\" cy=\"-162\" rx=\"27\" ry=\"18\"/>\n</g>\n<!-- __main__.TreeNode object at 0x10bf82070&#45;&gt;__main__.TreeNode object at 0x10bfbd520 -->\n<g id=\"edge2\" class=\"edge\">\n<title>__main__.TreeNode object at 0x10bf82070&#45;&gt;__main__.TreeNode object at 0x10bfbd520</title>\n<path fill=\"none\" stroke=\"black\" d=\"M172.07,-219.83C155.98,-207.32 131.92,-188.6 115.85,-176.11\"/>\n</g>\n<!-- __main__.TreeNode object at 0x10bf82ee0 -->\n<g id=\"node8\" class=\"node\">\n<title>__main__.TreeNode object at 0x10bf82ee0</title>\n<ellipse fill=\"none\" stroke=\"black\" cx=\"189\" cy=\"-162\" rx=\"27\" ry=\"18\"/>\n</g>\n<!-- __main__.TreeNode object at 0x10bf82070&#45;&gt;__main__.TreeNode object at 0x10bf82ee0 -->\n<g id=\"edge7\" class=\"edge\">\n<title>__main__.TreeNode object at 0x10bf82070&#45;&gt;__main__.TreeNode object at 0x10bf82ee0</title>\n<path fill=\"none\" stroke=\"black\" d=\"M189,-215.7C189,-204.85 189,-190.92 189,-180.1\"/>\n</g>\n<!-- __main__.TreeNode object at 0x10bf92940 -->\n<g id=\"node4\" class=\"node\">\n<title>__main__.TreeNode object at 0x10bf92940</title>\n<ellipse fill=\"none\" stroke=\"black\" cx=\"27\" cy=\"-90\" rx=\"27\" ry=\"18\"/>\n<text text-anchor=\"middle\" x=\"27\" y=\"-86.3\" font-family=\"Times,serif\" font-size=\"14.00\">9</text>\n</g>\n<!-- __main__.TreeNode object at 0x10bfbd520&#45;&gt;__main__.TreeNode object at 0x10bf92940 -->\n<g id=\"edge3\" class=\"edge\">\n<title>__main__.TreeNode object at 0x10bfbd520&#45;&gt;__main__.TreeNode object at 0x10bf92940</title>\n<path fill=\"none\" stroke=\"black\" d=\"M84.43,-146.83C72.02,-134.77 54.27,-117.51 41.8,-105.38\"/>\n</g>\n<!-- __main__.TreeNode object at 0x10bfbd6a0 -->\n<g id=\"node5\" class=\"node\">\n<title>__main__.TreeNode object at 0x10bfbd6a0</title>\n<ellipse fill=\"none\" stroke=\"black\" cx=\"99\" cy=\"-90\" rx=\"27\" ry=\"18\"/>\n</g>\n<!-- __main__.TreeNode object at 0x10bfbd520&#45;&gt;__main__.TreeNode object at 0x10bfbd6a0 -->\n<g id=\"edge4\" class=\"edge\">\n<title>__main__.TreeNode object at 0x10bfbd520&#45;&gt;__main__.TreeNode object at 0x10bfbd6a0</title>\n<path fill=\"none\" stroke=\"black\" d=\"M99,-143.7C99,-132.85 99,-118.92 99,-108.1\"/>\n</g>\n<!-- __main__.TreeNode object at 0x10bfbdfd0 -->\n<g id=\"node6\" class=\"node\">\n<title>__main__.TreeNode object at 0x10bfbdfd0</title>\n<ellipse fill=\"none\" stroke=\"black\" cx=\"27\" cy=\"-18\" rx=\"27\" ry=\"18\"/>\n<text text-anchor=\"middle\" x=\"27\" y=\"-14.3\" font-family=\"Times,serif\" font-size=\"14.00\">3</text>\n</g>\n<!-- __main__.TreeNode object at 0x10bfbd6a0&#45;&gt;__main__.TreeNode object at 0x10bfbdfd0 -->\n<g id=\"edge5\" class=\"edge\">\n<title>__main__.TreeNode object at 0x10bfbd6a0&#45;&gt;__main__.TreeNode object at 0x10bfbdfd0</title>\n<path fill=\"none\" stroke=\"black\" d=\"M84.43,-74.83C72.02,-62.77 54.27,-45.51 41.8,-33.38\"/>\n</g>\n<!-- __main__.TreeNode object at 0x10bfbdb50 -->\n<g id=\"node7\" class=\"node\">\n<title>__main__.TreeNode object at 0x10bfbdb50</title>\n<ellipse fill=\"none\" stroke=\"black\" cx=\"99\" cy=\"-18\" rx=\"27\" ry=\"18\"/>\n<text text-anchor=\"middle\" x=\"99\" y=\"-14.3\" font-family=\"Times,serif\" font-size=\"14.00\">8</text>\n</g>\n<!-- __main__.TreeNode object at 0x10bfbd6a0&#45;&gt;__main__.TreeNode object at 0x10bfbdb50 -->\n<g id=\"edge6\" class=\"edge\">\n<title>__main__.TreeNode object at 0x10bfbd6a0&#45;&gt;__main__.TreeNode object at 0x10bfbdb50</title>\n<path fill=\"none\" stroke=\"black\" d=\"M99,-71.7C99,-60.85 99,-46.92 99,-36.1\"/>\n</g>\n<!-- __main__.TreeNode object at 0x10bfbddf0 -->\n<g id=\"node9\" class=\"node\">\n<title>__main__.TreeNode object at 0x10bfbddf0</title>\n<ellipse fill=\"none\" stroke=\"black\" cx=\"180\" cy=\"-90\" rx=\"27\" ry=\"18\"/>\n</g>\n<!-- __main__.TreeNode object at 0x10bf82ee0&#45;&gt;__main__.TreeNode object at 0x10bfbddf0 -->\n<g id=\"edge8\" class=\"edge\">\n<title>__main__.TreeNode object at 0x10bf82ee0&#45;&gt;__main__.TreeNode object at 0x10bfbddf0</title>\n<path fill=\"none\" stroke=\"black\" d=\"M186.82,-144.05C185.43,-133.21 183.62,-119.18 182.22,-108.28\"/>\n</g>\n<!-- __main__.TreeNode object at 0x10bfbddc0 -->\n<g id=\"node12\" class=\"node\">\n<title>__main__.TreeNode object at 0x10bfbddc0</title>\n<ellipse fill=\"none\" stroke=\"black\" cx=\"252\" cy=\"-90\" rx=\"27\" ry=\"18\"/>\n<text text-anchor=\"middle\" x=\"252\" y=\"-86.3\" font-family=\"Times,serif\" font-size=\"14.00\">6</text>\n</g>\n<!-- __main__.TreeNode object at 0x10bf82ee0&#45;&gt;__main__.TreeNode object at 0x10bfbddc0 -->\n<g id=\"edge11\" class=\"edge\">\n<title>__main__.TreeNode object at 0x10bf82ee0&#45;&gt;__main__.TreeNode object at 0x10bfbddc0</title>\n<path fill=\"none\" stroke=\"black\" d=\"M202.36,-146.15C213.05,-134.28 227.97,-117.7 238.66,-105.82\"/>\n</g>\n<!-- __main__.TreeNode object at 0x10bfbd5e0 -->\n<g id=\"node10\" class=\"node\">\n<title>__main__.TreeNode object at 0x10bfbd5e0</title>\n<ellipse fill=\"none\" stroke=\"black\" cx=\"171\" cy=\"-18\" rx=\"27\" ry=\"18\"/>\n<text text-anchor=\"middle\" x=\"171\" y=\"-14.3\" font-family=\"Times,serif\" font-size=\"14.00\">0</text>\n</g>\n<!-- __main__.TreeNode object at 0x10bfbddf0&#45;&gt;__main__.TreeNode object at 0x10bfbd5e0 -->\n<g id=\"edge9\" class=\"edge\">\n<title>__main__.TreeNode object at 0x10bfbddf0&#45;&gt;__main__.TreeNode object at 0x10bfbd5e0</title>\n<path fill=\"none\" stroke=\"black\" d=\"M177.82,-72.05C176.43,-61.21 174.62,-47.18 173.22,-36.28\"/>\n</g>\n<!-- __main__.TreeNode object at 0x10bfbdaf0 -->\n<g id=\"node11\" class=\"node\">\n<title>__main__.TreeNode object at 0x10bfbdaf0</title>\n<ellipse fill=\"none\" stroke=\"black\" cx=\"243\" cy=\"-18\" rx=\"27\" ry=\"18\"/>\n<text text-anchor=\"middle\" x=\"243\" y=\"-14.3\" font-family=\"Times,serif\" font-size=\"14.00\">9</text>\n</g>\n<!-- __main__.TreeNode object at 0x10bfbddf0&#45;&gt;__main__.TreeNode object at 0x10bfbdaf0 -->\n<g id=\"edge10\" class=\"edge\">\n<title>__main__.TreeNode object at 0x10bfbddf0&#45;&gt;__main__.TreeNode object at 0x10bfbdaf0</title>\n<path fill=\"none\" stroke=\"black\" d=\"M193.36,-74.15C204.05,-62.28 218.97,-45.7 229.66,-33.82\"/>\n</g>\n<!-- __main__.TreeNode object at 0x10bf82a00 -->\n<g id=\"node14\" class=\"node\">\n<title>__main__.TreeNode object at 0x10bf82a00</title>\n<ellipse fill=\"none\" stroke=\"black\" cx=\"360\" cy=\"-162\" rx=\"27\" ry=\"18\"/>\n</g>\n<!-- __main__.TreeNode object at 0x10bf82430&#45;&gt;__main__.TreeNode object at 0x10bf82a00 -->\n<g id=\"edge13\" class=\"edge\">\n<title>__main__.TreeNode object at 0x10bf82430&#45;&gt;__main__.TreeNode object at 0x10bf82a00</title>\n<path fill=\"none\" stroke=\"black\" d=\"M360,-215.7C360,-204.85 360,-190.92 360,-180.1\"/>\n</g>\n<!-- __main__.TreeNode object at 0x10bf82280 -->\n<g id=\"node21\" class=\"node\">\n<title>__main__.TreeNode object at 0x10bf82280</title>\n<ellipse fill=\"none\" stroke=\"black\" cx=\"432\" cy=\"-162\" rx=\"27\" ry=\"18\"/>\n<text text-anchor=\"middle\" x=\"432\" y=\"-158.3\" font-family=\"Times,serif\" font-size=\"14.00\">3</text>\n</g>\n<!-- __main__.TreeNode object at 0x10bf82430&#45;&gt;__main__.TreeNode object at 0x10bf82280 -->\n<g id=\"edge20\" class=\"edge\">\n<title>__main__.TreeNode object at 0x10bf82430&#45;&gt;__main__.TreeNode object at 0x10bf82280</title>\n<path fill=\"none\" stroke=\"black\" d=\"M374.57,-218.83C386.98,-206.77 404.73,-189.51 417.2,-177.38\"/>\n</g>\n<!-- __main__.TreeNode object at 0x10bf82460 -->\n<g id=\"node15\" class=\"node\">\n<title>__main__.TreeNode object at 0x10bf82460</title>\n<ellipse fill=\"none\" stroke=\"black\" cx=\"360\" cy=\"-90\" rx=\"27\" ry=\"18\"/>\n</g>\n<!-- __main__.TreeNode object at 0x10bf82a00&#45;&gt;__main__.TreeNode object at 0x10bf82460 -->\n<g id=\"edge14\" class=\"edge\">\n<title>__main__.TreeNode object at 0x10bf82a00&#45;&gt;__main__.TreeNode object at 0x10bf82460</title>\n<path fill=\"none\" stroke=\"black\" d=\"M360,-143.7C360,-132.85 360,-118.92 360,-108.1\"/>\n</g>\n<!-- __main__.TreeNode object at 0x10bf82580 -->\n<g id=\"node18\" class=\"node\">\n<title>__main__.TreeNode object at 0x10bf82580</title>\n<ellipse fill=\"none\" stroke=\"black\" cx=\"459\" cy=\"-90\" rx=\"27\" ry=\"18\"/>\n</g>\n<!-- __main__.TreeNode object at 0x10bf82a00&#45;&gt;__main__.TreeNode object at 0x10bf82580 -->\n<g id=\"edge17\" class=\"edge\">\n<title>__main__.TreeNode object at 0x10bf82a00&#45;&gt;__main__.TreeNode object at 0x10bf82580</title>\n<path fill=\"none\" stroke=\"black\" d=\"M378.16,-148.16C396.02,-135.53 423.13,-116.36 440.96,-103.76\"/>\n</g>\n<!-- __main__.TreeNode object at 0x10bf82fd0 -->\n<g id=\"node16\" class=\"node\">\n<title>__main__.TreeNode object at 0x10bf82fd0</title>\n<ellipse fill=\"none\" stroke=\"black\" cx=\"315\" cy=\"-18\" rx=\"27\" ry=\"18\"/>\n<text text-anchor=\"middle\" x=\"315\" y=\"-14.3\" font-family=\"Times,serif\" font-size=\"14.00\">3</text>\n</g>\n<!-- __main__.TreeNode object at 0x10bf82460&#45;&gt;__main__.TreeNode object at 0x10bf82fd0 -->\n<g id=\"edge15\" class=\"edge\">\n<title>__main__.TreeNode object at 0x10bf82460&#45;&gt;__main__.TreeNode object at 0x10bf82fd0</title>\n<path fill=\"none\" stroke=\"black\" d=\"M349.79,-73.12C342.42,-61.66 332.53,-46.26 325.17,-34.82\"/>\n</g>\n<!-- __main__.TreeNode object at 0x10bf82f70 -->\n<g id=\"node17\" class=\"node\">\n<title>__main__.TreeNode object at 0x10bf82f70</title>\n<ellipse fill=\"none\" stroke=\"black\" cx=\"387\" cy=\"-18\" rx=\"27\" ry=\"18\"/>\n<text text-anchor=\"middle\" x=\"387\" y=\"-14.3\" font-family=\"Times,serif\" font-size=\"14.00\">7</text>\n</g>\n<!-- __main__.TreeNode object at 0x10bf82460&#45;&gt;__main__.TreeNode object at 0x10bf82f70 -->\n<g id=\"edge16\" class=\"edge\">\n<title>__main__.TreeNode object at 0x10bf82460&#45;&gt;__main__.TreeNode object at 0x10bf82f70</title>\n<path fill=\"none\" stroke=\"black\" d=\"M366.4,-72.41C370.64,-61.41 376.19,-47.03 380.46,-35.96\"/>\n</g>\n<!-- __main__.TreeNode object at 0x10bf82f10 -->\n<g id=\"node19\" class=\"node\">\n<title>__main__.TreeNode object at 0x10bf82f10</title>\n<ellipse fill=\"none\" stroke=\"black\" cx=\"459\" cy=\"-18\" rx=\"27\" ry=\"18\"/>\n<text text-anchor=\"middle\" x=\"459\" y=\"-14.3\" font-family=\"Times,serif\" font-size=\"14.00\">4</text>\n</g>\n<!-- __main__.TreeNode object at 0x10bf82580&#45;&gt;__main__.TreeNode object at 0x10bf82f10 -->\n<g id=\"edge18\" class=\"edge\">\n<title>__main__.TreeNode object at 0x10bf82580&#45;&gt;__main__.TreeNode object at 0x10bf82f10</title>\n<path fill=\"none\" stroke=\"black\" d=\"M459,-71.7C459,-60.85 459,-46.92 459,-36.1\"/>\n</g>\n<!-- __main__.TreeNode object at 0x10bf825b0 -->\n<g id=\"node20\" class=\"node\">\n<title>__main__.TreeNode object at 0x10bf825b0</title>\n<ellipse fill=\"none\" stroke=\"black\" cx=\"531\" cy=\"-18\" rx=\"27\" ry=\"18\"/>\n<text text-anchor=\"middle\" x=\"531\" y=\"-14.3\" font-family=\"Times,serif\" font-size=\"14.00\">9</text>\n</g>\n<!-- __main__.TreeNode object at 0x10bf82580&#45;&gt;__main__.TreeNode object at 0x10bf825b0 -->\n<g id=\"edge19\" class=\"edge\">\n<title>__main__.TreeNode object at 0x10bf82580&#45;&gt;__main__.TreeNode object at 0x10bf825b0</title>\n<path fill=\"none\" stroke=\"black\" d=\"M473.57,-74.83C485.98,-62.77 503.73,-45.51 516.2,-33.38\"/>\n</g>\n</g>\n</svg>\n",
      "text/plain": [
       "<graphviz.dot.Digraph at 0x10bf82340>"
      ]
     },
     "metadata": {},
     "output_type": "display_data"
    }
   ],
   "source": [
    "def displayTree(root):\n",
    "    def add_nodes_edges(tree, dot=None):\n",
    "        # Create Digraph object\n",
    "        if dot is None:\n",
    "            dot = Digraph(graph_attr = {'size':\"6,6\"}, edge_attr = {'dir':'none'})\n",
    "            dot.node(name=str(tree), label=str(tree.value) if tree.value != None else \"\")\n",
    "\n",
    "        # Add nodes\n",
    "        if tree.left:\n",
    "            dot.node(name=str(tree.left) ,label=str(tree.left.value) if tree.left.value != None else \"\")\n",
    "            dot.edge(str(tree), str(tree.left))\n",
    "            dot = add_nodes_edges(tree.left, dot=dot)\n",
    "            \n",
    "        if tree.right:\n",
    "            dot.node(name=str(tree.right) ,label=str(tree.right.value) if tree.right.value != None else \"\")\n",
    "            dot.edge(str(tree), str(tree.right))\n",
    "            dot = add_nodes_edges(tree.right, dot=dot)\n",
    "\n",
    "        return dot\n",
    "    \n",
    "    dot = add_nodes_edges(root)\n",
    "    display(dot)\n",
    "\n",
    "displayTree(parse(\"[1,2]\"))\n",
    "displayTree(parse(\"[[1,2],3]\"))\n",
    "displayTree(parse(\"[[[9,[3,8]],[[0,9],6]],[[[3,7],[4,9]],3]]\"))"
   ]
  },
  {
   "cell_type": "code",
   "execution_count": 8,
   "id": "396ad631",
   "metadata": {},
   "outputs": [
    {
     "name": "stdout",
     "output_type": "stream",
     "text": [
      "[[1,2],[[3,4],5]]\n"
     ]
    },
    {
     "data": {
      "image/svg+xml": "<?xml version=\"1.0\" encoding=\"UTF-8\" standalone=\"no\"?>\n<!DOCTYPE svg PUBLIC \"-//W3C//DTD SVG 1.1//EN\"\n \"http://www.w3.org/Graphics/SVG/1.1/DTD/svg11.dtd\">\n<!-- Generated by graphviz version 2.50.0 (20211204.2007)\n -->\n<!-- Pages: 1 -->\n<svg width=\"134pt\" height=\"116pt\"\n viewBox=\"0.00 0.00 134.00 116.00\" xmlns=\"http://www.w3.org/2000/svg\" xmlns:xlink=\"http://www.w3.org/1999/xlink\">\n<g id=\"graph0\" class=\"graph\" transform=\"scale(1 1) rotate(0) translate(4 112)\">\n<polygon fill=\"white\" stroke=\"transparent\" points=\"-4,4 -4,-112 130,-112 130,4 -4,4\"/>\n<!-- __main__.TreeNode object at 0x10bf82220 -->\n<g id=\"node1\" class=\"node\">\n<title>__main__.TreeNode object at 0x10bf82220</title>\n<ellipse fill=\"none\" stroke=\"black\" cx=\"63\" cy=\"-90\" rx=\"27\" ry=\"18\"/>\n</g>\n<!-- __main__.TreeNode object at 0x10bf82160 -->\n<g id=\"node2\" class=\"node\">\n<title>__main__.TreeNode object at 0x10bf82160</title>\n<ellipse fill=\"none\" stroke=\"black\" cx=\"27\" cy=\"-18\" rx=\"27\" ry=\"18\"/>\n<text text-anchor=\"middle\" x=\"27\" y=\"-14.3\" font-family=\"Times,serif\" font-size=\"14.00\">1</text>\n</g>\n<!-- __main__.TreeNode object at 0x10bf82220&#45;&gt;__main__.TreeNode object at 0x10bf82160 -->\n<g id=\"edge1\" class=\"edge\">\n<title>__main__.TreeNode object at 0x10bf82220&#45;&gt;__main__.TreeNode object at 0x10bf82160</title>\n<path fill=\"none\" stroke=\"black\" d=\"M54.65,-72.76C48.83,-61.46 41.11,-46.44 35.3,-35.15\"/>\n</g>\n<!-- __main__.TreeNode object at 0x10bf82550 -->\n<g id=\"node3\" class=\"node\">\n<title>__main__.TreeNode object at 0x10bf82550</title>\n<ellipse fill=\"none\" stroke=\"black\" cx=\"99\" cy=\"-18\" rx=\"27\" ry=\"18\"/>\n<text text-anchor=\"middle\" x=\"99\" y=\"-14.3\" font-family=\"Times,serif\" font-size=\"14.00\">2</text>\n</g>\n<!-- __main__.TreeNode object at 0x10bf82220&#45;&gt;__main__.TreeNode object at 0x10bf82550 -->\n<g id=\"edge2\" class=\"edge\">\n<title>__main__.TreeNode object at 0x10bf82220&#45;&gt;__main__.TreeNode object at 0x10bf82550</title>\n<path fill=\"none\" stroke=\"black\" d=\"M71.35,-72.76C77.17,-61.46 84.89,-46.44 90.7,-35.15\"/>\n</g>\n</g>\n</svg>\n",
      "text/plain": [
       "<graphviz.dot.Digraph at 0x10d4345e0>"
      ]
     },
     "metadata": {},
     "output_type": "display_data"
    },
    {
     "data": {
      "image/svg+xml": "<?xml version=\"1.0\" encoding=\"UTF-8\" standalone=\"no\"?>\n<!DOCTYPE svg PUBLIC \"-//W3C//DTD SVG 1.1//EN\"\n \"http://www.w3.org/Graphics/SVG/1.1/DTD/svg11.dtd\">\n<!-- Generated by graphviz version 2.50.0 (20211204.2007)\n -->\n<!-- Pages: 1 -->\n<svg width=\"170pt\" height=\"188pt\"\n viewBox=\"0.00 0.00 170.00 188.00\" xmlns=\"http://www.w3.org/2000/svg\" xmlns:xlink=\"http://www.w3.org/1999/xlink\">\n<g id=\"graph0\" class=\"graph\" transform=\"scale(1 1) rotate(0) translate(4 184)\">\n<polygon fill=\"white\" stroke=\"transparent\" points=\"-4,4 -4,-184 166,-184 166,4 -4,4\"/>\n<!-- __main__.TreeNode object at 0x10d434400 -->\n<g id=\"node1\" class=\"node\">\n<title>__main__.TreeNode object at 0x10d434400</title>\n<ellipse fill=\"none\" stroke=\"black\" cx=\"99\" cy=\"-162\" rx=\"27\" ry=\"18\"/>\n</g>\n<!-- __main__.TreeNode object at 0x10d434e80 -->\n<g id=\"node2\" class=\"node\">\n<title>__main__.TreeNode object at 0x10d434e80</title>\n<ellipse fill=\"none\" stroke=\"black\" cx=\"63\" cy=\"-90\" rx=\"27\" ry=\"18\"/>\n</g>\n<!-- __main__.TreeNode object at 0x10d434400&#45;&gt;__main__.TreeNode object at 0x10d434e80 -->\n<g id=\"edge1\" class=\"edge\">\n<title>__main__.TreeNode object at 0x10d434400&#45;&gt;__main__.TreeNode object at 0x10d434e80</title>\n<path fill=\"none\" stroke=\"black\" d=\"M90.65,-144.76C84.83,-133.46 77.11,-118.44 71.3,-107.15\"/>\n</g>\n<!-- __main__.TreeNode object at 0x10d434dc0 -->\n<g id=\"node5\" class=\"node\">\n<title>__main__.TreeNode object at 0x10d434dc0</title>\n<ellipse fill=\"none\" stroke=\"black\" cx=\"135\" cy=\"-90\" rx=\"27\" ry=\"18\"/>\n<text text-anchor=\"middle\" x=\"135\" y=\"-86.3\" font-family=\"Times,serif\" font-size=\"14.00\">5</text>\n</g>\n<!-- __main__.TreeNode object at 0x10d434400&#45;&gt;__main__.TreeNode object at 0x10d434dc0 -->\n<g id=\"edge4\" class=\"edge\">\n<title>__main__.TreeNode object at 0x10d434400&#45;&gt;__main__.TreeNode object at 0x10d434dc0</title>\n<path fill=\"none\" stroke=\"black\" d=\"M107.35,-144.76C113.17,-133.46 120.89,-118.44 126.7,-107.15\"/>\n</g>\n<!-- __main__.TreeNode object at 0x10bf82400 -->\n<g id=\"node3\" class=\"node\">\n<title>__main__.TreeNode object at 0x10bf82400</title>\n<ellipse fill=\"none\" stroke=\"black\" cx=\"27\" cy=\"-18\" rx=\"27\" ry=\"18\"/>\n<text text-anchor=\"middle\" x=\"27\" y=\"-14.3\" font-family=\"Times,serif\" font-size=\"14.00\">3</text>\n</g>\n<!-- __main__.TreeNode object at 0x10d434e80&#45;&gt;__main__.TreeNode object at 0x10bf82400 -->\n<g id=\"edge2\" class=\"edge\">\n<title>__main__.TreeNode object at 0x10d434e80&#45;&gt;__main__.TreeNode object at 0x10bf82400</title>\n<path fill=\"none\" stroke=\"black\" d=\"M54.65,-72.76C48.83,-61.46 41.11,-46.44 35.3,-35.15\"/>\n</g>\n<!-- __main__.TreeNode object at 0x10d4347f0 -->\n<g id=\"node4\" class=\"node\">\n<title>__main__.TreeNode object at 0x10d4347f0</title>\n<ellipse fill=\"none\" stroke=\"black\" cx=\"99\" cy=\"-18\" rx=\"27\" ry=\"18\"/>\n<text text-anchor=\"middle\" x=\"99\" y=\"-14.3\" font-family=\"Times,serif\" font-size=\"14.00\">4</text>\n</g>\n<!-- __main__.TreeNode object at 0x10d434e80&#45;&gt;__main__.TreeNode object at 0x10d4347f0 -->\n<g id=\"edge3\" class=\"edge\">\n<title>__main__.TreeNode object at 0x10d434e80&#45;&gt;__main__.TreeNode object at 0x10d4347f0</title>\n<path fill=\"none\" stroke=\"black\" d=\"M71.35,-72.76C77.17,-61.46 84.89,-46.44 90.7,-35.15\"/>\n</g>\n</g>\n</svg>\n",
      "text/plain": [
       "<graphviz.dot.Digraph at 0x10d4349d0>"
      ]
     },
     "metadata": {},
     "output_type": "display_data"
    },
    {
     "data": {
      "image/svg+xml": "<?xml version=\"1.0\" encoding=\"UTF-8\" standalone=\"no\"?>\n<!DOCTYPE svg PUBLIC \"-//W3C//DTD SVG 1.1//EN\"\n \"http://www.w3.org/Graphics/SVG/1.1/DTD/svg11.dtd\">\n<!-- Generated by graphviz version 2.50.0 (20211204.2007)\n -->\n<!-- Pages: 1 -->\n<svg width=\"278pt\" height=\"260pt\"\n viewBox=\"0.00 0.00 278.00 260.00\" xmlns=\"http://www.w3.org/2000/svg\" xmlns:xlink=\"http://www.w3.org/1999/xlink\">\n<g id=\"graph0\" class=\"graph\" transform=\"scale(1 1) rotate(0) translate(4 256)\">\n<polygon fill=\"white\" stroke=\"transparent\" points=\"-4,4 -4,-256 274,-256 274,4 -4,4\"/>\n<!-- __main__.TreeNode object at 0x10d4288e0 -->\n<g id=\"node1\" class=\"node\">\n<title>__main__.TreeNode object at 0x10d4288e0</title>\n<ellipse fill=\"none\" stroke=\"black\" cx=\"135\" cy=\"-234\" rx=\"27\" ry=\"18\"/>\n</g>\n<!-- __main__.TreeNode object at 0x10bf82220 -->\n<g id=\"node2\" class=\"node\">\n<title>__main__.TreeNode object at 0x10bf82220</title>\n<ellipse fill=\"none\" stroke=\"black\" cx=\"99\" cy=\"-162\" rx=\"27\" ry=\"18\"/>\n</g>\n<!-- __main__.TreeNode object at 0x10d4288e0&#45;&gt;__main__.TreeNode object at 0x10bf82220 -->\n<g id=\"edge1\" class=\"edge\">\n<title>__main__.TreeNode object at 0x10d4288e0&#45;&gt;__main__.TreeNode object at 0x10bf82220</title>\n<path fill=\"none\" stroke=\"black\" d=\"M126.65,-216.76C120.83,-205.46 113.11,-190.44 107.3,-179.15\"/>\n</g>\n<!-- __main__.TreeNode object at 0x10d434400 -->\n<g id=\"node5\" class=\"node\">\n<title>__main__.TreeNode object at 0x10d434400</title>\n<ellipse fill=\"none\" stroke=\"black\" cx=\"171\" cy=\"-162\" rx=\"27\" ry=\"18\"/>\n</g>\n<!-- __main__.TreeNode object at 0x10d4288e0&#45;&gt;__main__.TreeNode object at 0x10d434400 -->\n<g id=\"edge4\" class=\"edge\">\n<title>__main__.TreeNode object at 0x10d4288e0&#45;&gt;__main__.TreeNode object at 0x10d434400</title>\n<path fill=\"none\" stroke=\"black\" d=\"M143.35,-216.76C149.17,-205.46 156.89,-190.44 162.7,-179.15\"/>\n</g>\n<!-- __main__.TreeNode object at 0x10bf82160 -->\n<g id=\"node3\" class=\"node\">\n<title>__main__.TreeNode object at 0x10bf82160</title>\n<ellipse fill=\"none\" stroke=\"black\" cx=\"27\" cy=\"-90\" rx=\"27\" ry=\"18\"/>\n<text text-anchor=\"middle\" x=\"27\" y=\"-86.3\" font-family=\"Times,serif\" font-size=\"14.00\">1</text>\n</g>\n<!-- __main__.TreeNode object at 0x10bf82220&#45;&gt;__main__.TreeNode object at 0x10bf82160 -->\n<g id=\"edge2\" class=\"edge\">\n<title>__main__.TreeNode object at 0x10bf82220&#45;&gt;__main__.TreeNode object at 0x10bf82160</title>\n<path fill=\"none\" stroke=\"black\" d=\"M84.43,-146.83C72.02,-134.77 54.27,-117.51 41.8,-105.38\"/>\n</g>\n<!-- __main__.TreeNode object at 0x10bf82550 -->\n<g id=\"node4\" class=\"node\">\n<title>__main__.TreeNode object at 0x10bf82550</title>\n<ellipse fill=\"none\" stroke=\"black\" cx=\"99\" cy=\"-90\" rx=\"27\" ry=\"18\"/>\n<text text-anchor=\"middle\" x=\"99\" y=\"-86.3\" font-family=\"Times,serif\" font-size=\"14.00\">2</text>\n</g>\n<!-- __main__.TreeNode object at 0x10bf82220&#45;&gt;__main__.TreeNode object at 0x10bf82550 -->\n<g id=\"edge3\" class=\"edge\">\n<title>__main__.TreeNode object at 0x10bf82220&#45;&gt;__main__.TreeNode object at 0x10bf82550</title>\n<path fill=\"none\" stroke=\"black\" d=\"M99,-143.7C99,-132.85 99,-118.92 99,-108.1\"/>\n</g>\n<!-- __main__.TreeNode object at 0x10d434e80 -->\n<g id=\"node6\" class=\"node\">\n<title>__main__.TreeNode object at 0x10d434e80</title>\n<ellipse fill=\"none\" stroke=\"black\" cx=\"171\" cy=\"-90\" rx=\"27\" ry=\"18\"/>\n</g>\n<!-- __main__.TreeNode object at 0x10d434400&#45;&gt;__main__.TreeNode object at 0x10d434e80 -->\n<g id=\"edge5\" class=\"edge\">\n<title>__main__.TreeNode object at 0x10d434400&#45;&gt;__main__.TreeNode object at 0x10d434e80</title>\n<path fill=\"none\" stroke=\"black\" d=\"M171,-143.7C171,-132.85 171,-118.92 171,-108.1\"/>\n</g>\n<!-- __main__.TreeNode object at 0x10d434dc0 -->\n<g id=\"node9\" class=\"node\">\n<title>__main__.TreeNode object at 0x10d434dc0</title>\n<ellipse fill=\"none\" stroke=\"black\" cx=\"243\" cy=\"-90\" rx=\"27\" ry=\"18\"/>\n<text text-anchor=\"middle\" x=\"243\" y=\"-86.3\" font-family=\"Times,serif\" font-size=\"14.00\">5</text>\n</g>\n<!-- __main__.TreeNode object at 0x10d434400&#45;&gt;__main__.TreeNode object at 0x10d434dc0 -->\n<g id=\"edge8\" class=\"edge\">\n<title>__main__.TreeNode object at 0x10d434400&#45;&gt;__main__.TreeNode object at 0x10d434dc0</title>\n<path fill=\"none\" stroke=\"black\" d=\"M185.57,-146.83C197.98,-134.77 215.73,-117.51 228.2,-105.38\"/>\n</g>\n<!-- __main__.TreeNode object at 0x10bf82400 -->\n<g id=\"node7\" class=\"node\">\n<title>__main__.TreeNode object at 0x10bf82400</title>\n<ellipse fill=\"none\" stroke=\"black\" cx=\"135\" cy=\"-18\" rx=\"27\" ry=\"18\"/>\n<text text-anchor=\"middle\" x=\"135\" y=\"-14.3\" font-family=\"Times,serif\" font-size=\"14.00\">3</text>\n</g>\n<!-- __main__.TreeNode object at 0x10d434e80&#45;&gt;__main__.TreeNode object at 0x10bf82400 -->\n<g id=\"edge6\" class=\"edge\">\n<title>__main__.TreeNode object at 0x10d434e80&#45;&gt;__main__.TreeNode object at 0x10bf82400</title>\n<path fill=\"none\" stroke=\"black\" d=\"M162.65,-72.76C156.83,-61.46 149.11,-46.44 143.3,-35.15\"/>\n</g>\n<!-- __main__.TreeNode object at 0x10d4347f0 -->\n<g id=\"node8\" class=\"node\">\n<title>__main__.TreeNode object at 0x10d4347f0</title>\n<ellipse fill=\"none\" stroke=\"black\" cx=\"207\" cy=\"-18\" rx=\"27\" ry=\"18\"/>\n<text text-anchor=\"middle\" x=\"207\" y=\"-14.3\" font-family=\"Times,serif\" font-size=\"14.00\">4</text>\n</g>\n<!-- __main__.TreeNode object at 0x10d434e80&#45;&gt;__main__.TreeNode object at 0x10d4347f0 -->\n<g id=\"edge7\" class=\"edge\">\n<title>__main__.TreeNode object at 0x10d434e80&#45;&gt;__main__.TreeNode object at 0x10d4347f0</title>\n<path fill=\"none\" stroke=\"black\" d=\"M179.35,-72.76C185.17,-61.46 192.89,-46.44 198.7,-35.15\"/>\n</g>\n</g>\n</svg>\n",
      "text/plain": [
       "<graphviz.dot.Digraph at 0x10d434910>"
      ]
     },
     "metadata": {},
     "output_type": "display_data"
    }
   ],
   "source": [
    "def add(a, b):\n",
    "    root = TreeNode(None)\n",
    "    root.left = a\n",
    "    root.right = b\n",
    "    a.parent = root\n",
    "    b.parent = root\n",
    "    return root\n",
    "\n",
    "aa = parse(\"[1,2]\")\n",
    "bb = parse(\"[[3,4],5]\")\n",
    "added = add(aa, bb)\n",
    "\n",
    "printTree(added)\n",
    "displayTree(aa)\n",
    "displayTree(bb)\n",
    "displayTree(added)"
   ]
  },
  {
   "cell_type": "code",
   "execution_count": 9,
   "id": "dd66416a",
   "metadata": {},
   "outputs": [
    {
     "data": {
      "image/svg+xml": "<?xml version=\"1.0\" encoding=\"UTF-8\" standalone=\"no\"?>\n<!DOCTYPE svg PUBLIC \"-//W3C//DTD SVG 1.1//EN\"\n \"http://www.w3.org/Graphics/SVG/1.1/DTD/svg11.dtd\">\n<!-- Generated by graphviz version 2.50.0 (20211204.2007)\n -->\n<!-- Pages: 1 -->\n<svg width=\"134pt\" height=\"116pt\"\n viewBox=\"0.00 0.00 134.00 116.00\" xmlns=\"http://www.w3.org/2000/svg\" xmlns:xlink=\"http://www.w3.org/1999/xlink\">\n<g id=\"graph0\" class=\"graph\" transform=\"scale(1 1) rotate(0) translate(4 112)\">\n<polygon fill=\"white\" stroke=\"transparent\" points=\"-4,4 -4,-112 130,-112 130,4 -4,4\"/>\n<!-- __main__.TreeNode object at 0x10bf92250 -->\n<g id=\"node1\" class=\"node\">\n<title>__main__.TreeNode object at 0x10bf92250</title>\n<ellipse fill=\"none\" stroke=\"black\" cx=\"63\" cy=\"-90\" rx=\"27\" ry=\"18\"/>\n</g>\n<!-- __main__.TreeNode object at 0x10bf92f40 -->\n<g id=\"node2\" class=\"node\">\n<title>__main__.TreeNode object at 0x10bf92f40</title>\n<ellipse fill=\"none\" stroke=\"black\" cx=\"27\" cy=\"-18\" rx=\"27\" ry=\"18\"/>\n<text text-anchor=\"middle\" x=\"27\" y=\"-14.3\" font-family=\"Times,serif\" font-size=\"14.00\">1</text>\n</g>\n<!-- __main__.TreeNode object at 0x10bf92250&#45;&gt;__main__.TreeNode object at 0x10bf92f40 -->\n<g id=\"edge1\" class=\"edge\">\n<title>__main__.TreeNode object at 0x10bf92250&#45;&gt;__main__.TreeNode object at 0x10bf92f40</title>\n<path fill=\"none\" stroke=\"black\" d=\"M54.65,-72.76C48.83,-61.46 41.11,-46.44 35.3,-35.15\"/>\n</g>\n<!-- __main__.TreeNode object at 0x10bf84520 -->\n<g id=\"node3\" class=\"node\">\n<title>__main__.TreeNode object at 0x10bf84520</title>\n<ellipse fill=\"none\" stroke=\"black\" cx=\"99\" cy=\"-18\" rx=\"27\" ry=\"18\"/>\n<text text-anchor=\"middle\" x=\"99\" y=\"-14.3\" font-family=\"Times,serif\" font-size=\"14.00\">11</text>\n</g>\n<!-- __main__.TreeNode object at 0x10bf92250&#45;&gt;__main__.TreeNode object at 0x10bf84520 -->\n<g id=\"edge2\" class=\"edge\">\n<title>__main__.TreeNode object at 0x10bf92250&#45;&gt;__main__.TreeNode object at 0x10bf84520</title>\n<path fill=\"none\" stroke=\"black\" d=\"M71.35,-72.76C77.17,-61.46 84.89,-46.44 90.7,-35.15\"/>\n</g>\n</g>\n</svg>\n",
      "text/plain": [
       "<graphviz.dot.Digraph at 0x10bf84ee0>"
      ]
     },
     "metadata": {},
     "output_type": "display_data"
    },
    {
     "name": "stdout",
     "output_type": "stream",
     "text": [
      "True\n"
     ]
    },
    {
     "data": {
      "image/svg+xml": "<?xml version=\"1.0\" encoding=\"UTF-8\" standalone=\"no\"?>\n<!DOCTYPE svg PUBLIC \"-//W3C//DTD SVG 1.1//EN\"\n \"http://www.w3.org/Graphics/SVG/1.1/DTD/svg11.dtd\">\n<!-- Generated by graphviz version 2.50.0 (20211204.2007)\n -->\n<!-- Pages: 1 -->\n<svg width=\"170pt\" height=\"188pt\"\n viewBox=\"0.00 0.00 170.00 188.00\" xmlns=\"http://www.w3.org/2000/svg\" xmlns:xlink=\"http://www.w3.org/1999/xlink\">\n<g id=\"graph0\" class=\"graph\" transform=\"scale(1 1) rotate(0) translate(4 184)\">\n<polygon fill=\"white\" stroke=\"transparent\" points=\"-4,4 -4,-184 166,-184 166,4 -4,4\"/>\n<!-- __main__.TreeNode object at 0x10bf92250 -->\n<g id=\"node1\" class=\"node\">\n<title>__main__.TreeNode object at 0x10bf92250</title>\n<ellipse fill=\"none\" stroke=\"black\" cx=\"63\" cy=\"-162\" rx=\"27\" ry=\"18\"/>\n</g>\n<!-- __main__.TreeNode object at 0x10bf92f40 -->\n<g id=\"node2\" class=\"node\">\n<title>__main__.TreeNode object at 0x10bf92f40</title>\n<ellipse fill=\"none\" stroke=\"black\" cx=\"27\" cy=\"-90\" rx=\"27\" ry=\"18\"/>\n<text text-anchor=\"middle\" x=\"27\" y=\"-86.3\" font-family=\"Times,serif\" font-size=\"14.00\">1</text>\n</g>\n<!-- __main__.TreeNode object at 0x10bf92250&#45;&gt;__main__.TreeNode object at 0x10bf92f40 -->\n<g id=\"edge1\" class=\"edge\">\n<title>__main__.TreeNode object at 0x10bf92250&#45;&gt;__main__.TreeNode object at 0x10bf92f40</title>\n<path fill=\"none\" stroke=\"black\" d=\"M54.65,-144.76C48.83,-133.46 41.11,-118.44 35.3,-107.15\"/>\n</g>\n<!-- __main__.TreeNode object at 0x10bf84520 -->\n<g id=\"node3\" class=\"node\">\n<title>__main__.TreeNode object at 0x10bf84520</title>\n<ellipse fill=\"none\" stroke=\"black\" cx=\"99\" cy=\"-90\" rx=\"27\" ry=\"18\"/>\n</g>\n<!-- __main__.TreeNode object at 0x10bf92250&#45;&gt;__main__.TreeNode object at 0x10bf84520 -->\n<g id=\"edge2\" class=\"edge\">\n<title>__main__.TreeNode object at 0x10bf92250&#45;&gt;__main__.TreeNode object at 0x10bf84520</title>\n<path fill=\"none\" stroke=\"black\" d=\"M71.35,-144.76C77.17,-133.46 84.89,-118.44 90.7,-107.15\"/>\n</g>\n<!-- __main__.TreeNode object at 0x10bfbd9a0 -->\n<g id=\"node4\" class=\"node\">\n<title>__main__.TreeNode object at 0x10bfbd9a0</title>\n<ellipse fill=\"none\" stroke=\"black\" cx=\"63\" cy=\"-18\" rx=\"27\" ry=\"18\"/>\n<text text-anchor=\"middle\" x=\"63\" y=\"-14.3\" font-family=\"Times,serif\" font-size=\"14.00\">5</text>\n</g>\n<!-- __main__.TreeNode object at 0x10bf84520&#45;&gt;__main__.TreeNode object at 0x10bfbd9a0 -->\n<g id=\"edge3\" class=\"edge\">\n<title>__main__.TreeNode object at 0x10bf84520&#45;&gt;__main__.TreeNode object at 0x10bfbd9a0</title>\n<path fill=\"none\" stroke=\"black\" d=\"M90.65,-72.76C84.83,-61.46 77.11,-46.44 71.3,-35.15\"/>\n</g>\n<!-- __main__.TreeNode object at 0x10bfbd640 -->\n<g id=\"node5\" class=\"node\">\n<title>__main__.TreeNode object at 0x10bfbd640</title>\n<ellipse fill=\"none\" stroke=\"black\" cx=\"135\" cy=\"-18\" rx=\"27\" ry=\"18\"/>\n<text text-anchor=\"middle\" x=\"135\" y=\"-14.3\" font-family=\"Times,serif\" font-size=\"14.00\">6</text>\n</g>\n<!-- __main__.TreeNode object at 0x10bf84520&#45;&gt;__main__.TreeNode object at 0x10bfbd640 -->\n<g id=\"edge4\" class=\"edge\">\n<title>__main__.TreeNode object at 0x10bf84520&#45;&gt;__main__.TreeNode object at 0x10bfbd640</title>\n<path fill=\"none\" stroke=\"black\" d=\"M107.35,-72.76C113.17,-61.46 120.89,-46.44 126.7,-35.15\"/>\n</g>\n</g>\n</svg>\n",
      "text/plain": [
       "<graphviz.dot.Digraph at 0x10bfbdb20>"
      ]
     },
     "metadata": {},
     "output_type": "display_data"
    }
   ],
   "source": [
    "def split(tree):\n",
    "    if not tree:\n",
    "        return False\n",
    "    if tree.value and tree.value >= 10:\n",
    "        tree.left = TreeNode(tree.value // 2)\n",
    "        tree.right = TreeNode((tree.value + 1) // 2)\n",
    "        tree.value = None\n",
    "        tree.left.parent = tree\n",
    "        tree.right.parent = tree\n",
    "        return True\n",
    "    if split(tree.left):\n",
    "        return True\n",
    "    if split(tree.right):\n",
    "        return True\n",
    "    return False\n",
    "\n",
    "t = TreeNode(None)\n",
    "t.left = TreeNode(1)\n",
    "t.right = TreeNode(11)\n",
    "displayTree(t)\n",
    "print(split(t))\n",
    "displayTree(t)"
   ]
  },
  {
   "cell_type": "code",
   "execution_count": 10,
   "id": "ccc81b72",
   "metadata": {},
   "outputs": [
    {
     "name": "stdout",
     "output_type": "stream",
     "text": [
      "29\n",
      "1137\n"
     ]
    }
   ],
   "source": [
    "def magnitude(tree):\n",
    "    if tree.value != None:\n",
    "        return tree.value\n",
    "    return 3 * magnitude(tree.left) + 2 * magnitude(tree.right)\n",
    "\n",
    "print(magnitude(parse(\"[9,1]\")))\n",
    "print(magnitude(parse(\"[[[[5,0],[7,4]],[5,5]],[6,6]]\")))"
   ]
  },
  {
   "cell_type": "code",
   "execution_count": 11,
   "id": "9d9f3d0b",
   "metadata": {},
   "outputs": [
    {
     "name": "stdout",
     "output_type": "stream",
     "text": [
      "[[[[[9,8],1],2],3],4]\n"
     ]
    },
    {
     "data": {
      "image/svg+xml": "<?xml version=\"1.0\" encoding=\"UTF-8\" standalone=\"no\"?>\n<!DOCTYPE svg PUBLIC \"-//W3C//DTD SVG 1.1//EN\"\n \"http://www.w3.org/Graphics/SVG/1.1/DTD/svg11.dtd\">\n<!-- Generated by graphviz version 2.50.0 (20211204.2007)\n -->\n<!-- Pages: 1 -->\n<svg width=\"278pt\" height=\"404pt\"\n viewBox=\"0.00 0.00 278.00 404.00\" xmlns=\"http://www.w3.org/2000/svg\" xmlns:xlink=\"http://www.w3.org/1999/xlink\">\n<g id=\"graph0\" class=\"graph\" transform=\"scale(1 1) rotate(0) translate(4 400)\">\n<polygon fill=\"white\" stroke=\"transparent\" points=\"-4,4 -4,-400 274,-400 274,4 -4,4\"/>\n<!-- __main__.TreeNode object at 0x10d434a30 -->\n<g id=\"node1\" class=\"node\">\n<title>__main__.TreeNode object at 0x10d434a30</title>\n<ellipse fill=\"none\" stroke=\"black\" cx=\"207\" cy=\"-378\" rx=\"27\" ry=\"18\"/>\n</g>\n<!-- __main__.TreeNode object at 0x10d435520 -->\n<g id=\"node2\" class=\"node\">\n<title>__main__.TreeNode object at 0x10d435520</title>\n<ellipse fill=\"none\" stroke=\"black\" cx=\"171\" cy=\"-306\" rx=\"27\" ry=\"18\"/>\n</g>\n<!-- __main__.TreeNode object at 0x10d434a30&#45;&gt;__main__.TreeNode object at 0x10d435520 -->\n<g id=\"edge1\" class=\"edge\">\n<title>__main__.TreeNode object at 0x10d434a30&#45;&gt;__main__.TreeNode object at 0x10d435520</title>\n<path fill=\"none\" stroke=\"black\" d=\"M198.65,-360.76C192.83,-349.46 185.11,-334.44 179.3,-323.15\"/>\n</g>\n<!-- __main__.TreeNode object at 0x10d434760 -->\n<g id=\"node11\" class=\"node\">\n<title>__main__.TreeNode object at 0x10d434760</title>\n<ellipse fill=\"none\" stroke=\"black\" cx=\"243\" cy=\"-306\" rx=\"27\" ry=\"18\"/>\n<text text-anchor=\"middle\" x=\"243\" y=\"-302.3\" font-family=\"Times,serif\" font-size=\"14.00\">4</text>\n</g>\n<!-- __main__.TreeNode object at 0x10d434a30&#45;&gt;__main__.TreeNode object at 0x10d434760 -->\n<g id=\"edge10\" class=\"edge\">\n<title>__main__.TreeNode object at 0x10d434a30&#45;&gt;__main__.TreeNode object at 0x10d434760</title>\n<path fill=\"none\" stroke=\"black\" d=\"M215.35,-360.76C221.17,-349.46 228.89,-334.44 234.7,-323.15\"/>\n</g>\n<!-- __main__.TreeNode object at 0x10d435100 -->\n<g id=\"node3\" class=\"node\">\n<title>__main__.TreeNode object at 0x10d435100</title>\n<ellipse fill=\"none\" stroke=\"black\" cx=\"135\" cy=\"-234\" rx=\"27\" ry=\"18\"/>\n</g>\n<!-- __main__.TreeNode object at 0x10d435520&#45;&gt;__main__.TreeNode object at 0x10d435100 -->\n<g id=\"edge2\" class=\"edge\">\n<title>__main__.TreeNode object at 0x10d435520&#45;&gt;__main__.TreeNode object at 0x10d435100</title>\n<path fill=\"none\" stroke=\"black\" d=\"M162.65,-288.76C156.83,-277.46 149.11,-262.44 143.3,-251.15\"/>\n</g>\n<!-- __main__.TreeNode object at 0x10d435e50 -->\n<g id=\"node10\" class=\"node\">\n<title>__main__.TreeNode object at 0x10d435e50</title>\n<ellipse fill=\"none\" stroke=\"black\" cx=\"207\" cy=\"-234\" rx=\"27\" ry=\"18\"/>\n<text text-anchor=\"middle\" x=\"207\" y=\"-230.3\" font-family=\"Times,serif\" font-size=\"14.00\">3</text>\n</g>\n<!-- __main__.TreeNode object at 0x10d435520&#45;&gt;__main__.TreeNode object at 0x10d435e50 -->\n<g id=\"edge9\" class=\"edge\">\n<title>__main__.TreeNode object at 0x10d435520&#45;&gt;__main__.TreeNode object at 0x10d435e50</title>\n<path fill=\"none\" stroke=\"black\" d=\"M179.35,-288.76C185.17,-277.46 192.89,-262.44 198.7,-251.15\"/>\n</g>\n<!-- __main__.TreeNode object at 0x10d4352e0 -->\n<g id=\"node4\" class=\"node\">\n<title>__main__.TreeNode object at 0x10d4352e0</title>\n<ellipse fill=\"none\" stroke=\"black\" cx=\"99\" cy=\"-162\" rx=\"27\" ry=\"18\"/>\n</g>\n<!-- __main__.TreeNode object at 0x10d435100&#45;&gt;__main__.TreeNode object at 0x10d4352e0 -->\n<g id=\"edge3\" class=\"edge\">\n<title>__main__.TreeNode object at 0x10d435100&#45;&gt;__main__.TreeNode object at 0x10d4352e0</title>\n<path fill=\"none\" stroke=\"black\" d=\"M126.65,-216.76C120.83,-205.46 113.11,-190.44 107.3,-179.15\"/>\n</g>\n<!-- __main__.TreeNode object at 0x10d4357c0 -->\n<g id=\"node9\" class=\"node\">\n<title>__main__.TreeNode object at 0x10d4357c0</title>\n<ellipse fill=\"none\" stroke=\"black\" cx=\"171\" cy=\"-162\" rx=\"27\" ry=\"18\"/>\n<text text-anchor=\"middle\" x=\"171\" y=\"-158.3\" font-family=\"Times,serif\" font-size=\"14.00\">2</text>\n</g>\n<!-- __main__.TreeNode object at 0x10d435100&#45;&gt;__main__.TreeNode object at 0x10d4357c0 -->\n<g id=\"edge8\" class=\"edge\">\n<title>__main__.TreeNode object at 0x10d435100&#45;&gt;__main__.TreeNode object at 0x10d4357c0</title>\n<path fill=\"none\" stroke=\"black\" d=\"M143.35,-216.76C149.17,-205.46 156.89,-190.44 162.7,-179.15\"/>\n</g>\n<!-- __main__.TreeNode object at 0x10d435190 -->\n<g id=\"node5\" class=\"node\">\n<title>__main__.TreeNode object at 0x10d435190</title>\n<ellipse fill=\"none\" stroke=\"black\" cx=\"63\" cy=\"-90\" rx=\"27\" ry=\"18\"/>\n</g>\n<!-- __main__.TreeNode object at 0x10d4352e0&#45;&gt;__main__.TreeNode object at 0x10d435190 -->\n<g id=\"edge4\" class=\"edge\">\n<title>__main__.TreeNode object at 0x10d4352e0&#45;&gt;__main__.TreeNode object at 0x10d435190</title>\n<path fill=\"none\" stroke=\"black\" d=\"M90.65,-144.76C84.83,-133.46 77.11,-118.44 71.3,-107.15\"/>\n</g>\n<!-- __main__.TreeNode object at 0x10d435130 -->\n<g id=\"node8\" class=\"node\">\n<title>__main__.TreeNode object at 0x10d435130</title>\n<ellipse fill=\"none\" stroke=\"black\" cx=\"135\" cy=\"-90\" rx=\"27\" ry=\"18\"/>\n<text text-anchor=\"middle\" x=\"135\" y=\"-86.3\" font-family=\"Times,serif\" font-size=\"14.00\">1</text>\n</g>\n<!-- __main__.TreeNode object at 0x10d4352e0&#45;&gt;__main__.TreeNode object at 0x10d435130 -->\n<g id=\"edge7\" class=\"edge\">\n<title>__main__.TreeNode object at 0x10d4352e0&#45;&gt;__main__.TreeNode object at 0x10d435130</title>\n<path fill=\"none\" stroke=\"black\" d=\"M107.35,-144.76C113.17,-133.46 120.89,-118.44 126.7,-107.15\"/>\n</g>\n<!-- __main__.TreeNode object at 0x10d435340 -->\n<g id=\"node6\" class=\"node\">\n<title>__main__.TreeNode object at 0x10d435340</title>\n<ellipse fill=\"none\" stroke=\"black\" cx=\"27\" cy=\"-18\" rx=\"27\" ry=\"18\"/>\n<text text-anchor=\"middle\" x=\"27\" y=\"-14.3\" font-family=\"Times,serif\" font-size=\"14.00\">9</text>\n</g>\n<!-- __main__.TreeNode object at 0x10d435190&#45;&gt;__main__.TreeNode object at 0x10d435340 -->\n<g id=\"edge5\" class=\"edge\">\n<title>__main__.TreeNode object at 0x10d435190&#45;&gt;__main__.TreeNode object at 0x10d435340</title>\n<path fill=\"none\" stroke=\"black\" d=\"M54.65,-72.76C48.83,-61.46 41.11,-46.44 35.3,-35.15\"/>\n</g>\n<!-- __main__.TreeNode object at 0x10d4354c0 -->\n<g id=\"node7\" class=\"node\">\n<title>__main__.TreeNode object at 0x10d4354c0</title>\n<ellipse fill=\"none\" stroke=\"black\" cx=\"99\" cy=\"-18\" rx=\"27\" ry=\"18\"/>\n<text text-anchor=\"middle\" x=\"99\" y=\"-14.3\" font-family=\"Times,serif\" font-size=\"14.00\">8</text>\n</g>\n<!-- __main__.TreeNode object at 0x10d435190&#45;&gt;__main__.TreeNode object at 0x10d4354c0 -->\n<g id=\"edge6\" class=\"edge\">\n<title>__main__.TreeNode object at 0x10d435190&#45;&gt;__main__.TreeNode object at 0x10d4354c0</title>\n<path fill=\"none\" stroke=\"black\" d=\"M71.35,-72.76C77.17,-61.46 84.89,-46.44 90.7,-35.15\"/>\n</g>\n</g>\n</svg>\n",
      "text/plain": [
       "<graphviz.dot.Digraph at 0x10d428f10>"
      ]
     },
     "metadata": {},
     "output_type": "display_data"
    },
    {
     "name": "stdout",
     "output_type": "stream",
     "text": [
      "True\n",
      "[[[[0,9],2],3],4]\n"
     ]
    },
    {
     "data": {
      "image/svg+xml": "<?xml version=\"1.0\" encoding=\"UTF-8\" standalone=\"no\"?>\n<!DOCTYPE svg PUBLIC \"-//W3C//DTD SVG 1.1//EN\"\n \"http://www.w3.org/Graphics/SVG/1.1/DTD/svg11.dtd\">\n<!-- Generated by graphviz version 2.50.0 (20211204.2007)\n -->\n<!-- Pages: 1 -->\n<svg width=\"242pt\" height=\"332pt\"\n viewBox=\"0.00 0.00 242.00 332.00\" xmlns=\"http://www.w3.org/2000/svg\" xmlns:xlink=\"http://www.w3.org/1999/xlink\">\n<g id=\"graph0\" class=\"graph\" transform=\"scale(1 1) rotate(0) translate(4 328)\">\n<polygon fill=\"white\" stroke=\"transparent\" points=\"-4,4 -4,-328 238,-328 238,4 -4,4\"/>\n<!-- __main__.TreeNode object at 0x10d434a30 -->\n<g id=\"node1\" class=\"node\">\n<title>__main__.TreeNode object at 0x10d434a30</title>\n<ellipse fill=\"none\" stroke=\"black\" cx=\"171\" cy=\"-306\" rx=\"27\" ry=\"18\"/>\n</g>\n<!-- __main__.TreeNode object at 0x10d435520 -->\n<g id=\"node2\" class=\"node\">\n<title>__main__.TreeNode object at 0x10d435520</title>\n<ellipse fill=\"none\" stroke=\"black\" cx=\"135\" cy=\"-234\" rx=\"27\" ry=\"18\"/>\n</g>\n<!-- __main__.TreeNode object at 0x10d434a30&#45;&gt;__main__.TreeNode object at 0x10d435520 -->\n<g id=\"edge1\" class=\"edge\">\n<title>__main__.TreeNode object at 0x10d434a30&#45;&gt;__main__.TreeNode object at 0x10d435520</title>\n<path fill=\"none\" stroke=\"black\" d=\"M162.65,-288.76C156.83,-277.46 149.11,-262.44 143.3,-251.15\"/>\n</g>\n<!-- __main__.TreeNode object at 0x10d434760 -->\n<g id=\"node9\" class=\"node\">\n<title>__main__.TreeNode object at 0x10d434760</title>\n<ellipse fill=\"none\" stroke=\"black\" cx=\"207\" cy=\"-234\" rx=\"27\" ry=\"18\"/>\n<text text-anchor=\"middle\" x=\"207\" y=\"-230.3\" font-family=\"Times,serif\" font-size=\"14.00\">4</text>\n</g>\n<!-- __main__.TreeNode object at 0x10d434a30&#45;&gt;__main__.TreeNode object at 0x10d434760 -->\n<g id=\"edge8\" class=\"edge\">\n<title>__main__.TreeNode object at 0x10d434a30&#45;&gt;__main__.TreeNode object at 0x10d434760</title>\n<path fill=\"none\" stroke=\"black\" d=\"M179.35,-288.76C185.17,-277.46 192.89,-262.44 198.7,-251.15\"/>\n</g>\n<!-- __main__.TreeNode object at 0x10d435100 -->\n<g id=\"node3\" class=\"node\">\n<title>__main__.TreeNode object at 0x10d435100</title>\n<ellipse fill=\"none\" stroke=\"black\" cx=\"99\" cy=\"-162\" rx=\"27\" ry=\"18\"/>\n</g>\n<!-- __main__.TreeNode object at 0x10d435520&#45;&gt;__main__.TreeNode object at 0x10d435100 -->\n<g id=\"edge2\" class=\"edge\">\n<title>__main__.TreeNode object at 0x10d435520&#45;&gt;__main__.TreeNode object at 0x10d435100</title>\n<path fill=\"none\" stroke=\"black\" d=\"M126.65,-216.76C120.83,-205.46 113.11,-190.44 107.3,-179.15\"/>\n</g>\n<!-- __main__.TreeNode object at 0x10d435e50 -->\n<g id=\"node8\" class=\"node\">\n<title>__main__.TreeNode object at 0x10d435e50</title>\n<ellipse fill=\"none\" stroke=\"black\" cx=\"171\" cy=\"-162\" rx=\"27\" ry=\"18\"/>\n<text text-anchor=\"middle\" x=\"171\" y=\"-158.3\" font-family=\"Times,serif\" font-size=\"14.00\">3</text>\n</g>\n<!-- __main__.TreeNode object at 0x10d435520&#45;&gt;__main__.TreeNode object at 0x10d435e50 -->\n<g id=\"edge7\" class=\"edge\">\n<title>__main__.TreeNode object at 0x10d435520&#45;&gt;__main__.TreeNode object at 0x10d435e50</title>\n<path fill=\"none\" stroke=\"black\" d=\"M143.35,-216.76C149.17,-205.46 156.89,-190.44 162.7,-179.15\"/>\n</g>\n<!-- __main__.TreeNode object at 0x10d4352e0 -->\n<g id=\"node4\" class=\"node\">\n<title>__main__.TreeNode object at 0x10d4352e0</title>\n<ellipse fill=\"none\" stroke=\"black\" cx=\"63\" cy=\"-90\" rx=\"27\" ry=\"18\"/>\n</g>\n<!-- __main__.TreeNode object at 0x10d435100&#45;&gt;__main__.TreeNode object at 0x10d4352e0 -->\n<g id=\"edge3\" class=\"edge\">\n<title>__main__.TreeNode object at 0x10d435100&#45;&gt;__main__.TreeNode object at 0x10d4352e0</title>\n<path fill=\"none\" stroke=\"black\" d=\"M90.65,-144.76C84.83,-133.46 77.11,-118.44 71.3,-107.15\"/>\n</g>\n<!-- __main__.TreeNode object at 0x10d4357c0 -->\n<g id=\"node7\" class=\"node\">\n<title>__main__.TreeNode object at 0x10d4357c0</title>\n<ellipse fill=\"none\" stroke=\"black\" cx=\"135\" cy=\"-90\" rx=\"27\" ry=\"18\"/>\n<text text-anchor=\"middle\" x=\"135\" y=\"-86.3\" font-family=\"Times,serif\" font-size=\"14.00\">2</text>\n</g>\n<!-- __main__.TreeNode object at 0x10d435100&#45;&gt;__main__.TreeNode object at 0x10d4357c0 -->\n<g id=\"edge6\" class=\"edge\">\n<title>__main__.TreeNode object at 0x10d435100&#45;&gt;__main__.TreeNode object at 0x10d4357c0</title>\n<path fill=\"none\" stroke=\"black\" d=\"M107.35,-144.76C113.17,-133.46 120.89,-118.44 126.7,-107.15\"/>\n</g>\n<!-- __main__.TreeNode object at 0x10d435190 -->\n<g id=\"node5\" class=\"node\">\n<title>__main__.TreeNode object at 0x10d435190</title>\n<ellipse fill=\"none\" stroke=\"black\" cx=\"27\" cy=\"-18\" rx=\"27\" ry=\"18\"/>\n<text text-anchor=\"middle\" x=\"27\" y=\"-14.3\" font-family=\"Times,serif\" font-size=\"14.00\">0</text>\n</g>\n<!-- __main__.TreeNode object at 0x10d4352e0&#45;&gt;__main__.TreeNode object at 0x10d435190 -->\n<g id=\"edge4\" class=\"edge\">\n<title>__main__.TreeNode object at 0x10d4352e0&#45;&gt;__main__.TreeNode object at 0x10d435190</title>\n<path fill=\"none\" stroke=\"black\" d=\"M54.65,-72.76C48.83,-61.46 41.11,-46.44 35.3,-35.15\"/>\n</g>\n<!-- __main__.TreeNode object at 0x10d435130 -->\n<g id=\"node6\" class=\"node\">\n<title>__main__.TreeNode object at 0x10d435130</title>\n<ellipse fill=\"none\" stroke=\"black\" cx=\"99\" cy=\"-18\" rx=\"27\" ry=\"18\"/>\n<text text-anchor=\"middle\" x=\"99\" y=\"-14.3\" font-family=\"Times,serif\" font-size=\"14.00\">9</text>\n</g>\n<!-- __main__.TreeNode object at 0x10d4352e0&#45;&gt;__main__.TreeNode object at 0x10d435130 -->\n<g id=\"edge5\" class=\"edge\">\n<title>__main__.TreeNode object at 0x10d4352e0&#45;&gt;__main__.TreeNode object at 0x10d435130</title>\n<path fill=\"none\" stroke=\"black\" d=\"M71.35,-72.76C77.17,-61.46 84.89,-46.44 90.7,-35.15\"/>\n</g>\n</g>\n</svg>\n",
      "text/plain": [
       "<graphviz.dot.Digraph at 0x10d43f610>"
      ]
     },
     "metadata": {},
     "output_type": "display_data"
    }
   ],
   "source": [
    "def findRight(tree, child):\n",
    "    if tree == None:\n",
    "        return None\n",
    "    if tree.right != child:\n",
    "        return tree.right\n",
    "    return findRight(tree.parent, tree)\n",
    "\n",
    "def findLeft(tree, child):\n",
    "    if tree == None:\n",
    "        return None\n",
    "    if tree.left != child:\n",
    "        return tree.left\n",
    "    return findLeft(tree.parent, tree)\n",
    "    \n",
    "def addRight(tree, value):\n",
    "    if tree.value == None:\n",
    "        addRight(tree.left, value)\n",
    "    else:\n",
    "        tree.value += value\n",
    "    return\n",
    "\n",
    "def addLeft(tree, value):\n",
    "    if tree.value == None:\n",
    "        addLeft(tree.right, value)\n",
    "    else:\n",
    "        tree.value += value\n",
    "    return\n",
    "\n",
    "def explode(tree, level = 0):\n",
    "    if tree == None:\n",
    "        return False\n",
    "    if level == 4 and tree.value == None:\n",
    "        tree.value = 0\n",
    "        rightValue = tree.right.value\n",
    "        leftValue = tree.left.value\n",
    "        \n",
    "        tree.left = None\n",
    "        tree.right = None\n",
    "        right = findRight(tree.parent, tree)\n",
    "        if right != None:\n",
    "            addRight(right, rightValue)\n",
    "            \n",
    "        left = findLeft(tree.parent, tree)\n",
    "        if left != None:\n",
    "            addLeft(left, leftValue)\n",
    "        return True\n",
    "    if explode(tree.left, level + 1):\n",
    "        return True\n",
    "    if explode(tree.right, level + 1):\n",
    "        return True\n",
    "    return False\n",
    "\n",
    "root = parse(\"[[[[[9,8],1],2],3],4]\")\n",
    "printTree(root)\n",
    "displayTree(root)\n",
    "\n",
    "print(explode(root))\n",
    "\n",
    "printTree(root)\n",
    "displayTree(root)"
   ]
  },
  {
   "cell_type": "code",
   "execution_count": 12,
   "id": "bfe7bbf3",
   "metadata": {},
   "outputs": [
    {
     "name": "stdout",
     "output_type": "stream",
     "text": [
      "[7,[6,[5,[4,[3,2]]]]]\n"
     ]
    },
    {
     "data": {
      "image/svg+xml": "<?xml version=\"1.0\" encoding=\"UTF-8\" standalone=\"no\"?>\n<!DOCTYPE svg PUBLIC \"-//W3C//DTD SVG 1.1//EN\"\n \"http://www.w3.org/Graphics/SVG/1.1/DTD/svg11.dtd\">\n<!-- Generated by graphviz version 2.50.0 (20211204.2007)\n -->\n<!-- Pages: 1 -->\n<svg width=\"278pt\" height=\"404pt\"\n viewBox=\"0.00 0.00 278.00 404.00\" xmlns=\"http://www.w3.org/2000/svg\" xmlns:xlink=\"http://www.w3.org/1999/xlink\">\n<g id=\"graph0\" class=\"graph\" transform=\"scale(1 1) rotate(0) translate(4 400)\">\n<polygon fill=\"white\" stroke=\"transparent\" points=\"-4,4 -4,-400 274,-400 274,4 -4,4\"/>\n<!-- __main__.TreeNode object at 0x10d434250 -->\n<g id=\"node1\" class=\"node\">\n<title>__main__.TreeNode object at 0x10d434250</title>\n<ellipse fill=\"none\" stroke=\"black\" cx=\"63\" cy=\"-378\" rx=\"27\" ry=\"18\"/>\n</g>\n<!-- __main__.TreeNode object at 0x10d4341f0 -->\n<g id=\"node2\" class=\"node\">\n<title>__main__.TreeNode object at 0x10d4341f0</title>\n<ellipse fill=\"none\" stroke=\"black\" cx=\"27\" cy=\"-306\" rx=\"27\" ry=\"18\"/>\n<text text-anchor=\"middle\" x=\"27\" y=\"-302.3\" font-family=\"Times,serif\" font-size=\"14.00\">7</text>\n</g>\n<!-- __main__.TreeNode object at 0x10d434250&#45;&gt;__main__.TreeNode object at 0x10d4341f0 -->\n<g id=\"edge1\" class=\"edge\">\n<title>__main__.TreeNode object at 0x10d434250&#45;&gt;__main__.TreeNode object at 0x10d4341f0</title>\n<path fill=\"none\" stroke=\"black\" d=\"M54.65,-360.76C48.83,-349.46 41.11,-334.44 35.3,-323.15\"/>\n</g>\n<!-- __main__.TreeNode object at 0x10d434850 -->\n<g id=\"node3\" class=\"node\">\n<title>__main__.TreeNode object at 0x10d434850</title>\n<ellipse fill=\"none\" stroke=\"black\" cx=\"99\" cy=\"-306\" rx=\"27\" ry=\"18\"/>\n</g>\n<!-- __main__.TreeNode object at 0x10d434250&#45;&gt;__main__.TreeNode object at 0x10d434850 -->\n<g id=\"edge2\" class=\"edge\">\n<title>__main__.TreeNode object at 0x10d434250&#45;&gt;__main__.TreeNode object at 0x10d434850</title>\n<path fill=\"none\" stroke=\"black\" d=\"M71.35,-360.76C77.17,-349.46 84.89,-334.44 90.7,-323.15\"/>\n</g>\n<!-- __main__.TreeNode object at 0x10d4345b0 -->\n<g id=\"node4\" class=\"node\">\n<title>__main__.TreeNode object at 0x10d4345b0</title>\n<ellipse fill=\"none\" stroke=\"black\" cx=\"63\" cy=\"-234\" rx=\"27\" ry=\"18\"/>\n<text text-anchor=\"middle\" x=\"63\" y=\"-230.3\" font-family=\"Times,serif\" font-size=\"14.00\">6</text>\n</g>\n<!-- __main__.TreeNode object at 0x10d434850&#45;&gt;__main__.TreeNode object at 0x10d4345b0 -->\n<g id=\"edge3\" class=\"edge\">\n<title>__main__.TreeNode object at 0x10d434850&#45;&gt;__main__.TreeNode object at 0x10d4345b0</title>\n<path fill=\"none\" stroke=\"black\" d=\"M90.65,-288.76C84.83,-277.46 77.11,-262.44 71.3,-251.15\"/>\n</g>\n<!-- __main__.TreeNode object at 0x10d434be0 -->\n<g id=\"node5\" class=\"node\">\n<title>__main__.TreeNode object at 0x10d434be0</title>\n<ellipse fill=\"none\" stroke=\"black\" cx=\"135\" cy=\"-234\" rx=\"27\" ry=\"18\"/>\n</g>\n<!-- __main__.TreeNode object at 0x10d434850&#45;&gt;__main__.TreeNode object at 0x10d434be0 -->\n<g id=\"edge4\" class=\"edge\">\n<title>__main__.TreeNode object at 0x10d434850&#45;&gt;__main__.TreeNode object at 0x10d434be0</title>\n<path fill=\"none\" stroke=\"black\" d=\"M107.35,-288.76C113.17,-277.46 120.89,-262.44 126.7,-251.15\"/>\n</g>\n<!-- __main__.TreeNode object at 0x10d434f70 -->\n<g id=\"node6\" class=\"node\">\n<title>__main__.TreeNode object at 0x10d434f70</title>\n<ellipse fill=\"none\" stroke=\"black\" cx=\"99\" cy=\"-162\" rx=\"27\" ry=\"18\"/>\n<text text-anchor=\"middle\" x=\"99\" y=\"-158.3\" font-family=\"Times,serif\" font-size=\"14.00\">5</text>\n</g>\n<!-- __main__.TreeNode object at 0x10d434be0&#45;&gt;__main__.TreeNode object at 0x10d434f70 -->\n<g id=\"edge5\" class=\"edge\">\n<title>__main__.TreeNode object at 0x10d434be0&#45;&gt;__main__.TreeNode object at 0x10d434f70</title>\n<path fill=\"none\" stroke=\"black\" d=\"M126.65,-216.76C120.83,-205.46 113.11,-190.44 107.3,-179.15\"/>\n</g>\n<!-- __main__.TreeNode object at 0x10d434d60 -->\n<g id=\"node7\" class=\"node\">\n<title>__main__.TreeNode object at 0x10d434d60</title>\n<ellipse fill=\"none\" stroke=\"black\" cx=\"171\" cy=\"-162\" rx=\"27\" ry=\"18\"/>\n</g>\n<!-- __main__.TreeNode object at 0x10d434be0&#45;&gt;__main__.TreeNode object at 0x10d434d60 -->\n<g id=\"edge6\" class=\"edge\">\n<title>__main__.TreeNode object at 0x10d434be0&#45;&gt;__main__.TreeNode object at 0x10d434d60</title>\n<path fill=\"none\" stroke=\"black\" d=\"M143.35,-216.76C149.17,-205.46 156.89,-190.44 162.7,-179.15\"/>\n</g>\n<!-- __main__.TreeNode object at 0x10d434700 -->\n<g id=\"node8\" class=\"node\">\n<title>__main__.TreeNode object at 0x10d434700</title>\n<ellipse fill=\"none\" stroke=\"black\" cx=\"135\" cy=\"-90\" rx=\"27\" ry=\"18\"/>\n<text text-anchor=\"middle\" x=\"135\" y=\"-86.3\" font-family=\"Times,serif\" font-size=\"14.00\">4</text>\n</g>\n<!-- __main__.TreeNode object at 0x10d434d60&#45;&gt;__main__.TreeNode object at 0x10d434700 -->\n<g id=\"edge7\" class=\"edge\">\n<title>__main__.TreeNode object at 0x10d434d60&#45;&gt;__main__.TreeNode object at 0x10d434700</title>\n<path fill=\"none\" stroke=\"black\" d=\"M162.65,-144.76C156.83,-133.46 149.11,-118.44 143.3,-107.15\"/>\n</g>\n<!-- __main__.TreeNode object at 0x10d434bb0 -->\n<g id=\"node9\" class=\"node\">\n<title>__main__.TreeNode object at 0x10d434bb0</title>\n<ellipse fill=\"none\" stroke=\"black\" cx=\"207\" cy=\"-90\" rx=\"27\" ry=\"18\"/>\n</g>\n<!-- __main__.TreeNode object at 0x10d434d60&#45;&gt;__main__.TreeNode object at 0x10d434bb0 -->\n<g id=\"edge8\" class=\"edge\">\n<title>__main__.TreeNode object at 0x10d434d60&#45;&gt;__main__.TreeNode object at 0x10d434bb0</title>\n<path fill=\"none\" stroke=\"black\" d=\"M179.35,-144.76C185.17,-133.46 192.89,-118.44 198.7,-107.15\"/>\n</g>\n<!-- __main__.TreeNode object at 0x10d434e50 -->\n<g id=\"node10\" class=\"node\">\n<title>__main__.TreeNode object at 0x10d434e50</title>\n<ellipse fill=\"none\" stroke=\"black\" cx=\"171\" cy=\"-18\" rx=\"27\" ry=\"18\"/>\n<text text-anchor=\"middle\" x=\"171\" y=\"-14.3\" font-family=\"Times,serif\" font-size=\"14.00\">3</text>\n</g>\n<!-- __main__.TreeNode object at 0x10d434bb0&#45;&gt;__main__.TreeNode object at 0x10d434e50 -->\n<g id=\"edge9\" class=\"edge\">\n<title>__main__.TreeNode object at 0x10d434bb0&#45;&gt;__main__.TreeNode object at 0x10d434e50</title>\n<path fill=\"none\" stroke=\"black\" d=\"M198.65,-72.76C192.83,-61.46 185.11,-46.44 179.3,-35.15\"/>\n</g>\n<!-- __main__.TreeNode object at 0x10d434490 -->\n<g id=\"node11\" class=\"node\">\n<title>__main__.TreeNode object at 0x10d434490</title>\n<ellipse fill=\"none\" stroke=\"black\" cx=\"243\" cy=\"-18\" rx=\"27\" ry=\"18\"/>\n<text text-anchor=\"middle\" x=\"243\" y=\"-14.3\" font-family=\"Times,serif\" font-size=\"14.00\">2</text>\n</g>\n<!-- __main__.TreeNode object at 0x10d434bb0&#45;&gt;__main__.TreeNode object at 0x10d434490 -->\n<g id=\"edge10\" class=\"edge\">\n<title>__main__.TreeNode object at 0x10d434bb0&#45;&gt;__main__.TreeNode object at 0x10d434490</title>\n<path fill=\"none\" stroke=\"black\" d=\"M215.35,-72.76C221.17,-61.46 228.89,-46.44 234.7,-35.15\"/>\n</g>\n</g>\n</svg>\n",
      "text/plain": [
       "<graphviz.dot.Digraph at 0x10d434ca0>"
      ]
     },
     "metadata": {},
     "output_type": "display_data"
    },
    {
     "name": "stdout",
     "output_type": "stream",
     "text": [
      "True\n",
      "[7,[6,[5,[7,0]]]]\n"
     ]
    },
    {
     "data": {
      "image/svg+xml": "<?xml version=\"1.0\" encoding=\"UTF-8\" standalone=\"no\"?>\n<!DOCTYPE svg PUBLIC \"-//W3C//DTD SVG 1.1//EN\"\n \"http://www.w3.org/Graphics/SVG/1.1/DTD/svg11.dtd\">\n<!-- Generated by graphviz version 2.50.0 (20211204.2007)\n -->\n<!-- Pages: 1 -->\n<svg width=\"242pt\" height=\"332pt\"\n viewBox=\"0.00 0.00 242.00 332.00\" xmlns=\"http://www.w3.org/2000/svg\" xmlns:xlink=\"http://www.w3.org/1999/xlink\">\n<g id=\"graph0\" class=\"graph\" transform=\"scale(1 1) rotate(0) translate(4 328)\">\n<polygon fill=\"white\" stroke=\"transparent\" points=\"-4,4 -4,-328 238,-328 238,4 -4,4\"/>\n<!-- __main__.TreeNode object at 0x10d434250 -->\n<g id=\"node1\" class=\"node\">\n<title>__main__.TreeNode object at 0x10d434250</title>\n<ellipse fill=\"none\" stroke=\"black\" cx=\"63\" cy=\"-306\" rx=\"27\" ry=\"18\"/>\n</g>\n<!-- __main__.TreeNode object at 0x10d4341f0 -->\n<g id=\"node2\" class=\"node\">\n<title>__main__.TreeNode object at 0x10d4341f0</title>\n<ellipse fill=\"none\" stroke=\"black\" cx=\"27\" cy=\"-234\" rx=\"27\" ry=\"18\"/>\n<text text-anchor=\"middle\" x=\"27\" y=\"-230.3\" font-family=\"Times,serif\" font-size=\"14.00\">7</text>\n</g>\n<!-- __main__.TreeNode object at 0x10d434250&#45;&gt;__main__.TreeNode object at 0x10d4341f0 -->\n<g id=\"edge1\" class=\"edge\">\n<title>__main__.TreeNode object at 0x10d434250&#45;&gt;__main__.TreeNode object at 0x10d4341f0</title>\n<path fill=\"none\" stroke=\"black\" d=\"M54.65,-288.76C48.83,-277.46 41.11,-262.44 35.3,-251.15\"/>\n</g>\n<!-- __main__.TreeNode object at 0x10d434850 -->\n<g id=\"node3\" class=\"node\">\n<title>__main__.TreeNode object at 0x10d434850</title>\n<ellipse fill=\"none\" stroke=\"black\" cx=\"99\" cy=\"-234\" rx=\"27\" ry=\"18\"/>\n</g>\n<!-- __main__.TreeNode object at 0x10d434250&#45;&gt;__main__.TreeNode object at 0x10d434850 -->\n<g id=\"edge2\" class=\"edge\">\n<title>__main__.TreeNode object at 0x10d434250&#45;&gt;__main__.TreeNode object at 0x10d434850</title>\n<path fill=\"none\" stroke=\"black\" d=\"M71.35,-288.76C77.17,-277.46 84.89,-262.44 90.7,-251.15\"/>\n</g>\n<!-- __main__.TreeNode object at 0x10d4345b0 -->\n<g id=\"node4\" class=\"node\">\n<title>__main__.TreeNode object at 0x10d4345b0</title>\n<ellipse fill=\"none\" stroke=\"black\" cx=\"63\" cy=\"-162\" rx=\"27\" ry=\"18\"/>\n<text text-anchor=\"middle\" x=\"63\" y=\"-158.3\" font-family=\"Times,serif\" font-size=\"14.00\">6</text>\n</g>\n<!-- __main__.TreeNode object at 0x10d434850&#45;&gt;__main__.TreeNode object at 0x10d4345b0 -->\n<g id=\"edge3\" class=\"edge\">\n<title>__main__.TreeNode object at 0x10d434850&#45;&gt;__main__.TreeNode object at 0x10d4345b0</title>\n<path fill=\"none\" stroke=\"black\" d=\"M90.65,-216.76C84.83,-205.46 77.11,-190.44 71.3,-179.15\"/>\n</g>\n<!-- __main__.TreeNode object at 0x10d434be0 -->\n<g id=\"node5\" class=\"node\">\n<title>__main__.TreeNode object at 0x10d434be0</title>\n<ellipse fill=\"none\" stroke=\"black\" cx=\"135\" cy=\"-162\" rx=\"27\" ry=\"18\"/>\n</g>\n<!-- __main__.TreeNode object at 0x10d434850&#45;&gt;__main__.TreeNode object at 0x10d434be0 -->\n<g id=\"edge4\" class=\"edge\">\n<title>__main__.TreeNode object at 0x10d434850&#45;&gt;__main__.TreeNode object at 0x10d434be0</title>\n<path fill=\"none\" stroke=\"black\" d=\"M107.35,-216.76C113.17,-205.46 120.89,-190.44 126.7,-179.15\"/>\n</g>\n<!-- __main__.TreeNode object at 0x10d434f70 -->\n<g id=\"node6\" class=\"node\">\n<title>__main__.TreeNode object at 0x10d434f70</title>\n<ellipse fill=\"none\" stroke=\"black\" cx=\"99\" cy=\"-90\" rx=\"27\" ry=\"18\"/>\n<text text-anchor=\"middle\" x=\"99\" y=\"-86.3\" font-family=\"Times,serif\" font-size=\"14.00\">5</text>\n</g>\n<!-- __main__.TreeNode object at 0x10d434be0&#45;&gt;__main__.TreeNode object at 0x10d434f70 -->\n<g id=\"edge5\" class=\"edge\">\n<title>__main__.TreeNode object at 0x10d434be0&#45;&gt;__main__.TreeNode object at 0x10d434f70</title>\n<path fill=\"none\" stroke=\"black\" d=\"M126.65,-144.76C120.83,-133.46 113.11,-118.44 107.3,-107.15\"/>\n</g>\n<!-- __main__.TreeNode object at 0x10d434d60 -->\n<g id=\"node7\" class=\"node\">\n<title>__main__.TreeNode object at 0x10d434d60</title>\n<ellipse fill=\"none\" stroke=\"black\" cx=\"171\" cy=\"-90\" rx=\"27\" ry=\"18\"/>\n</g>\n<!-- __main__.TreeNode object at 0x10d434be0&#45;&gt;__main__.TreeNode object at 0x10d434d60 -->\n<g id=\"edge6\" class=\"edge\">\n<title>__main__.TreeNode object at 0x10d434be0&#45;&gt;__main__.TreeNode object at 0x10d434d60</title>\n<path fill=\"none\" stroke=\"black\" d=\"M143.35,-144.76C149.17,-133.46 156.89,-118.44 162.7,-107.15\"/>\n</g>\n<!-- __main__.TreeNode object at 0x10d434700 -->\n<g id=\"node8\" class=\"node\">\n<title>__main__.TreeNode object at 0x10d434700</title>\n<ellipse fill=\"none\" stroke=\"black\" cx=\"135\" cy=\"-18\" rx=\"27\" ry=\"18\"/>\n<text text-anchor=\"middle\" x=\"135\" y=\"-14.3\" font-family=\"Times,serif\" font-size=\"14.00\">7</text>\n</g>\n<!-- __main__.TreeNode object at 0x10d434d60&#45;&gt;__main__.TreeNode object at 0x10d434700 -->\n<g id=\"edge7\" class=\"edge\">\n<title>__main__.TreeNode object at 0x10d434d60&#45;&gt;__main__.TreeNode object at 0x10d434700</title>\n<path fill=\"none\" stroke=\"black\" d=\"M162.65,-72.76C156.83,-61.46 149.11,-46.44 143.3,-35.15\"/>\n</g>\n<!-- __main__.TreeNode object at 0x10d434bb0 -->\n<g id=\"node9\" class=\"node\">\n<title>__main__.TreeNode object at 0x10d434bb0</title>\n<ellipse fill=\"none\" stroke=\"black\" cx=\"207\" cy=\"-18\" rx=\"27\" ry=\"18\"/>\n<text text-anchor=\"middle\" x=\"207\" y=\"-14.3\" font-family=\"Times,serif\" font-size=\"14.00\">0</text>\n</g>\n<!-- __main__.TreeNode object at 0x10d434d60&#45;&gt;__main__.TreeNode object at 0x10d434bb0 -->\n<g id=\"edge8\" class=\"edge\">\n<title>__main__.TreeNode object at 0x10d434d60&#45;&gt;__main__.TreeNode object at 0x10d434bb0</title>\n<path fill=\"none\" stroke=\"black\" d=\"M179.35,-72.76C185.17,-61.46 192.89,-46.44 198.7,-35.15\"/>\n</g>\n</g>\n</svg>\n",
      "text/plain": [
       "<graphviz.dot.Digraph at 0x10d4289d0>"
      ]
     },
     "metadata": {},
     "output_type": "display_data"
    }
   ],
   "source": [
    "root = parse(\"[7,[6,[5,[4,[3,2]]]]]\")\n",
    "printTree(root)\n",
    "displayTree(root)\n",
    "\n",
    "print(explode(root))\n",
    "\n",
    "printTree(root)\n",
    "displayTree(root)"
   ]
  },
  {
   "cell_type": "code",
   "execution_count": 13,
   "id": "c89f587a",
   "metadata": {},
   "outputs": [
    {
     "name": "stdout",
     "output_type": "stream",
     "text": [
      "[[6,[5,[4,[3,2]]]],1]\n"
     ]
    },
    {
     "data": {
      "image/svg+xml": "<?xml version=\"1.0\" encoding=\"UTF-8\" standalone=\"no\"?>\n<!DOCTYPE svg PUBLIC \"-//W3C//DTD SVG 1.1//EN\"\n \"http://www.w3.org/Graphics/SVG/1.1/DTD/svg11.dtd\">\n<!-- Generated by graphviz version 2.50.0 (20211204.2007)\n -->\n<!-- Pages: 1 -->\n<svg width=\"242pt\" height=\"404pt\"\n viewBox=\"0.00 0.00 242.00 404.00\" xmlns=\"http://www.w3.org/2000/svg\" xmlns:xlink=\"http://www.w3.org/1999/xlink\">\n<g id=\"graph0\" class=\"graph\" transform=\"scale(1 1) rotate(0) translate(4 400)\">\n<polygon fill=\"white\" stroke=\"transparent\" points=\"-4,4 -4,-400 238,-400 238,4 -4,4\"/>\n<!-- __main__.TreeNode object at 0x10d4355b0 -->\n<g id=\"node1\" class=\"node\">\n<title>__main__.TreeNode object at 0x10d4355b0</title>\n<ellipse fill=\"none\" stroke=\"black\" cx=\"99\" cy=\"-378\" rx=\"27\" ry=\"18\"/>\n</g>\n<!-- __main__.TreeNode object at 0x10d434a90 -->\n<g id=\"node2\" class=\"node\">\n<title>__main__.TreeNode object at 0x10d434a90</title>\n<ellipse fill=\"none\" stroke=\"black\" cx=\"63\" cy=\"-306\" rx=\"27\" ry=\"18\"/>\n</g>\n<!-- __main__.TreeNode object at 0x10d4355b0&#45;&gt;__main__.TreeNode object at 0x10d434a90 -->\n<g id=\"edge1\" class=\"edge\">\n<title>__main__.TreeNode object at 0x10d4355b0&#45;&gt;__main__.TreeNode object at 0x10d434a90</title>\n<path fill=\"none\" stroke=\"black\" d=\"M90.65,-360.76C84.83,-349.46 77.11,-334.44 71.3,-323.15\"/>\n</g>\n<!-- __main__.TreeNode object at 0x10d434cd0 -->\n<g id=\"node11\" class=\"node\">\n<title>__main__.TreeNode object at 0x10d434cd0</title>\n<ellipse fill=\"none\" stroke=\"black\" cx=\"135\" cy=\"-306\" rx=\"27\" ry=\"18\"/>\n<text text-anchor=\"middle\" x=\"135\" y=\"-302.3\" font-family=\"Times,serif\" font-size=\"14.00\">1</text>\n</g>\n<!-- __main__.TreeNode object at 0x10d4355b0&#45;&gt;__main__.TreeNode object at 0x10d434cd0 -->\n<g id=\"edge10\" class=\"edge\">\n<title>__main__.TreeNode object at 0x10d4355b0&#45;&gt;__main__.TreeNode object at 0x10d434cd0</title>\n<path fill=\"none\" stroke=\"black\" d=\"M107.35,-360.76C113.17,-349.46 120.89,-334.44 126.7,-323.15\"/>\n</g>\n<!-- __main__.TreeNode object at 0x10d434490 -->\n<g id=\"node3\" class=\"node\">\n<title>__main__.TreeNode object at 0x10d434490</title>\n<ellipse fill=\"none\" stroke=\"black\" cx=\"27\" cy=\"-234\" rx=\"27\" ry=\"18\"/>\n<text text-anchor=\"middle\" x=\"27\" y=\"-230.3\" font-family=\"Times,serif\" font-size=\"14.00\">6</text>\n</g>\n<!-- __main__.TreeNode object at 0x10d434a90&#45;&gt;__main__.TreeNode object at 0x10d434490 -->\n<g id=\"edge2\" class=\"edge\">\n<title>__main__.TreeNode object at 0x10d434a90&#45;&gt;__main__.TreeNode object at 0x10d434490</title>\n<path fill=\"none\" stroke=\"black\" d=\"M54.65,-288.76C48.83,-277.46 41.11,-262.44 35.3,-251.15\"/>\n</g>\n<!-- __main__.TreeNode object at 0x10d4346a0 -->\n<g id=\"node4\" class=\"node\">\n<title>__main__.TreeNode object at 0x10d4346a0</title>\n<ellipse fill=\"none\" stroke=\"black\" cx=\"99\" cy=\"-234\" rx=\"27\" ry=\"18\"/>\n</g>\n<!-- __main__.TreeNode object at 0x10d434a90&#45;&gt;__main__.TreeNode object at 0x10d4346a0 -->\n<g id=\"edge3\" class=\"edge\">\n<title>__main__.TreeNode object at 0x10d434a90&#45;&gt;__main__.TreeNode object at 0x10d4346a0</title>\n<path fill=\"none\" stroke=\"black\" d=\"M71.35,-288.76C77.17,-277.46 84.89,-262.44 90.7,-251.15\"/>\n</g>\n<!-- __main__.TreeNode object at 0x10d434f40 -->\n<g id=\"node5\" class=\"node\">\n<title>__main__.TreeNode object at 0x10d434f40</title>\n<ellipse fill=\"none\" stroke=\"black\" cx=\"63\" cy=\"-162\" rx=\"27\" ry=\"18\"/>\n<text text-anchor=\"middle\" x=\"63\" y=\"-158.3\" font-family=\"Times,serif\" font-size=\"14.00\">5</text>\n</g>\n<!-- __main__.TreeNode object at 0x10d4346a0&#45;&gt;__main__.TreeNode object at 0x10d434f40 -->\n<g id=\"edge4\" class=\"edge\">\n<title>__main__.TreeNode object at 0x10d4346a0&#45;&gt;__main__.TreeNode object at 0x10d434f40</title>\n<path fill=\"none\" stroke=\"black\" d=\"M90.65,-216.76C84.83,-205.46 77.11,-190.44 71.3,-179.15\"/>\n</g>\n<!-- __main__.TreeNode object at 0x10d434d90 -->\n<g id=\"node6\" class=\"node\">\n<title>__main__.TreeNode object at 0x10d434d90</title>\n<ellipse fill=\"none\" stroke=\"black\" cx=\"135\" cy=\"-162\" rx=\"27\" ry=\"18\"/>\n</g>\n<!-- __main__.TreeNode object at 0x10d4346a0&#45;&gt;__main__.TreeNode object at 0x10d434d90 -->\n<g id=\"edge5\" class=\"edge\">\n<title>__main__.TreeNode object at 0x10d4346a0&#45;&gt;__main__.TreeNode object at 0x10d434d90</title>\n<path fill=\"none\" stroke=\"black\" d=\"M107.35,-216.76C113.17,-205.46 120.89,-190.44 126.7,-179.15\"/>\n</g>\n<!-- __main__.TreeNode object at 0x10d434670 -->\n<g id=\"node7\" class=\"node\">\n<title>__main__.TreeNode object at 0x10d434670</title>\n<ellipse fill=\"none\" stroke=\"black\" cx=\"99\" cy=\"-90\" rx=\"27\" ry=\"18\"/>\n<text text-anchor=\"middle\" x=\"99\" y=\"-86.3\" font-family=\"Times,serif\" font-size=\"14.00\">4</text>\n</g>\n<!-- __main__.TreeNode object at 0x10d434d90&#45;&gt;__main__.TreeNode object at 0x10d434670 -->\n<g id=\"edge6\" class=\"edge\">\n<title>__main__.TreeNode object at 0x10d434d90&#45;&gt;__main__.TreeNode object at 0x10d434670</title>\n<path fill=\"none\" stroke=\"black\" d=\"M126.65,-144.76C120.83,-133.46 113.11,-118.44 107.3,-107.15\"/>\n</g>\n<!-- __main__.TreeNode object at 0x10d434a00 -->\n<g id=\"node8\" class=\"node\">\n<title>__main__.TreeNode object at 0x10d434a00</title>\n<ellipse fill=\"none\" stroke=\"black\" cx=\"171\" cy=\"-90\" rx=\"27\" ry=\"18\"/>\n</g>\n<!-- __main__.TreeNode object at 0x10d434d90&#45;&gt;__main__.TreeNode object at 0x10d434a00 -->\n<g id=\"edge7\" class=\"edge\">\n<title>__main__.TreeNode object at 0x10d434d90&#45;&gt;__main__.TreeNode object at 0x10d434a00</title>\n<path fill=\"none\" stroke=\"black\" d=\"M143.35,-144.76C149.17,-133.46 156.89,-118.44 162.7,-107.15\"/>\n</g>\n<!-- __main__.TreeNode object at 0x10d4344f0 -->\n<g id=\"node9\" class=\"node\">\n<title>__main__.TreeNode object at 0x10d4344f0</title>\n<ellipse fill=\"none\" stroke=\"black\" cx=\"135\" cy=\"-18\" rx=\"27\" ry=\"18\"/>\n<text text-anchor=\"middle\" x=\"135\" y=\"-14.3\" font-family=\"Times,serif\" font-size=\"14.00\">3</text>\n</g>\n<!-- __main__.TreeNode object at 0x10d434a00&#45;&gt;__main__.TreeNode object at 0x10d4344f0 -->\n<g id=\"edge8\" class=\"edge\">\n<title>__main__.TreeNode object at 0x10d434a00&#45;&gt;__main__.TreeNode object at 0x10d4344f0</title>\n<path fill=\"none\" stroke=\"black\" d=\"M162.65,-72.76C156.83,-61.46 149.11,-46.44 143.3,-35.15\"/>\n</g>\n<!-- __main__.TreeNode object at 0x10d434940 -->\n<g id=\"node10\" class=\"node\">\n<title>__main__.TreeNode object at 0x10d434940</title>\n<ellipse fill=\"none\" stroke=\"black\" cx=\"207\" cy=\"-18\" rx=\"27\" ry=\"18\"/>\n<text text-anchor=\"middle\" x=\"207\" y=\"-14.3\" font-family=\"Times,serif\" font-size=\"14.00\">2</text>\n</g>\n<!-- __main__.TreeNode object at 0x10d434a00&#45;&gt;__main__.TreeNode object at 0x10d434940 -->\n<g id=\"edge9\" class=\"edge\">\n<title>__main__.TreeNode object at 0x10d434a00&#45;&gt;__main__.TreeNode object at 0x10d434940</title>\n<path fill=\"none\" stroke=\"black\" d=\"M179.35,-72.76C185.17,-61.46 192.89,-46.44 198.7,-35.15\"/>\n</g>\n</g>\n</svg>\n",
      "text/plain": [
       "<graphviz.dot.Digraph at 0x10d4355e0>"
      ]
     },
     "metadata": {},
     "output_type": "display_data"
    },
    {
     "name": "stdout",
     "output_type": "stream",
     "text": [
      "True\n",
      "[[6,[5,[7,0]]],3]\n"
     ]
    },
    {
     "data": {
      "image/svg+xml": "<?xml version=\"1.0\" encoding=\"UTF-8\" standalone=\"no\"?>\n<!DOCTYPE svg PUBLIC \"-//W3C//DTD SVG 1.1//EN\"\n \"http://www.w3.org/Graphics/SVG/1.1/DTD/svg11.dtd\">\n<!-- Generated by graphviz version 2.50.0 (20211204.2007)\n -->\n<!-- Pages: 1 -->\n<svg width=\"206pt\" height=\"332pt\"\n viewBox=\"0.00 0.00 206.00 332.00\" xmlns=\"http://www.w3.org/2000/svg\" xmlns:xlink=\"http://www.w3.org/1999/xlink\">\n<g id=\"graph0\" class=\"graph\" transform=\"scale(1 1) rotate(0) translate(4 328)\">\n<polygon fill=\"white\" stroke=\"transparent\" points=\"-4,4 -4,-328 202,-328 202,4 -4,4\"/>\n<!-- __main__.TreeNode object at 0x10d4355b0 -->\n<g id=\"node1\" class=\"node\">\n<title>__main__.TreeNode object at 0x10d4355b0</title>\n<ellipse fill=\"none\" stroke=\"black\" cx=\"99\" cy=\"-306\" rx=\"27\" ry=\"18\"/>\n</g>\n<!-- __main__.TreeNode object at 0x10d434a90 -->\n<g id=\"node2\" class=\"node\">\n<title>__main__.TreeNode object at 0x10d434a90</title>\n<ellipse fill=\"none\" stroke=\"black\" cx=\"63\" cy=\"-234\" rx=\"27\" ry=\"18\"/>\n</g>\n<!-- __main__.TreeNode object at 0x10d4355b0&#45;&gt;__main__.TreeNode object at 0x10d434a90 -->\n<g id=\"edge1\" class=\"edge\">\n<title>__main__.TreeNode object at 0x10d4355b0&#45;&gt;__main__.TreeNode object at 0x10d434a90</title>\n<path fill=\"none\" stroke=\"black\" d=\"M90.65,-288.76C84.83,-277.46 77.11,-262.44 71.3,-251.15\"/>\n</g>\n<!-- __main__.TreeNode object at 0x10d434cd0 -->\n<g id=\"node9\" class=\"node\">\n<title>__main__.TreeNode object at 0x10d434cd0</title>\n<ellipse fill=\"none\" stroke=\"black\" cx=\"135\" cy=\"-234\" rx=\"27\" ry=\"18\"/>\n<text text-anchor=\"middle\" x=\"135\" y=\"-230.3\" font-family=\"Times,serif\" font-size=\"14.00\">3</text>\n</g>\n<!-- __main__.TreeNode object at 0x10d4355b0&#45;&gt;__main__.TreeNode object at 0x10d434cd0 -->\n<g id=\"edge8\" class=\"edge\">\n<title>__main__.TreeNode object at 0x10d4355b0&#45;&gt;__main__.TreeNode object at 0x10d434cd0</title>\n<path fill=\"none\" stroke=\"black\" d=\"M107.35,-288.76C113.17,-277.46 120.89,-262.44 126.7,-251.15\"/>\n</g>\n<!-- __main__.TreeNode object at 0x10d434490 -->\n<g id=\"node3\" class=\"node\">\n<title>__main__.TreeNode object at 0x10d434490</title>\n<ellipse fill=\"none\" stroke=\"black\" cx=\"27\" cy=\"-162\" rx=\"27\" ry=\"18\"/>\n<text text-anchor=\"middle\" x=\"27\" y=\"-158.3\" font-family=\"Times,serif\" font-size=\"14.00\">6</text>\n</g>\n<!-- __main__.TreeNode object at 0x10d434a90&#45;&gt;__main__.TreeNode object at 0x10d434490 -->\n<g id=\"edge2\" class=\"edge\">\n<title>__main__.TreeNode object at 0x10d434a90&#45;&gt;__main__.TreeNode object at 0x10d434490</title>\n<path fill=\"none\" stroke=\"black\" d=\"M54.65,-216.76C48.83,-205.46 41.11,-190.44 35.3,-179.15\"/>\n</g>\n<!-- __main__.TreeNode object at 0x10d4346a0 -->\n<g id=\"node4\" class=\"node\">\n<title>__main__.TreeNode object at 0x10d4346a0</title>\n<ellipse fill=\"none\" stroke=\"black\" cx=\"99\" cy=\"-162\" rx=\"27\" ry=\"18\"/>\n</g>\n<!-- __main__.TreeNode object at 0x10d434a90&#45;&gt;__main__.TreeNode object at 0x10d4346a0 -->\n<g id=\"edge3\" class=\"edge\">\n<title>__main__.TreeNode object at 0x10d434a90&#45;&gt;__main__.TreeNode object at 0x10d4346a0</title>\n<path fill=\"none\" stroke=\"black\" d=\"M71.35,-216.76C77.17,-205.46 84.89,-190.44 90.7,-179.15\"/>\n</g>\n<!-- __main__.TreeNode object at 0x10d434f40 -->\n<g id=\"node5\" class=\"node\">\n<title>__main__.TreeNode object at 0x10d434f40</title>\n<ellipse fill=\"none\" stroke=\"black\" cx=\"63\" cy=\"-90\" rx=\"27\" ry=\"18\"/>\n<text text-anchor=\"middle\" x=\"63\" y=\"-86.3\" font-family=\"Times,serif\" font-size=\"14.00\">5</text>\n</g>\n<!-- __main__.TreeNode object at 0x10d4346a0&#45;&gt;__main__.TreeNode object at 0x10d434f40 -->\n<g id=\"edge4\" class=\"edge\">\n<title>__main__.TreeNode object at 0x10d4346a0&#45;&gt;__main__.TreeNode object at 0x10d434f40</title>\n<path fill=\"none\" stroke=\"black\" d=\"M90.65,-144.76C84.83,-133.46 77.11,-118.44 71.3,-107.15\"/>\n</g>\n<!-- __main__.TreeNode object at 0x10d434d90 -->\n<g id=\"node6\" class=\"node\">\n<title>__main__.TreeNode object at 0x10d434d90</title>\n<ellipse fill=\"none\" stroke=\"black\" cx=\"135\" cy=\"-90\" rx=\"27\" ry=\"18\"/>\n</g>\n<!-- __main__.TreeNode object at 0x10d4346a0&#45;&gt;__main__.TreeNode object at 0x10d434d90 -->\n<g id=\"edge5\" class=\"edge\">\n<title>__main__.TreeNode object at 0x10d4346a0&#45;&gt;__main__.TreeNode object at 0x10d434d90</title>\n<path fill=\"none\" stroke=\"black\" d=\"M107.35,-144.76C113.17,-133.46 120.89,-118.44 126.7,-107.15\"/>\n</g>\n<!-- __main__.TreeNode object at 0x10d434670 -->\n<g id=\"node7\" class=\"node\">\n<title>__main__.TreeNode object at 0x10d434670</title>\n<ellipse fill=\"none\" stroke=\"black\" cx=\"99\" cy=\"-18\" rx=\"27\" ry=\"18\"/>\n<text text-anchor=\"middle\" x=\"99\" y=\"-14.3\" font-family=\"Times,serif\" font-size=\"14.00\">7</text>\n</g>\n<!-- __main__.TreeNode object at 0x10d434d90&#45;&gt;__main__.TreeNode object at 0x10d434670 -->\n<g id=\"edge6\" class=\"edge\">\n<title>__main__.TreeNode object at 0x10d434d90&#45;&gt;__main__.TreeNode object at 0x10d434670</title>\n<path fill=\"none\" stroke=\"black\" d=\"M126.65,-72.76C120.83,-61.46 113.11,-46.44 107.3,-35.15\"/>\n</g>\n<!-- __main__.TreeNode object at 0x10d434a00 -->\n<g id=\"node8\" class=\"node\">\n<title>__main__.TreeNode object at 0x10d434a00</title>\n<ellipse fill=\"none\" stroke=\"black\" cx=\"171\" cy=\"-18\" rx=\"27\" ry=\"18\"/>\n<text text-anchor=\"middle\" x=\"171\" y=\"-14.3\" font-family=\"Times,serif\" font-size=\"14.00\">0</text>\n</g>\n<!-- __main__.TreeNode object at 0x10d434d90&#45;&gt;__main__.TreeNode object at 0x10d434a00 -->\n<g id=\"edge7\" class=\"edge\">\n<title>__main__.TreeNode object at 0x10d434d90&#45;&gt;__main__.TreeNode object at 0x10d434a00</title>\n<path fill=\"none\" stroke=\"black\" d=\"M143.35,-72.76C149.17,-61.46 156.89,-46.44 162.7,-35.15\"/>\n</g>\n</g>\n</svg>\n",
      "text/plain": [
       "<graphviz.dot.Digraph at 0x10d435160>"
      ]
     },
     "metadata": {},
     "output_type": "display_data"
    }
   ],
   "source": [
    "root = parse(\"[[6,[5,[4,[3,2]]]],1]\")\n",
    "printTree(root)\n",
    "displayTree(root)\n",
    "\n",
    "print(explode(root))\n",
    "\n",
    "printTree(root)\n",
    "displayTree(root)"
   ]
  },
  {
   "cell_type": "code",
   "execution_count": 14,
   "id": "59b9ce99",
   "metadata": {},
   "outputs": [
    {
     "name": "stdout",
     "output_type": "stream",
     "text": [
      "[[3,[2,[1,[7,3]]]],[6,[5,[4,[3,2]]]]]\n"
     ]
    },
    {
     "data": {
      "image/svg+xml": "<?xml version=\"1.0\" encoding=\"UTF-8\" standalone=\"no\"?>\n<!DOCTYPE svg PUBLIC \"-//W3C//DTD SVG 1.1//EN\"\n \"http://www.w3.org/Graphics/SVG/1.1/DTD/svg11.dtd\">\n<!-- Generated by graphviz version 2.50.0 (20211204.2007)\n -->\n<!-- Pages: 1 -->\n<svg width=\"368pt\" height=\"404pt\"\n viewBox=\"0.00 0.00 368.00 404.00\" xmlns=\"http://www.w3.org/2000/svg\" xmlns:xlink=\"http://www.w3.org/1999/xlink\">\n<g id=\"graph0\" class=\"graph\" transform=\"scale(1 1) rotate(0) translate(4 400)\">\n<polygon fill=\"white\" stroke=\"transparent\" points=\"-4,4 -4,-400 364,-400 364,4 -4,4\"/>\n<!-- __main__.TreeNode object at 0x10d43f6a0 -->\n<g id=\"node1\" class=\"node\">\n<title>__main__.TreeNode object at 0x10d43f6a0</title>\n<ellipse fill=\"none\" stroke=\"black\" cx=\"135\" cy=\"-378\" rx=\"27\" ry=\"18\"/>\n</g>\n<!-- __main__.TreeNode object at 0x10d43f3d0 -->\n<g id=\"node2\" class=\"node\">\n<title>__main__.TreeNode object at 0x10d43f3d0</title>\n<ellipse fill=\"none\" stroke=\"black\" cx=\"99\" cy=\"-306\" rx=\"27\" ry=\"18\"/>\n</g>\n<!-- __main__.TreeNode object at 0x10d43f6a0&#45;&gt;__main__.TreeNode object at 0x10d43f3d0 -->\n<g id=\"edge1\" class=\"edge\">\n<title>__main__.TreeNode object at 0x10d43f6a0&#45;&gt;__main__.TreeNode object at 0x10d43f3d0</title>\n<path fill=\"none\" stroke=\"black\" d=\"M126.65,-360.76C120.83,-349.46 113.11,-334.44 107.3,-323.15\"/>\n</g>\n<!-- __main__.TreeNode object at 0x10d43f580 -->\n<g id=\"node11\" class=\"node\">\n<title>__main__.TreeNode object at 0x10d43f580</title>\n<ellipse fill=\"none\" stroke=\"black\" cx=\"171\" cy=\"-306\" rx=\"27\" ry=\"18\"/>\n</g>\n<!-- __main__.TreeNode object at 0x10d43f6a0&#45;&gt;__main__.TreeNode object at 0x10d43f580 -->\n<g id=\"edge10\" class=\"edge\">\n<title>__main__.TreeNode object at 0x10d43f6a0&#45;&gt;__main__.TreeNode object at 0x10d43f580</title>\n<path fill=\"none\" stroke=\"black\" d=\"M143.35,-360.76C149.17,-349.46 156.89,-334.44 162.7,-323.15\"/>\n</g>\n<!-- __main__.TreeNode object at 0x10d434940 -->\n<g id=\"node3\" class=\"node\">\n<title>__main__.TreeNode object at 0x10d434940</title>\n<ellipse fill=\"none\" stroke=\"black\" cx=\"27\" cy=\"-234\" rx=\"27\" ry=\"18\"/>\n<text text-anchor=\"middle\" x=\"27\" y=\"-230.3\" font-family=\"Times,serif\" font-size=\"14.00\">3</text>\n</g>\n<!-- __main__.TreeNode object at 0x10d43f3d0&#45;&gt;__main__.TreeNode object at 0x10d434940 -->\n<g id=\"edge2\" class=\"edge\">\n<title>__main__.TreeNode object at 0x10d43f3d0&#45;&gt;__main__.TreeNode object at 0x10d434940</title>\n<path fill=\"none\" stroke=\"black\" d=\"M84.43,-290.83C72.02,-278.77 54.27,-261.51 41.8,-249.38\"/>\n</g>\n<!-- __main__.TreeNode object at 0x10d43f3a0 -->\n<g id=\"node4\" class=\"node\">\n<title>__main__.TreeNode object at 0x10d43f3a0</title>\n<ellipse fill=\"none\" stroke=\"black\" cx=\"99\" cy=\"-234\" rx=\"27\" ry=\"18\"/>\n</g>\n<!-- __main__.TreeNode object at 0x10d43f3d0&#45;&gt;__main__.TreeNode object at 0x10d43f3a0 -->\n<g id=\"edge3\" class=\"edge\">\n<title>__main__.TreeNode object at 0x10d43f3d0&#45;&gt;__main__.TreeNode object at 0x10d43f3a0</title>\n<path fill=\"none\" stroke=\"black\" d=\"M99,-287.7C99,-276.85 99,-262.92 99,-252.1\"/>\n</g>\n<!-- __main__.TreeNode object at 0x10d4349d0 -->\n<g id=\"node5\" class=\"node\">\n<title>__main__.TreeNode object at 0x10d4349d0</title>\n<ellipse fill=\"none\" stroke=\"black\" cx=\"27\" cy=\"-162\" rx=\"27\" ry=\"18\"/>\n<text text-anchor=\"middle\" x=\"27\" y=\"-158.3\" font-family=\"Times,serif\" font-size=\"14.00\">2</text>\n</g>\n<!-- __main__.TreeNode object at 0x10d43f3a0&#45;&gt;__main__.TreeNode object at 0x10d4349d0 -->\n<g id=\"edge4\" class=\"edge\">\n<title>__main__.TreeNode object at 0x10d43f3a0&#45;&gt;__main__.TreeNode object at 0x10d4349d0</title>\n<path fill=\"none\" stroke=\"black\" d=\"M84.43,-218.83C72.02,-206.77 54.27,-189.51 41.8,-177.38\"/>\n</g>\n<!-- __main__.TreeNode object at 0x10d43f490 -->\n<g id=\"node6\" class=\"node\">\n<title>__main__.TreeNode object at 0x10d43f490</title>\n<ellipse fill=\"none\" stroke=\"black\" cx=\"99\" cy=\"-162\" rx=\"27\" ry=\"18\"/>\n</g>\n<!-- __main__.TreeNode object at 0x10d43f3a0&#45;&gt;__main__.TreeNode object at 0x10d43f490 -->\n<g id=\"edge5\" class=\"edge\">\n<title>__main__.TreeNode object at 0x10d43f3a0&#45;&gt;__main__.TreeNode object at 0x10d43f490</title>\n<path fill=\"none\" stroke=\"black\" d=\"M99,-215.7C99,-204.85 99,-190.92 99,-180.1\"/>\n</g>\n<!-- __main__.TreeNode object at 0x10d434b50 -->\n<g id=\"node7\" class=\"node\">\n<title>__main__.TreeNode object at 0x10d434b50</title>\n<ellipse fill=\"none\" stroke=\"black\" cx=\"63\" cy=\"-90\" rx=\"27\" ry=\"18\"/>\n<text text-anchor=\"middle\" x=\"63\" y=\"-86.3\" font-family=\"Times,serif\" font-size=\"14.00\">1</text>\n</g>\n<!-- __main__.TreeNode object at 0x10d43f490&#45;&gt;__main__.TreeNode object at 0x10d434b50 -->\n<g id=\"edge6\" class=\"edge\">\n<title>__main__.TreeNode object at 0x10d43f490&#45;&gt;__main__.TreeNode object at 0x10d434b50</title>\n<path fill=\"none\" stroke=\"black\" d=\"M90.65,-144.76C84.83,-133.46 77.11,-118.44 71.3,-107.15\"/>\n</g>\n<!-- __main__.TreeNode object at 0x10d43f400 -->\n<g id=\"node8\" class=\"node\">\n<title>__main__.TreeNode object at 0x10d43f400</title>\n<ellipse fill=\"none\" stroke=\"black\" cx=\"135\" cy=\"-90\" rx=\"27\" ry=\"18\"/>\n</g>\n<!-- __main__.TreeNode object at 0x10d43f490&#45;&gt;__main__.TreeNode object at 0x10d43f400 -->\n<g id=\"edge7\" class=\"edge\">\n<title>__main__.TreeNode object at 0x10d43f490&#45;&gt;__main__.TreeNode object at 0x10d43f400</title>\n<path fill=\"none\" stroke=\"black\" d=\"M107.35,-144.76C113.17,-133.46 120.89,-118.44 126.7,-107.15\"/>\n</g>\n<!-- __main__.TreeNode object at 0x10d43f5e0 -->\n<g id=\"node9\" class=\"node\">\n<title>__main__.TreeNode object at 0x10d43f5e0</title>\n<ellipse fill=\"none\" stroke=\"black\" cx=\"99\" cy=\"-18\" rx=\"27\" ry=\"18\"/>\n<text text-anchor=\"middle\" x=\"99\" y=\"-14.3\" font-family=\"Times,serif\" font-size=\"14.00\">7</text>\n</g>\n<!-- __main__.TreeNode object at 0x10d43f400&#45;&gt;__main__.TreeNode object at 0x10d43f5e0 -->\n<g id=\"edge8\" class=\"edge\">\n<title>__main__.TreeNode object at 0x10d43f400&#45;&gt;__main__.TreeNode object at 0x10d43f5e0</title>\n<path fill=\"none\" stroke=\"black\" d=\"M126.65,-72.76C120.83,-61.46 113.11,-46.44 107.3,-35.15\"/>\n</g>\n<!-- __main__.TreeNode object at 0x10d43f4f0 -->\n<g id=\"node10\" class=\"node\">\n<title>__main__.TreeNode object at 0x10d43f4f0</title>\n<ellipse fill=\"none\" stroke=\"black\" cx=\"171\" cy=\"-18\" rx=\"27\" ry=\"18\"/>\n<text text-anchor=\"middle\" x=\"171\" y=\"-14.3\" font-family=\"Times,serif\" font-size=\"14.00\">3</text>\n</g>\n<!-- __main__.TreeNode object at 0x10d43f400&#45;&gt;__main__.TreeNode object at 0x10d43f4f0 -->\n<g id=\"edge9\" class=\"edge\">\n<title>__main__.TreeNode object at 0x10d43f400&#45;&gt;__main__.TreeNode object at 0x10d43f4f0</title>\n<path fill=\"none\" stroke=\"black\" d=\"M143.35,-72.76C149.17,-61.46 156.89,-46.44 162.7,-35.15\"/>\n</g>\n<!-- __main__.TreeNode object at 0x10d43f730 -->\n<g id=\"node12\" class=\"node\">\n<title>__main__.TreeNode object at 0x10d43f730</title>\n<ellipse fill=\"none\" stroke=\"black\" cx=\"171\" cy=\"-234\" rx=\"27\" ry=\"18\"/>\n<text text-anchor=\"middle\" x=\"171\" y=\"-230.3\" font-family=\"Times,serif\" font-size=\"14.00\">6</text>\n</g>\n<!-- __main__.TreeNode object at 0x10d43f580&#45;&gt;__main__.TreeNode object at 0x10d43f730 -->\n<g id=\"edge11\" class=\"edge\">\n<title>__main__.TreeNode object at 0x10d43f580&#45;&gt;__main__.TreeNode object at 0x10d43f730</title>\n<path fill=\"none\" stroke=\"black\" d=\"M171,-287.7C171,-276.85 171,-262.92 171,-252.1\"/>\n</g>\n<!-- __main__.TreeNode object at 0x10d43f460 -->\n<g id=\"node13\" class=\"node\">\n<title>__main__.TreeNode object at 0x10d43f460</title>\n<ellipse fill=\"none\" stroke=\"black\" cx=\"243\" cy=\"-234\" rx=\"27\" ry=\"18\"/>\n</g>\n<!-- __main__.TreeNode object at 0x10d43f580&#45;&gt;__main__.TreeNode object at 0x10d43f460 -->\n<g id=\"edge12\" class=\"edge\">\n<title>__main__.TreeNode object at 0x10d43f580&#45;&gt;__main__.TreeNode object at 0x10d43f460</title>\n<path fill=\"none\" stroke=\"black\" d=\"M185.57,-290.83C197.98,-278.77 215.73,-261.51 228.2,-249.38\"/>\n</g>\n<!-- __main__.TreeNode object at 0x10d43ffa0 -->\n<g id=\"node14\" class=\"node\">\n<title>__main__.TreeNode object at 0x10d43ffa0</title>\n<ellipse fill=\"none\" stroke=\"black\" cx=\"189\" cy=\"-162\" rx=\"27\" ry=\"18\"/>\n<text text-anchor=\"middle\" x=\"189\" y=\"-158.3\" font-family=\"Times,serif\" font-size=\"14.00\">5</text>\n</g>\n<!-- __main__.TreeNode object at 0x10d43f460&#45;&gt;__main__.TreeNode object at 0x10d43ffa0 -->\n<g id=\"edge13\" class=\"edge\">\n<title>__main__.TreeNode object at 0x10d43f460&#45;&gt;__main__.TreeNode object at 0x10d43ffa0</title>\n<path fill=\"none\" stroke=\"black\" d=\"M231.02,-217.46C222.07,-205.86 209.89,-190.08 200.95,-178.49\"/>\n</g>\n<!-- __main__.TreeNode object at 0x10d43ffd0 -->\n<g id=\"node15\" class=\"node\">\n<title>__main__.TreeNode object at 0x10d43ffd0</title>\n<ellipse fill=\"none\" stroke=\"black\" cx=\"261\" cy=\"-162\" rx=\"27\" ry=\"18\"/>\n</g>\n<!-- __main__.TreeNode object at 0x10d43f460&#45;&gt;__main__.TreeNode object at 0x10d43ffd0 -->\n<g id=\"edge14\" class=\"edge\">\n<title>__main__.TreeNode object at 0x10d43f460&#45;&gt;__main__.TreeNode object at 0x10d43ffd0</title>\n<path fill=\"none\" stroke=\"black\" d=\"M247.36,-216.05C250.19,-205.05 253.86,-190.76 256.68,-179.79\"/>\n</g>\n<!-- __main__.TreeNode object at 0x10d43ff40 -->\n<g id=\"node16\" class=\"node\">\n<title>__main__.TreeNode object at 0x10d43ff40</title>\n<ellipse fill=\"none\" stroke=\"black\" cx=\"207\" cy=\"-90\" rx=\"27\" ry=\"18\"/>\n<text text-anchor=\"middle\" x=\"207\" y=\"-86.3\" font-family=\"Times,serif\" font-size=\"14.00\">4</text>\n</g>\n<!-- __main__.TreeNode object at 0x10d43ffd0&#45;&gt;__main__.TreeNode object at 0x10d43ff40 -->\n<g id=\"edge15\" class=\"edge\">\n<title>__main__.TreeNode object at 0x10d43ffd0&#45;&gt;__main__.TreeNode object at 0x10d43ff40</title>\n<path fill=\"none\" stroke=\"black\" d=\"M249.02,-145.46C240.07,-133.86 227.89,-118.08 218.95,-106.49\"/>\n</g>\n<!-- __main__.TreeNode object at 0x10d43fe80 -->\n<g id=\"node17\" class=\"node\">\n<title>__main__.TreeNode object at 0x10d43fe80</title>\n<ellipse fill=\"none\" stroke=\"black\" cx=\"279\" cy=\"-90\" rx=\"27\" ry=\"18\"/>\n</g>\n<!-- __main__.TreeNode object at 0x10d43ffd0&#45;&gt;__main__.TreeNode object at 0x10d43fe80 -->\n<g id=\"edge16\" class=\"edge\">\n<title>__main__.TreeNode object at 0x10d43ffd0&#45;&gt;__main__.TreeNode object at 0x10d43fe80</title>\n<path fill=\"none\" stroke=\"black\" d=\"M265.36,-144.05C268.19,-133.05 271.86,-118.76 274.68,-107.79\"/>\n</g>\n<!-- __main__.TreeNode object at 0x10d43faf0 -->\n<g id=\"node18\" class=\"node\">\n<title>__main__.TreeNode object at 0x10d43faf0</title>\n<ellipse fill=\"none\" stroke=\"black\" cx=\"261\" cy=\"-18\" rx=\"27\" ry=\"18\"/>\n<text text-anchor=\"middle\" x=\"261\" y=\"-14.3\" font-family=\"Times,serif\" font-size=\"14.00\">3</text>\n</g>\n<!-- __main__.TreeNode object at 0x10d43fe80&#45;&gt;__main__.TreeNode object at 0x10d43faf0 -->\n<g id=\"edge17\" class=\"edge\">\n<title>__main__.TreeNode object at 0x10d43fe80&#45;&gt;__main__.TreeNode object at 0x10d43faf0</title>\n<path fill=\"none\" stroke=\"black\" d=\"M274.64,-72.05C271.81,-61.05 268.14,-46.76 265.32,-35.79\"/>\n</g>\n<!-- __main__.TreeNode object at 0x10d43fca0 -->\n<g id=\"node19\" class=\"node\">\n<title>__main__.TreeNode object at 0x10d43fca0</title>\n<ellipse fill=\"none\" stroke=\"black\" cx=\"333\" cy=\"-18\" rx=\"27\" ry=\"18\"/>\n<text text-anchor=\"middle\" x=\"333\" y=\"-14.3\" font-family=\"Times,serif\" font-size=\"14.00\">2</text>\n</g>\n<!-- __main__.TreeNode object at 0x10d43fe80&#45;&gt;__main__.TreeNode object at 0x10d43fca0 -->\n<g id=\"edge18\" class=\"edge\">\n<title>__main__.TreeNode object at 0x10d43fe80&#45;&gt;__main__.TreeNode object at 0x10d43fca0</title>\n<path fill=\"none\" stroke=\"black\" d=\"M290.98,-73.46C299.93,-61.86 312.11,-46.08 321.05,-34.49\"/>\n</g>\n</g>\n</svg>\n",
      "text/plain": [
       "<graphviz.dot.Digraph at 0x10d43f670>"
      ]
     },
     "metadata": {},
     "output_type": "display_data"
    },
    {
     "name": "stdout",
     "output_type": "stream",
     "text": [
      "True\n",
      "[[3,[2,[8,0]]],[9,[5,[4,[3,2]]]]]\n"
     ]
    },
    {
     "data": {
      "image/svg+xml": "<?xml version=\"1.0\" encoding=\"UTF-8\" standalone=\"no\"?>\n<!DOCTYPE svg PUBLIC \"-//W3C//DTD SVG 1.1//EN\"\n \"http://www.w3.org/Graphics/SVG/1.1/DTD/svg11.dtd\">\n<!-- Generated by graphviz version 2.50.0 (20211204.2007)\n -->\n<!-- Pages: 1 -->\n<svg width=\"404pt\" height=\"404pt\"\n viewBox=\"0.00 0.00 404.00 404.00\" xmlns=\"http://www.w3.org/2000/svg\" xmlns:xlink=\"http://www.w3.org/1999/xlink\">\n<g id=\"graph0\" class=\"graph\" transform=\"scale(1 1) rotate(0) translate(4 400)\">\n<polygon fill=\"white\" stroke=\"transparent\" points=\"-4,4 -4,-400 400,-400 400,4 -4,4\"/>\n<!-- __main__.TreeNode object at 0x10d43f6a0 -->\n<g id=\"node1\" class=\"node\">\n<title>__main__.TreeNode object at 0x10d43f6a0</title>\n<ellipse fill=\"none\" stroke=\"black\" cx=\"135\" cy=\"-378\" rx=\"27\" ry=\"18\"/>\n</g>\n<!-- __main__.TreeNode object at 0x10d43f3d0 -->\n<g id=\"node2\" class=\"node\">\n<title>__main__.TreeNode object at 0x10d43f3d0</title>\n<ellipse fill=\"none\" stroke=\"black\" cx=\"99\" cy=\"-306\" rx=\"27\" ry=\"18\"/>\n</g>\n<!-- __main__.TreeNode object at 0x10d43f6a0&#45;&gt;__main__.TreeNode object at 0x10d43f3d0 -->\n<g id=\"edge1\" class=\"edge\">\n<title>__main__.TreeNode object at 0x10d43f6a0&#45;&gt;__main__.TreeNode object at 0x10d43f3d0</title>\n<path fill=\"none\" stroke=\"black\" d=\"M126.65,-360.76C120.83,-349.46 113.11,-334.44 107.3,-323.15\"/>\n</g>\n<!-- __main__.TreeNode object at 0x10d43f580 -->\n<g id=\"node9\" class=\"node\">\n<title>__main__.TreeNode object at 0x10d43f580</title>\n<ellipse fill=\"none\" stroke=\"black\" cx=\"171\" cy=\"-306\" rx=\"27\" ry=\"18\"/>\n</g>\n<!-- __main__.TreeNode object at 0x10d43f6a0&#45;&gt;__main__.TreeNode object at 0x10d43f580 -->\n<g id=\"edge8\" class=\"edge\">\n<title>__main__.TreeNode object at 0x10d43f6a0&#45;&gt;__main__.TreeNode object at 0x10d43f580</title>\n<path fill=\"none\" stroke=\"black\" d=\"M143.35,-360.76C149.17,-349.46 156.89,-334.44 162.7,-323.15\"/>\n</g>\n<!-- __main__.TreeNode object at 0x10d434940 -->\n<g id=\"node3\" class=\"node\">\n<title>__main__.TreeNode object at 0x10d434940</title>\n<ellipse fill=\"none\" stroke=\"black\" cx=\"27\" cy=\"-234\" rx=\"27\" ry=\"18\"/>\n<text text-anchor=\"middle\" x=\"27\" y=\"-230.3\" font-family=\"Times,serif\" font-size=\"14.00\">3</text>\n</g>\n<!-- __main__.TreeNode object at 0x10d43f3d0&#45;&gt;__main__.TreeNode object at 0x10d434940 -->\n<g id=\"edge2\" class=\"edge\">\n<title>__main__.TreeNode object at 0x10d43f3d0&#45;&gt;__main__.TreeNode object at 0x10d434940</title>\n<path fill=\"none\" stroke=\"black\" d=\"M84.43,-290.83C72.02,-278.77 54.27,-261.51 41.8,-249.38\"/>\n</g>\n<!-- __main__.TreeNode object at 0x10d43f3a0 -->\n<g id=\"node4\" class=\"node\">\n<title>__main__.TreeNode object at 0x10d43f3a0</title>\n<ellipse fill=\"none\" stroke=\"black\" cx=\"99\" cy=\"-234\" rx=\"27\" ry=\"18\"/>\n</g>\n<!-- __main__.TreeNode object at 0x10d43f3d0&#45;&gt;__main__.TreeNode object at 0x10d43f3a0 -->\n<g id=\"edge3\" class=\"edge\">\n<title>__main__.TreeNode object at 0x10d43f3d0&#45;&gt;__main__.TreeNode object at 0x10d43f3a0</title>\n<path fill=\"none\" stroke=\"black\" d=\"M99,-287.7C99,-276.85 99,-262.92 99,-252.1\"/>\n</g>\n<!-- __main__.TreeNode object at 0x10d4349d0 -->\n<g id=\"node5\" class=\"node\">\n<title>__main__.TreeNode object at 0x10d4349d0</title>\n<ellipse fill=\"none\" stroke=\"black\" cx=\"63\" cy=\"-162\" rx=\"27\" ry=\"18\"/>\n<text text-anchor=\"middle\" x=\"63\" y=\"-158.3\" font-family=\"Times,serif\" font-size=\"14.00\">2</text>\n</g>\n<!-- __main__.TreeNode object at 0x10d43f3a0&#45;&gt;__main__.TreeNode object at 0x10d4349d0 -->\n<g id=\"edge4\" class=\"edge\">\n<title>__main__.TreeNode object at 0x10d43f3a0&#45;&gt;__main__.TreeNode object at 0x10d4349d0</title>\n<path fill=\"none\" stroke=\"black\" d=\"M90.65,-216.76C84.83,-205.46 77.11,-190.44 71.3,-179.15\"/>\n</g>\n<!-- __main__.TreeNode object at 0x10d43f490 -->\n<g id=\"node6\" class=\"node\">\n<title>__main__.TreeNode object at 0x10d43f490</title>\n<ellipse fill=\"none\" stroke=\"black\" cx=\"135\" cy=\"-162\" rx=\"27\" ry=\"18\"/>\n</g>\n<!-- __main__.TreeNode object at 0x10d43f3a0&#45;&gt;__main__.TreeNode object at 0x10d43f490 -->\n<g id=\"edge5\" class=\"edge\">\n<title>__main__.TreeNode object at 0x10d43f3a0&#45;&gt;__main__.TreeNode object at 0x10d43f490</title>\n<path fill=\"none\" stroke=\"black\" d=\"M107.35,-216.76C113.17,-205.46 120.89,-190.44 126.7,-179.15\"/>\n</g>\n<!-- __main__.TreeNode object at 0x10d434b50 -->\n<g id=\"node7\" class=\"node\">\n<title>__main__.TreeNode object at 0x10d434b50</title>\n<ellipse fill=\"none\" stroke=\"black\" cx=\"99\" cy=\"-90\" rx=\"27\" ry=\"18\"/>\n<text text-anchor=\"middle\" x=\"99\" y=\"-86.3\" font-family=\"Times,serif\" font-size=\"14.00\">8</text>\n</g>\n<!-- __main__.TreeNode object at 0x10d43f490&#45;&gt;__main__.TreeNode object at 0x10d434b50 -->\n<g id=\"edge6\" class=\"edge\">\n<title>__main__.TreeNode object at 0x10d43f490&#45;&gt;__main__.TreeNode object at 0x10d434b50</title>\n<path fill=\"none\" stroke=\"black\" d=\"M126.65,-144.76C120.83,-133.46 113.11,-118.44 107.3,-107.15\"/>\n</g>\n<!-- __main__.TreeNode object at 0x10d43f400 -->\n<g id=\"node8\" class=\"node\">\n<title>__main__.TreeNode object at 0x10d43f400</title>\n<ellipse fill=\"none\" stroke=\"black\" cx=\"171\" cy=\"-90\" rx=\"27\" ry=\"18\"/>\n<text text-anchor=\"middle\" x=\"171\" y=\"-86.3\" font-family=\"Times,serif\" font-size=\"14.00\">0</text>\n</g>\n<!-- __main__.TreeNode object at 0x10d43f490&#45;&gt;__main__.TreeNode object at 0x10d43f400 -->\n<g id=\"edge7\" class=\"edge\">\n<title>__main__.TreeNode object at 0x10d43f490&#45;&gt;__main__.TreeNode object at 0x10d43f400</title>\n<path fill=\"none\" stroke=\"black\" d=\"M143.35,-144.76C149.17,-133.46 156.89,-118.44 162.7,-107.15\"/>\n</g>\n<!-- __main__.TreeNode object at 0x10d43f730 -->\n<g id=\"node10\" class=\"node\">\n<title>__main__.TreeNode object at 0x10d43f730</title>\n<ellipse fill=\"none\" stroke=\"black\" cx=\"171\" cy=\"-234\" rx=\"27\" ry=\"18\"/>\n<text text-anchor=\"middle\" x=\"171\" y=\"-230.3\" font-family=\"Times,serif\" font-size=\"14.00\">9</text>\n</g>\n<!-- __main__.TreeNode object at 0x10d43f580&#45;&gt;__main__.TreeNode object at 0x10d43f730 -->\n<g id=\"edge9\" class=\"edge\">\n<title>__main__.TreeNode object at 0x10d43f580&#45;&gt;__main__.TreeNode object at 0x10d43f730</title>\n<path fill=\"none\" stroke=\"black\" d=\"M171,-287.7C171,-276.85 171,-262.92 171,-252.1\"/>\n</g>\n<!-- __main__.TreeNode object at 0x10d43f460 -->\n<g id=\"node11\" class=\"node\">\n<title>__main__.TreeNode object at 0x10d43f460</title>\n<ellipse fill=\"none\" stroke=\"black\" cx=\"243\" cy=\"-234\" rx=\"27\" ry=\"18\"/>\n</g>\n<!-- __main__.TreeNode object at 0x10d43f580&#45;&gt;__main__.TreeNode object at 0x10d43f460 -->\n<g id=\"edge10\" class=\"edge\">\n<title>__main__.TreeNode object at 0x10d43f580&#45;&gt;__main__.TreeNode object at 0x10d43f460</title>\n<path fill=\"none\" stroke=\"black\" d=\"M185.57,-290.83C197.98,-278.77 215.73,-261.51 228.2,-249.38\"/>\n</g>\n<!-- __main__.TreeNode object at 0x10d43ffa0 -->\n<g id=\"node12\" class=\"node\">\n<title>__main__.TreeNode object at 0x10d43ffa0</title>\n<ellipse fill=\"none\" stroke=\"black\" cx=\"207\" cy=\"-162\" rx=\"27\" ry=\"18\"/>\n<text text-anchor=\"middle\" x=\"207\" y=\"-158.3\" font-family=\"Times,serif\" font-size=\"14.00\">5</text>\n</g>\n<!-- __main__.TreeNode object at 0x10d43f460&#45;&gt;__main__.TreeNode object at 0x10d43ffa0 -->\n<g id=\"edge11\" class=\"edge\">\n<title>__main__.TreeNode object at 0x10d43f460&#45;&gt;__main__.TreeNode object at 0x10d43ffa0</title>\n<path fill=\"none\" stroke=\"black\" d=\"M234.65,-216.76C228.83,-205.46 221.11,-190.44 215.3,-179.15\"/>\n</g>\n<!-- __main__.TreeNode object at 0x10d43ffd0 -->\n<g id=\"node13\" class=\"node\">\n<title>__main__.TreeNode object at 0x10d43ffd0</title>\n<ellipse fill=\"none\" stroke=\"black\" cx=\"279\" cy=\"-162\" rx=\"27\" ry=\"18\"/>\n</g>\n<!-- __main__.TreeNode object at 0x10d43f460&#45;&gt;__main__.TreeNode object at 0x10d43ffd0 -->\n<g id=\"edge12\" class=\"edge\">\n<title>__main__.TreeNode object at 0x10d43f460&#45;&gt;__main__.TreeNode object at 0x10d43ffd0</title>\n<path fill=\"none\" stroke=\"black\" d=\"M251.35,-216.76C257.17,-205.46 264.89,-190.44 270.7,-179.15\"/>\n</g>\n<!-- __main__.TreeNode object at 0x10d43ff40 -->\n<g id=\"node14\" class=\"node\">\n<title>__main__.TreeNode object at 0x10d43ff40</title>\n<ellipse fill=\"none\" stroke=\"black\" cx=\"261\" cy=\"-90\" rx=\"27\" ry=\"18\"/>\n<text text-anchor=\"middle\" x=\"261\" y=\"-86.3\" font-family=\"Times,serif\" font-size=\"14.00\">4</text>\n</g>\n<!-- __main__.TreeNode object at 0x10d43ffd0&#45;&gt;__main__.TreeNode object at 0x10d43ff40 -->\n<g id=\"edge13\" class=\"edge\">\n<title>__main__.TreeNode object at 0x10d43ffd0&#45;&gt;__main__.TreeNode object at 0x10d43ff40</title>\n<path fill=\"none\" stroke=\"black\" d=\"M274.64,-144.05C271.81,-133.05 268.14,-118.76 265.32,-107.79\"/>\n</g>\n<!-- __main__.TreeNode object at 0x10d43fe80 -->\n<g id=\"node15\" class=\"node\">\n<title>__main__.TreeNode object at 0x10d43fe80</title>\n<ellipse fill=\"none\" stroke=\"black\" cx=\"333\" cy=\"-90\" rx=\"27\" ry=\"18\"/>\n</g>\n<!-- __main__.TreeNode object at 0x10d43ffd0&#45;&gt;__main__.TreeNode object at 0x10d43fe80 -->\n<g id=\"edge14\" class=\"edge\">\n<title>__main__.TreeNode object at 0x10d43ffd0&#45;&gt;__main__.TreeNode object at 0x10d43fe80</title>\n<path fill=\"none\" stroke=\"black\" d=\"M290.98,-145.46C299.93,-133.86 312.11,-118.08 321.05,-106.49\"/>\n</g>\n<!-- __main__.TreeNode object at 0x10d43faf0 -->\n<g id=\"node16\" class=\"node\">\n<title>__main__.TreeNode object at 0x10d43faf0</title>\n<ellipse fill=\"none\" stroke=\"black\" cx=\"297\" cy=\"-18\" rx=\"27\" ry=\"18\"/>\n<text text-anchor=\"middle\" x=\"297\" y=\"-14.3\" font-family=\"Times,serif\" font-size=\"14.00\">3</text>\n</g>\n<!-- __main__.TreeNode object at 0x10d43fe80&#45;&gt;__main__.TreeNode object at 0x10d43faf0 -->\n<g id=\"edge15\" class=\"edge\">\n<title>__main__.TreeNode object at 0x10d43fe80&#45;&gt;__main__.TreeNode object at 0x10d43faf0</title>\n<path fill=\"none\" stroke=\"black\" d=\"M324.65,-72.76C318.83,-61.46 311.11,-46.44 305.3,-35.15\"/>\n</g>\n<!-- __main__.TreeNode object at 0x10d43fca0 -->\n<g id=\"node17\" class=\"node\">\n<title>__main__.TreeNode object at 0x10d43fca0</title>\n<ellipse fill=\"none\" stroke=\"black\" cx=\"369\" cy=\"-18\" rx=\"27\" ry=\"18\"/>\n<text text-anchor=\"middle\" x=\"369\" y=\"-14.3\" font-family=\"Times,serif\" font-size=\"14.00\">2</text>\n</g>\n<!-- __main__.TreeNode object at 0x10d43fe80&#45;&gt;__main__.TreeNode object at 0x10d43fca0 -->\n<g id=\"edge16\" class=\"edge\">\n<title>__main__.TreeNode object at 0x10d43fe80&#45;&gt;__main__.TreeNode object at 0x10d43fca0</title>\n<path fill=\"none\" stroke=\"black\" d=\"M341.35,-72.76C347.17,-61.46 354.89,-46.44 360.7,-35.15\"/>\n</g>\n</g>\n</svg>\n",
      "text/plain": [
       "<graphviz.dot.Digraph at 0x10bf84b20>"
      ]
     },
     "metadata": {},
     "output_type": "display_data"
    }
   ],
   "source": [
    "root = parse(\"[[3,[2,[1,[7,3]]]],[6,[5,[4,[3,2]]]]]\")\n",
    "printTree(root)\n",
    "displayTree(root)\n",
    "\n",
    "print(explode(root))\n",
    "\n",
    "printTree(root)\n",
    "displayTree(root)"
   ]
  },
  {
   "cell_type": "code",
   "execution_count": 15,
   "id": "8166e059",
   "metadata": {},
   "outputs": [
    {
     "name": "stdout",
     "output_type": "stream",
     "text": [
      "[[3,[2,[8,0]]],[9,[5,[4,[3,2]]]]]\n"
     ]
    },
    {
     "data": {
      "image/svg+xml": "<?xml version=\"1.0\" encoding=\"UTF-8\" standalone=\"no\"?>\n<!DOCTYPE svg PUBLIC \"-//W3C//DTD SVG 1.1//EN\"\n \"http://www.w3.org/Graphics/SVG/1.1/DTD/svg11.dtd\">\n<!-- Generated by graphviz version 2.50.0 (20211204.2007)\n -->\n<!-- Pages: 1 -->\n<svg width=\"404pt\" height=\"404pt\"\n viewBox=\"0.00 0.00 404.00 404.00\" xmlns=\"http://www.w3.org/2000/svg\" xmlns:xlink=\"http://www.w3.org/1999/xlink\">\n<g id=\"graph0\" class=\"graph\" transform=\"scale(1 1) rotate(0) translate(4 400)\">\n<polygon fill=\"white\" stroke=\"transparent\" points=\"-4,4 -4,-400 400,-400 400,4 -4,4\"/>\n<!-- __main__.TreeNode object at 0x10d43fa60 -->\n<g id=\"node1\" class=\"node\">\n<title>__main__.TreeNode object at 0x10d43fa60</title>\n<ellipse fill=\"none\" stroke=\"black\" cx=\"135\" cy=\"-378\" rx=\"27\" ry=\"18\"/>\n</g>\n<!-- __main__.TreeNode object at 0x10d43fc70 -->\n<g id=\"node2\" class=\"node\">\n<title>__main__.TreeNode object at 0x10d43fc70</title>\n<ellipse fill=\"none\" stroke=\"black\" cx=\"99\" cy=\"-306\" rx=\"27\" ry=\"18\"/>\n</g>\n<!-- __main__.TreeNode object at 0x10d43fa60&#45;&gt;__main__.TreeNode object at 0x10d43fc70 -->\n<g id=\"edge1\" class=\"edge\">\n<title>__main__.TreeNode object at 0x10d43fa60&#45;&gt;__main__.TreeNode object at 0x10d43fc70</title>\n<path fill=\"none\" stroke=\"black\" d=\"M126.65,-360.76C120.83,-349.46 113.11,-334.44 107.3,-323.15\"/>\n</g>\n<!-- __main__.TreeNode object at 0x10d43fc40 -->\n<g id=\"node9\" class=\"node\">\n<title>__main__.TreeNode object at 0x10d43fc40</title>\n<ellipse fill=\"none\" stroke=\"black\" cx=\"171\" cy=\"-306\" rx=\"27\" ry=\"18\"/>\n</g>\n<!-- __main__.TreeNode object at 0x10d43fa60&#45;&gt;__main__.TreeNode object at 0x10d43fc40 -->\n<g id=\"edge8\" class=\"edge\">\n<title>__main__.TreeNode object at 0x10d43fa60&#45;&gt;__main__.TreeNode object at 0x10d43fc40</title>\n<path fill=\"none\" stroke=\"black\" d=\"M143.35,-360.76C149.17,-349.46 156.89,-334.44 162.7,-323.15\"/>\n</g>\n<!-- __main__.TreeNode object at 0x10d43f760 -->\n<g id=\"node3\" class=\"node\">\n<title>__main__.TreeNode object at 0x10d43f760</title>\n<ellipse fill=\"none\" stroke=\"black\" cx=\"27\" cy=\"-234\" rx=\"27\" ry=\"18\"/>\n<text text-anchor=\"middle\" x=\"27\" y=\"-230.3\" font-family=\"Times,serif\" font-size=\"14.00\">3</text>\n</g>\n<!-- __main__.TreeNode object at 0x10d43fc70&#45;&gt;__main__.TreeNode object at 0x10d43f760 -->\n<g id=\"edge2\" class=\"edge\">\n<title>__main__.TreeNode object at 0x10d43fc70&#45;&gt;__main__.TreeNode object at 0x10d43f760</title>\n<path fill=\"none\" stroke=\"black\" d=\"M84.43,-290.83C72.02,-278.77 54.27,-261.51 41.8,-249.38\"/>\n</g>\n<!-- __main__.TreeNode object at 0x10d43f160 -->\n<g id=\"node4\" class=\"node\">\n<title>__main__.TreeNode object at 0x10d43f160</title>\n<ellipse fill=\"none\" stroke=\"black\" cx=\"99\" cy=\"-234\" rx=\"27\" ry=\"18\"/>\n</g>\n<!-- __main__.TreeNode object at 0x10d43fc70&#45;&gt;__main__.TreeNode object at 0x10d43f160 -->\n<g id=\"edge3\" class=\"edge\">\n<title>__main__.TreeNode object at 0x10d43fc70&#45;&gt;__main__.TreeNode object at 0x10d43f160</title>\n<path fill=\"none\" stroke=\"black\" d=\"M99,-287.7C99,-276.85 99,-262.92 99,-252.1\"/>\n</g>\n<!-- __main__.TreeNode object at 0x10d43fb20 -->\n<g id=\"node5\" class=\"node\">\n<title>__main__.TreeNode object at 0x10d43fb20</title>\n<ellipse fill=\"none\" stroke=\"black\" cx=\"63\" cy=\"-162\" rx=\"27\" ry=\"18\"/>\n<text text-anchor=\"middle\" x=\"63\" y=\"-158.3\" font-family=\"Times,serif\" font-size=\"14.00\">2</text>\n</g>\n<!-- __main__.TreeNode object at 0x10d43f160&#45;&gt;__main__.TreeNode object at 0x10d43fb20 -->\n<g id=\"edge4\" class=\"edge\">\n<title>__main__.TreeNode object at 0x10d43f160&#45;&gt;__main__.TreeNode object at 0x10d43fb20</title>\n<path fill=\"none\" stroke=\"black\" d=\"M90.65,-216.76C84.83,-205.46 77.11,-190.44 71.3,-179.15\"/>\n</g>\n<!-- __main__.TreeNode object at 0x10d43f1f0 -->\n<g id=\"node6\" class=\"node\">\n<title>__main__.TreeNode object at 0x10d43f1f0</title>\n<ellipse fill=\"none\" stroke=\"black\" cx=\"135\" cy=\"-162\" rx=\"27\" ry=\"18\"/>\n</g>\n<!-- __main__.TreeNode object at 0x10d43f160&#45;&gt;__main__.TreeNode object at 0x10d43f1f0 -->\n<g id=\"edge5\" class=\"edge\">\n<title>__main__.TreeNode object at 0x10d43f160&#45;&gt;__main__.TreeNode object at 0x10d43f1f0</title>\n<path fill=\"none\" stroke=\"black\" d=\"M107.35,-216.76C113.17,-205.46 120.89,-190.44 126.7,-179.15\"/>\n</g>\n<!-- __main__.TreeNode object at 0x10d43f340 -->\n<g id=\"node7\" class=\"node\">\n<title>__main__.TreeNode object at 0x10d43f340</title>\n<ellipse fill=\"none\" stroke=\"black\" cx=\"99\" cy=\"-90\" rx=\"27\" ry=\"18\"/>\n<text text-anchor=\"middle\" x=\"99\" y=\"-86.3\" font-family=\"Times,serif\" font-size=\"14.00\">8</text>\n</g>\n<!-- __main__.TreeNode object at 0x10d43f1f0&#45;&gt;__main__.TreeNode object at 0x10d43f340 -->\n<g id=\"edge6\" class=\"edge\">\n<title>__main__.TreeNode object at 0x10d43f1f0&#45;&gt;__main__.TreeNode object at 0x10d43f340</title>\n<path fill=\"none\" stroke=\"black\" d=\"M126.65,-144.76C120.83,-133.46 113.11,-118.44 107.3,-107.15\"/>\n</g>\n<!-- __main__.TreeNode object at 0x10d43f220 -->\n<g id=\"node8\" class=\"node\">\n<title>__main__.TreeNode object at 0x10d43f220</title>\n<ellipse fill=\"none\" stroke=\"black\" cx=\"171\" cy=\"-90\" rx=\"27\" ry=\"18\"/>\n<text text-anchor=\"middle\" x=\"171\" y=\"-86.3\" font-family=\"Times,serif\" font-size=\"14.00\">0</text>\n</g>\n<!-- __main__.TreeNode object at 0x10d43f1f0&#45;&gt;__main__.TreeNode object at 0x10d43f220 -->\n<g id=\"edge7\" class=\"edge\">\n<title>__main__.TreeNode object at 0x10d43f1f0&#45;&gt;__main__.TreeNode object at 0x10d43f220</title>\n<path fill=\"none\" stroke=\"black\" d=\"M143.35,-144.76C149.17,-133.46 156.89,-118.44 162.7,-107.15\"/>\n</g>\n<!-- __main__.TreeNode object at 0x10d43f130 -->\n<g id=\"node10\" class=\"node\">\n<title>__main__.TreeNode object at 0x10d43f130</title>\n<ellipse fill=\"none\" stroke=\"black\" cx=\"171\" cy=\"-234\" rx=\"27\" ry=\"18\"/>\n<text text-anchor=\"middle\" x=\"171\" y=\"-230.3\" font-family=\"Times,serif\" font-size=\"14.00\">9</text>\n</g>\n<!-- __main__.TreeNode object at 0x10d43fc40&#45;&gt;__main__.TreeNode object at 0x10d43f130 -->\n<g id=\"edge9\" class=\"edge\">\n<title>__main__.TreeNode object at 0x10d43fc40&#45;&gt;__main__.TreeNode object at 0x10d43f130</title>\n<path fill=\"none\" stroke=\"black\" d=\"M171,-287.7C171,-276.85 171,-262.92 171,-252.1\"/>\n</g>\n<!-- __main__.TreeNode object at 0x10d43f910 -->\n<g id=\"node11\" class=\"node\">\n<title>__main__.TreeNode object at 0x10d43f910</title>\n<ellipse fill=\"none\" stroke=\"black\" cx=\"243\" cy=\"-234\" rx=\"27\" ry=\"18\"/>\n</g>\n<!-- __main__.TreeNode object at 0x10d43fc40&#45;&gt;__main__.TreeNode object at 0x10d43f910 -->\n<g id=\"edge10\" class=\"edge\">\n<title>__main__.TreeNode object at 0x10d43fc40&#45;&gt;__main__.TreeNode object at 0x10d43f910</title>\n<path fill=\"none\" stroke=\"black\" d=\"M185.57,-290.83C197.98,-278.77 215.73,-261.51 228.2,-249.38\"/>\n</g>\n<!-- __main__.TreeNode object at 0x10d43f0a0 -->\n<g id=\"node12\" class=\"node\">\n<title>__main__.TreeNode object at 0x10d43f0a0</title>\n<ellipse fill=\"none\" stroke=\"black\" cx=\"207\" cy=\"-162\" rx=\"27\" ry=\"18\"/>\n<text text-anchor=\"middle\" x=\"207\" y=\"-158.3\" font-family=\"Times,serif\" font-size=\"14.00\">5</text>\n</g>\n<!-- __main__.TreeNode object at 0x10d43f910&#45;&gt;__main__.TreeNode object at 0x10d43f0a0 -->\n<g id=\"edge11\" class=\"edge\">\n<title>__main__.TreeNode object at 0x10d43f910&#45;&gt;__main__.TreeNode object at 0x10d43f0a0</title>\n<path fill=\"none\" stroke=\"black\" d=\"M234.65,-216.76C228.83,-205.46 221.11,-190.44 215.3,-179.15\"/>\n</g>\n<!-- __main__.TreeNode object at 0x10d43f9d0 -->\n<g id=\"node13\" class=\"node\">\n<title>__main__.TreeNode object at 0x10d43f9d0</title>\n<ellipse fill=\"none\" stroke=\"black\" cx=\"279\" cy=\"-162\" rx=\"27\" ry=\"18\"/>\n</g>\n<!-- __main__.TreeNode object at 0x10d43f910&#45;&gt;__main__.TreeNode object at 0x10d43f9d0 -->\n<g id=\"edge12\" class=\"edge\">\n<title>__main__.TreeNode object at 0x10d43f910&#45;&gt;__main__.TreeNode object at 0x10d43f9d0</title>\n<path fill=\"none\" stroke=\"black\" d=\"M251.35,-216.76C257.17,-205.46 264.89,-190.44 270.7,-179.15\"/>\n</g>\n<!-- __main__.TreeNode object at 0x10d43f070 -->\n<g id=\"node14\" class=\"node\">\n<title>__main__.TreeNode object at 0x10d43f070</title>\n<ellipse fill=\"none\" stroke=\"black\" cx=\"261\" cy=\"-90\" rx=\"27\" ry=\"18\"/>\n<text text-anchor=\"middle\" x=\"261\" y=\"-86.3\" font-family=\"Times,serif\" font-size=\"14.00\">4</text>\n</g>\n<!-- __main__.TreeNode object at 0x10d43f9d0&#45;&gt;__main__.TreeNode object at 0x10d43f070 -->\n<g id=\"edge13\" class=\"edge\">\n<title>__main__.TreeNode object at 0x10d43f9d0&#45;&gt;__main__.TreeNode object at 0x10d43f070</title>\n<path fill=\"none\" stroke=\"black\" d=\"M274.64,-144.05C271.81,-133.05 268.14,-118.76 265.32,-107.79\"/>\n</g>\n<!-- __main__.TreeNode object at 0x10d43fa90 -->\n<g id=\"node15\" class=\"node\">\n<title>__main__.TreeNode object at 0x10d43fa90</title>\n<ellipse fill=\"none\" stroke=\"black\" cx=\"333\" cy=\"-90\" rx=\"27\" ry=\"18\"/>\n</g>\n<!-- __main__.TreeNode object at 0x10d43f9d0&#45;&gt;__main__.TreeNode object at 0x10d43fa90 -->\n<g id=\"edge14\" class=\"edge\">\n<title>__main__.TreeNode object at 0x10d43f9d0&#45;&gt;__main__.TreeNode object at 0x10d43fa90</title>\n<path fill=\"none\" stroke=\"black\" d=\"M290.98,-145.46C299.93,-133.86 312.11,-118.08 321.05,-106.49\"/>\n</g>\n<!-- __main__.TreeNode object at 0x10d43fbb0 -->\n<g id=\"node16\" class=\"node\">\n<title>__main__.TreeNode object at 0x10d43fbb0</title>\n<ellipse fill=\"none\" stroke=\"black\" cx=\"297\" cy=\"-18\" rx=\"27\" ry=\"18\"/>\n<text text-anchor=\"middle\" x=\"297\" y=\"-14.3\" font-family=\"Times,serif\" font-size=\"14.00\">3</text>\n</g>\n<!-- __main__.TreeNode object at 0x10d43fa90&#45;&gt;__main__.TreeNode object at 0x10d43fbb0 -->\n<g id=\"edge15\" class=\"edge\">\n<title>__main__.TreeNode object at 0x10d43fa90&#45;&gt;__main__.TreeNode object at 0x10d43fbb0</title>\n<path fill=\"none\" stroke=\"black\" d=\"M324.65,-72.76C318.83,-61.46 311.11,-46.44 305.3,-35.15\"/>\n</g>\n<!-- __main__.TreeNode object at 0x10d43fb80 -->\n<g id=\"node17\" class=\"node\">\n<title>__main__.TreeNode object at 0x10d43fb80</title>\n<ellipse fill=\"none\" stroke=\"black\" cx=\"369\" cy=\"-18\" rx=\"27\" ry=\"18\"/>\n<text text-anchor=\"middle\" x=\"369\" y=\"-14.3\" font-family=\"Times,serif\" font-size=\"14.00\">2</text>\n</g>\n<!-- __main__.TreeNode object at 0x10d43fa90&#45;&gt;__main__.TreeNode object at 0x10d43fb80 -->\n<g id=\"edge16\" class=\"edge\">\n<title>__main__.TreeNode object at 0x10d43fa90&#45;&gt;__main__.TreeNode object at 0x10d43fb80</title>\n<path fill=\"none\" stroke=\"black\" d=\"M341.35,-72.76C347.17,-61.46 354.89,-46.44 360.7,-35.15\"/>\n</g>\n</g>\n</svg>\n",
      "text/plain": [
       "<graphviz.dot.Digraph at 0x10d43f5e0>"
      ]
     },
     "metadata": {},
     "output_type": "display_data"
    },
    {
     "name": "stdout",
     "output_type": "stream",
     "text": [
      "True\n",
      "[[3,[2,[8,0]]],[9,[5,[7,0]]]]\n"
     ]
    },
    {
     "data": {
      "image/svg+xml": "<?xml version=\"1.0\" encoding=\"UTF-8\" standalone=\"no\"?>\n<!DOCTYPE svg PUBLIC \"-//W3C//DTD SVG 1.1//EN\"\n \"http://www.w3.org/Graphics/SVG/1.1/DTD/svg11.dtd\">\n<!-- Generated by graphviz version 2.50.0 (20211204.2007)\n -->\n<!-- Pages: 1 -->\n<svg width=\"368pt\" height=\"332pt\"\n viewBox=\"0.00 0.00 368.00 332.00\" xmlns=\"http://www.w3.org/2000/svg\" xmlns:xlink=\"http://www.w3.org/1999/xlink\">\n<g id=\"graph0\" class=\"graph\" transform=\"scale(1 1) rotate(0) translate(4 328)\">\n<polygon fill=\"white\" stroke=\"transparent\" points=\"-4,4 -4,-328 364,-328 364,4 -4,4\"/>\n<!-- __main__.TreeNode object at 0x10d43fa60 -->\n<g id=\"node1\" class=\"node\">\n<title>__main__.TreeNode object at 0x10d43fa60</title>\n<ellipse fill=\"none\" stroke=\"black\" cx=\"135\" cy=\"-306\" rx=\"27\" ry=\"18\"/>\n</g>\n<!-- __main__.TreeNode object at 0x10d43fc70 -->\n<g id=\"node2\" class=\"node\">\n<title>__main__.TreeNode object at 0x10d43fc70</title>\n<ellipse fill=\"none\" stroke=\"black\" cx=\"99\" cy=\"-234\" rx=\"27\" ry=\"18\"/>\n</g>\n<!-- __main__.TreeNode object at 0x10d43fa60&#45;&gt;__main__.TreeNode object at 0x10d43fc70 -->\n<g id=\"edge1\" class=\"edge\">\n<title>__main__.TreeNode object at 0x10d43fa60&#45;&gt;__main__.TreeNode object at 0x10d43fc70</title>\n<path fill=\"none\" stroke=\"black\" d=\"M126.65,-288.76C120.83,-277.46 113.11,-262.44 107.3,-251.15\"/>\n</g>\n<!-- __main__.TreeNode object at 0x10d43fc40 -->\n<g id=\"node9\" class=\"node\">\n<title>__main__.TreeNode object at 0x10d43fc40</title>\n<ellipse fill=\"none\" stroke=\"black\" cx=\"171\" cy=\"-234\" rx=\"27\" ry=\"18\"/>\n</g>\n<!-- __main__.TreeNode object at 0x10d43fa60&#45;&gt;__main__.TreeNode object at 0x10d43fc40 -->\n<g id=\"edge8\" class=\"edge\">\n<title>__main__.TreeNode object at 0x10d43fa60&#45;&gt;__main__.TreeNode object at 0x10d43fc40</title>\n<path fill=\"none\" stroke=\"black\" d=\"M143.35,-288.76C149.17,-277.46 156.89,-262.44 162.7,-251.15\"/>\n</g>\n<!-- __main__.TreeNode object at 0x10d43f760 -->\n<g id=\"node3\" class=\"node\">\n<title>__main__.TreeNode object at 0x10d43f760</title>\n<ellipse fill=\"none\" stroke=\"black\" cx=\"27\" cy=\"-162\" rx=\"27\" ry=\"18\"/>\n<text text-anchor=\"middle\" x=\"27\" y=\"-158.3\" font-family=\"Times,serif\" font-size=\"14.00\">3</text>\n</g>\n<!-- __main__.TreeNode object at 0x10d43fc70&#45;&gt;__main__.TreeNode object at 0x10d43f760 -->\n<g id=\"edge2\" class=\"edge\">\n<title>__main__.TreeNode object at 0x10d43fc70&#45;&gt;__main__.TreeNode object at 0x10d43f760</title>\n<path fill=\"none\" stroke=\"black\" d=\"M84.43,-218.83C72.02,-206.77 54.27,-189.51 41.8,-177.38\"/>\n</g>\n<!-- __main__.TreeNode object at 0x10d43f160 -->\n<g id=\"node4\" class=\"node\">\n<title>__main__.TreeNode object at 0x10d43f160</title>\n<ellipse fill=\"none\" stroke=\"black\" cx=\"99\" cy=\"-162\" rx=\"27\" ry=\"18\"/>\n</g>\n<!-- __main__.TreeNode object at 0x10d43fc70&#45;&gt;__main__.TreeNode object at 0x10d43f160 -->\n<g id=\"edge3\" class=\"edge\">\n<title>__main__.TreeNode object at 0x10d43fc70&#45;&gt;__main__.TreeNode object at 0x10d43f160</title>\n<path fill=\"none\" stroke=\"black\" d=\"M99,-215.7C99,-204.85 99,-190.92 99,-180.1\"/>\n</g>\n<!-- __main__.TreeNode object at 0x10d43fb20 -->\n<g id=\"node5\" class=\"node\">\n<title>__main__.TreeNode object at 0x10d43fb20</title>\n<ellipse fill=\"none\" stroke=\"black\" cx=\"63\" cy=\"-90\" rx=\"27\" ry=\"18\"/>\n<text text-anchor=\"middle\" x=\"63\" y=\"-86.3\" font-family=\"Times,serif\" font-size=\"14.00\">2</text>\n</g>\n<!-- __main__.TreeNode object at 0x10d43f160&#45;&gt;__main__.TreeNode object at 0x10d43fb20 -->\n<g id=\"edge4\" class=\"edge\">\n<title>__main__.TreeNode object at 0x10d43f160&#45;&gt;__main__.TreeNode object at 0x10d43fb20</title>\n<path fill=\"none\" stroke=\"black\" d=\"M90.65,-144.76C84.83,-133.46 77.11,-118.44 71.3,-107.15\"/>\n</g>\n<!-- __main__.TreeNode object at 0x10d43f1f0 -->\n<g id=\"node6\" class=\"node\">\n<title>__main__.TreeNode object at 0x10d43f1f0</title>\n<ellipse fill=\"none\" stroke=\"black\" cx=\"135\" cy=\"-90\" rx=\"27\" ry=\"18\"/>\n</g>\n<!-- __main__.TreeNode object at 0x10d43f160&#45;&gt;__main__.TreeNode object at 0x10d43f1f0 -->\n<g id=\"edge5\" class=\"edge\">\n<title>__main__.TreeNode object at 0x10d43f160&#45;&gt;__main__.TreeNode object at 0x10d43f1f0</title>\n<path fill=\"none\" stroke=\"black\" d=\"M107.35,-144.76C113.17,-133.46 120.89,-118.44 126.7,-107.15\"/>\n</g>\n<!-- __main__.TreeNode object at 0x10d43f340 -->\n<g id=\"node7\" class=\"node\">\n<title>__main__.TreeNode object at 0x10d43f340</title>\n<ellipse fill=\"none\" stroke=\"black\" cx=\"99\" cy=\"-18\" rx=\"27\" ry=\"18\"/>\n<text text-anchor=\"middle\" x=\"99\" y=\"-14.3\" font-family=\"Times,serif\" font-size=\"14.00\">8</text>\n</g>\n<!-- __main__.TreeNode object at 0x10d43f1f0&#45;&gt;__main__.TreeNode object at 0x10d43f340 -->\n<g id=\"edge6\" class=\"edge\">\n<title>__main__.TreeNode object at 0x10d43f1f0&#45;&gt;__main__.TreeNode object at 0x10d43f340</title>\n<path fill=\"none\" stroke=\"black\" d=\"M126.65,-72.76C120.83,-61.46 113.11,-46.44 107.3,-35.15\"/>\n</g>\n<!-- __main__.TreeNode object at 0x10d43f220 -->\n<g id=\"node8\" class=\"node\">\n<title>__main__.TreeNode object at 0x10d43f220</title>\n<ellipse fill=\"none\" stroke=\"black\" cx=\"171\" cy=\"-18\" rx=\"27\" ry=\"18\"/>\n<text text-anchor=\"middle\" x=\"171\" y=\"-14.3\" font-family=\"Times,serif\" font-size=\"14.00\">0</text>\n</g>\n<!-- __main__.TreeNode object at 0x10d43f1f0&#45;&gt;__main__.TreeNode object at 0x10d43f220 -->\n<g id=\"edge7\" class=\"edge\">\n<title>__main__.TreeNode object at 0x10d43f1f0&#45;&gt;__main__.TreeNode object at 0x10d43f220</title>\n<path fill=\"none\" stroke=\"black\" d=\"M143.35,-72.76C149.17,-61.46 156.89,-46.44 162.7,-35.15\"/>\n</g>\n<!-- __main__.TreeNode object at 0x10d43f130 -->\n<g id=\"node10\" class=\"node\">\n<title>__main__.TreeNode object at 0x10d43f130</title>\n<ellipse fill=\"none\" stroke=\"black\" cx=\"171\" cy=\"-162\" rx=\"27\" ry=\"18\"/>\n<text text-anchor=\"middle\" x=\"171\" y=\"-158.3\" font-family=\"Times,serif\" font-size=\"14.00\">9</text>\n</g>\n<!-- __main__.TreeNode object at 0x10d43fc40&#45;&gt;__main__.TreeNode object at 0x10d43f130 -->\n<g id=\"edge9\" class=\"edge\">\n<title>__main__.TreeNode object at 0x10d43fc40&#45;&gt;__main__.TreeNode object at 0x10d43f130</title>\n<path fill=\"none\" stroke=\"black\" d=\"M171,-215.7C171,-204.85 171,-190.92 171,-180.1\"/>\n</g>\n<!-- __main__.TreeNode object at 0x10d43f910 -->\n<g id=\"node11\" class=\"node\">\n<title>__main__.TreeNode object at 0x10d43f910</title>\n<ellipse fill=\"none\" stroke=\"black\" cx=\"243\" cy=\"-162\" rx=\"27\" ry=\"18\"/>\n</g>\n<!-- __main__.TreeNode object at 0x10d43fc40&#45;&gt;__main__.TreeNode object at 0x10d43f910 -->\n<g id=\"edge10\" class=\"edge\">\n<title>__main__.TreeNode object at 0x10d43fc40&#45;&gt;__main__.TreeNode object at 0x10d43f910</title>\n<path fill=\"none\" stroke=\"black\" d=\"M185.57,-218.83C197.98,-206.77 215.73,-189.51 228.2,-177.38\"/>\n</g>\n<!-- __main__.TreeNode object at 0x10d43f0a0 -->\n<g id=\"node12\" class=\"node\">\n<title>__main__.TreeNode object at 0x10d43f0a0</title>\n<ellipse fill=\"none\" stroke=\"black\" cx=\"207\" cy=\"-90\" rx=\"27\" ry=\"18\"/>\n<text text-anchor=\"middle\" x=\"207\" y=\"-86.3\" font-family=\"Times,serif\" font-size=\"14.00\">5</text>\n</g>\n<!-- __main__.TreeNode object at 0x10d43f910&#45;&gt;__main__.TreeNode object at 0x10d43f0a0 -->\n<g id=\"edge11\" class=\"edge\">\n<title>__main__.TreeNode object at 0x10d43f910&#45;&gt;__main__.TreeNode object at 0x10d43f0a0</title>\n<path fill=\"none\" stroke=\"black\" d=\"M234.65,-144.76C228.83,-133.46 221.11,-118.44 215.3,-107.15\"/>\n</g>\n<!-- __main__.TreeNode object at 0x10d43f9d0 -->\n<g id=\"node13\" class=\"node\">\n<title>__main__.TreeNode object at 0x10d43f9d0</title>\n<ellipse fill=\"none\" stroke=\"black\" cx=\"279\" cy=\"-90\" rx=\"27\" ry=\"18\"/>\n</g>\n<!-- __main__.TreeNode object at 0x10d43f910&#45;&gt;__main__.TreeNode object at 0x10d43f9d0 -->\n<g id=\"edge12\" class=\"edge\">\n<title>__main__.TreeNode object at 0x10d43f910&#45;&gt;__main__.TreeNode object at 0x10d43f9d0</title>\n<path fill=\"none\" stroke=\"black\" d=\"M251.35,-144.76C257.17,-133.46 264.89,-118.44 270.7,-107.15\"/>\n</g>\n<!-- __main__.TreeNode object at 0x10d43f070 -->\n<g id=\"node14\" class=\"node\">\n<title>__main__.TreeNode object at 0x10d43f070</title>\n<ellipse fill=\"none\" stroke=\"black\" cx=\"261\" cy=\"-18\" rx=\"27\" ry=\"18\"/>\n<text text-anchor=\"middle\" x=\"261\" y=\"-14.3\" font-family=\"Times,serif\" font-size=\"14.00\">7</text>\n</g>\n<!-- __main__.TreeNode object at 0x10d43f9d0&#45;&gt;__main__.TreeNode object at 0x10d43f070 -->\n<g id=\"edge13\" class=\"edge\">\n<title>__main__.TreeNode object at 0x10d43f9d0&#45;&gt;__main__.TreeNode object at 0x10d43f070</title>\n<path fill=\"none\" stroke=\"black\" d=\"M274.64,-72.05C271.81,-61.05 268.14,-46.76 265.32,-35.79\"/>\n</g>\n<!-- __main__.TreeNode object at 0x10d43fa90 -->\n<g id=\"node15\" class=\"node\">\n<title>__main__.TreeNode object at 0x10d43fa90</title>\n<ellipse fill=\"none\" stroke=\"black\" cx=\"333\" cy=\"-18\" rx=\"27\" ry=\"18\"/>\n<text text-anchor=\"middle\" x=\"333\" y=\"-14.3\" font-family=\"Times,serif\" font-size=\"14.00\">0</text>\n</g>\n<!-- __main__.TreeNode object at 0x10d43f9d0&#45;&gt;__main__.TreeNode object at 0x10d43fa90 -->\n<g id=\"edge14\" class=\"edge\">\n<title>__main__.TreeNode object at 0x10d43f9d0&#45;&gt;__main__.TreeNode object at 0x10d43fa90</title>\n<path fill=\"none\" stroke=\"black\" d=\"M290.98,-73.46C299.93,-61.86 312.11,-46.08 321.05,-34.49\"/>\n</g>\n</g>\n</svg>\n",
      "text/plain": [
       "<graphviz.dot.Digraph at 0x10bfbd550>"
      ]
     },
     "metadata": {},
     "output_type": "display_data"
    }
   ],
   "source": [
    "root = parse(\"[[3,[2,[8,0]]],[9,[5,[4,[3,2]]]]]\")\n",
    "printTree(root)\n",
    "displayTree(root)\n",
    "\n",
    "print(explode(root))\n",
    "\n",
    "printTree(root)\n",
    "displayTree(root)"
   ]
  },
  {
   "cell_type": "code",
   "execution_count": 16,
   "id": "6c8247b9",
   "metadata": {},
   "outputs": [
    {
     "name": "stdout",
     "output_type": "stream",
     "text": [
      "[[[[4,0],[5,4]],[[7,7],[0,[6,7]]]],[10,[[11,9],[11,0]]]]\n"
     ]
    },
    {
     "data": {
      "image/svg+xml": "<?xml version=\"1.0\" encoding=\"UTF-8\" standalone=\"no\"?>\n<!DOCTYPE svg PUBLIC \"-//W3C//DTD SVG 1.1//EN\"\n \"http://www.w3.org/Graphics/SVG/1.1/DTD/svg11.dtd\">\n<!-- Generated by graphviz version 2.50.0 (20211204.2007)\n -->\n<!-- Pages: 1 -->\n<svg width=\"432pt\" height=\"204pt\"\n viewBox=\"0.00 0.00 432.00 204.37\" xmlns=\"http://www.w3.org/2000/svg\" xmlns:xlink=\"http://www.w3.org/1999/xlink\">\n<g id=\"graph0\" class=\"graph\" transform=\"scale(0.51 0.51) rotate(0) translate(4 400)\">\n<polygon fill=\"white\" stroke=\"transparent\" points=\"-4,4 -4,-400 850,-400 850,4 -4,4\"/>\n<!-- __main__.TreeNode object at 0x10bf845b0 -->\n<g id=\"node1\" class=\"node\">\n<title>__main__.TreeNode object at 0x10bf845b0</title>\n<ellipse fill=\"none\" stroke=\"black\" cx=\"441\" cy=\"-378\" rx=\"27\" ry=\"18\"/>\n</g>\n<!-- __main__.TreeNode object at 0x10d434820 -->\n<g id=\"node2\" class=\"node\">\n<title>__main__.TreeNode object at 0x10d434820</title>\n<ellipse fill=\"none\" stroke=\"black\" cx=\"405\" cy=\"-306\" rx=\"27\" ry=\"18\"/>\n</g>\n<!-- __main__.TreeNode object at 0x10bf845b0&#45;&gt;__main__.TreeNode object at 0x10d434820 -->\n<g id=\"edge1\" class=\"edge\">\n<title>__main__.TreeNode object at 0x10bf845b0&#45;&gt;__main__.TreeNode object at 0x10d434820</title>\n<path fill=\"none\" stroke=\"black\" d=\"M432.65,-360.76C426.83,-349.46 419.11,-334.44 413.3,-323.15\"/>\n</g>\n<!-- __main__.TreeNode object at 0x10bf84250 -->\n<g id=\"node19\" class=\"node\">\n<title>__main__.TreeNode object at 0x10bf84250</title>\n<ellipse fill=\"none\" stroke=\"black\" cx=\"513\" cy=\"-306\" rx=\"27\" ry=\"18\"/>\n</g>\n<!-- __main__.TreeNode object at 0x10bf845b0&#45;&gt;__main__.TreeNode object at 0x10bf84250 -->\n<g id=\"edge18\" class=\"edge\">\n<title>__main__.TreeNode object at 0x10bf845b0&#45;&gt;__main__.TreeNode object at 0x10bf84250</title>\n<path fill=\"none\" stroke=\"black\" d=\"M455.57,-362.83C467.98,-350.77 485.73,-333.51 498.2,-321.38\"/>\n</g>\n<!-- __main__.TreeNode object at 0x10d428c10 -->\n<g id=\"node3\" class=\"node\">\n<title>__main__.TreeNode object at 0x10d428c10</title>\n<ellipse fill=\"none\" stroke=\"black\" cx=\"207\" cy=\"-234\" rx=\"27\" ry=\"18\"/>\n</g>\n<!-- __main__.TreeNode object at 0x10d434820&#45;&gt;__main__.TreeNode object at 0x10d428c10 -->\n<g id=\"edge2\" class=\"edge\">\n<title>__main__.TreeNode object at 0x10d434820&#45;&gt;__main__.TreeNode object at 0x10d428c10</title>\n<path fill=\"none\" stroke=\"black\" d=\"M381.51,-296.7C343.4,-283.22 268.55,-256.76 230.46,-243.29\"/>\n</g>\n<!-- __main__.TreeNode object at 0x10d434a60 -->\n<g id=\"node10\" class=\"node\">\n<title>__main__.TreeNode object at 0x10d434a60</title>\n<ellipse fill=\"none\" stroke=\"black\" cx=\"405\" cy=\"-234\" rx=\"27\" ry=\"18\"/>\n</g>\n<!-- __main__.TreeNode object at 0x10d434820&#45;&gt;__main__.TreeNode object at 0x10d434a60 -->\n<g id=\"edge9\" class=\"edge\">\n<title>__main__.TreeNode object at 0x10d434820&#45;&gt;__main__.TreeNode object at 0x10d434a60</title>\n<path fill=\"none\" stroke=\"black\" d=\"M405,-287.7C405,-276.85 405,-262.92 405,-252.1\"/>\n</g>\n<!-- __main__.TreeNode object at 0x10d428850 -->\n<g id=\"node4\" class=\"node\">\n<title>__main__.TreeNode object at 0x10d428850</title>\n<ellipse fill=\"none\" stroke=\"black\" cx=\"99\" cy=\"-162\" rx=\"27\" ry=\"18\"/>\n</g>\n<!-- __main__.TreeNode object at 0x10d428c10&#45;&gt;__main__.TreeNode object at 0x10d428850 -->\n<g id=\"edge3\" class=\"edge\">\n<title>__main__.TreeNode object at 0x10d428c10&#45;&gt;__main__.TreeNode object at 0x10d428850</title>\n<path fill=\"none\" stroke=\"black\" d=\"M188.19,-220.81C168.37,-207.96 137.34,-187.85 117.6,-175.05\"/>\n</g>\n<!-- __main__.TreeNode object at 0x10d428e50 -->\n<g id=\"node7\" class=\"node\">\n<title>__main__.TreeNode object at 0x10d428e50</title>\n<ellipse fill=\"none\" stroke=\"black\" cx=\"207\" cy=\"-162\" rx=\"27\" ry=\"18\"/>\n</g>\n<!-- __main__.TreeNode object at 0x10d428c10&#45;&gt;__main__.TreeNode object at 0x10d428e50 -->\n<g id=\"edge6\" class=\"edge\">\n<title>__main__.TreeNode object at 0x10d428c10&#45;&gt;__main__.TreeNode object at 0x10d428e50</title>\n<path fill=\"none\" stroke=\"black\" d=\"M207,-215.7C207,-204.85 207,-190.92 207,-180.1\"/>\n</g>\n<!-- __main__.TreeNode object at 0x10d435640 -->\n<g id=\"node5\" class=\"node\">\n<title>__main__.TreeNode object at 0x10d435640</title>\n<ellipse fill=\"none\" stroke=\"black\" cx=\"27\" cy=\"-90\" rx=\"27\" ry=\"18\"/>\n<text text-anchor=\"middle\" x=\"27\" y=\"-86.3\" font-family=\"Times,serif\" font-size=\"14.00\">4</text>\n</g>\n<!-- __main__.TreeNode object at 0x10d428850&#45;&gt;__main__.TreeNode object at 0x10d435640 -->\n<g id=\"edge4\" class=\"edge\">\n<title>__main__.TreeNode object at 0x10d428850&#45;&gt;__main__.TreeNode object at 0x10d435640</title>\n<path fill=\"none\" stroke=\"black\" d=\"M84.43,-146.83C72.02,-134.77 54.27,-117.51 41.8,-105.38\"/>\n</g>\n<!-- __main__.TreeNode object at 0x10d435e20 -->\n<g id=\"node6\" class=\"node\">\n<title>__main__.TreeNode object at 0x10d435e20</title>\n<ellipse fill=\"none\" stroke=\"black\" cx=\"99\" cy=\"-90\" rx=\"27\" ry=\"18\"/>\n<text text-anchor=\"middle\" x=\"99\" y=\"-86.3\" font-family=\"Times,serif\" font-size=\"14.00\">0</text>\n</g>\n<!-- __main__.TreeNode object at 0x10d428850&#45;&gt;__main__.TreeNode object at 0x10d435e20 -->\n<g id=\"edge5\" class=\"edge\">\n<title>__main__.TreeNode object at 0x10d428850&#45;&gt;__main__.TreeNode object at 0x10d435e20</title>\n<path fill=\"none\" stroke=\"black\" d=\"M99,-143.7C99,-132.85 99,-118.92 99,-108.1\"/>\n</g>\n<!-- __main__.TreeNode object at 0x10d4287c0 -->\n<g id=\"node8\" class=\"node\">\n<title>__main__.TreeNode object at 0x10d4287c0</title>\n<ellipse fill=\"none\" stroke=\"black\" cx=\"171\" cy=\"-90\" rx=\"27\" ry=\"18\"/>\n<text text-anchor=\"middle\" x=\"171\" y=\"-86.3\" font-family=\"Times,serif\" font-size=\"14.00\">5</text>\n</g>\n<!-- __main__.TreeNode object at 0x10d428e50&#45;&gt;__main__.TreeNode object at 0x10d4287c0 -->\n<g id=\"edge7\" class=\"edge\">\n<title>__main__.TreeNode object at 0x10d428e50&#45;&gt;__main__.TreeNode object at 0x10d4287c0</title>\n<path fill=\"none\" stroke=\"black\" d=\"M198.65,-144.76C192.83,-133.46 185.11,-118.44 179.3,-107.15\"/>\n</g>\n<!-- __main__.TreeNode object at 0x10d4289a0 -->\n<g id=\"node9\" class=\"node\">\n<title>__main__.TreeNode object at 0x10d4289a0</title>\n<ellipse fill=\"none\" stroke=\"black\" cx=\"243\" cy=\"-90\" rx=\"27\" ry=\"18\"/>\n<text text-anchor=\"middle\" x=\"243\" y=\"-86.3\" font-family=\"Times,serif\" font-size=\"14.00\">4</text>\n</g>\n<!-- __main__.TreeNode object at 0x10d428e50&#45;&gt;__main__.TreeNode object at 0x10d4289a0 -->\n<g id=\"edge8\" class=\"edge\">\n<title>__main__.TreeNode object at 0x10d428e50&#45;&gt;__main__.TreeNode object at 0x10d4289a0</title>\n<path fill=\"none\" stroke=\"black\" d=\"M215.35,-144.76C221.17,-133.46 228.89,-118.44 234.7,-107.15\"/>\n</g>\n<!-- __main__.TreeNode object at 0x10d434640 -->\n<g id=\"node11\" class=\"node\">\n<title>__main__.TreeNode object at 0x10d434640</title>\n<ellipse fill=\"none\" stroke=\"black\" cx=\"387\" cy=\"-162\" rx=\"27\" ry=\"18\"/>\n</g>\n<!-- __main__.TreeNode object at 0x10d434a60&#45;&gt;__main__.TreeNode object at 0x10d434640 -->\n<g id=\"edge10\" class=\"edge\">\n<title>__main__.TreeNode object at 0x10d434a60&#45;&gt;__main__.TreeNode object at 0x10d434640</title>\n<path fill=\"none\" stroke=\"black\" d=\"M400.64,-216.05C397.81,-205.05 394.14,-190.76 391.32,-179.79\"/>\n</g>\n<!-- __main__.TreeNode object at 0x10d434c40 -->\n<g id=\"node14\" class=\"node\">\n<title>__main__.TreeNode object at 0x10d434c40</title>\n<ellipse fill=\"none\" stroke=\"black\" cx=\"459\" cy=\"-162\" rx=\"27\" ry=\"18\"/>\n</g>\n<!-- __main__.TreeNode object at 0x10d434a60&#45;&gt;__main__.TreeNode object at 0x10d434c40 -->\n<g id=\"edge13\" class=\"edge\">\n<title>__main__.TreeNode object at 0x10d434a60&#45;&gt;__main__.TreeNode object at 0x10d434c40</title>\n<path fill=\"none\" stroke=\"black\" d=\"M416.98,-217.46C425.93,-205.86 438.11,-190.08 447.05,-178.49\"/>\n</g>\n<!-- __main__.TreeNode object at 0x10d4348e0 -->\n<g id=\"node12\" class=\"node\">\n<title>__main__.TreeNode object at 0x10d4348e0</title>\n<ellipse fill=\"none\" stroke=\"black\" cx=\"315\" cy=\"-90\" rx=\"27\" ry=\"18\"/>\n<text text-anchor=\"middle\" x=\"315\" y=\"-86.3\" font-family=\"Times,serif\" font-size=\"14.00\">7</text>\n</g>\n<!-- __main__.TreeNode object at 0x10d434640&#45;&gt;__main__.TreeNode object at 0x10d4348e0 -->\n<g id=\"edge11\" class=\"edge\">\n<title>__main__.TreeNode object at 0x10d434640&#45;&gt;__main__.TreeNode object at 0x10d4348e0</title>\n<path fill=\"none\" stroke=\"black\" d=\"M372.43,-146.83C360.02,-134.77 342.27,-117.51 329.8,-105.38\"/>\n</g>\n<!-- __main__.TreeNode object at 0x10d434c10 -->\n<g id=\"node13\" class=\"node\">\n<title>__main__.TreeNode object at 0x10d434c10</title>\n<ellipse fill=\"none\" stroke=\"black\" cx=\"387\" cy=\"-90\" rx=\"27\" ry=\"18\"/>\n<text text-anchor=\"middle\" x=\"387\" y=\"-86.3\" font-family=\"Times,serif\" font-size=\"14.00\">7</text>\n</g>\n<!-- __main__.TreeNode object at 0x10d434640&#45;&gt;__main__.TreeNode object at 0x10d434c10 -->\n<g id=\"edge12\" class=\"edge\">\n<title>__main__.TreeNode object at 0x10d434640&#45;&gt;__main__.TreeNode object at 0x10d434c10</title>\n<path fill=\"none\" stroke=\"black\" d=\"M387,-143.7C387,-132.85 387,-118.92 387,-108.1\"/>\n</g>\n<!-- __main__.TreeNode object at 0x10d434550 -->\n<g id=\"node15\" class=\"node\">\n<title>__main__.TreeNode object at 0x10d434550</title>\n<ellipse fill=\"none\" stroke=\"black\" cx=\"459\" cy=\"-90\" rx=\"27\" ry=\"18\"/>\n<text text-anchor=\"middle\" x=\"459\" y=\"-86.3\" font-family=\"Times,serif\" font-size=\"14.00\">0</text>\n</g>\n<!-- __main__.TreeNode object at 0x10d434c40&#45;&gt;__main__.TreeNode object at 0x10d434550 -->\n<g id=\"edge14\" class=\"edge\">\n<title>__main__.TreeNode object at 0x10d434c40&#45;&gt;__main__.TreeNode object at 0x10d434550</title>\n<path fill=\"none\" stroke=\"black\" d=\"M459,-143.7C459,-132.85 459,-118.92 459,-108.1\"/>\n</g>\n<!-- __main__.TreeNode object at 0x10d434ee0 -->\n<g id=\"node16\" class=\"node\">\n<title>__main__.TreeNode object at 0x10d434ee0</title>\n<ellipse fill=\"none\" stroke=\"black\" cx=\"531\" cy=\"-90\" rx=\"27\" ry=\"18\"/>\n</g>\n<!-- __main__.TreeNode object at 0x10d434c40&#45;&gt;__main__.TreeNode object at 0x10d434ee0 -->\n<g id=\"edge15\" class=\"edge\">\n<title>__main__.TreeNode object at 0x10d434c40&#45;&gt;__main__.TreeNode object at 0x10d434ee0</title>\n<path fill=\"none\" stroke=\"black\" d=\"M473.57,-146.83C485.98,-134.77 503.73,-117.51 516.2,-105.38\"/>\n</g>\n<!-- __main__.TreeNode object at 0x10d434e20 -->\n<g id=\"node17\" class=\"node\">\n<title>__main__.TreeNode object at 0x10d434e20</title>\n<ellipse fill=\"none\" stroke=\"black\" cx=\"495\" cy=\"-18\" rx=\"27\" ry=\"18\"/>\n<text text-anchor=\"middle\" x=\"495\" y=\"-14.3\" font-family=\"Times,serif\" font-size=\"14.00\">6</text>\n</g>\n<!-- __main__.TreeNode object at 0x10d434ee0&#45;&gt;__main__.TreeNode object at 0x10d434e20 -->\n<g id=\"edge16\" class=\"edge\">\n<title>__main__.TreeNode object at 0x10d434ee0&#45;&gt;__main__.TreeNode object at 0x10d434e20</title>\n<path fill=\"none\" stroke=\"black\" d=\"M522.65,-72.76C516.83,-61.46 509.11,-46.44 503.3,-35.15\"/>\n</g>\n<!-- __main__.TreeNode object at 0x10d434910 -->\n<g id=\"node18\" class=\"node\">\n<title>__main__.TreeNode object at 0x10d434910</title>\n<ellipse fill=\"none\" stroke=\"black\" cx=\"567\" cy=\"-18\" rx=\"27\" ry=\"18\"/>\n<text text-anchor=\"middle\" x=\"567\" y=\"-14.3\" font-family=\"Times,serif\" font-size=\"14.00\">7</text>\n</g>\n<!-- __main__.TreeNode object at 0x10d434ee0&#45;&gt;__main__.TreeNode object at 0x10d434910 -->\n<g id=\"edge17\" class=\"edge\">\n<title>__main__.TreeNode object at 0x10d434ee0&#45;&gt;__main__.TreeNode object at 0x10d434910</title>\n<path fill=\"none\" stroke=\"black\" d=\"M539.35,-72.76C545.17,-61.46 552.89,-46.44 558.7,-35.15\"/>\n</g>\n<!-- __main__.TreeNode object at 0x10d434580 -->\n<g id=\"node20\" class=\"node\">\n<title>__main__.TreeNode object at 0x10d434580</title>\n<ellipse fill=\"none\" stroke=\"black\" cx=\"513\" cy=\"-234\" rx=\"27\" ry=\"18\"/>\n<text text-anchor=\"middle\" x=\"513\" y=\"-230.3\" font-family=\"Times,serif\" font-size=\"14.00\">10</text>\n</g>\n<!-- __main__.TreeNode object at 0x10bf84250&#45;&gt;__main__.TreeNode object at 0x10d434580 -->\n<g id=\"edge19\" class=\"edge\">\n<title>__main__.TreeNode object at 0x10bf84250&#45;&gt;__main__.TreeNode object at 0x10d434580</title>\n<path fill=\"none\" stroke=\"black\" d=\"M513,-287.7C513,-276.85 513,-262.92 513,-252.1\"/>\n</g>\n<!-- __main__.TreeNode object at 0x10bf84af0 -->\n<g id=\"node21\" class=\"node\">\n<title>__main__.TreeNode object at 0x10bf84af0</title>\n<ellipse fill=\"none\" stroke=\"black\" cx=\"639\" cy=\"-234\" rx=\"27\" ry=\"18\"/>\n</g>\n<!-- __main__.TreeNode object at 0x10bf84250&#45;&gt;__main__.TreeNode object at 0x10bf84af0 -->\n<g id=\"edge20\" class=\"edge\">\n<title>__main__.TreeNode object at 0x10bf84250&#45;&gt;__main__.TreeNode object at 0x10bf84af0</title>\n<path fill=\"none\" stroke=\"black\" d=\"M533.24,-293.75C556.76,-280.69 595.31,-259.27 618.81,-246.22\"/>\n</g>\n<!-- __main__.TreeNode object at 0x10bf84400 -->\n<g id=\"node22\" class=\"node\">\n<title>__main__.TreeNode object at 0x10bf84400</title>\n<ellipse fill=\"none\" stroke=\"black\" cx=\"639\" cy=\"-162\" rx=\"27\" ry=\"18\"/>\n</g>\n<!-- __main__.TreeNode object at 0x10bf84af0&#45;&gt;__main__.TreeNode object at 0x10bf84400 -->\n<g id=\"edge21\" class=\"edge\">\n<title>__main__.TreeNode object at 0x10bf84af0&#45;&gt;__main__.TreeNode object at 0x10bf84400</title>\n<path fill=\"none\" stroke=\"black\" d=\"M639,-215.7C639,-204.85 639,-190.92 639,-180.1\"/>\n</g>\n<!-- __main__.TreeNode object at 0x10bf849d0 -->\n<g id=\"node25\" class=\"node\">\n<title>__main__.TreeNode object at 0x10bf849d0</title>\n<ellipse fill=\"none\" stroke=\"black\" cx=\"747\" cy=\"-162\" rx=\"27\" ry=\"18\"/>\n</g>\n<!-- __main__.TreeNode object at 0x10bf84af0&#45;&gt;__main__.TreeNode object at 0x10bf849d0 -->\n<g id=\"edge24\" class=\"edge\">\n<title>__main__.TreeNode object at 0x10bf84af0&#45;&gt;__main__.TreeNode object at 0x10bf849d0</title>\n<path fill=\"none\" stroke=\"black\" d=\"M657.81,-220.81C677.63,-207.96 708.66,-187.85 728.4,-175.05\"/>\n</g>\n<!-- __main__.TreeNode object at 0x10bf84280 -->\n<g id=\"node23\" class=\"node\">\n<title>__main__.TreeNode object at 0x10bf84280</title>\n<ellipse fill=\"none\" stroke=\"black\" cx=\"603\" cy=\"-90\" rx=\"27\" ry=\"18\"/>\n<text text-anchor=\"middle\" x=\"603\" y=\"-86.3\" font-family=\"Times,serif\" font-size=\"14.00\">11</text>\n</g>\n<!-- __main__.TreeNode object at 0x10bf84400&#45;&gt;__main__.TreeNode object at 0x10bf84280 -->\n<g id=\"edge22\" class=\"edge\">\n<title>__main__.TreeNode object at 0x10bf84400&#45;&gt;__main__.TreeNode object at 0x10bf84280</title>\n<path fill=\"none\" stroke=\"black\" d=\"M630.65,-144.76C624.83,-133.46 617.11,-118.44 611.3,-107.15\"/>\n</g>\n<!-- __main__.TreeNode object at 0x10bf84370 -->\n<g id=\"node24\" class=\"node\">\n<title>__main__.TreeNode object at 0x10bf84370</title>\n<ellipse fill=\"none\" stroke=\"black\" cx=\"675\" cy=\"-90\" rx=\"27\" ry=\"18\"/>\n<text text-anchor=\"middle\" x=\"675\" y=\"-86.3\" font-family=\"Times,serif\" font-size=\"14.00\">9</text>\n</g>\n<!-- __main__.TreeNode object at 0x10bf84400&#45;&gt;__main__.TreeNode object at 0x10bf84370 -->\n<g id=\"edge23\" class=\"edge\">\n<title>__main__.TreeNode object at 0x10bf84400&#45;&gt;__main__.TreeNode object at 0x10bf84370</title>\n<path fill=\"none\" stroke=\"black\" d=\"M647.35,-144.76C653.17,-133.46 660.89,-118.44 666.7,-107.15\"/>\n</g>\n<!-- __main__.TreeNode object at 0x10bf84dc0 -->\n<g id=\"node26\" class=\"node\">\n<title>__main__.TreeNode object at 0x10bf84dc0</title>\n<ellipse fill=\"none\" stroke=\"black\" cx=\"747\" cy=\"-90\" rx=\"27\" ry=\"18\"/>\n<text text-anchor=\"middle\" x=\"747\" y=\"-86.3\" font-family=\"Times,serif\" font-size=\"14.00\">11</text>\n</g>\n<!-- __main__.TreeNode object at 0x10bf849d0&#45;&gt;__main__.TreeNode object at 0x10bf84dc0 -->\n<g id=\"edge25\" class=\"edge\">\n<title>__main__.TreeNode object at 0x10bf849d0&#45;&gt;__main__.TreeNode object at 0x10bf84dc0</title>\n<path fill=\"none\" stroke=\"black\" d=\"M747,-143.7C747,-132.85 747,-118.92 747,-108.1\"/>\n</g>\n<!-- __main__.TreeNode object at 0x10bf84100 -->\n<g id=\"node27\" class=\"node\">\n<title>__main__.TreeNode object at 0x10bf84100</title>\n<ellipse fill=\"none\" stroke=\"black\" cx=\"819\" cy=\"-90\" rx=\"27\" ry=\"18\"/>\n<text text-anchor=\"middle\" x=\"819\" y=\"-86.3\" font-family=\"Times,serif\" font-size=\"14.00\">0</text>\n</g>\n<!-- __main__.TreeNode object at 0x10bf849d0&#45;&gt;__main__.TreeNode object at 0x10bf84100 -->\n<g id=\"edge26\" class=\"edge\">\n<title>__main__.TreeNode object at 0x10bf849d0&#45;&gt;__main__.TreeNode object at 0x10bf84100</title>\n<path fill=\"none\" stroke=\"black\" d=\"M761.57,-146.83C773.98,-134.77 791.73,-117.51 804.2,-105.38\"/>\n</g>\n</g>\n</svg>\n",
      "text/plain": [
       "<graphviz.dot.Digraph at 0x10d4545e0>"
      ]
     },
     "metadata": {},
     "output_type": "display_data"
    },
    {
     "name": "stdout",
     "output_type": "stream",
     "text": [
      "True\n",
      "[[[[4,0],[5,4]],[[7,7],[6,0]]],[17,[[11,9],[11,0]]]]\n"
     ]
    },
    {
     "data": {
      "image/svg+xml": "<?xml version=\"1.0\" encoding=\"UTF-8\" standalone=\"no\"?>\n<!DOCTYPE svg PUBLIC \"-//W3C//DTD SVG 1.1//EN\"\n \"http://www.w3.org/Graphics/SVG/1.1/DTD/svg11.dtd\">\n<!-- Generated by graphviz version 2.50.0 (20211204.2007)\n -->\n<!-- Pages: 1 -->\n<svg width=\"432pt\" height=\"168pt\"\n viewBox=\"0.00 0.00 432.00 167.94\" xmlns=\"http://www.w3.org/2000/svg\" xmlns:xlink=\"http://www.w3.org/1999/xlink\">\n<g id=\"graph0\" class=\"graph\" transform=\"scale(0.51 0.51) rotate(0) translate(4 328)\">\n<polygon fill=\"white\" stroke=\"transparent\" points=\"-4,4 -4,-328 850,-328 850,4 -4,4\"/>\n<!-- __main__.TreeNode object at 0x10bf845b0 -->\n<g id=\"node1\" class=\"node\">\n<title>__main__.TreeNode object at 0x10bf845b0</title>\n<ellipse fill=\"none\" stroke=\"black\" cx=\"441\" cy=\"-306\" rx=\"27\" ry=\"18\"/>\n</g>\n<!-- __main__.TreeNode object at 0x10d434820 -->\n<g id=\"node2\" class=\"node\">\n<title>__main__.TreeNode object at 0x10d434820</title>\n<ellipse fill=\"none\" stroke=\"black\" cx=\"405\" cy=\"-234\" rx=\"27\" ry=\"18\"/>\n</g>\n<!-- __main__.TreeNode object at 0x10bf845b0&#45;&gt;__main__.TreeNode object at 0x10d434820 -->\n<g id=\"edge1\" class=\"edge\">\n<title>__main__.TreeNode object at 0x10bf845b0&#45;&gt;__main__.TreeNode object at 0x10d434820</title>\n<path fill=\"none\" stroke=\"black\" d=\"M432.65,-288.76C426.83,-277.46 419.11,-262.44 413.3,-251.15\"/>\n</g>\n<!-- __main__.TreeNode object at 0x10bf84250 -->\n<g id=\"node17\" class=\"node\">\n<title>__main__.TreeNode object at 0x10bf84250</title>\n<ellipse fill=\"none\" stroke=\"black\" cx=\"513\" cy=\"-234\" rx=\"27\" ry=\"18\"/>\n</g>\n<!-- __main__.TreeNode object at 0x10bf845b0&#45;&gt;__main__.TreeNode object at 0x10bf84250 -->\n<g id=\"edge16\" class=\"edge\">\n<title>__main__.TreeNode object at 0x10bf845b0&#45;&gt;__main__.TreeNode object at 0x10bf84250</title>\n<path fill=\"none\" stroke=\"black\" d=\"M455.57,-290.83C467.98,-278.77 485.73,-261.51 498.2,-249.38\"/>\n</g>\n<!-- __main__.TreeNode object at 0x10d428c10 -->\n<g id=\"node3\" class=\"node\">\n<title>__main__.TreeNode object at 0x10d428c10</title>\n<ellipse fill=\"none\" stroke=\"black\" cx=\"207\" cy=\"-162\" rx=\"27\" ry=\"18\"/>\n</g>\n<!-- __main__.TreeNode object at 0x10d434820&#45;&gt;__main__.TreeNode object at 0x10d428c10 -->\n<g id=\"edge2\" class=\"edge\">\n<title>__main__.TreeNode object at 0x10d434820&#45;&gt;__main__.TreeNode object at 0x10d428c10</title>\n<path fill=\"none\" stroke=\"black\" d=\"M381.51,-224.7C343.4,-211.22 268.55,-184.76 230.46,-171.29\"/>\n</g>\n<!-- __main__.TreeNode object at 0x10d434a60 -->\n<g id=\"node10\" class=\"node\">\n<title>__main__.TreeNode object at 0x10d434a60</title>\n<ellipse fill=\"none\" stroke=\"black\" cx=\"405\" cy=\"-162\" rx=\"27\" ry=\"18\"/>\n</g>\n<!-- __main__.TreeNode object at 0x10d434820&#45;&gt;__main__.TreeNode object at 0x10d434a60 -->\n<g id=\"edge9\" class=\"edge\">\n<title>__main__.TreeNode object at 0x10d434820&#45;&gt;__main__.TreeNode object at 0x10d434a60</title>\n<path fill=\"none\" stroke=\"black\" d=\"M405,-215.7C405,-204.85 405,-190.92 405,-180.1\"/>\n</g>\n<!-- __main__.TreeNode object at 0x10d428850 -->\n<g id=\"node4\" class=\"node\">\n<title>__main__.TreeNode object at 0x10d428850</title>\n<ellipse fill=\"none\" stroke=\"black\" cx=\"99\" cy=\"-90\" rx=\"27\" ry=\"18\"/>\n</g>\n<!-- __main__.TreeNode object at 0x10d428c10&#45;&gt;__main__.TreeNode object at 0x10d428850 -->\n<g id=\"edge3\" class=\"edge\">\n<title>__main__.TreeNode object at 0x10d428c10&#45;&gt;__main__.TreeNode object at 0x10d428850</title>\n<path fill=\"none\" stroke=\"black\" d=\"M188.19,-148.81C168.37,-135.96 137.34,-115.85 117.6,-103.05\"/>\n</g>\n<!-- __main__.TreeNode object at 0x10d428e50 -->\n<g id=\"node7\" class=\"node\">\n<title>__main__.TreeNode object at 0x10d428e50</title>\n<ellipse fill=\"none\" stroke=\"black\" cx=\"207\" cy=\"-90\" rx=\"27\" ry=\"18\"/>\n</g>\n<!-- __main__.TreeNode object at 0x10d428c10&#45;&gt;__main__.TreeNode object at 0x10d428e50 -->\n<g id=\"edge6\" class=\"edge\">\n<title>__main__.TreeNode object at 0x10d428c10&#45;&gt;__main__.TreeNode object at 0x10d428e50</title>\n<path fill=\"none\" stroke=\"black\" d=\"M207,-143.7C207,-132.85 207,-118.92 207,-108.1\"/>\n</g>\n<!-- __main__.TreeNode object at 0x10d435640 -->\n<g id=\"node5\" class=\"node\">\n<title>__main__.TreeNode object at 0x10d435640</title>\n<ellipse fill=\"none\" stroke=\"black\" cx=\"27\" cy=\"-18\" rx=\"27\" ry=\"18\"/>\n<text text-anchor=\"middle\" x=\"27\" y=\"-14.3\" font-family=\"Times,serif\" font-size=\"14.00\">4</text>\n</g>\n<!-- __main__.TreeNode object at 0x10d428850&#45;&gt;__main__.TreeNode object at 0x10d435640 -->\n<g id=\"edge4\" class=\"edge\">\n<title>__main__.TreeNode object at 0x10d428850&#45;&gt;__main__.TreeNode object at 0x10d435640</title>\n<path fill=\"none\" stroke=\"black\" d=\"M84.43,-74.83C72.02,-62.77 54.27,-45.51 41.8,-33.38\"/>\n</g>\n<!-- __main__.TreeNode object at 0x10d435e20 -->\n<g id=\"node6\" class=\"node\">\n<title>__main__.TreeNode object at 0x10d435e20</title>\n<ellipse fill=\"none\" stroke=\"black\" cx=\"99\" cy=\"-18\" rx=\"27\" ry=\"18\"/>\n<text text-anchor=\"middle\" x=\"99\" y=\"-14.3\" font-family=\"Times,serif\" font-size=\"14.00\">0</text>\n</g>\n<!-- __main__.TreeNode object at 0x10d428850&#45;&gt;__main__.TreeNode object at 0x10d435e20 -->\n<g id=\"edge5\" class=\"edge\">\n<title>__main__.TreeNode object at 0x10d428850&#45;&gt;__main__.TreeNode object at 0x10d435e20</title>\n<path fill=\"none\" stroke=\"black\" d=\"M99,-71.7C99,-60.85 99,-46.92 99,-36.1\"/>\n</g>\n<!-- __main__.TreeNode object at 0x10d4287c0 -->\n<g id=\"node8\" class=\"node\">\n<title>__main__.TreeNode object at 0x10d4287c0</title>\n<ellipse fill=\"none\" stroke=\"black\" cx=\"171\" cy=\"-18\" rx=\"27\" ry=\"18\"/>\n<text text-anchor=\"middle\" x=\"171\" y=\"-14.3\" font-family=\"Times,serif\" font-size=\"14.00\">5</text>\n</g>\n<!-- __main__.TreeNode object at 0x10d428e50&#45;&gt;__main__.TreeNode object at 0x10d4287c0 -->\n<g id=\"edge7\" class=\"edge\">\n<title>__main__.TreeNode object at 0x10d428e50&#45;&gt;__main__.TreeNode object at 0x10d4287c0</title>\n<path fill=\"none\" stroke=\"black\" d=\"M198.65,-72.76C192.83,-61.46 185.11,-46.44 179.3,-35.15\"/>\n</g>\n<!-- __main__.TreeNode object at 0x10d4289a0 -->\n<g id=\"node9\" class=\"node\">\n<title>__main__.TreeNode object at 0x10d4289a0</title>\n<ellipse fill=\"none\" stroke=\"black\" cx=\"243\" cy=\"-18\" rx=\"27\" ry=\"18\"/>\n<text text-anchor=\"middle\" x=\"243\" y=\"-14.3\" font-family=\"Times,serif\" font-size=\"14.00\">4</text>\n</g>\n<!-- __main__.TreeNode object at 0x10d428e50&#45;&gt;__main__.TreeNode object at 0x10d4289a0 -->\n<g id=\"edge8\" class=\"edge\">\n<title>__main__.TreeNode object at 0x10d428e50&#45;&gt;__main__.TreeNode object at 0x10d4289a0</title>\n<path fill=\"none\" stroke=\"black\" d=\"M215.35,-72.76C221.17,-61.46 228.89,-46.44 234.7,-35.15\"/>\n</g>\n<!-- __main__.TreeNode object at 0x10d434640 -->\n<g id=\"node11\" class=\"node\">\n<title>__main__.TreeNode object at 0x10d434640</title>\n<ellipse fill=\"none\" stroke=\"black\" cx=\"387\" cy=\"-90\" rx=\"27\" ry=\"18\"/>\n</g>\n<!-- __main__.TreeNode object at 0x10d434a60&#45;&gt;__main__.TreeNode object at 0x10d434640 -->\n<g id=\"edge10\" class=\"edge\">\n<title>__main__.TreeNode object at 0x10d434a60&#45;&gt;__main__.TreeNode object at 0x10d434640</title>\n<path fill=\"none\" stroke=\"black\" d=\"M400.64,-144.05C397.81,-133.05 394.14,-118.76 391.32,-107.79\"/>\n</g>\n<!-- __main__.TreeNode object at 0x10d434c40 -->\n<g id=\"node14\" class=\"node\">\n<title>__main__.TreeNode object at 0x10d434c40</title>\n<ellipse fill=\"none\" stroke=\"black\" cx=\"459\" cy=\"-90\" rx=\"27\" ry=\"18\"/>\n</g>\n<!-- __main__.TreeNode object at 0x10d434a60&#45;&gt;__main__.TreeNode object at 0x10d434c40 -->\n<g id=\"edge13\" class=\"edge\">\n<title>__main__.TreeNode object at 0x10d434a60&#45;&gt;__main__.TreeNode object at 0x10d434c40</title>\n<path fill=\"none\" stroke=\"black\" d=\"M416.98,-145.46C425.93,-133.86 438.11,-118.08 447.05,-106.49\"/>\n</g>\n<!-- __main__.TreeNode object at 0x10d4348e0 -->\n<g id=\"node12\" class=\"node\">\n<title>__main__.TreeNode object at 0x10d4348e0</title>\n<ellipse fill=\"none\" stroke=\"black\" cx=\"315\" cy=\"-18\" rx=\"27\" ry=\"18\"/>\n<text text-anchor=\"middle\" x=\"315\" y=\"-14.3\" font-family=\"Times,serif\" font-size=\"14.00\">7</text>\n</g>\n<!-- __main__.TreeNode object at 0x10d434640&#45;&gt;__main__.TreeNode object at 0x10d4348e0 -->\n<g id=\"edge11\" class=\"edge\">\n<title>__main__.TreeNode object at 0x10d434640&#45;&gt;__main__.TreeNode object at 0x10d4348e0</title>\n<path fill=\"none\" stroke=\"black\" d=\"M372.43,-74.83C360.02,-62.77 342.27,-45.51 329.8,-33.38\"/>\n</g>\n<!-- __main__.TreeNode object at 0x10d434c10 -->\n<g id=\"node13\" class=\"node\">\n<title>__main__.TreeNode object at 0x10d434c10</title>\n<ellipse fill=\"none\" stroke=\"black\" cx=\"387\" cy=\"-18\" rx=\"27\" ry=\"18\"/>\n<text text-anchor=\"middle\" x=\"387\" y=\"-14.3\" font-family=\"Times,serif\" font-size=\"14.00\">7</text>\n</g>\n<!-- __main__.TreeNode object at 0x10d434640&#45;&gt;__main__.TreeNode object at 0x10d434c10 -->\n<g id=\"edge12\" class=\"edge\">\n<title>__main__.TreeNode object at 0x10d434640&#45;&gt;__main__.TreeNode object at 0x10d434c10</title>\n<path fill=\"none\" stroke=\"black\" d=\"M387,-71.7C387,-60.85 387,-46.92 387,-36.1\"/>\n</g>\n<!-- __main__.TreeNode object at 0x10d434550 -->\n<g id=\"node15\" class=\"node\">\n<title>__main__.TreeNode object at 0x10d434550</title>\n<ellipse fill=\"none\" stroke=\"black\" cx=\"459\" cy=\"-18\" rx=\"27\" ry=\"18\"/>\n<text text-anchor=\"middle\" x=\"459\" y=\"-14.3\" font-family=\"Times,serif\" font-size=\"14.00\">6</text>\n</g>\n<!-- __main__.TreeNode object at 0x10d434c40&#45;&gt;__main__.TreeNode object at 0x10d434550 -->\n<g id=\"edge14\" class=\"edge\">\n<title>__main__.TreeNode object at 0x10d434c40&#45;&gt;__main__.TreeNode object at 0x10d434550</title>\n<path fill=\"none\" stroke=\"black\" d=\"M459,-71.7C459,-60.85 459,-46.92 459,-36.1\"/>\n</g>\n<!-- __main__.TreeNode object at 0x10d434ee0 -->\n<g id=\"node16\" class=\"node\">\n<title>__main__.TreeNode object at 0x10d434ee0</title>\n<ellipse fill=\"none\" stroke=\"black\" cx=\"531\" cy=\"-18\" rx=\"27\" ry=\"18\"/>\n<text text-anchor=\"middle\" x=\"531\" y=\"-14.3\" font-family=\"Times,serif\" font-size=\"14.00\">0</text>\n</g>\n<!-- __main__.TreeNode object at 0x10d434c40&#45;&gt;__main__.TreeNode object at 0x10d434ee0 -->\n<g id=\"edge15\" class=\"edge\">\n<title>__main__.TreeNode object at 0x10d434c40&#45;&gt;__main__.TreeNode object at 0x10d434ee0</title>\n<path fill=\"none\" stroke=\"black\" d=\"M473.57,-74.83C485.98,-62.77 503.73,-45.51 516.2,-33.38\"/>\n</g>\n<!-- __main__.TreeNode object at 0x10d434580 -->\n<g id=\"node18\" class=\"node\">\n<title>__main__.TreeNode object at 0x10d434580</title>\n<ellipse fill=\"none\" stroke=\"black\" cx=\"513\" cy=\"-162\" rx=\"27\" ry=\"18\"/>\n<text text-anchor=\"middle\" x=\"513\" y=\"-158.3\" font-family=\"Times,serif\" font-size=\"14.00\">17</text>\n</g>\n<!-- __main__.TreeNode object at 0x10bf84250&#45;&gt;__main__.TreeNode object at 0x10d434580 -->\n<g id=\"edge17\" class=\"edge\">\n<title>__main__.TreeNode object at 0x10bf84250&#45;&gt;__main__.TreeNode object at 0x10d434580</title>\n<path fill=\"none\" stroke=\"black\" d=\"M513,-215.7C513,-204.85 513,-190.92 513,-180.1\"/>\n</g>\n<!-- __main__.TreeNode object at 0x10bf84af0 -->\n<g id=\"node19\" class=\"node\">\n<title>__main__.TreeNode object at 0x10bf84af0</title>\n<ellipse fill=\"none\" stroke=\"black\" cx=\"639\" cy=\"-162\" rx=\"27\" ry=\"18\"/>\n</g>\n<!-- __main__.TreeNode object at 0x10bf84250&#45;&gt;__main__.TreeNode object at 0x10bf84af0 -->\n<g id=\"edge18\" class=\"edge\">\n<title>__main__.TreeNode object at 0x10bf84250&#45;&gt;__main__.TreeNode object at 0x10bf84af0</title>\n<path fill=\"none\" stroke=\"black\" d=\"M533.24,-221.75C556.76,-208.69 595.31,-187.27 618.81,-174.22\"/>\n</g>\n<!-- __main__.TreeNode object at 0x10bf84400 -->\n<g id=\"node20\" class=\"node\">\n<title>__main__.TreeNode object at 0x10bf84400</title>\n<ellipse fill=\"none\" stroke=\"black\" cx=\"639\" cy=\"-90\" rx=\"27\" ry=\"18\"/>\n</g>\n<!-- __main__.TreeNode object at 0x10bf84af0&#45;&gt;__main__.TreeNode object at 0x10bf84400 -->\n<g id=\"edge19\" class=\"edge\">\n<title>__main__.TreeNode object at 0x10bf84af0&#45;&gt;__main__.TreeNode object at 0x10bf84400</title>\n<path fill=\"none\" stroke=\"black\" d=\"M639,-143.7C639,-132.85 639,-118.92 639,-108.1\"/>\n</g>\n<!-- __main__.TreeNode object at 0x10bf849d0 -->\n<g id=\"node23\" class=\"node\">\n<title>__main__.TreeNode object at 0x10bf849d0</title>\n<ellipse fill=\"none\" stroke=\"black\" cx=\"747\" cy=\"-90\" rx=\"27\" ry=\"18\"/>\n</g>\n<!-- __main__.TreeNode object at 0x10bf84af0&#45;&gt;__main__.TreeNode object at 0x10bf849d0 -->\n<g id=\"edge22\" class=\"edge\">\n<title>__main__.TreeNode object at 0x10bf84af0&#45;&gt;__main__.TreeNode object at 0x10bf849d0</title>\n<path fill=\"none\" stroke=\"black\" d=\"M657.81,-148.81C677.63,-135.96 708.66,-115.85 728.4,-103.05\"/>\n</g>\n<!-- __main__.TreeNode object at 0x10bf84280 -->\n<g id=\"node21\" class=\"node\">\n<title>__main__.TreeNode object at 0x10bf84280</title>\n<ellipse fill=\"none\" stroke=\"black\" cx=\"603\" cy=\"-18\" rx=\"27\" ry=\"18\"/>\n<text text-anchor=\"middle\" x=\"603\" y=\"-14.3\" font-family=\"Times,serif\" font-size=\"14.00\">11</text>\n</g>\n<!-- __main__.TreeNode object at 0x10bf84400&#45;&gt;__main__.TreeNode object at 0x10bf84280 -->\n<g id=\"edge20\" class=\"edge\">\n<title>__main__.TreeNode object at 0x10bf84400&#45;&gt;__main__.TreeNode object at 0x10bf84280</title>\n<path fill=\"none\" stroke=\"black\" d=\"M630.65,-72.76C624.83,-61.46 617.11,-46.44 611.3,-35.15\"/>\n</g>\n<!-- __main__.TreeNode object at 0x10bf84370 -->\n<g id=\"node22\" class=\"node\">\n<title>__main__.TreeNode object at 0x10bf84370</title>\n<ellipse fill=\"none\" stroke=\"black\" cx=\"675\" cy=\"-18\" rx=\"27\" ry=\"18\"/>\n<text text-anchor=\"middle\" x=\"675\" y=\"-14.3\" font-family=\"Times,serif\" font-size=\"14.00\">9</text>\n</g>\n<!-- __main__.TreeNode object at 0x10bf84400&#45;&gt;__main__.TreeNode object at 0x10bf84370 -->\n<g id=\"edge21\" class=\"edge\">\n<title>__main__.TreeNode object at 0x10bf84400&#45;&gt;__main__.TreeNode object at 0x10bf84370</title>\n<path fill=\"none\" stroke=\"black\" d=\"M647.35,-72.76C653.17,-61.46 660.89,-46.44 666.7,-35.15\"/>\n</g>\n<!-- __main__.TreeNode object at 0x10bf84dc0 -->\n<g id=\"node24\" class=\"node\">\n<title>__main__.TreeNode object at 0x10bf84dc0</title>\n<ellipse fill=\"none\" stroke=\"black\" cx=\"747\" cy=\"-18\" rx=\"27\" ry=\"18\"/>\n<text text-anchor=\"middle\" x=\"747\" y=\"-14.3\" font-family=\"Times,serif\" font-size=\"14.00\">11</text>\n</g>\n<!-- __main__.TreeNode object at 0x10bf849d0&#45;&gt;__main__.TreeNode object at 0x10bf84dc0 -->\n<g id=\"edge23\" class=\"edge\">\n<title>__main__.TreeNode object at 0x10bf849d0&#45;&gt;__main__.TreeNode object at 0x10bf84dc0</title>\n<path fill=\"none\" stroke=\"black\" d=\"M747,-71.7C747,-60.85 747,-46.92 747,-36.1\"/>\n</g>\n<!-- __main__.TreeNode object at 0x10bf84100 -->\n<g id=\"node25\" class=\"node\">\n<title>__main__.TreeNode object at 0x10bf84100</title>\n<ellipse fill=\"none\" stroke=\"black\" cx=\"819\" cy=\"-18\" rx=\"27\" ry=\"18\"/>\n<text text-anchor=\"middle\" x=\"819\" y=\"-14.3\" font-family=\"Times,serif\" font-size=\"14.00\">0</text>\n</g>\n<!-- __main__.TreeNode object at 0x10bf849d0&#45;&gt;__main__.TreeNode object at 0x10bf84100 -->\n<g id=\"edge24\" class=\"edge\">\n<title>__main__.TreeNode object at 0x10bf849d0&#45;&gt;__main__.TreeNode object at 0x10bf84100</title>\n<path fill=\"none\" stroke=\"black\" d=\"M761.57,-74.83C773.98,-62.77 791.73,-45.51 804.2,-33.38\"/>\n</g>\n</g>\n</svg>\n",
      "text/plain": [
       "<graphviz.dot.Digraph at 0x10bf84e80>"
      ]
     },
     "metadata": {},
     "output_type": "display_data"
    }
   ],
   "source": [
    "root = parse(\"[[[[4,0],[5,4]],[[7,7],[0,[6,7]]]],[10,[[11,9],[11,0]]]]\")\n",
    "printTree(root)\n",
    "displayTree(root)\n",
    "\n",
    "print(explode(root))\n",
    "\n",
    "printTree(root)\n",
    "displayTree(root)"
   ]
  },
  {
   "cell_type": "code",
   "execution_count": 17,
   "id": "9b63bcad",
   "metadata": {},
   "outputs": [
    {
     "name": "stdout",
     "output_type": "stream",
     "text": [
      "[[[[6,7],[6,7]],[[7,7],[0,7]]],[[[8,7],[7,7]],[[8,8],[8,0]]]]\n"
     ]
    }
   ],
   "source": [
    "def reduce(root):\n",
    "    def reduceHelper(tree):\n",
    "        if explode(tree):\n",
    "            #print(\"explode\")\n",
    "            #printTree(tree)\n",
    "            return True\n",
    "        else:\n",
    "            if split(tree):\n",
    "                #print(\"split\")\n",
    "                #printTree(tree)\n",
    "                return True\n",
    "        return False\n",
    "        \n",
    "    while reduceHelper(root):\n",
    "        pass\n",
    "    return\n",
    "\n",
    "aa = parse(\"[[[[4,0],[5,4]],[[7,7],[6,0]]],[[8,[7,7]],[[7,9],[5,0]]]]\")\n",
    "bb = parse(\"[[2,[[0,8],[3,4]]],[[[6,7],1],[7,[1,6]]]]\")\n",
    "cc = add(aa, bb)\n",
    "reduce(cc)\n",
    "printTree(cc)"
   ]
  },
  {
   "cell_type": "code",
   "execution_count": null,
   "id": "bb741509",
   "metadata": {},
   "outputs": [],
   "source": []
  },
  {
   "cell_type": "markdown",
   "id": "f88b71c4",
   "metadata": {},
   "source": [
    "## Solution 1"
   ]
  },
  {
   "cell_type": "code",
   "execution_count": 18,
   "id": "3b11a060",
   "metadata": {},
   "outputs": [
    {
     "data": {
      "text/plain": [
       "4140"
      ]
     },
     "execution_count": 18,
     "metadata": {},
     "output_type": "execute_result"
    }
   ],
   "source": [
    "def solve_1(input):\n",
    "    result = None\n",
    "    for line in input:\n",
    "        a = parse(line)\n",
    "        if result == None:\n",
    "            result = a\n",
    "            continue\n",
    "        result = add(result, a)\n",
    "        reduce(result)\n",
    "    return magnitude(result)\n",
    "\n",
    "solve_1(test_input)"
   ]
  },
  {
   "cell_type": "code",
   "execution_count": null,
   "id": "9ae1d9b0",
   "metadata": {},
   "outputs": [],
   "source": [
    "f\"Solution 1: {solve_1(final_input)}\""
   ]
  },
  {
   "cell_type": "markdown",
   "id": "c4a93ab3",
   "metadata": {},
   "source": [
    "## Solution 2"
   ]
  },
  {
   "cell_type": "code",
   "execution_count": 20,
   "id": "de89416a",
   "metadata": {},
   "outputs": [
    {
     "data": {
      "text/plain": [
       "3993"
      ]
     },
     "execution_count": 20,
     "metadata": {},
     "output_type": "execute_result"
    }
   ],
   "source": [
    "def solve_2(input):\n",
    "    count = 0\n",
    "    for i,l1 in enumerate(input):\n",
    "        for j,l2 in enumerate(input):\n",
    "            a = parse(l1)\n",
    "            b = parse(l2)\n",
    "            \n",
    "            if i != j:\n",
    "                result = add(a, b)\n",
    "                reduce(result)\n",
    "                value = magnitude(result)\n",
    "                if value > count:\n",
    "                    count = value\n",
    "    return count\n",
    "    \n",
    "solve_2(test_input)"
   ]
  },
  {
   "cell_type": "code",
   "execution_count": null,
   "id": "a384f741",
   "metadata": {},
   "outputs": [],
   "source": [
    "f\"Solution 2: {solve_2(final_input)}\""
   ]
  },
  {
   "cell_type": "code",
   "execution_count": null,
   "id": "f1e461af",
   "metadata": {},
   "outputs": [],
   "source": []
  }
 ],
 "metadata": {
  "kernelspec": {
   "display_name": "Python 3 (ipykernel)",
   "language": "python",
   "name": "python3"
  },
  "language_info": {
   "codemirror_mode": {
    "name": "ipython",
    "version": 3
   },
   "file_extension": ".py",
   "mimetype": "text/x-python",
   "name": "python",
   "nbconvert_exporter": "python",
   "pygments_lexer": "ipython3",
   "version": "3.9.9"
  }
 },
 "nbformat": 4,
 "nbformat_minor": 5
}
