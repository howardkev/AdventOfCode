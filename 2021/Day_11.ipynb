{
 "cells": [
  {
   "cell_type": "markdown",
   "id": "9f697af2",
   "metadata": {},
   "source": [
    "# --- `Day 11`: Title ---"
   ]
  },
  {
   "cell_type": "code",
   "execution_count": 59,
   "id": "ac96ba0f",
   "metadata": {},
   "outputs": [],
   "source": [
    "import aocd\n",
    "import re\n",
    "import operator\n",
    "from collections import Counter, defaultdict, deque\n",
    "from itertools import combinations\n",
    "from functools import reduce, lru_cache\n",
    "\n",
    "def prod(iterable):\n",
    "    return reduce(operator.mul, iterable, 1)\n",
    "\n",
    "def count(iterable, predicate = bool):\n",
    "    return sum([1 for item in iterable if predicate(item)])\n",
    "\n",
    "def first(iterable, default = None):\n",
    "    return next(iter(iterable), default)\n",
    "\n",
    "def lmap(func, *iterables):\n",
    "    return list(map(func, *iterables))\n",
    "\n",
    "def ints(s):\n",
    "    return lmap(int, re.findall(r\"-?\\d+\", s))\n",
    "\n",
    "def words(s):\n",
    "    return re.findall(r\"[a-zA-Z]+\", s)\n",
    "\n",
    "def list_diff(x):\n",
    "    return [b - a for a, b in zip(x, x[1:])]\n",
    "\n",
    "def binary_to_int(lst):\n",
    "    return int(\"\".join(str(i) for i in lst), 2)\n",
    "\n",
    "def get_column(lst, index):\n",
    "    return [x[index] for x in lst]\n",
    "\n",
    "def get8Neighbors(input, r, c, w, h):\n",
    "    offsets = [(-1,0), (0,1), (1,0), (0,-1), (-1,-1), (1,1), (-1,1), (1,-1)]\n",
    "    result = []\n",
    "    for (dr,dc) in offsets:\n",
    "        rr = r + dr\n",
    "        cc = c + dc\n",
    "        if 0 <= rr < h and 0 <= cc < w:\n",
    "            result.append((rr,cc))\n",
    "    return result\n",
    "\n",
    "def get4Neighbors(input, r, c, w, h):\n",
    "    offsets = [(-1,0), (0,1), (1,0), (0,-1)]\n",
    "    result = []\n",
    "    for (dr,dc) in offsets:\n",
    "        rr = r + dr\n",
    "        cc = c + dc\n",
    "        if 0 <= rr < h and 0 <= cc < w:\n",
    "            result.append((rr,cc))\n",
    "    return result\n",
    "\n",
    "def printBoard(board, filled = set()):\n",
    "    for r in range(min(20, len(board))):        \n",
    "        print(''.join(str(board[r][c]) if (r,c) not in filled else '*' \n",
    "                for c in range(min(40, len(board[0])))))"
   ]
  },
  {
   "cell_type": "code",
   "execution_count": 6,
   "id": "7280dabd",
   "metadata": {},
   "outputs": [],
   "source": [
    "def parse_line(line): \n",
    "    return lmap(int, line)\n",
    "    \n",
    "def parse_input(input):\n",
    "    return list(map(parse_line, input.splitlines()))"
   ]
  },
  {
   "cell_type": "code",
   "execution_count": 7,
   "id": "621f30ed",
   "metadata": {},
   "outputs": [
    {
     "name": "stdout",
     "output_type": "stream",
     "text": [
      "[[4, 7, 4, 3, 3, 7, 8, 3, 1, 8], [4, 6, 6, 4, 2, 1, 2, 8, 4, 4], [2, 5, 3, 5, 6, 6, 7, 8, 8, 4], [3, 2, 7, 3, 3, 6, 3, 8, 6, 1], [2, 2, 8, 2, 4, 3, 2, 6, 1, 2]]\n"
     ]
    }
   ],
   "source": [
    "final_input = parse_input(aocd.get_data(day=11, year=2021))\n",
    "print(final_input[:5])"
   ]
  },
  {
   "cell_type": "code",
   "execution_count": 8,
   "id": "69f5f045",
   "metadata": {},
   "outputs": [
    {
     "name": "stdout",
     "output_type": "stream",
     "text": [
      "[[5, 4, 8, 3, 1, 4, 3, 2, 2, 3], [2, 7, 4, 5, 8, 5, 4, 7, 1, 1], [5, 2, 6, 4, 5, 5, 6, 1, 7, 3], [6, 1, 4, 1, 3, 3, 6, 1, 4, 6], [6, 3, 5, 7, 3, 8, 5, 4, 7, 8], [4, 1, 6, 7, 5, 2, 4, 6, 4, 5], [2, 1, 7, 6, 8, 4, 1, 7, 2, 1], [6, 8, 8, 2, 8, 8, 1, 1, 3, 4], [4, 8, 4, 6, 8, 4, 8, 5, 5, 4], [5, 2, 8, 3, 7, 5, 1, 5, 2, 6]]\n"
     ]
    }
   ],
   "source": [
    "test_input = parse_input('''\\\n",
    "5483143223\n",
    "2745854711\n",
    "5264556173\n",
    "6141336146\n",
    "6357385478\n",
    "4167524645\n",
    "2176841721\n",
    "6882881134\n",
    "4846848554\n",
    "5283751526\n",
    "''')\n",
    "\n",
    "print(test_input)"
   ]
  },
  {
   "cell_type": "markdown",
   "id": "f88b71c4",
   "metadata": {},
   "source": [
    "## Solution 1"
   ]
  },
  {
   "cell_type": "code",
   "execution_count": 58,
   "id": "3b11a060",
   "metadata": {},
   "outputs": [
    {
     "data": {
      "text/plain": [
       "204"
      ]
     },
     "execution_count": 58,
     "metadata": {},
     "output_type": "execute_result"
    }
   ],
   "source": [
    "def solve_1(input, times):\n",
    "    w = len(input[0]), len(input)\n",
    "    board = [r[:] for r in input]\n",
    "    \n",
    "    count = 0\n",
    "    for i in range(times):\n",
    "        flashed = set()\n",
    "        visited = set()\n",
    "        for r in range(len(board)):\n",
    "            for c in range(len(board[0])):\n",
    "                if board[r][c] == 9:\n",
    "                    flashed.add((r,c))\n",
    "                    visited.add((r,c))\n",
    "                    board[r][c] = 0\n",
    "                else:\n",
    "                    board[r][c] += 1\n",
    "                    \n",
    "        while flashed:\n",
    "            newFlashed = set()\n",
    "            for (r,c) in flashed:\n",
    "                for pt in get8Neighbors(board, r, c, w, h):\n",
    "                    if not pt in visited:\n",
    "                        rr,cc = pt\n",
    "                        if board[rr][cc] == 9:\n",
    "                            newFlashed.add((rr,cc))\n",
    "                            visited.add((rr,cc))\n",
    "                            board[rr][cc] = 0\n",
    "                        else:\n",
    "                            board[rr][cc] += 1\n",
    "            count += len(flashed)\n",
    "            flashed = newFlashed\n",
    "                  \n",
    "        #print(\"\")\n",
    "        #print(i + 1)\n",
    "        #printBoard(board, visited)\n",
    "    return count\n",
    "\n",
    "solve_1(test_input, 10)"
   ]
  },
  {
   "cell_type": "code",
   "execution_count": 54,
   "id": "9ae1d9b0",
   "metadata": {},
   "outputs": [
    {
     "data": {
      "text/plain": [
       "'Solution 1: 1741'"
      ]
     },
     "execution_count": 54,
     "metadata": {},
     "output_type": "execute_result"
    }
   ],
   "source": [
    "f\"Solution 1: {solve_1(final_input, 100)}\""
   ]
  },
  {
   "cell_type": "markdown",
   "id": "c4a93ab3",
   "metadata": {},
   "source": [
    "## Solution 2"
   ]
  },
  {
   "cell_type": "code",
   "execution_count": 65,
   "id": "de89416a",
   "metadata": {},
   "outputs": [
    {
     "data": {
      "text/plain": [
       "195"
      ]
     },
     "execution_count": 65,
     "metadata": {},
     "output_type": "execute_result"
    }
   ],
   "source": [
    "def solve_2(input):\n",
    "    w,h = len(input[0]), len(input)\n",
    "    board = [r[:] for r in input]\n",
    "    \n",
    "    i = 0\n",
    "    while True:\n",
    "        i += 1\n",
    "        flashed = set()\n",
    "        visited = set()\n",
    "        for r in range(h):\n",
    "            for c in range(w):\n",
    "                if board[r][c] == 9:\n",
    "                    flashed.add((r,c))\n",
    "                    visited.add((r,c))\n",
    "                    board[r][c] = 0\n",
    "                else:\n",
    "                    board[r][c] += 1\n",
    "                    \n",
    "        while flashed:\n",
    "            newFlashed = set()\n",
    "            for (r,c) in flashed:\n",
    "                for pt in get8Neighbors(board, r, c, w, h):\n",
    "                    if not pt in visited:\n",
    "                        rr,cc = pt\n",
    "                        if board[rr][cc] == 9:\n",
    "                            newFlashed.add((rr,cc))\n",
    "                            visited.add((rr,cc))\n",
    "                            board[rr][cc] = 0\n",
    "                        else:\n",
    "                            board[rr][cc] += 1\n",
    "            flashed = newFlashed\n",
    "                   \n",
    "        #print(\"\")\n",
    "        #print(i + 1)\n",
    "        #printBoard(board, visited)\n",
    "        if len(visited) == w * h:\n",
    "            return i\n",
    "    \n",
    "solve_2(test_input)"
   ]
  },
  {
   "cell_type": "code",
   "execution_count": 64,
   "id": "a384f741",
   "metadata": {},
   "outputs": [
    {
     "data": {
      "text/plain": [
       "'Solution 2: 440'"
      ]
     },
     "execution_count": 64,
     "metadata": {},
     "output_type": "execute_result"
    }
   ],
   "source": [
    "f\"Solution 2: {solve_2(final_input)}\""
   ]
  },
  {
   "cell_type": "code",
   "execution_count": null,
   "id": "f1e461af",
   "metadata": {},
   "outputs": [],
   "source": []
  }
 ],
 "metadata": {
  "kernelspec": {
   "display_name": "Python 3 (ipykernel)",
   "language": "python",
   "name": "python3"
  },
  "language_info": {
   "codemirror_mode": {
    "name": "ipython",
    "version": 3
   },
   "file_extension": ".py",
   "mimetype": "text/x-python",
   "name": "python",
   "nbconvert_exporter": "python",
   "pygments_lexer": "ipython3",
   "version": "3.9.8"
  }
 },
 "nbformat": 4,
 "nbformat_minor": 5
}
