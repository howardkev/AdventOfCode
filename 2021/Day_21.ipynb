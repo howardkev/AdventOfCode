{
 "cells": [
  {
   "cell_type": "markdown",
   "id": "9f697af2",
   "metadata": {},
   "source": [
    "# --- `Day 21`: Dirac Dice ---"
   ]
  },
  {
   "cell_type": "code",
   "execution_count": 5,
   "id": "ac96ba0f",
   "metadata": {},
   "outputs": [],
   "source": [
    "import aocd\n",
    "import re\n",
    "import heapq\n",
    "import operator\n",
    "from collections import Counter, defaultdict, deque\n",
    "from itertools import combinations\n",
    "from functools import reduce, lru_cache\n",
    "\n",
    "def prod(iterable):\n",
    "    return reduce(operator.mul, iterable, 1)\n",
    "\n",
    "def count(iterable, predicate = bool):\n",
    "    return sum([1 for item in iterable if predicate(item)])\n",
    "\n",
    "def first(iterable, default = None):\n",
    "    return next(iter(iterable), default)\n",
    "\n",
    "def lmap(func, *iterables):\n",
    "    return list(map(func, *iterables))\n",
    "\n",
    "def ints(s):\n",
    "    return lmap(int, re.findall(r\"-?\\d+\", s))\n",
    "\n",
    "def words(s):\n",
    "    return re.findall(r\"[a-zA-Z]+\", s)\n",
    "\n",
    "def list_diff(x):\n",
    "    return [b - a for a, b in zip(x, x[1:])]\n",
    "\n",
    "def binary_to_int(lst):\n",
    "    return int(\"\".join(str(i) for i in lst), 2)\n",
    "\n",
    "def get_column(lst, index):\n",
    "    return [y[index] for y in lst]"
   ]
  },
  {
   "cell_type": "code",
   "execution_count": 9,
   "id": "7280dabd",
   "metadata": {},
   "outputs": [],
   "source": [
    "def parse_line(line): \n",
    "    return ints(line)\n",
    "    \n",
    "def parse_input(input):\n",
    "    #return input\n",
    "    return list(map(parse_line, input.splitlines()))"
   ]
  },
  {
   "cell_type": "code",
   "execution_count": 10,
   "id": "621f30ed",
   "metadata": {},
   "outputs": [
    {
     "name": "stdout",
     "output_type": "stream",
     "text": [
      "[[1, 6], [2, 3]]\n"
     ]
    }
   ],
   "source": [
    "final_input = parse_input(aocd.get_data(day=21, year=2021))\n",
    "print(final_input[:5])"
   ]
  },
  {
   "cell_type": "code",
   "execution_count": 11,
   "id": "69f5f045",
   "metadata": {},
   "outputs": [
    {
     "name": "stdout",
     "output_type": "stream",
     "text": [
      "[[1, 4], [2, 8]]\n"
     ]
    }
   ],
   "source": [
    "test_input = parse_input('''\\\n",
    "Player 1 starting position: 4\n",
    "Player 2 starting position: 8\n",
    "''')\n",
    "\n",
    "print(test_input)"
   ]
  },
  {
   "cell_type": "markdown",
   "id": "34651239",
   "metadata": {},
   "source": [
    "### Helpers"
   ]
  },
  {
   "cell_type": "code",
   "execution_count": null,
   "id": "761736f0",
   "metadata": {},
   "outputs": [],
   "source": []
  },
  {
   "cell_type": "markdown",
   "id": "f88b71c4",
   "metadata": {},
   "source": [
    "## Solution 1"
   ]
  },
  {
   "cell_type": "code",
   "execution_count": 104,
   "id": "3b11a060",
   "metadata": {},
   "outputs": [
    {
     "data": {
      "text/plain": [
       "739785"
      ]
     },
     "execution_count": 104,
     "metadata": {},
     "output_type": "execute_result"
    }
   ],
   "source": [
    "def solve_1(input):\n",
    "    player1Score = 0\n",
    "    player2Score = 0\n",
    "    \n",
    "    player1Pos = input[0][1]\n",
    "    player2Pos = input[1][1]\n",
    "    \n",
    "    die = 1\n",
    "    diceRolled = 0\n",
    "    while True:\n",
    "        rolled = die\n",
    "        die += 1\n",
    "        if die > 100:\n",
    "            die = 1\n",
    "            \n",
    "        rolled += die\n",
    "        die += 1\n",
    "        if die > 100:\n",
    "            die = 1\n",
    "            \n",
    "        rolled += die\n",
    "        die += 1\n",
    "        if die > 100:\n",
    "            die = 1\n",
    "            \n",
    "        diceRolled += 3\n",
    "        \n",
    "        player1Pos += rolled\n",
    "        while player1Pos > 10:\n",
    "            player1Pos -= 10\n",
    "        player1Score += player1Pos\n",
    "        if player1Score >= 1000:\n",
    "            return player2Score * diceRolled\n",
    "        \n",
    "        rolled = die\n",
    "        die += 1\n",
    "        if die > 100:\n",
    "            die = 1\n",
    "            \n",
    "        rolled += die\n",
    "        die += 1\n",
    "        if die > 100:\n",
    "            die = 1\n",
    "            \n",
    "        rolled += die\n",
    "        die += 1\n",
    "        if die > 100:\n",
    "            die = 1\n",
    "            \n",
    "        diceRolled += 3\n",
    "        \n",
    "        player2Pos += rolled\n",
    "        while player2Pos > 10:\n",
    "            player2Pos -= 10\n",
    "        player2Score += player2Pos\n",
    "        if player2Score >= 1000:\n",
    "            return player1Score * diceRolled\n",
    "\n",
    "solve_1(test_input)"
   ]
  },
  {
   "cell_type": "code",
   "execution_count": 105,
   "id": "9ae1d9b0",
   "metadata": {},
   "outputs": [
    {
     "data": {
      "text/plain": [
       "'Solution 1: 752745'"
      ]
     },
     "execution_count": 105,
     "metadata": {},
     "output_type": "execute_result"
    }
   ],
   "source": [
    "f\"Solution 1: {solve_1(final_input)}\""
   ]
  },
  {
   "cell_type": "markdown",
   "id": "c4a93ab3",
   "metadata": {},
   "source": [
    "## Solution 2"
   ]
  },
  {
   "cell_type": "code",
   "execution_count": 135,
   "id": "de89416a",
   "metadata": {},
   "outputs": [
    {
     "data": {
      "text/plain": [
       "444356092776315"
      ]
     },
     "execution_count": 135,
     "metadata": {},
     "output_type": "execute_result"
    }
   ],
   "source": [
    "def solve_2(input):\n",
    "    p1, p2 = 0, 1\n",
    "    wins = [0, 0]\n",
    "    \n",
    "    p1Start, p2Start = input[p1][1], input[p2][1]\n",
    "    \n",
    "    # 3 rolls of the dice create these 27 values\n",
    "    rolls = {3:1, 4:3, 5:6, 6:7, 7:6, 8:3, 9:1}\n",
    "    \n",
    "    games = defaultdict(int)\n",
    "    games[(p1Start, p2Start, 0, 0)] = 1\n",
    "        \n",
    "    while games:\n",
    "        # player 1 move ---------------------------------------\n",
    "        nextGames = defaultdict(int)\n",
    "        for (p1pos, p2pos, p1score, p2score),count in games.items():\n",
    "            for die, b in rolls.items():\n",
    "                newPos = (p1pos + die - 1) % 10 + 1\n",
    "                newScore = p1score + newPos\n",
    "                if newScore >= 21:\n",
    "                    wins[p1] += (b * count)\n",
    "                else:\n",
    "                    nextGames[(newPos, p2pos, newScore, p2score)] += (b * count)\n",
    "        games = nextGames\n",
    "        \n",
    "        # player 2 move ----------------------------------------\n",
    "        nextGames = defaultdict(int)\n",
    "        for (p1pos, p2pos, p1score, p2score),count in games.items():\n",
    "            for die, b in rolls.items():\n",
    "                newPos = (p2pos + die - 1) % 10 + 1\n",
    "                newScore = p2score + newPos\n",
    "                if newScore >= 21:\n",
    "                    wins[p2] += (b * count)\n",
    "                else:\n",
    "                    nextGames[(p1pos, newPos, p1score, newScore)] += (b * count)\n",
    "        games = nextGames\n",
    "                \n",
    "    return max(wins)\n",
    "    \n",
    "solve_2(test_input)"
   ]
  },
  {
   "cell_type": "code",
   "execution_count": 136,
   "id": "a384f741",
   "metadata": {},
   "outputs": [
    {
     "data": {
      "text/plain": [
       "'Solution 2: 309196008717909'"
      ]
     },
     "execution_count": 136,
     "metadata": {},
     "output_type": "execute_result"
    }
   ],
   "source": [
    "f\"Solution 2: {solve_2(final_input)}\""
   ]
  },
  {
   "cell_type": "code",
   "execution_count": null,
   "id": "f1e461af",
   "metadata": {},
   "outputs": [],
   "source": []
  },
  {
   "cell_type": "code",
   "execution_count": null,
   "id": "73f73fe9",
   "metadata": {},
   "outputs": [],
   "source": []
  }
 ],
 "metadata": {
  "kernelspec": {
   "display_name": "Python 3 (ipykernel)",
   "language": "python",
   "name": "python3"
  },
  "language_info": {
   "codemirror_mode": {
    "name": "ipython",
    "version": 3
   },
   "file_extension": ".py",
   "mimetype": "text/x-python",
   "name": "python",
   "nbconvert_exporter": "python",
   "pygments_lexer": "ipython3",
   "version": "3.9.9"
  }
 },
 "nbformat": 4,
 "nbformat_minor": 5
}
