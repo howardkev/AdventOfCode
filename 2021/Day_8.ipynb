{
 "cells": [
  {
   "cell_type": "markdown",
   "id": "9f697af2",
   "metadata": {},
   "source": [
    "# --- `Day 8`: Title ---"
   ]
  },
  {
   "cell_type": "code",
   "execution_count": 1,
   "id": "ac96ba0f",
   "metadata": {},
   "outputs": [],
   "source": [
    "import aocd\n",
    "import re\n",
    "import operator\n",
    "from collections import Counter, defaultdict, deque\n",
    "from itertools import combinations\n",
    "from functools import reduce, lru_cache\n",
    "\n",
    "def prod(iterable):\n",
    "    return reduce(operator.mul, iterable, 1)\n",
    "\n",
    "def count(iterable, predicate = bool):\n",
    "    return sum([1 for item in iterable if predicate(item)])\n",
    "\n",
    "def first(iterable, default = None):\n",
    "    return next(iter(iterable), default)\n",
    "\n",
    "def lmap(func, *iterables):\n",
    "    return list(map(func, *iterables))\n",
    "\n",
    "def ints(s):\n",
    "    return lmap(int, re.findall(r\"-?\\d+\", s))\n",
    "\n",
    "def words(s):\n",
    "    return re.findall(r\"[a-zA-Z]+\", s)\n",
    "\n",
    "def list_diff(x):\n",
    "    return [b - a for a, b in zip(x, x[1:])]\n",
    "\n",
    "def binary_to_int(lst):\n",
    "    return int(\"\".join(str(i) for i in lst), 2)\n",
    "\n",
    "def get_column(lst, index):\n",
    "    return [x[index] for x in lst]"
   ]
  },
  {
   "cell_type": "code",
   "execution_count": 3,
   "id": "7280dabd",
   "metadata": {},
   "outputs": [],
   "source": [
    "def parse_line(line): \n",
    "    return str(line)\n",
    "    \n",
    "def parse_input(input):\n",
    "    return list(map(parse_line, input.splitlines()))"
   ]
  },
  {
   "cell_type": "code",
   "execution_count": 4,
   "id": "621f30ed",
   "metadata": {},
   "outputs": [
    {
     "name": "stdout",
     "output_type": "stream",
     "text": [
      "['bgeacd dbfag bcadegf agdce dgfbce bgc bdgca aedcgf bc abec | gcdfbe cbea bc gbc', 'bdeag gdbaec cd dgc abcfg ebcd dgfabe cdfeag cgadb bdagfce | becd acfgde bgcaed eadgbc', 'acbfg bcf ebacg fb fcbgea cbdfge cgeabd agcfd aebf bdaefgc | fbcdeg cfb ebgca bf', 'bfcde dfgb gecbdf fdc fdcega fd ebdca gfcaedb gcfbe cbagef | dbfec gbfd bcdfe dfc', 'dbgeaf bad acdfbe ab agbdf bgcdf fdgae fcgbdea fgecda egab | ba dab abd gbae']\n"
     ]
    }
   ],
   "source": [
    "final_input = parse_input(aocd.get_data(day=8, year=2021))\n",
    "print(final_input[:5])"
   ]
  },
  {
   "cell_type": "code",
   "execution_count": 46,
   "id": "69f5f045",
   "metadata": {},
   "outputs": [
    {
     "name": "stdout",
     "output_type": "stream",
     "text": [
      "['be cfbegad cbdgef fgaecd cgeb fdcge agebfd fecdb fabcd edb | fdgacbe cefdb cefbgd gcbe', 'edbfga begcd cbg gc gcadebf fbgde acbgfd abcde gfcbed gfec | fcgedb cgb dgebacf gc', 'fgaebd cg bdaec gdafb agbcfd gdcbef bgcad gfac gcb cdgabef | cg cg fdcagb cbg']\n"
     ]
    }
   ],
   "source": [
    "test_input = parse_input('''\\\n",
    "be cfbegad cbdgef fgaecd cgeb fdcge agebfd fecdb fabcd edb | fdgacbe cefdb cefbgd gcbe\n",
    "edbfga begcd cbg gc gcadebf fbgde acbgfd abcde gfcbed gfec | fcgedb cgb dgebacf gc\n",
    "fgaebd cg bdaec gdafb agbcfd gdcbef bgcad gfac gcb cdgabef | cg cg fdcagb cbg\n",
    "''')\n",
    "\n",
    "print(test_input)"
   ]
  },
  {
   "cell_type": "markdown",
   "id": "f88b71c4",
   "metadata": {},
   "source": [
    "## Solution 1"
   ]
  },
  {
   "cell_type": "code",
   "execution_count": 52,
   "id": "3b11a060",
   "metadata": {},
   "outputs": [
    {
     "data": {
      "text/plain": [
       "8"
      ]
     },
     "execution_count": 52,
     "metadata": {},
     "output_type": "execute_result"
    }
   ],
   "source": [
    "def solve_1(input):\n",
    "    count = 0\n",
    "    for line in input:\n",
    "        a, b = line.split(\" | \")\n",
    "        data = words(a)\n",
    "        output = words(b)\n",
    "        for i in data:\n",
    "            x = Counter(i)\n",
    "            \n",
    "        output = words(b)\n",
    "        for z in output:\n",
    "            y = Counter(z)\n",
    "            l = len(y)\n",
    "            if l == 2 or l == 4 or l == 3 or l == 7:\n",
    "                count += 1\n",
    "    return count\n",
    "\n",
    "solve_1(test_input)"
   ]
  },
  {
   "cell_type": "code",
   "execution_count": 53,
   "id": "9ae1d9b0",
   "metadata": {},
   "outputs": [
    {
     "data": {
      "text/plain": [
       "'Solution 1: 352'"
      ]
     },
     "execution_count": 53,
     "metadata": {},
     "output_type": "execute_result"
    }
   ],
   "source": [
    "f\"Solution 1: {solve_1(final_input)}\""
   ]
  },
  {
   "cell_type": "markdown",
   "id": "c4a93ab3",
   "metadata": {},
   "source": [
    "## Solution 2"
   ]
  },
  {
   "cell_type": "code",
   "execution_count": 50,
   "id": "de89416a",
   "metadata": {},
   "outputs": [
    {
     "data": {
      "text/plain": [
       "19372"
      ]
     },
     "execution_count": 50,
     "metadata": {},
     "output_type": "execute_result"
    }
   ],
   "source": [
    "def solve_2(input):\n",
    "    count = 0\n",
    "    for line in input:\n",
    "        digits = \"\"\n",
    "        a, b = line.split(\" | \")\n",
    "        data = words(a)\n",
    "        output = words(b)\n",
    "        \n",
    "        numbers = []\n",
    "        results = defaultdict(set)\n",
    "        for i in data:\n",
    "            x = Counter(i)\n",
    "            l = len(x)\n",
    "            signals = set(x.keys())\n",
    "            numbers.append(signals)\n",
    "            if l == 2:\n",
    "                results[1] = signals\n",
    "            elif l == 4:\n",
    "                results[4] = signals\n",
    "            elif l == 3:\n",
    "                results[7] = signals\n",
    "            elif l == 7:\n",
    "                results[8] = signals\n",
    "        \n",
    "        # set 3\n",
    "        for i in numbers:\n",
    "            if len(i) == 5:\n",
    "                z = i.intersection(results[1])\n",
    "                if len(z) == 2:\n",
    "                    results[3] = i\n",
    "        \n",
    "        # set 9\n",
    "        for i in numbers:\n",
    "            if len(i) == 6:\n",
    "                z = i.intersection(results[3])\n",
    "                if len(z) == 5:\n",
    "                    results[9] = i\n",
    "        # set 0\n",
    "        for i in numbers:\n",
    "            if len(i) == 6:\n",
    "                if i != results[9]:\n",
    "                    z = i.intersection(results[1])\n",
    "                    if len(z) == 2:\n",
    "                        results[0] = i\n",
    "                    \n",
    "        # set 6\n",
    "        for i in numbers:\n",
    "            if len(i) == 6:\n",
    "                if i != results[0] and i != results[9]:\n",
    "                    results[6] = i\n",
    "                    \n",
    "        # set 5\n",
    "        for i in numbers:\n",
    "            if len(i) == 5:\n",
    "                if i != results[3]:\n",
    "                    z = i.intersection(results[6])\n",
    "                    if len(z) == 5:\n",
    "                        results[5] = i\n",
    "                \n",
    "        for z in output:\n",
    "            y = Counter(z)\n",
    "            h = set(y.keys())\n",
    "            \n",
    "            if h == results[0]:\n",
    "                digits += '0'\n",
    "            elif h == results[1]:\n",
    "                digits += '1'\n",
    "            elif h == results[3]:\n",
    "                digits += '3'\n",
    "            elif h == results[4]:\n",
    "                digits += '4'\n",
    "            elif h == results[5]:\n",
    "                digits += '5'\n",
    "            elif h == results[6]:\n",
    "                digits += '6'\n",
    "            elif h == results[7]:\n",
    "                digits += '7'\n",
    "            elif h == results[8]:\n",
    "                digits += '8'\n",
    "            elif h == results[9]:\n",
    "                digits += '9'\n",
    "            else:\n",
    "                digits += '2'\n",
    "        count += int(digits)\n",
    "    return count\n",
    "    \n",
    "solve_2(test_input)"
   ]
  },
  {
   "cell_type": "code",
   "execution_count": 51,
   "id": "a384f741",
   "metadata": {},
   "outputs": [
    {
     "data": {
      "text/plain": [
       "'Solution 2: 936117'"
      ]
     },
     "execution_count": 51,
     "metadata": {},
     "output_type": "execute_result"
    }
   ],
   "source": [
    "f\"Solution 2: {solve_2(final_input)}\""
   ]
  },
  {
   "cell_type": "code",
   "execution_count": null,
   "id": "f1e461af",
   "metadata": {},
   "outputs": [],
   "source": []
  }
 ],
 "metadata": {
  "kernelspec": {
   "display_name": "Python 3 (ipykernel)",
   "language": "python",
   "name": "python3"
  },
  "language_info": {
   "codemirror_mode": {
    "name": "ipython",
    "version": 3
   },
   "file_extension": ".py",
   "mimetype": "text/x-python",
   "name": "python",
   "nbconvert_exporter": "python",
   "pygments_lexer": "ipython3",
   "version": "3.9.8"
  }
 },
 "nbformat": 4,
 "nbformat_minor": 5
}
