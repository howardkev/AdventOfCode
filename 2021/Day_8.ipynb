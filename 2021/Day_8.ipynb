{
 "cells": [
  {
   "cell_type": "markdown",
   "id": "9f697af2",
   "metadata": {},
   "source": [
    "# --- `Day 8`: Seven Segment Search ---"
   ]
  },
  {
   "cell_type": "code",
   "execution_count": 145,
   "id": "ac96ba0f",
   "metadata": {},
   "outputs": [],
   "source": [
    "import aocd\n",
    "import re\n",
    "import operator\n",
    "from collections import Counter, defaultdict, deque\n",
    "from itertools import combinations, permutations\n",
    "from functools import reduce, lru_cache\n",
    "\n",
    "def prod(iterable):\n",
    "    return reduce(operator.mul, iterable, 1)\n",
    "\n",
    "def count(iterable, predicate = bool):\n",
    "    return sum([1 for item in iterable if predicate(item)])\n",
    "\n",
    "def first(iterable, default = None):\n",
    "    return next(iter(iterable), default)\n",
    "\n",
    "def lmap(func, *iterables):\n",
    "    return list(map(func, *iterables))\n",
    "\n",
    "def ints(s):\n",
    "    return lmap(int, re.findall(r\"-?\\d+\", s))\n",
    "\n",
    "def words(s):\n",
    "    return re.findall(r\"[a-zA-Z]+\", s)\n",
    "\n",
    "def list_diff(x):\n",
    "    return [b - a for a, b in zip(x, x[1:])]\n",
    "\n",
    "def binary_to_int(lst):\n",
    "    return int(\"\".join(str(i) for i in lst), 2)\n",
    "\n",
    "def get_column(lst, index):\n",
    "    return [x[index] for x in lst]"
   ]
  },
  {
   "cell_type": "code",
   "execution_count": 97,
   "id": "7280dabd",
   "metadata": {},
   "outputs": [],
   "source": [
    "def parse_line(line): \n",
    "    before, after = line.split(\" | \")\n",
    "    return (before.split(), after.split())\n",
    "    \n",
    "def parse_input(input):\n",
    "    return list(map(parse_line, input.splitlines()))"
   ]
  },
  {
   "cell_type": "code",
   "execution_count": null,
   "id": "621f30ed",
   "metadata": {},
   "outputs": [],
   "source": [
    "final_input = parse_input(aocd.get_data(day=8, year=2021))\n",
    "print(final_input[:5])"
   ]
  },
  {
   "cell_type": "code",
   "execution_count": 106,
   "id": "69f5f045",
   "metadata": {},
   "outputs": [
    {
     "name": "stdout",
     "output_type": "stream",
     "text": [
      "[(['be', 'cfbegad', 'cbdgef', 'fgaecd', 'cgeb', 'fdcge', 'agebfd', 'fecdb', 'fabcd', 'edb'], ['fdgacbe', 'cefdb', 'cefbgd', 'gcbe']), (['edbfga', 'begcd', 'cbg', 'gc', 'gcadebf', 'fbgde', 'acbgfd', 'abcde', 'gfcbed', 'gfec'], ['fcgedb', 'cgb', 'dgebacf', 'gc']), (['fgaebd', 'cg', 'bdaec', 'gdafb', 'agbcfd', 'gdcbef', 'bgcad', 'gfac', 'gcb', 'cdgabef'], ['cg', 'cg', 'fdcagb', 'cbg']), (['fbegcd', 'cbd', 'adcefb', 'dageb', 'afcb', 'bc', 'aefdc', 'ecdab', 'fgdeca', 'fcdbega'], ['efabcd', 'cedba', 'gadfec', 'cb']), (['aecbfdg', 'fbg', 'gf', 'bafeg', 'dbefa', 'fcge', 'gcbea', 'fcaegb', 'dgceab', 'fcbdga'], ['gecf', 'egdcabf', 'bgf', 'bfgea']), (['fgeab', 'ca', 'afcebg', 'bdacfeg', 'cfaedg', 'gcfdb', 'baec', 'bfadeg', 'bafgc', 'acf'], ['gebdcfa', 'ecba', 'ca', 'fadegcb']), (['dbcfg', 'fgd', 'bdegcaf', 'fgec', 'aegbdf', 'ecdfab', 'fbedc', 'dacgb', 'gdcebf', 'gf'], ['cefg', 'dcbef', 'fcge', 'gbcadfe']), (['bdfegc', 'cbegaf', 'gecbf', 'dfcage', 'bdacg', 'ed', 'bedf', 'ced', 'adcbefg', 'gebcd'], ['ed', 'bcgafe', 'cdgba', 'cbgef']), (['egadfb', 'cdbfeg', 'cegd', 'fecab', 'cgb', 'gbdefca', 'cg', 'fgcdab', 'egfdb', 'bfceg'], ['gbdfcae', 'bgc', 'cg', 'cgb']), (['gcafb', 'gcf', 'dcaebfg', 'ecagb', 'gf', 'abcdeg', 'gaef', 'cafbge', 'fdbac', 'fegbdc'], ['fgae', 'cfgab', 'fg', 'bagce'])]\n"
     ]
    }
   ],
   "source": [
    "test_input = parse_input('''\\\n",
    "be cfbegad cbdgef fgaecd cgeb fdcge agebfd fecdb fabcd edb | fdgacbe cefdb cefbgd gcbe\n",
    "edbfga begcd cbg gc gcadebf fbgde acbgfd abcde gfcbed gfec | fcgedb cgb dgebacf gc\n",
    "fgaebd cg bdaec gdafb agbcfd gdcbef bgcad gfac gcb cdgabef | cg cg fdcagb cbg\n",
    "fbegcd cbd adcefb dageb afcb bc aefdc ecdab fgdeca fcdbega | efabcd cedba gadfec cb\n",
    "aecbfdg fbg gf bafeg dbefa fcge gcbea fcaegb dgceab fcbdga | gecf egdcabf bgf bfgea\n",
    "fgeab ca afcebg bdacfeg cfaedg gcfdb baec bfadeg bafgc acf | gebdcfa ecba ca fadegcb\n",
    "dbcfg fgd bdegcaf fgec aegbdf ecdfab fbedc dacgb gdcebf gf | cefg dcbef fcge gbcadfe\n",
    "bdfegc cbegaf gecbf dfcage bdacg ed bedf ced adcbefg gebcd | ed bcgafe cdgba cbgef\n",
    "egadfb cdbfeg cegd fecab cgb gbdefca cg fgcdab egfdb bfceg | gbdfcae bgc cg cgb\n",
    "gcafb gcf dcaebfg ecagb gf abcdeg gaef cafbge fdbac fegbdc | fgae cfgab fg bagce\n",
    "''')\n",
    "\n",
    "print(test_input)"
   ]
  },
  {
   "cell_type": "markdown",
   "id": "f88b71c4",
   "metadata": {},
   "source": [
    "## Solution 1"
   ]
  },
  {
   "cell_type": "code",
   "execution_count": 115,
   "id": "3b11a060",
   "metadata": {},
   "outputs": [
    {
     "data": {
      "text/plain": [
       "26"
      ]
     },
     "execution_count": 115,
     "metadata": {},
     "output_type": "execute_result"
    }
   ],
   "source": [
    "def solve_1(input):\n",
    "    total = 0\n",
    "    for line in input:\n",
    "        _, output = line\n",
    "        \n",
    "        lengths = [len(w) for w in output]\n",
    "        total += count(l == 2 or l == 4 or l == 3 or l == 7\n",
    "                       for l in lengths)\n",
    "    return total\n",
    "\n",
    "solve_1(test_input)"
   ]
  },
  {
   "cell_type": "code",
   "execution_count": null,
   "id": "9ae1d9b0",
   "metadata": {},
   "outputs": [],
   "source": [
    "f\"Solution 1: {solve_1(final_input)}\""
   ]
  },
  {
   "cell_type": "markdown",
   "id": "c4a93ab3",
   "metadata": {},
   "source": [
    "## Solution 2"
   ]
  },
  {
   "cell_type": "code",
   "execution_count": 130,
   "id": "de89416a",
   "metadata": {},
   "outputs": [
    {
     "data": {
      "text/plain": [
       "61229"
      ]
     },
     "execution_count": 130,
     "metadata": {},
     "output_type": "execute_result"
    }
   ],
   "source": [
    "def solve_2(input):\n",
    "    total = 0\n",
    "    for line in input:\n",
    "        data, output = line\n",
    "        \n",
    "        numbers = []\n",
    "        results = defaultdict(set)\n",
    "        for i in data:\n",
    "            signals = set(i)\n",
    "            numbers.append(signals)\n",
    "            l = len(signals)\n",
    "            if l == 2:\n",
    "                results[1] = signals\n",
    "            elif l == 4:\n",
    "                results[4] = signals\n",
    "            elif l == 3:\n",
    "                results[7] = signals\n",
    "            elif l == 7:\n",
    "                results[8] = signals\n",
    "        \n",
    "        # set 3\n",
    "        for i in numbers:\n",
    "            if len(i) == 5:\n",
    "                z = i.intersection(results[1])\n",
    "                if len(z) == 2:\n",
    "                    results[3] = i\n",
    "        \n",
    "        # set 9\n",
    "        for i in numbers:\n",
    "            if len(i) == 6:\n",
    "                z = i.intersection(results[3])\n",
    "                if len(z) == 5:\n",
    "                    results[9] = i\n",
    "        # set 0\n",
    "        for i in numbers:\n",
    "            if len(i) == 6:\n",
    "                if i != results[9]:\n",
    "                    z = i.intersection(results[1])\n",
    "                    if len(z) == 2:\n",
    "                        results[0] = i\n",
    "                    \n",
    "        # set 6\n",
    "        for i in numbers:\n",
    "            if len(i) == 6:\n",
    "                if i != results[0] and i != results[9]:\n",
    "                    results[6] = i\n",
    "                    \n",
    "        # set 5\n",
    "        for i in numbers:\n",
    "            if len(i) == 5:\n",
    "                if i != results[3]:\n",
    "                    z = i.intersection(results[6])\n",
    "                    if len(z) == 5:\n",
    "                        results[5] = i\n",
    "                        \n",
    "        # set 2\n",
    "        for i in numbers:\n",
    "            if len(i) == 5:\n",
    "                if i != results[3] and i != results[5]:\n",
    "                    results[2] = i\n",
    "        \n",
    "        digits = \"\"\n",
    "        for z in output:\n",
    "            y = set(z)\n",
    "            \n",
    "            for x in range(10):\n",
    "                if y == results[x]:\n",
    "                    digits += str(x)\n",
    "        #print(digits)\n",
    "        total += int(digits)\n",
    "    return total\n",
    "    \n",
    "solve_2(test_input)"
   ]
  },
  {
   "cell_type": "code",
   "execution_count": null,
   "id": "a384f741",
   "metadata": {},
   "outputs": [],
   "source": [
    "f\"Solution 2: {solve_2(final_input)}\""
   ]
  },
  {
   "cell_type": "code",
   "execution_count": 158,
   "id": "db522eba",
   "metadata": {},
   "outputs": [
    {
     "name": "stdout",
     "output_type": "stream",
     "text": [
      "{'a': 'a', 'b': 'b', 'c': 'c'}\n",
      "{'a': 'a', 'b': 'c', 'c': 'b'}\n",
      "{'a': 'b', 'b': 'a', 'c': 'c'}\n",
      "{'a': 'b', 'b': 'c', 'c': 'a'}\n",
      "{'a': 'c', 'b': 'a', 'c': 'b'}\n",
      "{'a': 'c', 'b': 'b', 'c': 'a'}\n"
     ]
    }
   ],
   "source": [
    "for aa in permutations(\"abc\"):\n",
    "    print(dict(zip(\"abc\", aa)))"
   ]
  },
  {
   "cell_type": "code",
   "execution_count": 159,
   "id": "f1e461af",
   "metadata": {},
   "outputs": [
    {
     "data": {
      "text/plain": [
       "61229"
      ]
     },
     "execution_count": 159,
     "metadata": {},
     "output_type": "execute_result"
    }
   ],
   "source": [
    "def decode(mapping, segments):\n",
    "    mapped = \"\"\n",
    "    for segment in segments:\n",
    "        mapped += mapping[segment]\n",
    "    return \"\".join(sorted(mapped)) \n",
    "\n",
    "def bruteForce(input):\n",
    "    digits = {\n",
    "        '0': \"abcefg\",\n",
    "        '1': \"cf\",\n",
    "        '2': \"acdeg\",\n",
    "        '3': \"acdfg\",\n",
    "        '4': \"bcdf\",\n",
    "        '5': \"abdfg\",\n",
    "        '6': \"abdefg\",\n",
    "        '7': \"acf\",\n",
    "        '8': \"abcdefg\",\n",
    "        '9': \"abcdfg\"\n",
    "    }\n",
    "    \n",
    "    count = 0\n",
    "    for line in input:\n",
    "        before, after = line\n",
    "        \n",
    "        for perm in permutations(\"abcdefgh\"):\n",
    "            wires = dict(zip(\"abcdefgh\", perm))\n",
    "            \n",
    "            ok = True\n",
    "            for segments in before:\n",
    "                mapped = decode(wires, segments)\n",
    "                \n",
    "                if mapped not in digits.values():\n",
    "                    ok = False\n",
    "            if ok:\n",
    "                result = \"\"\n",
    "                for segments in after:\n",
    "                    mapped = decode(wires, segments)\n",
    "                    d = [k for k,v in digits.items() if v == mapped]\n",
    "                    result += d[0]\n",
    "                #print(result)\n",
    "                count += int(result)\n",
    "                break\n",
    "    return count\n",
    "        \n",
    "bruteForce(test_input)"
   ]
  },
  {
   "cell_type": "code",
   "execution_count": null,
   "id": "425d0efc",
   "metadata": {},
   "outputs": [],
   "source": [
    "bruteForce(final_input)"
   ]
  },
  {
   "cell_type": "code",
   "execution_count": null,
   "id": "5f0f53bd",
   "metadata": {},
   "outputs": [],
   "source": []
  }
 ],
 "metadata": {
  "kernelspec": {
   "display_name": "Python 3 (ipykernel)",
   "language": "python",
   "name": "python3"
  },
  "language_info": {
   "codemirror_mode": {
    "name": "ipython",
    "version": 3
   },
   "file_extension": ".py",
   "mimetype": "text/x-python",
   "name": "python",
   "nbconvert_exporter": "python",
   "pygments_lexer": "ipython3",
   "version": "3.9.8"
  }
 },
 "nbformat": 4,
 "nbformat_minor": 5
}
