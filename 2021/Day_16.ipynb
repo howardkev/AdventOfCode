{
 "cells": [
  {
   "cell_type": "markdown",
   "id": "9f697af2",
   "metadata": {},
   "source": [
    "# --- `Day 16`: Title ---"
   ]
  },
  {
   "cell_type": "code",
   "execution_count": 1,
   "id": "ac96ba0f",
   "metadata": {},
   "outputs": [],
   "source": [
    "import aocd\n",
    "import re\n",
    "import heapq\n",
    "import operator\n",
    "from collections import Counter, defaultdict, deque\n",
    "from itertools import combinations\n",
    "from functools import reduce, lru_cache\n",
    "\n",
    "def prod(iterable):\n",
    "    return reduce(operator.mul, iterable, 1)\n",
    "\n",
    "def count(iterable, predicate = bool):\n",
    "    return sum([1 for item in iterable if predicate(item)])\n",
    "\n",
    "def first(iterable, default = None):\n",
    "    return next(iter(iterable), default)\n",
    "\n",
    "def lmap(func, *iterables):\n",
    "    return list(map(func, *iterables))\n",
    "\n",
    "def ints(s):\n",
    "    return lmap(int, re.findall(r\"-?\\d+\", s))\n",
    "\n",
    "def words(s):\n",
    "    return re.findall(r\"[a-zA-Z]+\", s)\n",
    "\n",
    "def list_diff(x):\n",
    "    return [b - a for a, b in zip(x, x[1:])]\n",
    "\n",
    "def binary_to_int(lst):\n",
    "    return int(\"\".join(str(i) for i in lst), 2)\n",
    "\n",
    "def get_column(lst, index):\n",
    "    return [x[index] for x in lst]"
   ]
  },
  {
   "cell_type": "code",
   "execution_count": 211,
   "id": "7280dabd",
   "metadata": {},
   "outputs": [],
   "source": [
    "def parse_input(input):\n",
    "    return input.strip()"
   ]
  },
  {
   "cell_type": "code",
   "execution_count": null,
   "id": "621f30ed",
   "metadata": {},
   "outputs": [],
   "source": [
    "final_input = parse_input(aocd.get_data(day=16, year=2021))\n",
    "print(final_input[:25])"
   ]
  },
  {
   "cell_type": "code",
   "execution_count": 208,
   "id": "69f5f045",
   "metadata": {},
   "outputs": [
    {
     "name": "stdout",
     "output_type": "stream",
     "text": [
      "9C0141080250320F1802104A08\n"
     ]
    }
   ],
   "source": [
    "test_input = parse_input('''\\\n",
    "9C0141080250320F1802104A08\n",
    "''')\n",
    "\n",
    "print(test_input)"
   ]
  },
  {
   "cell_type": "markdown",
   "id": "53a94009",
   "metadata": {},
   "source": [
    "### Helpers"
   ]
  },
  {
   "cell_type": "code",
   "execution_count": null,
   "id": "facaa590",
   "metadata": {},
   "outputs": [],
   "source": []
  },
  {
   "cell_type": "markdown",
   "id": "f88b71c4",
   "metadata": {},
   "source": [
    "## Solution 1"
   ]
  },
  {
   "cell_type": "code",
   "execution_count": 209,
   "id": "3b11a060",
   "metadata": {},
   "outputs": [
    {
     "name": "stdout",
     "output_type": "stream",
     "text": [
      "version 4 type 7\n",
      "version 2 type 0\n",
      "version 2 type 4\n",
      "version 4 type 4\n",
      "version 6 type 1\n",
      "version 0 type 4\n",
      "version 2 type 4\n"
     ]
    },
    {
     "data": {
      "text/plain": [
       "20"
      ]
     },
     "execution_count": 209,
     "metadata": {},
     "output_type": "execute_result"
    }
   ],
   "source": [
    "def readLiteral1(bits, i):\n",
    "    result = []\n",
    "    while True:\n",
    "        A = bits[i:i + 5]\n",
    "        i += 5\n",
    "        result.extend(A[1:])\n",
    "        if A[0] == '0':\n",
    "            break\n",
    "    return binary_to_int(result), i\n",
    "\n",
    "def readOperator1(bits, i):\n",
    "    value = 0\n",
    "    lengthType = bits[i]\n",
    "    i += 1\n",
    "    if lengthType == '0':\n",
    "        totalLength = bits[i:i + 15]\n",
    "        i += 15\n",
    "        totalLength = binary_to_int(totalLength)\n",
    "        \n",
    "        total = 0\n",
    "        while True:\n",
    "            start = i\n",
    "            version, i = parse1(bits, i)\n",
    "            \n",
    "            value += version\n",
    "            total += i - start\n",
    "            if total == totalLength:\n",
    "                break\n",
    "    else:\n",
    "        numberSub = bits[i:i + 11]\n",
    "        i += 11\n",
    "        numberSub = binary_to_int(numberSub)\n",
    "        \n",
    "        for _ in range(numberSub):\n",
    "            version, i = parse1(bits, i)\n",
    "            value += version\n",
    "    return value, i\n",
    "\n",
    "def readHeader1(bits, i):\n",
    "    version = bits[i:i + 3]\n",
    "    i += 3\n",
    "    version = binary_to_int(version)\n",
    "    \n",
    "    packetId = bits[i:i + 3]\n",
    "    i += 3\n",
    "    packetId = binary_to_int(packetId)\n",
    "    return version, packetId, i\n",
    "\n",
    "def parse1(bits, i):\n",
    "    version, packetId, i = readHeader1(bits, i)\n",
    "    print(\"version\", version, \"type\", packetId)\n",
    "\n",
    "    value = 0\n",
    "    if packetId == 4:\n",
    "        literal, i = readLiteral1(bits, i)\n",
    "    else:\n",
    "        value, i = readOperator1(bits, i)\n",
    "    return version + value, i\n",
    "    \n",
    "def solve_1(input):\n",
    "    binary = []\n",
    "    for c in input:\n",
    "        bits = [x for x in bin(int(c, 16))[2:].zfill(4)]\n",
    "        binary.extend(bits)\n",
    "        \n",
    "    value, _ = parse1(binary, 0)\n",
    "    return value\n",
    "\n",
    "solve_1(test_input)"
   ]
  },
  {
   "cell_type": "code",
   "execution_count": null,
   "id": "9ae1d9b0",
   "metadata": {},
   "outputs": [],
   "source": [
    "f\"Solution 1: {solve_1(final_input)}\""
   ]
  },
  {
   "cell_type": "markdown",
   "id": "c4a93ab3",
   "metadata": {},
   "source": [
    "## Solution 2"
   ]
  },
  {
   "cell_type": "code",
   "execution_count": 210,
   "id": "de89416a",
   "metadata": {},
   "outputs": [
    {
     "name": "stdout",
     "output_type": "stream",
     "text": [
      "version 4 type 7\n",
      "version 2 type 0\n",
      "version 2 type 4\n",
      "version 4 type 4\n",
      "version 6 type 1\n",
      "version 0 type 4\n",
      "version 2 type 4\n"
     ]
    },
    {
     "data": {
      "text/plain": [
       "1"
      ]
     },
     "execution_count": 210,
     "metadata": {},
     "output_type": "execute_result"
    }
   ],
   "source": [
    "def readLiteral(bits, i):\n",
    "    result = []\n",
    "    while True:\n",
    "        A = bits[i:i + 5]\n",
    "        i += 5\n",
    "        result.extend(A[1:])\n",
    "        if A[0] == '0':\n",
    "            break\n",
    "    return binary_to_int(result), i\n",
    "\n",
    "def readOperator(bits, packetId, i):\n",
    "    values = []\n",
    "    lengthType = bits[i]\n",
    "    i += 1\n",
    "    if lengthType == '0':\n",
    "        totalLength = bits[i:i + 15]\n",
    "        i += 15\n",
    "        totalLength = binary_to_int(totalLength)\n",
    "        \n",
    "        total = 0\n",
    "        while True:\n",
    "            start = i\n",
    "            value, i = parse(bits, i)\n",
    "            values.append(value)\n",
    "            \n",
    "            total += i - start\n",
    "            if total == totalLength:\n",
    "                break\n",
    "    else:\n",
    "        numberSub = bits[i:i + 11]\n",
    "        i += 11\n",
    "        numberSub = binary_to_int(numberSub)\n",
    "        \n",
    "        for _ in range(numberSub):\n",
    "            value, i = parse(bits, i)\n",
    "            values.append(value)\n",
    "            \n",
    "    if packetId == 0:\n",
    "        return sum(values), i\n",
    "    elif packetId == 1:\n",
    "        return prod(values), i\n",
    "    elif packetId == 2:\n",
    "        return min(values), i\n",
    "    elif packetId == 3:\n",
    "        return max(values), i\n",
    "    elif packetId == 5:\n",
    "        value = 1 if values[0] > values[1] else 0\n",
    "        return value, i\n",
    "    elif packetId == 6:\n",
    "        value = 1 if values[0] < values[1] else 0\n",
    "        return value, i\n",
    "    elif packetId == 7:\n",
    "        value = 1 if values[0] == values[1] else 0\n",
    "        return value, i\n",
    "    return value, i\n",
    "\n",
    "def readHeader(bits, i):\n",
    "    version = bits[i:i + 3]\n",
    "    i += 3\n",
    "    version = binary_to_int(version)\n",
    "    \n",
    "    packetId = bits[i:i + 3]\n",
    "    i += 3\n",
    "    packetId = binary_to_int(packetId)\n",
    "    return version, packetId, i\n",
    "\n",
    "def parse(bits, i):\n",
    "    version, packetId, i = readHeader(bits, i)\n",
    "    print(\"version\", version, \"type\", packetId)\n",
    "\n",
    "    value = 0\n",
    "    if packetId == 4:\n",
    "        value, i = readLiteral(bits, i)\n",
    "    else:\n",
    "        value, i = readOperator(bits, packetId, i)\n",
    "    return value, i\n",
    "    \n",
    "def solve_2(input):\n",
    "    binary = []\n",
    "    for c in input:\n",
    "        bits = [x for x in bin(int(c, 16))[2:].zfill(4)]\n",
    "        binary.extend(bits)\n",
    "        \n",
    "    return parse(binary, 0)[0]\n",
    "    \n",
    "solve_2(test_input)"
   ]
  },
  {
   "cell_type": "code",
   "execution_count": null,
   "id": "a384f741",
   "metadata": {},
   "outputs": [],
   "source": [
    "f\"Solution 2: {solve_2(final_input)}\""
   ]
  },
  {
   "cell_type": "code",
   "execution_count": null,
   "id": "f1e461af",
   "metadata": {},
   "outputs": [],
   "source": []
  }
 ],
 "metadata": {
  "kernelspec": {
   "display_name": "Python 3 (ipykernel)",
   "language": "python",
   "name": "python3"
  },
  "language_info": {
   "codemirror_mode": {
    "name": "ipython",
    "version": 3
   },
   "file_extension": ".py",
   "mimetype": "text/x-python",
   "name": "python",
   "nbconvert_exporter": "python",
   "pygments_lexer": "ipython3",
   "version": "3.9.9"
  }
 },
 "nbformat": 4,
 "nbformat_minor": 5
}
