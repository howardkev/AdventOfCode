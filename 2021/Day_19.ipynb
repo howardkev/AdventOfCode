{
 "cells": [
  {
   "cell_type": "markdown",
   "id": "9f697af2",
   "metadata": {},
   "source": [
    "# --- `Day 19`: Beacon Scanner ---"
   ]
  },
  {
   "cell_type": "code",
   "execution_count": 79,
   "id": "ac96ba0f",
   "metadata": {},
   "outputs": [],
   "source": [
    "import aocd\n",
    "import re\n",
    "import heapq\n",
    "import operator\n",
    "from collections import Counter, defaultdict, deque\n",
    "from itertools import combinations, permutations\n",
    "from functools import reduce, lru_cache\n",
    "\n",
    "def prod(iterable):\n",
    "    return reduce(operator.mul, iterable, 1)\n",
    "\n",
    "def count(iterable, predicate = bool):\n",
    "    return sum([1 for item in iterable if predicate(item)])\n",
    "\n",
    "def first(iterable, default = None):\n",
    "    return next(iter(iterable), default)\n",
    "\n",
    "def lmap(func, *iterables):\n",
    "    return list(map(func, *iterables))\n",
    "\n",
    "def ints(s):\n",
    "    return lmap(int, re.findall(r\"-?\\d+\", s))\n",
    "\n",
    "def words(s):\n",
    "    return re.findall(r\"[a-zA-Z]+\", s)\n",
    "\n",
    "def list_diff(x):\n",
    "    return [b - a for a, b in zip(x, x[1:])]\n",
    "\n",
    "def binary_to_int(lst):\n",
    "    return int(\"\".join(str(i) for i in lst), 2)\n",
    "\n",
    "def get_column(lst, index):\n",
    "    return [x[index] for x in lst]"
   ]
  },
  {
   "cell_type": "code",
   "execution_count": 11,
   "id": "7280dabd",
   "metadata": {},
   "outputs": [],
   "source": [
    "def parse_line(line): \n",
    "    return line.splitlines()\n",
    "    \n",
    "def parse_input(input):\n",
    "    return list(map(parse_line, input.split(\"\\n\\n\")))"
   ]
  },
  {
   "cell_type": "code",
   "execution_count": null,
   "id": "621f30ed",
   "metadata": {},
   "outputs": [],
   "source": [
    "final_input = parse_input(aocd.get_data(day=19, year=2021))\n",
    "print(final_input[:5])"
   ]
  },
  {
   "cell_type": "code",
   "execution_count": 13,
   "id": "69f5f045",
   "metadata": {},
   "outputs": [
    {
     "name": "stdout",
     "output_type": "stream",
     "text": [
      "[['--- scanner 0 ---', '404,-588,-901', '528,-643,409', '-838,591,734', '390,-675,-793', '-537,-823,-458', '-485,-357,347', '-345,-311,381', '-661,-816,-575', '-876,649,763', '-618,-824,-621', '553,345,-567', '474,580,667', '-447,-329,318', '-584,868,-557', '544,-627,-890', '564,392,-477', '455,729,728', '-892,524,684', '-689,845,-530', '423,-701,434', '7,-33,-71', '630,319,-379', '443,580,662', '-789,900,-551', '459,-707,401'], ['--- scanner 1 ---', '686,422,578', '605,423,415', '515,917,-361', '-336,658,858', '95,138,22', '-476,619,847', '-340,-569,-846', '567,-361,727', '-460,603,-452', '669,-402,600', '729,430,532', '-500,-761,534', '-322,571,750', '-466,-666,-811', '-429,-592,574', '-355,545,-477', '703,-491,-529', '-328,-685,520', '413,935,-424', '-391,539,-444', '586,-435,557', '-364,-763,-893', '807,-499,-711', '755,-354,-619', '553,889,-390'], ['--- scanner 2 ---', '649,640,665', '682,-795,504', '-784,533,-524', '-644,584,-595', '-588,-843,648', '-30,6,44', '-674,560,763', '500,723,-460', '609,671,-379', '-555,-800,653', '-675,-892,-343', '697,-426,-610', '578,704,681', '493,664,-388', '-671,-858,530', '-667,343,800', '571,-461,-707', '-138,-166,112', '-889,563,-600', '646,-828,498', '640,759,510', '-630,509,768', '-681,-892,-333', '673,-379,-804', '-742,-814,-386', '577,-820,562'], ['--- scanner 3 ---', '-589,542,597', '605,-692,669', '-500,565,-823', '-660,373,557', '-458,-679,-417', '-488,449,543', '-626,468,-788', '338,-750,-386', '528,-832,-391', '562,-778,733', '-938,-730,414', '543,643,-506', '-524,371,-870', '407,773,750', '-104,29,83', '378,-903,-323', '-778,-728,485', '426,699,580', '-438,-605,-362', '-469,-447,-387', '509,732,623', '647,635,-688', '-868,-804,481', '614,-800,639', '595,780,-596'], ['--- scanner 4 ---', '727,592,562', '-293,-554,779', '441,611,-461', '-714,465,-776', '-743,427,-804', '-660,-479,-426', '832,-632,460', '927,-485,-438', '408,393,-506', '466,436,-512', '110,16,151', '-258,-428,682', '-393,719,612', '-211,-452,876', '808,-476,-593', '-575,615,604', '-485,667,467', '-680,325,-822', '-627,-443,-432', '872,-547,-609', '833,512,582', '807,604,487', '839,-516,451', '891,-625,532', '-652,-548,-490', '30,-46,-14']]\n"
     ]
    }
   ],
   "source": [
    "test_input = parse_input('''\\\n",
    "--- scanner 0 ---\n",
    "404,-588,-901\n",
    "528,-643,409\n",
    "-838,591,734\n",
    "390,-675,-793\n",
    "-537,-823,-458\n",
    "-485,-357,347\n",
    "-345,-311,381\n",
    "-661,-816,-575\n",
    "-876,649,763\n",
    "-618,-824,-621\n",
    "553,345,-567\n",
    "474,580,667\n",
    "-447,-329,318\n",
    "-584,868,-557\n",
    "544,-627,-890\n",
    "564,392,-477\n",
    "455,729,728\n",
    "-892,524,684\n",
    "-689,845,-530\n",
    "423,-701,434\n",
    "7,-33,-71\n",
    "630,319,-379\n",
    "443,580,662\n",
    "-789,900,-551\n",
    "459,-707,401\n",
    "\n",
    "--- scanner 1 ---\n",
    "686,422,578\n",
    "605,423,415\n",
    "515,917,-361\n",
    "-336,658,858\n",
    "95,138,22\n",
    "-476,619,847\n",
    "-340,-569,-846\n",
    "567,-361,727\n",
    "-460,603,-452\n",
    "669,-402,600\n",
    "729,430,532\n",
    "-500,-761,534\n",
    "-322,571,750\n",
    "-466,-666,-811\n",
    "-429,-592,574\n",
    "-355,545,-477\n",
    "703,-491,-529\n",
    "-328,-685,520\n",
    "413,935,-424\n",
    "-391,539,-444\n",
    "586,-435,557\n",
    "-364,-763,-893\n",
    "807,-499,-711\n",
    "755,-354,-619\n",
    "553,889,-390\n",
    "\n",
    "--- scanner 2 ---\n",
    "649,640,665\n",
    "682,-795,504\n",
    "-784,533,-524\n",
    "-644,584,-595\n",
    "-588,-843,648\n",
    "-30,6,44\n",
    "-674,560,763\n",
    "500,723,-460\n",
    "609,671,-379\n",
    "-555,-800,653\n",
    "-675,-892,-343\n",
    "697,-426,-610\n",
    "578,704,681\n",
    "493,664,-388\n",
    "-671,-858,530\n",
    "-667,343,800\n",
    "571,-461,-707\n",
    "-138,-166,112\n",
    "-889,563,-600\n",
    "646,-828,498\n",
    "640,759,510\n",
    "-630,509,768\n",
    "-681,-892,-333\n",
    "673,-379,-804\n",
    "-742,-814,-386\n",
    "577,-820,562\n",
    "\n",
    "--- scanner 3 ---\n",
    "-589,542,597\n",
    "605,-692,669\n",
    "-500,565,-823\n",
    "-660,373,557\n",
    "-458,-679,-417\n",
    "-488,449,543\n",
    "-626,468,-788\n",
    "338,-750,-386\n",
    "528,-832,-391\n",
    "562,-778,733\n",
    "-938,-730,414\n",
    "543,643,-506\n",
    "-524,371,-870\n",
    "407,773,750\n",
    "-104,29,83\n",
    "378,-903,-323\n",
    "-778,-728,485\n",
    "426,699,580\n",
    "-438,-605,-362\n",
    "-469,-447,-387\n",
    "509,732,623\n",
    "647,635,-688\n",
    "-868,-804,481\n",
    "614,-800,639\n",
    "595,780,-596\n",
    "\n",
    "--- scanner 4 ---\n",
    "727,592,562\n",
    "-293,-554,779\n",
    "441,611,-461\n",
    "-714,465,-776\n",
    "-743,427,-804\n",
    "-660,-479,-426\n",
    "832,-632,460\n",
    "927,-485,-438\n",
    "408,393,-506\n",
    "466,436,-512\n",
    "110,16,151\n",
    "-258,-428,682\n",
    "-393,719,612\n",
    "-211,-452,876\n",
    "808,-476,-593\n",
    "-575,615,604\n",
    "-485,667,467\n",
    "-680,325,-822\n",
    "-627,-443,-432\n",
    "872,-547,-609\n",
    "833,512,582\n",
    "807,604,487\n",
    "839,-516,451\n",
    "891,-625,532\n",
    "-652,-548,-490\n",
    "30,-46,-14\n",
    "''')\n",
    "\n",
    "print(test_input)"
   ]
  },
  {
   "cell_type": "markdown",
   "id": "34651239",
   "metadata": {},
   "source": [
    "### Helpers"
   ]
  },
  {
   "cell_type": "code",
   "execution_count": 173,
   "id": "c96778f0",
   "metadata": {},
   "outputs": [
    {
     "data": {
      "text/plain": [
       "[(0, 1, 2), (0, 2, 1), (1, 0, 2), (1, 2, 0), (2, 0, 1), (2, 1, 0)]"
      ]
     },
     "execution_count": 173,
     "metadata": {},
     "output_type": "execute_result"
    }
   ],
   "source": [
    "list(permutations([0, 1, 2]))"
   ]
  },
  {
   "cell_type": "code",
   "execution_count": 204,
   "id": "761736f0",
   "metadata": {},
   "outputs": [
    {
     "name": "stdout",
     "output_type": "stream",
     "text": [
      "(1, 2, 3)\n",
      "(1, 3, 2)\n",
      "(2, 1, 3)\n",
      "(2, 3, 1)\n",
      "(3, 1, 2)\n",
      "(3, 2, 1)\n",
      "(-1, 2, 3)\n",
      "(-1, 3, 2)\n",
      "(-2, 1, 3)\n",
      "(-2, 3, 1)\n",
      "(-3, 1, 2)\n",
      "(-3, 2, 1)\n",
      "(1, -2, 3)\n",
      "(1, -3, 2)\n",
      "(2, -1, 3)\n",
      "(2, -3, 1)\n",
      "(3, -1, 2)\n",
      "(3, -2, 1)\n",
      "(1, 2, -3)\n",
      "(1, 3, -2)\n",
      "(2, 1, -3)\n",
      "(2, 3, -1)\n",
      "(3, 1, -2)\n",
      "(3, 2, -1)\n",
      "(-1, -2, 3)\n",
      "(-1, -3, 2)\n",
      "(-2, -1, 3)\n",
      "(-2, -3, 1)\n",
      "(-3, -1, 2)\n",
      "(-3, -2, 1)\n",
      "(-1, 2, -3)\n",
      "(-1, 3, -2)\n",
      "(-2, 1, -3)\n",
      "(-2, 3, -1)\n",
      "(-3, 1, -2)\n",
      "(-3, 2, -1)\n",
      "(1, -2, -3)\n",
      "(1, -3, -2)\n",
      "(2, -1, -3)\n",
      "(2, -3, -1)\n",
      "(3, -1, -2)\n",
      "(3, -2, -1)\n",
      "(-1, -2, -3)\n",
      "(-1, -3, -2)\n",
      "(-2, -1, -3)\n",
      "(-2, -3, -1)\n",
      "(-3, -1, -2)\n",
      "(-3, -2, -1)\n"
     ]
    }
   ],
   "source": [
    "def parse(input):\n",
    "    scanners = {}\n",
    "    for i,line in enumerate(input):\n",
    "        scans = set()\n",
    "        for data in line:\n",
    "            if \"scanner\" not in data:\n",
    "                scan = tuple(ints(data))\n",
    "                scans.add(scan)\n",
    "        scanners[i] = scans\n",
    "    return scanners\n",
    "\n",
    "def get6(point):\n",
    "    result = []\n",
    "    for a,b,c in permutations([0, 1, 2]):\n",
    "        result.append((point[a], point[b], point[c]))\n",
    "    return result\n",
    "\n",
    "def rotate(point, n):\n",
    "    master = get6(point)\n",
    "    \n",
    "    if 0 <= n < 6:\n",
    "        return master[n]\n",
    "    elif 6 <= n < 12:\n",
    "        return (-master[n - 6][0], master[n - 6][1], master[n - 6][2])\n",
    "    elif 12 <= n < 18:\n",
    "        return (master[n - 12][0], -master[n - 12][1], master[n - 12][2])\n",
    "    elif 18 <= n < 24:\n",
    "        return (master[n - 18][0], master[n - 18][1], -master[n - 18][2])\n",
    "    elif 24 <= n < 30:\n",
    "        return (-master[n - 30][0], -master[n - 30][1], master[n - 30][2])\n",
    "    elif 30 <= n < 36:\n",
    "        return (-master[n - 36][0], master[n - 36][1], -master[n - 36][2])\n",
    "    elif 36 <= n < 42:\n",
    "        return (master[n - 42][0], -master[n - 42][1], -master[n - 42][2])\n",
    "    elif 42 <= n < 48:\n",
    "        return (-master[n - 48][0], -master[n - 48][1], -master[n - 48][2])\n",
    "\n",
    "def countOverlap(s1, s2, offset):\n",
    "    dx,dy,dz = offset\n",
    "    copy = {(x + dx,y + dy,z + dz) for x,y,z in s2}\n",
    "    return s1.intersection(copy)\n",
    "\n",
    "def check(found, target):\n",
    "    for n in range(48):\n",
    "        modded = {rotate(i,n) for i in target}\n",
    "        for mod in modded:\n",
    "            for j in found:\n",
    "                dx = j[0] - mod[0]\n",
    "                dy = j[1] - mod[1]\n",
    "                dz = j[2] - mod[2]\n",
    "\n",
    "                overlap = countOverlap(found, modded, (dx, dy, dz))\n",
    "                if len(overlap) >= 12:\n",
    "                    return dx, dy, dz, modded\n",
    "    return None,None,None,None\n",
    "\n",
    "for i in range(48):\n",
    "    print(rotate((1,2,3), i))"
   ]
  },
  {
   "cell_type": "markdown",
   "id": "f88b71c4",
   "metadata": {},
   "source": [
    "## Solution 1"
   ]
  },
  {
   "cell_type": "code",
   "execution_count": 205,
   "id": "3b11a060",
   "metadata": {},
   "outputs": [
    {
     "name": "stdout",
     "output_type": "stream",
     "text": [
      "scanner: 1 68 -1246 -43\n",
      "scanner: 3 -92 -2380 -20\n",
      "scanner: 4 -20 -1133 1061\n",
      "scanner: 2 1105 -1205 1229\n"
     ]
    },
    {
     "data": {
      "text/plain": [
       "79"
      ]
     },
     "execution_count": 205,
     "metadata": {},
     "output_type": "execute_result"
    }
   ],
   "source": [
    "def solve_1(input):\n",
    "    scanners = parse(input)\n",
    "        \n",
    "    todo = deque()\n",
    "    for i in range(1, len(scanners)):\n",
    "        todo.append(i)\n",
    "\n",
    "    found = set(scanners[0])\n",
    "    while todo:\n",
    "        i = todo.popleft()\n",
    "        dx, dy, dz, modded = check(found, scanners[i])\n",
    "        if dx != None:\n",
    "            print(\"scanner:\", i, dx, dy, dz)\n",
    "            for n in modded:\n",
    "                found.add((n[0] + dx, n[1] + dy, n[2] + dz))\n",
    "        else:\n",
    "            todo.append(i)\n",
    "                \n",
    "    return len(found)\n",
    "          \n",
    "solve_1(test_input)"
   ]
  },
  {
   "cell_type": "code",
   "execution_count": null,
   "id": "9ae1d9b0",
   "metadata": {},
   "outputs": [],
   "source": [
    "f\"Solution 1: {solve_1(final_input)}\""
   ]
  },
  {
   "cell_type": "markdown",
   "id": "c4a93ab3",
   "metadata": {},
   "source": [
    "## Solution 2"
   ]
  },
  {
   "cell_type": "code",
   "execution_count": 198,
   "id": "de89416a",
   "metadata": {},
   "outputs": [
    {
     "name": "stdout",
     "output_type": "stream",
     "text": [
      "scanner: 1 68 -1246 -43\n",
      "scanner: 3 -92 -2380 -20\n",
      "scanner: 4 -20 -1133 1061\n",
      "scanner: 2 1105 -1205 1229\n"
     ]
    },
    {
     "data": {
      "text/plain": [
       "3621"
      ]
     },
     "execution_count": 198,
     "metadata": {},
     "output_type": "execute_result"
    }
   ],
   "source": [
    "def solve_2(input):\n",
    "    scanners = parse(input)\n",
    "    \n",
    "    todo = deque()\n",
    "    for i in range(1, len(scanners)):\n",
    "        todo.append(i)\n",
    "\n",
    "    positions = [None] * len(scanners)\n",
    "    positions[0] = (0, 0, 0)\n",
    "    found = set(scanners[0])\n",
    "    while todo:\n",
    "        i = todo.popleft()\n",
    "        dx, dy, dz, modded = check(found, scanners[i])\n",
    "        if dx != None:\n",
    "            print(\"scanner:\", i, dx, dy, dz)\n",
    "            for n in modded:\n",
    "                found.add((n[0] + dx, n[1] + dy, n[2] + dz))\n",
    "                positions[i] = (dx, dy, dz)\n",
    "        else:\n",
    "            todo.append(i)\n",
    "            \n",
    "    best = 0\n",
    "    for a in positions:\n",
    "        for b in positions:\n",
    "            distance = abs(a[0] - b[0]) + abs(a[1] - b[1]) + abs(a[2] - b[2])\n",
    "            if distance > best:\n",
    "                best = distance\n",
    "    return best\n",
    "    \n",
    "solve_2(test_input)"
   ]
  },
  {
   "cell_type": "code",
   "execution_count": null,
   "id": "a384f741",
   "metadata": {},
   "outputs": [],
   "source": [
    "f\"Solution 2: {solve_2(final_input)}\""
   ]
  },
  {
   "cell_type": "code",
   "execution_count": null,
   "id": "975d1555",
   "metadata": {},
   "outputs": [],
   "source": []
  }
 ],
 "metadata": {
  "kernelspec": {
   "display_name": "Python 3 (ipykernel)",
   "language": "python",
   "name": "python3"
  },
  "language_info": {
   "codemirror_mode": {
    "name": "ipython",
    "version": 3
   },
   "file_extension": ".py",
   "mimetype": "text/x-python",
   "name": "python",
   "nbconvert_exporter": "python",
   "pygments_lexer": "ipython3",
   "version": "3.9.9"
  }
 },
 "nbformat": 4,
 "nbformat_minor": 5
}
