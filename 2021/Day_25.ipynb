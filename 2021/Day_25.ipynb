{
 "cells": [
  {
   "cell_type": "markdown",
   "id": "9f697af2",
   "metadata": {},
   "source": [
    "# --- `Day 25`: Sea Cucumber ---"
   ]
  },
  {
   "cell_type": "code",
   "execution_count": 2,
   "id": "ac96ba0f",
   "metadata": {},
   "outputs": [],
   "source": [
    "import aocd\n",
    "import re\n",
    "import heapq\n",
    "import operator\n",
    "from collections import Counter, defaultdict, deque\n",
    "from itertools import combinations\n",
    "from functools import reduce, lru_cache\n",
    "from ipycanvas import RoughCanvas, hold_canvas, Canvas\n",
    "from time import sleep\n",
    "\n",
    "def prod(iterable):\n",
    "    return reduce(operator.mul, iterable, 1)\n",
    "\n",
    "def count(iterable, predicate = bool):\n",
    "    return sum([1 for item in iterable if predicate(item)])\n",
    "\n",
    "def first(iterable, default = None):\n",
    "    return next(iter(iterable), default)\n",
    "\n",
    "def lmap(func, *iterables):\n",
    "    return list(map(func, *iterables))\n",
    "\n",
    "def ints(s):\n",
    "    return lmap(int, re.findall(r\"-?\\d+\", s))\n",
    "\n",
    "def words(s):\n",
    "    return re.findall(r\"[a-zA-Z]+\", s)\n",
    "\n",
    "def list_diff(x):\n",
    "    return [b - a for a, b in zip(x, x[1:])]\n",
    "\n",
    "def binary_to_int(lst):\n",
    "    return int(\"\".join(str(i) for i in lst), 2)\n",
    "\n",
    "def get_column(lst, index):\n",
    "    return [x[index] for x in lst]"
   ]
  },
  {
   "cell_type": "code",
   "execution_count": 3,
   "id": "7280dabd",
   "metadata": {},
   "outputs": [],
   "source": [
    "def parse_line(line): \n",
    "    return str(line)\n",
    "    \n",
    "def parse_input(input):\n",
    "    return list(map(parse_line, input.splitlines()))"
   ]
  },
  {
   "cell_type": "code",
   "execution_count": 4,
   "id": "621f30ed",
   "metadata": {},
   "outputs": [
    {
     "name": "stdout",
     "output_type": "stream",
     "text": [
      "['>>vv..>v..>vv.....>vv...>.>...>>......v>v>.v.v..>v..v>.>v.....v..>vvvv.>.>vv>v..v>.v>..v>>>>.>vv.>>vv>.>>v..>.v.v>v>v.>vv.>.......vv.>.>>v.', 'v>.>v>.v....>>v.vvv>.>>..>....>.v>.v>vv.v..v.v..v>.>.v>.>..>>v.vvvvv..>>..v.v..>>v>vv>.v..vvv.>v..v>>>v.v..>>...>vv..>>v.v>>.>v>.>.v....>>.', 'v.>vv....v>..v>>..v.>>.....vv..>.vvv>.....v.v>vvv>..v>>..v...>...>...vv.v..>.vvv>>.v>vv..v.>>>....vv.>.>..v..vv.>>v>.>>.>>.v>>>>.>v.v.>v..v', '.v.>>..v...v>v.>>>>v....>.....>...v.v..>.v...>.v.....>>.v>v...>.>.>..>v>>>>.v.>..>......>.v>>.>v..>.>vv.>.v>...v.>v.>>.>...>>>..>>>.vv>..v.', '.....v.>.v>........>>.>.>vvv.vv>>.>vvv.v.>vvv.....v..>v..>vvv.>.v>.>..v..vv.>...v>>>>vv>.v..v.>..>..vvvv.>.>vvv....v>..>...v...v.v>v.>..v.v']\n"
     ]
    }
   ],
   "source": [
    "final_input = parse_input(aocd.get_data(day=25, year=2021))\n",
    "print(final_input[:5])"
   ]
  },
  {
   "cell_type": "code",
   "execution_count": 5,
   "id": "69f5f045",
   "metadata": {},
   "outputs": [
    {
     "name": "stdout",
     "output_type": "stream",
     "text": [
      "['v...>>.vv>', '.vv>>.vv..', '>>.>v>...v', '>>v>>.>.v.', 'v>v.vv.v..', '>.>>..v...', '.vv..>.>v.', 'v.v..>>v.v', '....v..v.>']\n"
     ]
    }
   ],
   "source": [
    "test_input = parse_input('''\\\n",
    "v...>>.vv>\n",
    ".vv>>.vv..\n",
    ">>.>v>...v\n",
    ">>v>>.>.v.\n",
    "v>v.vv.v..\n",
    ">.>>..v...\n",
    ".vv..>.>v.\n",
    "v.v..>>v.v\n",
    "....v..v.>\n",
    "''')\n",
    "\n",
    "print(test_input)"
   ]
  },
  {
   "cell_type": "markdown",
   "id": "34651239",
   "metadata": {},
   "source": [
    "### Helpers"
   ]
  },
  {
   "cell_type": "code",
   "execution_count": 6,
   "id": "761736f0",
   "metadata": {},
   "outputs": [],
   "source": [
    "def printBoard(board, marked = set()):\n",
    "    spacing = 1\n",
    "    for r in range(min(20, len(board))):\n",
    "        print(''.join(str.center(str(board[r][c]), spacing)\n",
    "                if (r,c) not in marked else str.center(f\"({board[r][c]})\", spacing) \n",
    "                for c in range(min(20, len(board[0])))))\n",
    "    print(\"\")\n",
    "\n",
    "def createCanvas(w, h, size):\n",
    "    if size > 10:\n",
    "        canvas = RoughCanvas(width = w, height = h)\n",
    "    else:\n",
    "        canvas = Canvas(width = w, height = h)\n",
    "    canvas.font = '18px serif'\n",
    "    canvas.fill_style = \"#FFF0C9\"\n",
    "    canvas.stroke_style = \"white\"\n",
    "    canvas.fill_rect(0, 0, canvas.size[0], canvas.size[1])\n",
    "\n",
    "    return canvas"
   ]
  },
  {
   "cell_type": "markdown",
   "id": "f88b71c4",
   "metadata": {},
   "source": [
    "## Solution 1"
   ]
  },
  {
   "cell_type": "code",
   "execution_count": 7,
   "id": "3b11a060",
   "metadata": {},
   "outputs": [
    {
     "data": {
      "application/vnd.jupyter.widget-view+json": {
       "model_id": "2e5b87f31a5244598ea2daff8cfe504e",
       "version_major": 2,
       "version_minor": 0
      },
      "text/plain": [
       "RoughCanvas(height=135, width=200)"
      ]
     },
     "metadata": {},
     "output_type": "display_data"
    },
    {
     "data": {
      "text/plain": [
       "58"
      ]
     },
     "execution_count": 7,
     "metadata": {},
     "output_type": "execute_result"
    }
   ],
   "source": [
    "def drawAsText(board, canvas, pixelSize, count):\n",
    "    color = \"#5770B3\"\n",
    "\n",
    "    canvas.clear()\n",
    "    canvas.fill_style = \"#FFF0C9\"\n",
    "    canvas.stroke_style = \"white\"\n",
    "    canvas.fill_rect(0, 0, canvas.size[0], canvas.size[1])\n",
    "\n",
    "    canvas.fill_style = color\n",
    "    canvas.stroke_style = color\n",
    "\n",
    "    w,h = len(board[0]), len(board)\n",
    "    offset = 50\n",
    "\n",
    "    for r in range(h):\n",
    "        for c in range(w):\n",
    "            if board[r][c] == \">\":\n",
    "                canvas.fill_text(\">\", c * pixelSize + 3 + offset, r * pixelSize + pixelSize - 2, pixelSize)\n",
    "            elif board[r][c] == \"v\":\n",
    "                canvas.fill_text(\"v\", c * pixelSize + 3 + offset, r * pixelSize + pixelSize - 2, pixelSize)\n",
    "\n",
    "    canvas.fill_style = \"black\"\n",
    "    canvas.fill_text(str(count), 10, 20)\n",
    "\n",
    "def drawAsRect(board, canvas, pixelSize, count):\n",
    "    w,h = len(board[0]), len(board)\n",
    "\n",
    "    offset = 50\n",
    "\n",
    "    canvas.clear()\n",
    "    canvas.fill_style = \"#FFF0C9\"\n",
    "    canvas.stroke_style = \"white\"\n",
    "    canvas.fill_rect(0, 0, canvas.size[0], canvas.size[1])\n",
    "\n",
    "    canvas.fill_style = \"#5770B3\"\n",
    "    canvas.stroke_style = \"#5770B3\"\n",
    "    xs = [i * pixelSize + offset for r in board for i,c in enumerate(r) if c == '>']\n",
    "    ys = [i * pixelSize for i,r in enumerate(board) for c in r if c == '>']\n",
    "    canvas.fill_rects(xs, ys, pixelSize)\n",
    "    canvas.stroke_rects(xs, ys, pixelSize)\n",
    "\n",
    "    canvas.fill_style = \"#577073\"\n",
    "    canvas.stroke_style = \"#577073\"\n",
    "    xs = [i * pixelSize + offset for r in board for i,c in enumerate(r) if c == 'v']\n",
    "    ys = [i * pixelSize for i,r in enumerate(board) for c in r if c == 'v']\n",
    "    canvas.fill_rects(xs, ys, pixelSize)\n",
    "    canvas.stroke_rects(xs, ys, pixelSize)\n",
    "\n",
    "    canvas.fill_style = \"black\"\n",
    "    canvas.fill_text(str(count), 10, 20)\n",
    "\n",
    "def draw(board, canvas, pixelSize, count):\n",
    "    if pixelSize < 10:\n",
    "        drawAsRect(board, canvas, pixelSize, count)\n",
    "    else:\n",
    "        drawAsText(board, canvas, pixelSize, count)\n",
    "\n",
    "def solve_1(input):\n",
    "    board = [line for line in input]\n",
    "    w,h = len(board[0]), len(board)\n",
    "\n",
    "    pixelSize = 15\n",
    "    if w > 50:\n",
    "        pixelSize = 2\n",
    "    canvas = createCanvas(w * pixelSize + 50, h * pixelSize, pixelSize)\n",
    "    display(canvas)\n",
    "    draw(board, canvas, pixelSize, 0)\n",
    "    \n",
    "    count = 0\n",
    "    while True:\n",
    "        with hold_canvas(canvas):\n",
    "            count += 1\n",
    "            step1 = [[board[r][c] for c in range(w)] for r in range(h)]\n",
    "\n",
    "            moved = False\n",
    "            for r in range(h):\n",
    "                for c in range(w):\n",
    "                    if board[r][c] == '>':\n",
    "                        if board[r][(c + 1) % w] == '.':\n",
    "                            moved = True\n",
    "                            step1[r][(c + 1) % w] = '>'\n",
    "                            step1[r][c] = '.'\n",
    "\n",
    "            board = step1\n",
    "            step2 = [[board[r][c] for c in range(w)] for r in range(h)]\n",
    "            for r in range(h):\n",
    "                for c in range(w):\n",
    "                    if board[r][c] == 'v':\n",
    "                        if board[(r + 1) % h][c] == '.':\n",
    "                            moved = True\n",
    "                            step2[(r + 1) % h][c] = 'v'\n",
    "                            step2[r][c] = '.'\n",
    "            board = step2\n",
    "            draw(board, canvas, pixelSize, count)\n",
    "            if pixelSize >= 10:\n",
    "                sleep(0.1)\n",
    "            #printBoard(board)\n",
    "            if not moved:\n",
    "                #printBoard(step2)\n",
    "                return count\n",
    "\n",
    "solve_1(test_input)"
   ]
  },
  {
   "cell_type": "code",
   "execution_count": 8,
   "id": "9ae1d9b0",
   "metadata": {},
   "outputs": [
    {
     "data": {
      "application/vnd.jupyter.widget-view+json": {
       "model_id": "ada245a437d445a7a7a2c795addb96ef",
       "version_major": 2,
       "version_minor": 0
      },
      "text/plain": [
       "Canvas(height=274, width=328)"
      ]
     },
     "metadata": {},
     "output_type": "display_data"
    },
    {
     "data": {
      "text/plain": [
       "'Solution 1: 456'"
      ]
     },
     "execution_count": 8,
     "metadata": {},
     "output_type": "execute_result"
    }
   ],
   "source": [
    "f\"Solution 1: {solve_1(final_input)}\""
   ]
  },
  {
   "cell_type": "code",
   "execution_count": null,
   "id": "f1e461af",
   "metadata": {},
   "outputs": [],
   "source": []
  }
 ],
 "metadata": {
  "kernelspec": {
   "display_name": "Python 3 (ipykernel)",
   "language": "python",
   "name": "python3"
  },
  "language_info": {
   "codemirror_mode": {
    "name": "ipython",
    "version": 3
   },
   "file_extension": ".py",
   "mimetype": "text/x-python",
   "name": "python",
   "nbconvert_exporter": "python",
   "pygments_lexer": "ipython3",
   "version": "3.9.9"
  }
 },
 "nbformat": 4,
 "nbformat_minor": 5
}
