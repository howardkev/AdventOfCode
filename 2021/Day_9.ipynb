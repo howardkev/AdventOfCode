{
 "cells": [
  {
   "cell_type": "markdown",
   "id": "9f697af2",
   "metadata": {},
   "source": [
    "# --- `Day 9`: Smoke Basin ---"
   ]
  },
  {
   "cell_type": "code",
   "execution_count": 5,
   "id": "ac96ba0f",
   "metadata": {},
   "outputs": [],
   "source": [
    "import aocd\n",
    "import re\n",
    "import operator\n",
    "from collections import Counter, defaultdict, deque\n",
    "from itertools import combinations\n",
    "from functools import reduce, lru_cache\n",
    "\n",
    "def prod(iterable):\n",
    "    return reduce(operator.mul, iterable, 1)\n",
    "\n",
    "def count(iterable, predicate = bool):\n",
    "    return sum([1 for item in iterable if predicate(item)])\n",
    "\n",
    "def first(iterable, default = None):\n",
    "    return next(iter(iterable), default)\n",
    "\n",
    "def lmap(func, *iterables):\n",
    "    return list(map(func, *iterables))\n",
    "\n",
    "def ints(s):\n",
    "    return lmap(int, re.findall(r\"-?\\d+\", s))\n",
    "\n",
    "def words(s):\n",
    "    return re.findall(r\"[a-zA-Z]+\", s)\n",
    "\n",
    "def list_diff(x):\n",
    "    return [b - a for a, b in zip(x, x[1:])]\n",
    "\n",
    "def binary_to_int(lst):\n",
    "    return int(\"\".join(str(i) for i in lst), 2)\n",
    "\n",
    "def get_column(lst, index):\n",
    "    return [x[index] for x in lst]"
   ]
  },
  {
   "cell_type": "code",
   "execution_count": 76,
   "id": "7280dabd",
   "metadata": {},
   "outputs": [],
   "source": [
    "def parse_line(line): \n",
    "    return lmap(int,line)\n",
    "    \n",
    "def parse_input(input):\n",
    "    return list(map(parse_line, input.splitlines()))"
   ]
  },
  {
   "cell_type": "code",
   "execution_count": null,
   "id": "621f30ed",
   "metadata": {},
   "outputs": [],
   "source": [
    "final_input = parse_input(aocd.get_data(day=9, year=2021))\n",
    "print(final_input[:5])"
   ]
  },
  {
   "cell_type": "code",
   "execution_count": 78,
   "id": "69f5f045",
   "metadata": {},
   "outputs": [
    {
     "name": "stdout",
     "output_type": "stream",
     "text": [
      "[[2, 1, 9, 9, 9, 4, 3, 2, 1, 0], [3, 9, 8, 7, 8, 9, 4, 9, 2, 1], [9, 8, 5, 6, 7, 8, 9, 8, 9, 2], [8, 7, 6, 7, 8, 9, 6, 7, 8, 9], [9, 8, 9, 9, 9, 6, 5, 6, 7, 8]]\n"
     ]
    }
   ],
   "source": [
    "test_input = parse_input('''\\\n",
    "2199943210\n",
    "3987894921\n",
    "9856789892\n",
    "8767896789\n",
    "9899965678\n",
    "''')\n",
    "\n",
    "print(test_input)"
   ]
  },
  {
   "cell_type": "markdown",
   "id": "f88b71c4",
   "metadata": {},
   "source": [
    "## Solution 1"
   ]
  },
  {
   "cell_type": "code",
   "execution_count": 121,
   "id": "fd4aaa0f",
   "metadata": {},
   "outputs": [
    {
     "name": "stdout",
     "output_type": "stream",
     "text": [
      "23110\n",
      "82.40\n",
      "29107\n",
      "00385\n",
      "12059\n"
     ]
    }
   ],
   "source": [
    "def printBoard(board, filled):\n",
    "    for r in range(min(20, len(board))):        \n",
    "        print(''.join(str(board[r][c]) if (r,c) not in filled else '.' \n",
    "                for c in range(min(40, len(board[0])))))\n",
    "        \n",
    "printBoard([[2, 3, 1, 1, 0],\n",
    "  [8, 2, 2, 4, 0],\n",
    "  [2, 9, 1, 0, 7],\n",
    "  [0, 0, 3, 8, 5],\n",
    "  [1, 2, 0, 5, 9]], {(1,2)})"
   ]
  },
  {
   "cell_type": "code",
   "execution_count": 122,
   "id": "3b11a060",
   "metadata": {},
   "outputs": [
    {
     "name": "stdout",
     "output_type": "stream",
     "text": [
      "2.9994321.\n",
      "3987894921\n",
      "98.6789892\n",
      "8767896789\n",
      "989996.678\n"
     ]
    },
    {
     "data": {
      "text/plain": [
       "15"
      ]
     },
     "execution_count": 122,
     "metadata": {},
     "output_type": "execute_result"
    }
   ],
   "source": [
    "def getNeighbors(input, r, c, w, h):\n",
    "    offsets = [(-1,0), (0,1), (1,0), (0,-1)]\n",
    "    result = []\n",
    "    for (dr,dc) in offsets:\n",
    "        rr = r + dr\n",
    "        cc = c + dc\n",
    "        if 0 <= rr < h and 0 <= cc < w:\n",
    "            result.append(input[rr][cc])\n",
    "    return result\n",
    "\n",
    "def getLowpoints(input, w, h):\n",
    "    lowpoints = []\n",
    "    for r in range(h):\n",
    "        for c in range(w):\n",
    "            value = input[r][c]\n",
    "            neighbors = getNeighbors(input, r, c, w, h)\n",
    "            if all(n > value for n in neighbors):\n",
    "                lowpoints.append((r,c))\n",
    "    return lowpoints\n",
    "\n",
    "def solve_1(input):\n",
    "    w, h = len(input[0]), len(input)\n",
    "    lowpoints = getLowpoints(input, w, h)\n",
    "    printBoard(input, lowpoints)\n",
    "    return sum(input[r][c] + 1 for (r,c) in lowpoints)  \n",
    "\n",
    "solve_1(test_input)"
   ]
  },
  {
   "cell_type": "code",
   "execution_count": null,
   "id": "9ae1d9b0",
   "metadata": {},
   "outputs": [],
   "source": [
    "f\"Solution 1: {solve_1(final_input)}\""
   ]
  },
  {
   "cell_type": "markdown",
   "id": "c4a93ab3",
   "metadata": {},
   "source": [
    "## Solution 2"
   ]
  },
  {
   "cell_type": "code",
   "execution_count": 124,
   "id": "de89416a",
   "metadata": {},
   "outputs": [
    {
     "name": "stdout",
     "output_type": "stream",
     "text": [
      "..999.....\n",
      ".9...9.9..\n",
      "9.....9.9.\n",
      ".....9...9\n",
      "9.999.....\n"
     ]
    },
    {
     "data": {
      "text/plain": [
       "1134"
      ]
     },
     "execution_count": 124,
     "metadata": {},
     "output_type": "execute_result"
    }
   ],
   "source": [
    "def getNeighbors2(input, r, c, w, h):\n",
    "    offsets = [(-1,0), (0,1), (1,0), (0,-1)]\n",
    "    result = []\n",
    "    for (dr,dc) in offsets:\n",
    "        rr = r + dr\n",
    "        cc = c + dc\n",
    "        if 0 <= rr < h and 0 <= cc < w and input[rr][cc] != 9:\n",
    "            result.append((rr,cc))\n",
    "    return result\n",
    "\n",
    "def solve_2(input):\n",
    "    offsets = [(-1,0), (0,1), (1,0), (0,-1)]\n",
    "    w, h = len(input[0]), len(input)\n",
    "    \n",
    "    lowpoints = getLowpoints(input, w, h)\n",
    "    \n",
    "    basins = set()\n",
    "    count = []\n",
    "    for pt in lowpoints:\n",
    "        visited = {pt}\n",
    "        q = [pt]\n",
    "        while q:\n",
    "            r,c = q.pop(0)\n",
    "            neighbors = getNeighbors2(input, r, c, w, h)\n",
    "            for n in neighbors:\n",
    "                if not n in visited:\n",
    "                    q.append(n)\n",
    "                    visited.add(n)\n",
    "            \n",
    "        count.append(len(visited))\n",
    "        basins = basins | visited\n",
    "    printBoard(input, basins)\n",
    "    count.sort()\n",
    "    return count[-3] * count[-2] * count[-1]\n",
    "        \n",
    "solve_2(test_input)"
   ]
  },
  {
   "cell_type": "code",
   "execution_count": 125,
   "id": "a384f741",
   "metadata": {},
   "outputs": [
    {
     "name": "stdout",
     "output_type": "stream",
     "text": [
      "9.....9...9.........9........999.999...9\n",
      ".....9.9.9...........9......9.9...9.9.9.\n",
      "........99............99.9.9.....9...9..\n",
      ".......9..9..........9..9.9.99....9...9.\n",
      "......9.9.9.........9..9..9..9.9.9.....9\n",
      "9..9.9...9.........9..9....9..999.....9.\n",
      ".9.99.....9.9.....9..9......99.99.....9.\n",
      "..9......999.9....9..9.....99....9.....9\n",
      "...9.9..9.9...9999.99......9......9..99.\n",
      "..9.9.99...9........99......9......99.9.\n",
      ".9.....9...........9..9....9......9....9\n",
      "9.......9..........9...9....9...99....99\n",
      "99.....9.9........9....9..9.9.99..9..9.9\n",
      "9........9.........9....999999.....99..9\n",
      "..........9..9...99...99....9.....99....\n",
      "........999..9.999.9..9......9.9..99.9..\n",
      ".........9...99....999.9....999.999.....\n",
      "9...9...9.9.99.......9.9....9....9.9....\n",
      ".9.9.9.9...99999......9.9.99...99..99...\n",
      "..9...9....9..9.......9..9..9...9.9.99..\n"
     ]
    },
    {
     "data": {
      "text/plain": [
       "'Solution 2: 959136'"
      ]
     },
     "execution_count": 125,
     "metadata": {},
     "output_type": "execute_result"
    }
   ],
   "source": [
    "f\"Solution 2: {solve_2(final_input)}\""
   ]
  },
  {
   "cell_type": "code",
   "execution_count": null,
   "id": "f1e461af",
   "metadata": {},
   "outputs": [],
   "source": []
  }
 ],
 "metadata": {
  "kernelspec": {
   "display_name": "Python 3 (ipykernel)",
   "language": "python",
   "name": "python3"
  },
  "language_info": {
   "codemirror_mode": {
    "name": "ipython",
    "version": 3
   },
   "file_extension": ".py",
   "mimetype": "text/x-python",
   "name": "python",
   "nbconvert_exporter": "python",
   "pygments_lexer": "ipython3",
   "version": "3.9.8"
  }
 },
 "nbformat": 4,
 "nbformat_minor": 5
}
