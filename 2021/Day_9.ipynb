{
 "cells": [
  {
   "cell_type": "markdown",
   "id": "9f697af2",
   "metadata": {},
   "source": [
    "# --- `Day 9`: Title ---"
   ]
  },
  {
   "cell_type": "code",
   "execution_count": 5,
   "id": "ac96ba0f",
   "metadata": {},
   "outputs": [],
   "source": [
    "import aocd\n",
    "import re\n",
    "import operator\n",
    "from collections import Counter, defaultdict, deque\n",
    "from itertools import combinations\n",
    "from functools import reduce, lru_cache\n",
    "\n",
    "def prod(iterable):\n",
    "    return reduce(operator.mul, iterable, 1)\n",
    "\n",
    "def count(iterable, predicate = bool):\n",
    "    return sum([1 for item in iterable if predicate(item)])\n",
    "\n",
    "def first(iterable, default = None):\n",
    "    return next(iter(iterable), default)\n",
    "\n",
    "def lmap(func, *iterables):\n",
    "    return list(map(func, *iterables))\n",
    "\n",
    "def ints(s):\n",
    "    return lmap(int, re.findall(r\"-?\\d+\", s))\n",
    "\n",
    "def words(s):\n",
    "    return re.findall(r\"[a-zA-Z]+\", s)\n",
    "\n",
    "def list_diff(x):\n",
    "    return [b - a for a, b in zip(x, x[1:])]\n",
    "\n",
    "def binary_to_int(lst):\n",
    "    return int(\"\".join(str(i) for i in lst), 2)\n",
    "\n",
    "def get_column(lst, index):\n",
    "    return [x[index] for x in lst]"
   ]
  },
  {
   "cell_type": "code",
   "execution_count": 29,
   "id": "7280dabd",
   "metadata": {},
   "outputs": [],
   "source": [
    "def parse_line(line): \n",
    "    return lmap(int,str(line))\n",
    "    \n",
    "def parse_input(input):\n",
    "    return list(map(parse_line, input.splitlines()))"
   ]
  },
  {
   "cell_type": "code",
   "execution_count": 30,
   "id": "621f30ed",
   "metadata": {},
   "outputs": [
    {
     "name": "stdout",
     "output_type": "stream",
     "text": [
      "[[9, 7, 5, 6, 7, 8, 9, 5, 4, 5, 9, 8, 7, 6, 5, 2, 3, 4, 5, 8, 9, 1, 0, 1, 2, 3, 6, 7, 8, 9, 9, 9, 8, 9, 9, 9, 1, 3, 5, 9, 9, 9, 9, 8, 6, 6, 4, 3, 5, 9, 7, 4, 3, 2, 1, 9, 2, 1, 2, 3, 4, 9, 8, 9, 9, 9, 4, 3, 4, 6, 6, 7, 9, 8, 9, 8, 7, 9, 9, 9, 9, 8, 7, 6, 5, 4, 9, 8, 7, 6, 5, 4, 3, 5, 6, 9, 7, 6, 5, 4], [6, 5, 4, 5, 8, 9, 8, 9, 5, 9, 8, 7, 6, 5, 4, 1, 2, 3, 6, 7, 8, 9, 2, 4, 5, 4, 5, 8, 9, 8, 9, 8, 7, 8, 9, 8, 9, 4, 9, 8, 9, 8, 7, 6, 5, 4, 3, 2, 3, 9, 6, 5, 6, 3, 9, 8, 9, 2, 9, 4, 9, 8, 7, 8, 9, 8, 9, 1, 3, 4, 5, 6, 9, 6, 5, 6, 6, 7, 8, 9, 9, 7, 6, 5, 4, 3, 4, 9, 9, 7, 9, 8, 5, 6, 7, 8, 9, 5, 4, 3], [5, 4, 3, 4, 5, 6, 7, 8, 9, 9, 7, 6, 5, 4, 3, 0, 4, 4, 5, 6, 7, 8, 9, 9, 7, 9, 6, 9, 8, 7, 6, 5, 6, 9, 8, 7, 8, 9, 8, 7, 6, 9, 9, 5, 4, 3, 2, 1, 9, 8, 9, 6, 7, 9, 8, 7, 8, 9, 8, 9, 4, 3, 6, 5, 6, 7, 8, 9, 4, 5, 6, 9, 8, 7, 4, 4, 5, 6, 7, 9, 9, 8, 7, 6, 5, 1, 3, 4, 5, 9, 8, 7, 6, 7, 8, 9, 9, 4, 3, 2], [6, 5, 4, 5, 6, 7, 8, 9, 3, 2, 9, 8, 4, 3, 2, 1, 2, 6, 7, 7, 8, 9, 7, 8, 9, 8, 9, 1, 9, 9, 7, 6, 7, 8, 9, 6, 7, 8, 9, 6, 5, 9, 8, 7, 5, 9, 9, 0, 9, 7, 8, 9, 9, 8, 7, 6, 7, 6, 7, 8, 9, 2, 3, 4, 7, 8, 9, 6, 5, 9, 9, 8, 7, 6, 3, 2, 4, 5, 6, 7, 8, 9, 6, 5, 4, 3, 5, 6, 7, 8, 9, 8, 7, 8, 9, 7, 8, 9, 2, 1], [7, 6, 5, 7, 7, 8, 9, 7, 9, 3, 9, 6, 5, 4, 3, 2, 4, 5, 7, 8, 9, 4, 6, 9, 8, 7, 9, 0, 1, 9, 8, 9, 8, 9, 4, 5, 6, 7, 8, 9, 4, 7, 9, 8, 9, 8, 8, 9, 8, 6, 6, 7, 8, 9, 6, 5, 5, 5, 6, 7, 8, 9, 4, 5, 6, 7, 8, 9, 7, 8, 9, 9, 7, 5, 4, 3, 8, 6, 7, 8, 9, 8, 7, 8, 5, 4, 6, 7, 8, 9, 3, 9, 8, 9, 5, 6, 7, 8, 9, 2]]\n"
     ]
    }
   ],
   "source": [
    "final_input = parse_input(aocd.get_data(day=9, year=2021))\n",
    "print(final_input[:5])"
   ]
  },
  {
   "cell_type": "code",
   "execution_count": 31,
   "id": "69f5f045",
   "metadata": {},
   "outputs": [
    {
     "name": "stdout",
     "output_type": "stream",
     "text": [
      "[[2, 1, 9, 9, 9, 4, 3, 2, 1, 0], [3, 9, 8, 7, 8, 9, 4, 9, 2, 1], [9, 8, 5, 6, 7, 8, 9, 8, 9, 2], [8, 7, 6, 7, 8, 9, 6, 7, 8, 9], [9, 8, 9, 9, 9, 6, 5, 6, 7, 8]]\n"
     ]
    }
   ],
   "source": [
    "test_input = parse_input('''\\\n",
    "2199943210\n",
    "3987894921\n",
    "9856789892\n",
    "8767896789\n",
    "9899965678\n",
    "''')\n",
    "\n",
    "print(test_input)"
   ]
  },
  {
   "cell_type": "markdown",
   "id": "f88b71c4",
   "metadata": {},
   "source": [
    "## Solution 1"
   ]
  },
  {
   "cell_type": "code",
   "execution_count": 36,
   "id": "3b11a060",
   "metadata": {},
   "outputs": [
    {
     "data": {
      "text/plain": [
       "15"
      ]
     },
     "execution_count": 36,
     "metadata": {},
     "output_type": "execute_result"
    }
   ],
   "source": [
    "def getNeighbors(input, row, col, w, h):\n",
    "    result = []\n",
    "    if row > 0:\n",
    "        result.append(input[row - 1][col])\n",
    "    if col > 0:\n",
    "        result.append(input[row][col - 1])\n",
    "    if col < w - 1:\n",
    "        result.append(input[row][col + 1])\n",
    "    if row < h - 1 :\n",
    "        result.append(input[row + 1][col])\n",
    "    return result\n",
    "\n",
    "def solve_1(input):\n",
    "    w = len(input[0])\n",
    "    h = len(input)\n",
    "    \n",
    "    count = 0\n",
    "    for y,row in enumerate(input):\n",
    "        for x,col in enumerate(row):\n",
    "            value = input[y][x]\n",
    "            neighbors = getNeighbors(input, y, x, w, h)\n",
    "            if all(x > value for x in neighbors):\n",
    "                count += value + 1\n",
    "    return count\n",
    "            \n",
    "\n",
    "solve_1(test_input)"
   ]
  },
  {
   "cell_type": "code",
   "execution_count": 37,
   "id": "9ae1d9b0",
   "metadata": {},
   "outputs": [
    {
     "data": {
      "text/plain": [
       "'Solution 1: 560'"
      ]
     },
     "execution_count": 37,
     "metadata": {},
     "output_type": "execute_result"
    }
   ],
   "source": [
    "f\"Solution 1: {solve_1(final_input)}\""
   ]
  },
  {
   "cell_type": "markdown",
   "id": "c4a93ab3",
   "metadata": {},
   "source": [
    "## Solution 2"
   ]
  },
  {
   "cell_type": "code",
   "execution_count": 49,
   "id": "de89416a",
   "metadata": {},
   "outputs": [
    {
     "data": {
      "text/plain": [
       "1134"
      ]
     },
     "execution_count": 49,
     "metadata": {},
     "output_type": "execute_result"
    }
   ],
   "source": [
    "def getNeighbors2(visited, input, row, col, w, h):\n",
    "    result = []\n",
    "    if row > 0:\n",
    "        if input[row - 1][col] != 9:\n",
    "            pt = (row - 1,col)\n",
    "            if not pt in visited:\n",
    "                result.append(pt)\n",
    "                visited.add(pt)\n",
    "    if col > 0:\n",
    "        if input[row][col - 1] != 9:\n",
    "            pt = (row,col - 1)\n",
    "            if not pt in visited:\n",
    "                result.append(pt)\n",
    "                visited.add(pt)\n",
    "    if col < w - 1:\n",
    "        if input[row][col + 1] != 9:\n",
    "            pt = (row,col + 1)\n",
    "            if not pt in visited:\n",
    "                result.append(pt)\n",
    "                visited.add(pt)\n",
    "    if row < h - 1:\n",
    "        if input[row + 1][col] != 9:\n",
    "            pt = (row + 1,col)\n",
    "            if not pt in visited:\n",
    "                result.append(pt)\n",
    "                visited.add(pt)\n",
    "    return result\n",
    "\n",
    "def solve_2(input):\n",
    "    w = len(input[0])\n",
    "    h = len(input)\n",
    "    \n",
    "    count = []\n",
    "    lowpoints = []\n",
    "    for y,row in enumerate(input):\n",
    "        for x,col in enumerate(row):\n",
    "            value = input[y][x]\n",
    "            neighbors = getNeighbors(input, y, x, w, h)\n",
    "            if all(x > value for x in neighbors):\n",
    "                lowpoints.append((y,x))\n",
    "    \n",
    "    for (row,col) in lowpoints:\n",
    "        visited = set()\n",
    "        q = [(row,col)]\n",
    "        while q:\n",
    "            r,c = q.pop(0)\n",
    "            neighbors = getNeighbors2(visited, input, r, c, w, h)\n",
    "            for n in neighbors:\n",
    "                q.append(n)\n",
    "            \n",
    "        count.append(len(visited))\n",
    "    count.sort()\n",
    "    return count[-3] * count[-2] * count[-1]\n",
    "        \n",
    "solve_2(test_input)"
   ]
  },
  {
   "cell_type": "code",
   "execution_count": 50,
   "id": "a384f741",
   "metadata": {},
   "outputs": [
    {
     "data": {
      "text/plain": [
       "'Solution 2: 959136'"
      ]
     },
     "execution_count": 50,
     "metadata": {},
     "output_type": "execute_result"
    }
   ],
   "source": [
    "f\"Solution 2: {solve_2(final_input)}\""
   ]
  },
  {
   "cell_type": "code",
   "execution_count": null,
   "id": "f1e461af",
   "metadata": {},
   "outputs": [],
   "source": []
  }
 ],
 "metadata": {
  "kernelspec": {
   "display_name": "Python 3 (ipykernel)",
   "language": "python",
   "name": "python3"
  },
  "language_info": {
   "codemirror_mode": {
    "name": "ipython",
    "version": 3
   },
   "file_extension": ".py",
   "mimetype": "text/x-python",
   "name": "python",
   "nbconvert_exporter": "python",
   "pygments_lexer": "ipython3",
   "version": "3.9.8"
  }
 },
 "nbformat": 4,
 "nbformat_minor": 5
}
