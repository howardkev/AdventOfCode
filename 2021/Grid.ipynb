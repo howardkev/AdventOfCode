{
 "cells": [
  {
   "cell_type": "markdown",
   "id": "9f697af2",
   "metadata": {},
   "source": [
    "# --- Grid Helpers ---"
   ]
  },
  {
   "cell_type": "code",
   "execution_count": 1,
   "id": "ac96ba0f",
   "metadata": {},
   "outputs": [],
   "source": [
    "import aocd\n",
    "import re\n",
    "import operator\n",
    "from collections import Counter, defaultdict, deque\n",
    "from itertools import combinations\n",
    "from functools import reduce, lru_cache\n",
    "\n",
    "def prod(iterable):\n",
    "    return reduce(operator.mul, iterable, 1)\n",
    "\n",
    "def count(iterable, predicate = bool):\n",
    "    return sum([1 for item in iterable if predicate(item)])\n",
    "\n",
    "def first(iterable, default = None):\n",
    "    return next(iter(iterable), default)\n",
    "\n",
    "def lmap(func, *iterables):\n",
    "    return list(map(func, *iterables))\n",
    "\n",
    "def ints(s):\n",
    "    return lmap(int, re.findall(r\"-?\\d+\", s))\n",
    "\n",
    "def words(s):\n",
    "    return re.findall(r\"[a-zA-Z]+\", s)\n",
    "\n",
    "def list_diff(x):\n",
    "    return [b - a for a, b in zip(x, x[1:])]\n",
    "\n",
    "def binary_to_int(lst):\n",
    "    return int(\"\".join(str(i) for i in lst), 2)\n",
    "\n",
    "def get_column(lst, index):\n",
    "    return [x[index] for x in lst]"
   ]
  },
  {
   "cell_type": "markdown",
   "id": "f88b71c4",
   "metadata": {},
   "source": [
    "## Code"
   ]
  },
  {
   "cell_type": "code",
   "execution_count": 67,
   "id": "3b11a060",
   "metadata": {},
   "outputs": [],
   "source": [
    "def printBoard(board, marked = set()):\n",
    "    spacing = 1\n",
    "    for r in range(min(20, len(board))):\n",
    "        print(''.join(str.rjust(str(board[r][c]), spacing)\n",
    "                if (r,c) not in marked else str.rjust('*', spacing) \n",
    "                for c in range(min(40, len(board[0])))))\n",
    "    print(\"\")\n",
    "    \n",
    "def rotatedRight(input):\n",
    "    w,h = len(input[0]), len(input)\n",
    "    rotated = [l[:] for l in input]\n",
    "    for r in range(h):\n",
    "        for c in range(w):\n",
    "            rotated[c][w - r - 1] = input[r][c]\n",
    "    return rotated\n",
    "\n",
    "def flippedLeftRight(input):\n",
    "    w,h = len(input[0]), len(input)\n",
    "    rotated = [l[:] for l in input]\n",
    "    for r in range(h):\n",
    "        for c in range(w):\n",
    "            rotated[r][w - c - 1] = input[r][c]\n",
    "    return rotated\n",
    "\n",
    "def flippedTopBottom(input):\n",
    "    w,h = len(input[0]), len(input)\n",
    "    rotated = [l[:] for l in input]\n",
    "    for r in range(h):\n",
    "        for c in range(w):\n",
    "            rotated[h - r - 1][c] = input[r][c]\n",
    "    return rotated\n",
    "        \n",
    "def get8Neighbors(input, r, c):\n",
    "    w,h = len(input[0]), len(input)\n",
    "    offsets = [(-1,0), (0,1), (1,0), (0,-1), (-1,-1), (1,1), (-1,1), (1,-1)]\n",
    "    result = []\n",
    "    for (dr,dc) in offsets:\n",
    "        rr = r + dr\n",
    "        cc = c + dc\n",
    "        if 0 <= rr < h and 0 <= cc < w:\n",
    "            result.append((rr,cc))\n",
    "    return result\n",
    "\n",
    "def get4Neighbors(input, r, c):\n",
    "    w,h = len(input[0]), len(input)\n",
    "    offsets = [(-1,0), (0,1), (1,0), (0,-1)]\n",
    "    result = []\n",
    "    for (dr,dc) in offsets:\n",
    "        rr = r + dr\n",
    "        cc = c + dc\n",
    "        if 0 <= rr < h and 0 <= cc < w:\n",
    "            result.append((rr,cc))\n",
    "    return result"
   ]
  },
  {
   "cell_type": "code",
   "execution_count": 68,
   "id": "f1e461af",
   "metadata": {},
   "outputs": [
    {
     "name": "stdout",
     "output_type": "stream",
     "text": [
      "23110\n",
      "82240\n",
      "29107\n",
      "00385\n",
      "12059\n",
      "\n",
      "23110\n",
      "82*40\n",
      "29107\n",
      "00385\n",
      "12059\n",
      "\n"
     ]
    }
   ],
   "source": [
    "board = [[2, 3, 1, 1, 0],\n",
    "     [8, 2, 2, 4, 0],\n",
    "     [2, 9, 1, 0, 7],\n",
    "     [0, 0, 3, 8, 5],\n",
    "     [1, 2, 0, 5, 9]]\n",
    "\n",
    "printBoard(board)\n",
    "printBoard(board, {(1,2)})"
   ]
  },
  {
   "cell_type": "code",
   "execution_count": 69,
   "id": "2c83c14f",
   "metadata": {},
   "outputs": [
    {
     "name": "stdout",
     "output_type": "stream",
     "text": [
      "[(1, 3), (2, 4), (3, 3), (2, 2)]\n",
      "[(0, 1), (1, 0)]\n",
      "[(3, 4), (4, 3)]\n"
     ]
    }
   ],
   "source": [
    "board = [[2, 3, 1, 1, 0],\n",
    "     [8, 2, 2, 4, 0],\n",
    "     [2, 9, 1, 0, 7],\n",
    "     [0, 0, 3, 8, 5],\n",
    "     [1, 2, 0, 5, 9]]\n",
    "\n",
    "print(get4Neighbors(board, 2, 3))\n",
    "print(get4Neighbors(board, 0, 0))\n",
    "print(get4Neighbors(board, 4, 4))"
   ]
  },
  {
   "cell_type": "code",
   "execution_count": 70,
   "id": "65b6b6ce",
   "metadata": {},
   "outputs": [
    {
     "name": "stdout",
     "output_type": "stream",
     "text": [
      "[(1, 3), (2, 4), (3, 3), (2, 2), (1, 2), (3, 4), (1, 4), (3, 2)]\n",
      "[(0, 1), (1, 0), (1, 1)]\n",
      "[(3, 4), (4, 3), (3, 3)]\n"
     ]
    }
   ],
   "source": [
    "board = [[2, 3, 1, 1, 0],\n",
    "     [8, 2, 2, 4, 0],\n",
    "     [2, 9, 1, 0, 7],\n",
    "     [0, 0, 3, 8, 5],\n",
    "     [1, 2, 0, 5, 9]]\n",
    "\n",
    "print(get8Neighbors(board, 2, 3))\n",
    "print(get8Neighbors(board, 0, 0))\n",
    "print(get8Neighbors(board, 4, 4))"
   ]
  },
  {
   "cell_type": "code",
   "execution_count": 71,
   "id": "feb57b5a",
   "metadata": {},
   "outputs": [
    {
     "name": "stdout",
     "output_type": "stream",
     "text": [
      "23110\n",
      "82240\n",
      "29107\n",
      "00385\n",
      "12059\n",
      "\n",
      "10282\n",
      "20923\n",
      "03121\n",
      "58041\n",
      "95700\n",
      "\n"
     ]
    }
   ],
   "source": [
    "board = [[2, 3, 1, 1, 0],\n",
    "     [8, 2, 2, 4, 0],\n",
    "     [2, 9, 1, 0, 7],\n",
    "     [0, 0, 3, 8, 5],\n",
    "     [1, 2, 0, 5, 9]]\n",
    "\n",
    "rotated = rotatedRight(board)\n",
    "printBoard(board)\n",
    "printBoard(rotated)"
   ]
  },
  {
   "cell_type": "code",
   "execution_count": 72,
   "id": "ae56e7df",
   "metadata": {},
   "outputs": [
    {
     "name": "stdout",
     "output_type": "stream",
     "text": [
      "23110\n",
      "82240\n",
      "29107\n",
      "00385\n",
      "12059\n",
      "\n",
      "01132\n",
      "04228\n",
      "70192\n",
      "58300\n",
      "95021\n",
      "\n"
     ]
    }
   ],
   "source": [
    "board = [[2, 3, 1, 1, 0],\n",
    "     [8, 2, 2, 4, 0],\n",
    "     [2, 9, 1, 0, 7],\n",
    "     [0, 0, 3, 8, 5],\n",
    "     [1, 2, 0, 5, 9]]\n",
    "\n",
    "flipped = flippedLeftRight(board)\n",
    "printBoard(board)\n",
    "printBoard(flipped)"
   ]
  },
  {
   "cell_type": "code",
   "execution_count": 73,
   "id": "c095b97e",
   "metadata": {},
   "outputs": [
    {
     "name": "stdout",
     "output_type": "stream",
     "text": [
      "23110\n",
      "82240\n",
      "29107\n",
      "00385\n",
      "12059\n",
      "\n",
      "12059\n",
      "00385\n",
      "29107\n",
      "82240\n",
      "23110\n",
      "\n"
     ]
    }
   ],
   "source": [
    "board = [[2, 3, 1, 1, 0],\n",
    "     [8, 2, 2, 4, 0],\n",
    "     [2, 9, 1, 0, 7],\n",
    "     [0, 0, 3, 8, 5],\n",
    "     [1, 2, 0, 5, 9]]\n",
    "\n",
    "flipped = flippedTopBottom(board)\n",
    "printBoard(board)\n",
    "printBoard(flipped)"
   ]
  },
  {
   "cell_type": "code",
   "execution_count": null,
   "id": "3459a239",
   "metadata": {},
   "outputs": [],
   "source": []
  }
 ],
 "metadata": {
  "kernelspec": {
   "display_name": "Python 3 (ipykernel)",
   "language": "python",
   "name": "python3"
  },
  "language_info": {
   "codemirror_mode": {
    "name": "ipython",
    "version": 3
   },
   "file_extension": ".py",
   "mimetype": "text/x-python",
   "name": "python",
   "nbconvert_exporter": "python",
   "pygments_lexer": "ipython3",
   "version": "3.9.8"
  }
 },
 "nbformat": 4,
 "nbformat_minor": 5
}
