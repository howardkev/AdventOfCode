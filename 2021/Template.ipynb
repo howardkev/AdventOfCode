{
 "cells": [
  {
   "cell_type": "markdown",
   "id": "9f697af2",
   "metadata": {},
   "source": [
    "# --- `Day X`: Title ---"
   ]
  },
  {
   "cell_type": "code",
   "execution_count": null,
   "id": "ac96ba0f",
   "metadata": {},
   "outputs": [],
   "source": [
    "import aocd\n",
    "import re\n",
    "import operator\n",
    "from collections import Counter, defaultdict, deque\n",
    "from itertools import combinations\n",
    "from functools import reduce, lru_cache\n",
    "\n",
    "def prod(iterable):\n",
    "    return reduce(operator.mul, iterable, 1)\n",
    "\n",
    "def count(iterable, predicate = bool):\n",
    "    return sum([1 for item in iterable if predicate(item)])\n",
    "\n",
    "def first(iterable, default = None):\n",
    "    return next(iter(iterable), default)\n",
    "\n",
    "def lmap(func, *iterables):\n",
    "    return list(map(func, *iterables))\n",
    "\n",
    "def ints(s):\n",
    "    return lmap(int, re.findall(r\"-?\\d+\", s))\n",
    "\n",
    "def words(s):\n",
    "    return re.findall(r\"[a-zA-Z]+\", s)\n",
    "\n",
    "def list_diff(x):\n",
    "    return [b - a for a, b in zip(x, x[1:])]\n",
    "\n",
    "def binary_to_int(lst):\n",
    "    return int(\"\".join(str(i) for i in lst), 2)\n",
    "\n",
    "def get_column(lst, index):\n",
    "    return [x[index] for x in lst]"
   ]
  },
  {
   "cell_type": "code",
   "execution_count": null,
   "id": "7280dabd",
   "metadata": {},
   "outputs": [],
   "source": [
    "def parse_line(line): \n",
    "    return str(line)\n",
    "    \n",
    "def parse_input(input):\n",
    "    return list(map(parse_line, input.splitlines()))"
   ]
  },
  {
   "cell_type": "code",
   "execution_count": null,
   "id": "621f30ed",
   "metadata": {},
   "outputs": [],
   "source": [
    "final_input = parse_input(aocd.get_data(day=0, year=2021))\n",
    "print(final_input[:5])"
   ]
  },
  {
   "cell_type": "code",
   "execution_count": null,
   "id": "69f5f045",
   "metadata": {},
   "outputs": [],
   "source": [
    "test_input = parse_input('''\\\n",
    "line1\n",
    "line2\n",
    "''')\n",
    "\n",
    "print(test_input)"
   ]
  },
  {
   "cell_type": "markdown",
   "id": "53a94009",
   "metadata": {},
   "source": [
    "### Helpers"
   ]
  },
  {
   "cell_type": "code",
   "execution_count": null,
   "id": "facaa590",
   "metadata": {},
   "outputs": [],
   "source": []
  },
  {
   "cell_type": "markdown",
   "id": "f88b71c4",
   "metadata": {},
   "source": [
    "## Solution 1"
   ]
  },
  {
   "cell_type": "code",
   "execution_count": null,
   "id": "3b11a060",
   "metadata": {},
   "outputs": [],
   "source": [
    "def solve_1(input):\n",
    "    return \"\"\n",
    "\n",
    "solve_1(test_input)"
   ]
  },
  {
   "cell_type": "code",
   "execution_count": null,
   "id": "9ae1d9b0",
   "metadata": {},
   "outputs": [],
   "source": [
    "f\"Solution 1: {solve_1(final_input)}\""
   ]
  },
  {
   "cell_type": "markdown",
   "id": "c4a93ab3",
   "metadata": {},
   "source": [
    "## Solution 2"
   ]
  },
  {
   "cell_type": "code",
   "execution_count": null,
   "id": "de89416a",
   "metadata": {},
   "outputs": [],
   "source": [
    "def solve_2(input):\n",
    "    return \"\"\n",
    "    \n",
    "solve_2(test_input)"
   ]
  },
  {
   "cell_type": "code",
   "execution_count": null,
   "id": "a384f741",
   "metadata": {},
   "outputs": [],
   "source": [
    "f\"Solution 2: {solve_2(final_input)}\""
   ]
  },
  {
   "cell_type": "code",
   "execution_count": null,
   "id": "f1e461af",
   "metadata": {},
   "outputs": [],
   "source": []
  }
 ],
 "metadata": {
  "kernelspec": {
   "display_name": "Python 3 (ipykernel)",
   "language": "python",
   "name": "python3"
  },
  "language_info": {
   "codemirror_mode": {
    "name": "ipython",
    "version": 3
   },
   "file_extension": ".py",
   "mimetype": "text/x-python",
   "name": "python",
   "nbconvert_exporter": "python",
   "pygments_lexer": "ipython3",
   "version": "3.9.8"
  }
 },
 "nbformat": 4,
 "nbformat_minor": 5
}
