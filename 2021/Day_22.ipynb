{
 "cells": [
  {
   "cell_type": "markdown",
   "id": "9f697af2",
   "metadata": {},
   "source": [
    "# --- `Day 22`: Reactor Reboot ---"
   ]
  },
  {
   "cell_type": "code",
   "execution_count": 1,
   "id": "ac96ba0f",
   "metadata": {},
   "outputs": [],
   "source": [
    "import aocd\n",
    "import re\n",
    "import heapq\n",
    "import operator\n",
    "from collections import Counter, defaultdict, deque\n",
    "from itertools import combinations\n",
    "from functools import reduce, lru_cache\n",
    "\n",
    "def prod(iterable):\n",
    "    return reduce(operator.mul, iterable, 1)\n",
    "\n",
    "def count(iterable, predicate = bool):\n",
    "    return sum([1 for item in iterable if predicate(item)])\n",
    "\n",
    "def first(iterable, default = None):\n",
    "    return next(iter(iterable), default)\n",
    "\n",
    "def lmap(func, *iterables):\n",
    "    return list(map(func, *iterables))\n",
    "\n",
    "def ints(s):\n",
    "    return lmap(int, re.findall(r\"-?\\d+\", s))\n",
    "\n",
    "def words(s):\n",
    "    return re.findall(r\"[a-zA-Z]+\", s)\n",
    "\n",
    "def list_diff(x):\n",
    "    return [b - a for a, b in zip(x, x[1:])]\n",
    "\n",
    "def binary_to_int(lst):\n",
    "    return int(\"\".join(str(i) for i in lst), 2)\n",
    "\n",
    "def get_column(lst, index):\n",
    "    return [x[index] for x in lst]"
   ]
  },
  {
   "cell_type": "code",
   "execution_count": 2,
   "id": "7280dabd",
   "metadata": {},
   "outputs": [],
   "source": [
    "def parse_line(line): \n",
    "    return str(line)\n",
    "    \n",
    "def parse_input(input):\n",
    "    return list(map(parse_line, input.splitlines()))"
   ]
  },
  {
   "cell_type": "code",
   "execution_count": null,
   "id": "621f30ed",
   "metadata": {},
   "outputs": [],
   "source": [
    "final_input = parse_input(aocd.get_data(day=22, year=2021))\n",
    "print(final_input[:5])"
   ]
  },
  {
   "cell_type": "code",
   "execution_count": 87,
   "id": "69f5f045",
   "metadata": {},
   "outputs": [
    {
     "name": "stdout",
     "output_type": "stream",
     "text": [
      "['on x=10..12,y=10..12,z=10..12', 'on x=11..13,y=11..13,z=11..13', 'off x=9..11,y=9..11,z=9..11', 'on x=10..10,y=10..10,z=10..10']\n"
     ]
    }
   ],
   "source": [
    "test_input = parse_input('''\\\n",
    "on x=10..12,y=10..12,z=10..12\n",
    "on x=11..13,y=11..13,z=11..13\n",
    "off x=9..11,y=9..11,z=9..11\n",
    "on x=10..10,y=10..10,z=10..10\n",
    "''')\n",
    "\n",
    "print(test_input)"
   ]
  },
  {
   "cell_type": "markdown",
   "id": "34651239",
   "metadata": {},
   "source": [
    "### Helpers"
   ]
  },
  {
   "cell_type": "code",
   "execution_count": null,
   "id": "761736f0",
   "metadata": {},
   "outputs": [],
   "source": []
  },
  {
   "cell_type": "markdown",
   "id": "f88b71c4",
   "metadata": {},
   "source": [
    "## Solution 1"
   ]
  },
  {
   "cell_type": "code",
   "execution_count": 44,
   "id": "3b11a060",
   "metadata": {},
   "outputs": [
    {
     "name": "stdout",
     "output_type": "stream",
     "text": [
      "27\n",
      "46\n",
      "38\n",
      "39\n"
     ]
    },
    {
     "data": {
      "text/plain": [
       "39"
      ]
     },
     "execution_count": 44,
     "metadata": {},
     "output_type": "execute_result"
    }
   ],
   "source": [
    "def solve_1(input):\n",
    "    result = set()\n",
    "    for line in input:\n",
    "        data = set()\n",
    "        x1,x2,y1,y2,z1,z2 = ints(line)\n",
    "        if x1 > 50 or x1 < -50 or x2 > 50 or x2 < -50:\n",
    "            continue\n",
    "        if y1 > 50 or y1 < -50 or y2 > 50 or y2 < -50:\n",
    "            continue\n",
    "        if z1 > 50 or z1 < -50 or z2 > 50 or z2 < -50:\n",
    "            continue\n",
    "        for x in range(x1, x2 + 1):\n",
    "            for y in range(y1, y2 + 1):\n",
    "                for z in range(z1, z2 + 1):\n",
    "                    data.add((x, y, z))\n",
    "        if line.startswith(\"on\"):\n",
    "            result = result.union(data)\n",
    "        else:\n",
    "            result = result - data\n",
    "        print(len(result))\n",
    "    return len(result)\n",
    "\n",
    "solve_1(test_input)"
   ]
  },
  {
   "cell_type": "code",
   "execution_count": null,
   "id": "9ae1d9b0",
   "metadata": {},
   "outputs": [],
   "source": [
    "f\"Solution 1: {solve_1(final_input)}\""
   ]
  },
  {
   "cell_type": "markdown",
   "id": "c4a93ab3",
   "metadata": {},
   "source": [
    "## Solution 2"
   ]
  },
  {
   "cell_type": "code",
   "execution_count": 84,
   "id": "25eb8b30",
   "metadata": {},
   "outputs": [
    {
     "name": "stdout",
     "output_type": "stream",
     "text": [
      "(11, 12, 11, 12, 11, 12)\n",
      "27\n"
     ]
    }
   ],
   "source": [
    "def overlaps(a, b):\n",
    "    aminX,amaxX,aminY,amaxY,aminZ,amaxZ = a\n",
    "    bminX,bmaxX,bminY,bmaxY,bminZ,bmaxZ = b\n",
    "    \n",
    "    if not ((aminX <= bmaxX and amaxX >= bminX) and\n",
    "         (aminY <= bmaxY and amaxY >= bminY) and\n",
    "         (aminZ <= bmaxZ and amaxZ >= bminZ)):\n",
    "        return None\n",
    "    \n",
    "    ax = set()\n",
    "    for i in range(aminX, amaxX + 1):\n",
    "        ax.add(i)   \n",
    "    bx = set()\n",
    "    for i in range(bminX, bmaxX + 1):\n",
    "        bx.add(i)\n",
    "    xs = ax.intersection(bx)\n",
    "    \n",
    "    ay = set()\n",
    "    for i in range(aminY, amaxY + 1):\n",
    "        ay.add(i)   \n",
    "    by = set()\n",
    "    for i in range(bminY, bmaxY + 1):\n",
    "        by.add(i)\n",
    "    ys = ay.intersection(by)\n",
    "    \n",
    "    az = set()\n",
    "    for i in range(aminZ, amaxZ + 1):\n",
    "        az.add(i)   \n",
    "    bz = set()\n",
    "    for i in range(bminZ, bmaxZ + 1):\n",
    "        bz.add(i)\n",
    "    zs = az.intersection(bz)\n",
    "    \n",
    "    return min(xs), max(xs), min(ys), max(ys), min(zs), max(zs)\n",
    "\n",
    "print(overlaps((10,12,10,12,10,12), (11,15,11,15,11,15)))\n",
    "\n",
    "def countCubes(a):\n",
    "    minX,maxX,minY,maxY,minZ,maxZ = a\n",
    "    return (maxX - minX + 1) * (maxY - minY + 1) * (maxZ - minZ + 1)\n",
    "\n",
    "def subtractCubes(a, b):\n",
    "    pass\n",
    "\n",
    "print(countCubes((10,12,10,12,10,12)))"
   ]
  },
  {
   "cell_type": "code",
   "execution_count": 93,
   "id": "de89416a",
   "metadata": {},
   "outputs": [
    {
     "name": "stdout",
     "output_type": "stream",
     "text": [
      "1 4\n",
      "2 4\n",
      "3 4\n",
      "4 4\n"
     ]
    },
    {
     "data": {
      "text/plain": [
       "39"
      ]
     },
     "execution_count": 93,
     "metadata": {},
     "output_type": "execute_result"
    }
   ],
   "source": [
    "def solve_2(input):\n",
    "    cubes = []\n",
    "\n",
    "    count = 0\n",
    "    for line in input:\n",
    "        count += 1\n",
    "        print(count, len(input))\n",
    "        \n",
    "        x1,x2,y1,y2,z1,z2 = ints(line)\n",
    "        if x1 > x2:\n",
    "            x1,x2 = x2,x1\n",
    "        if y1 > y2:\n",
    "            y1,y2 = y2,y1\n",
    "        if z1 > z2:\n",
    "            z1,z2 = z2,z1\n",
    "        current = (x1,x2,y1,y2,z1,z2)\n",
    "        isOn = line.startswith(\"on\")\n",
    "        \n",
    "        nextCubes = []\n",
    "        for cube in cubes:\n",
    "            nextCubes.append(cube)\n",
    "            o = overlaps(current, cube[0])\n",
    "            if o != None:\n",
    "                overlapOn = isOn if cube[1] != isOn else not isOn\n",
    "                nextCubes.append((o, overlapOn))\n",
    "            \n",
    "        if isOn:\n",
    "            nextCubes.append((current, isOn))\n",
    "        cubes = nextCubes\n",
    "        \n",
    "    total = 0\n",
    "    for cube, on in cubes:\n",
    "        if on:\n",
    "            total += countCubes(cube)\n",
    "        else:\n",
    "            total -= countCubes(cube)\n",
    "    return total\n",
    "    \n",
    "solve_2(test_input)"
   ]
  },
  {
   "cell_type": "code",
   "execution_count": null,
   "id": "a384f741",
   "metadata": {},
   "outputs": [],
   "source": [
    "f\"Solution 2: {solve_2(final_input)}\""
   ]
  },
  {
   "cell_type": "code",
   "execution_count": null,
   "id": "f1e461af",
   "metadata": {},
   "outputs": [],
   "source": []
  }
 ],
 "metadata": {
  "kernelspec": {
   "display_name": "Python 3 (ipykernel)",
   "language": "python",
   "name": "python3"
  },
  "language_info": {
   "codemirror_mode": {
    "name": "ipython",
    "version": 3
   },
   "file_extension": ".py",
   "mimetype": "text/x-python",
   "name": "python",
   "nbconvert_exporter": "python",
   "pygments_lexer": "ipython3",
   "version": "3.9.9"
  }
 },
 "nbformat": 4,
 "nbformat_minor": 5
}
