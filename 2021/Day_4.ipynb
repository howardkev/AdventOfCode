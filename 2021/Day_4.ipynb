{
 "cells": [
  {
   "cell_type": "markdown",
   "id": "9f697af2",
   "metadata": {},
   "source": [
    "# --- `Day 4`: Giant Squid ---"
   ]
  },
  {
   "cell_type": "code",
   "execution_count": 227,
   "id": "ac96ba0f",
   "metadata": {},
   "outputs": [],
   "source": [
    "import aocd\n",
    "import re\n",
    "import operator\n",
    "from collections import Counter, defaultdict, deque\n",
    "from itertools import combinations\n",
    "from functools import reduce, lru_cache\n",
    "\n",
    "def prod(iterable):\n",
    "    return reduce(operator.mul, iterable, 1)\n",
    "\n",
    "def count(iterable, predicate = bool):\n",
    "    return sum([1 for item in iterable if predicate(item)])\n",
    "\n",
    "def first(iterable, default = None):\n",
    "    return next(iter(iterable), default)\n",
    "\n",
    "def lmap(func, *iterables):\n",
    "    return list(map(func, *iterables))\n",
    "\n",
    "def ints(s):\n",
    "    return lmap(int, re.findall(r\"-?\\d+\", s))\n",
    "\n",
    "def words(s):\n",
    "    return re.findall(r\"[a-zA-Z]+\", s)\n",
    "\n",
    "def list_diff(x):\n",
    "    return [b - a for a, b in zip(x, x[1:])]\n",
    "\n",
    "def binary_to_int(lst):\n",
    "    return int(\"\".join(str(i) for i in lst), 2)\n",
    "\n",
    "def get_column(lst, index):\n",
    "    return [x[index] for x in lst]"
   ]
  },
  {
   "cell_type": "code",
   "execution_count": 228,
   "id": "7280dabd",
   "metadata": {},
   "outputs": [],
   "source": [
    "def parse_line(line): \n",
    "    return [ints(x) for x in line.splitlines()]\n",
    "    \n",
    "def parse_input(input):\n",
    "    return list(map(parse_line, input.split(\"\\n\\n\")))"
   ]
  },
  {
   "cell_type": "code",
   "execution_count": null,
   "id": "621f30ed",
   "metadata": {},
   "outputs": [],
   "source": [
    "final_input = parse_input(aocd.get_data(day=4, year=2021))\n",
    "print(final_input[:5])"
   ]
  },
  {
   "cell_type": "code",
   "execution_count": 230,
   "id": "69f5f045",
   "metadata": {},
   "outputs": [
    {
     "name": "stdout",
     "output_type": "stream",
     "text": [
      "[[[7, 4, 9, 5, 11, 17, 23, 2, 0, 14, 21, 24, 10, 16, 13, 6, 15, 25, 12, 22, 18, 20, 8, 19, 3, 26, 1]], [[22, 13, 17, 11, 0], [8, 2, 23, 4, 24], [21, 9, 14, 16, 7], [6, 10, 3, 18, 5], [1, 12, 20, 15, 19]], [[3, 15, 0, 2, 22], [9, 18, 13, 17, 5], [19, 8, 7, 25, 23], [20, 11, 10, 24, 4], [14, 21, 16, 12, 6]], [[14, 21, 17, 24, 4], [10, 16, 15, 9, 19], [18, 8, 23, 26, 20], [22, 11, 13, 6, 5], [2, 0, 12, 3, 7]]]\n"
     ]
    }
   ],
   "source": [
    "test_input = parse_input('''\\\n",
    "7,4,9,5,11,17,23,2,0,14,21,24,10,16,13,6,15,25,12,22,18,20,8,19,3,26,1\n",
    "\n",
    "22 13 17 11  0\n",
    " 8  2 23  4 24\n",
    "21  9 14 16  7\n",
    " 6 10  3 18  5\n",
    " 1 12 20 15 19\n",
    "\n",
    " 3 15  0  2 22\n",
    " 9 18 13 17  5\n",
    "19  8  7 25 23\n",
    "20 11 10 24  4\n",
    "14 21 16 12  6\n",
    "\n",
    "14 21 17 24  4\n",
    "10 16 15  9 19\n",
    "18  8 23 26 20\n",
    "22 11 13  6  5\n",
    " 2  0 12  3  7\n",
    "''')\n",
    "\n",
    "print(test_input)"
   ]
  },
  {
   "cell_type": "markdown",
   "id": "f88b71c4",
   "metadata": {},
   "source": [
    "### Helpers"
   ]
  },
  {
   "cell_type": "code",
   "execution_count": 231,
   "id": "79d18031",
   "metadata": {},
   "outputs": [],
   "source": [
    "def checkWin(lst):\n",
    "    return all(x == '*' for x in lst)\n",
    "\n",
    "assert checkWin([1,2,3,4,5]) == False\n",
    "assert checkWin([1,2,3,'*',5]) == False\n",
    "assert checkWin([1,'*','*',4,'*']) == False\n",
    "assert checkWin(['*','*','*','*','*']) == True"
   ]
  },
  {
   "cell_type": "code",
   "execution_count": 232,
   "id": "b7cb018a",
   "metadata": {},
   "outputs": [],
   "source": [
    "def checkColumns(board):\n",
    "    size = len(board[0])\n",
    "    return any(checkWin(get_column(board, x)) for x in range(size))\n",
    "\n",
    "assert checkColumns([[1, 2, 3], [4, 5, 6], [7, 8, 9]]) == False\n",
    "assert checkColumns([['*', 2, 3], ['*', 5, 6], [7, 8, 9]]) == False\n",
    "assert checkColumns([['*', 2, 3], ['*', 5, 6], ['*', 8, 9]]) == True\n",
    "assert checkColumns([[1, '*', 3], [4, '*', 6], [7, '*', 9]]) == True\n",
    "assert checkColumns([[1, 2, '*'], [4, 5, '*'], [7, 8, '*']]) == True"
   ]
  },
  {
   "cell_type": "code",
   "execution_count": 233,
   "id": "2633151f",
   "metadata": {},
   "outputs": [],
   "source": [
    "def checkRows(board):\n",
    "    return any(checkWin(x) for x in board)\n",
    "\n",
    "assert checkRows([[1, 2, 3], [4, 5, 6], [7, 8, 9]]) == False\n",
    "assert checkRows([['*', '*', 3], [4, 5, 6], [7, 8, 9]]) == False\n",
    "assert checkRows([[1, 2, 3], ['*', '*', '*'], [7, 8, 9]]) == True"
   ]
  },
  {
   "cell_type": "code",
   "execution_count": 234,
   "id": "3b0b6371",
   "metadata": {},
   "outputs": [],
   "source": [
    "def checkBoard(board):\n",
    "    return checkRows(board) or checkColumns(board)\n",
    "\n",
    "assert checkBoard([[1, 2, 3], [4, 5, 6], [7, 8, 9]]) == False\n",
    "assert checkBoard([[1, 2, 3], ['*', '*', '*'], [7, 8, 9]]) == True\n",
    "assert checkBoard([[1, '*', 3], [4, '*', 6], [7, '*', 9]]) == True"
   ]
  },
  {
   "cell_type": "code",
   "execution_count": 235,
   "id": "2797b63d",
   "metadata": {},
   "outputs": [],
   "source": [
    "def sumBoard(board):\n",
    "    size = len(board[0])\n",
    "    return sum(board[y][x] \n",
    "                 for x in range(size)\n",
    "                 for y in range(size)\n",
    "                 if board[y][x] != '*')\n",
    "    \n",
    "assert sumBoard([[1, 2, 3], [4, 5, 6], [7, 8, 9]]) == 45"
   ]
  },
  {
   "cell_type": "markdown",
   "id": "f59edcc8",
   "metadata": {},
   "source": [
    "Return a list of boards that is deep copied. This is so the original data is not overwritten when numbers are removed."
   ]
  },
  {
   "cell_type": "code",
   "execution_count": 236,
   "id": "5a4aeb38",
   "metadata": {},
   "outputs": [
    {
     "data": {
      "text/plain": [
       "[[[22, 13, 17, 11, 0],\n",
       "  [8, 2, 23, 4, 24],\n",
       "  [21, 9, 14, 16, 7],\n",
       "  [6, 10, 3, 18, 5],\n",
       "  [1, 12, 20, 15, 19]]]"
      ]
     },
     "execution_count": 236,
     "metadata": {},
     "output_type": "execute_result"
    }
   ],
   "source": [
    "def getBoards(input):\n",
    "    boards = []\n",
    "    for i in range(1, len(input)):\n",
    "        boards.append([[x for x in row] for row in input[i]])\n",
    "\n",
    "    return boards\n",
    "\n",
    "getBoards([[[7, 4, 9, 5, 11, 17, 23, 2, 0, 14, 21, 24, 10, 16, 13, 6, 15, 25, 12, 22, 18, 20, 8, 19, 3, 26, 1]], [[22, 13, 17, 11, 0], [8, 2, 23, 4, 24], [21, 9, 14, 16, 7], [6, 10, 3, 18, 5], [1, 12, 20, 15, 19]]])"
   ]
  },
  {
   "cell_type": "code",
   "execution_count": 237,
   "id": "54092851",
   "metadata": {},
   "outputs": [
    {
     "name": "stdout",
     "output_type": "stream",
     "text": [
      "22 13 17 11  0\n",
      " 8  2 23  4 24\n",
      "21  9 14  *  7\n",
      " 6 10  3 18  5\n",
      " 1 12 20 15 19\n"
     ]
    }
   ],
   "source": [
    "def printBoard(board):\n",
    "    for row in board:\n",
    "        print(' '.join(str.rjust(str(c),2) for c in row))\n",
    "        \n",
    "printBoard([[22, 13, 17, 11, 0],\n",
    "  [8, 2, 23, 4, 24],\n",
    "  [21, 9, 14, '*', 7],\n",
    "  [6, 10, 3, 18, 5],\n",
    "  [1, 12, 20, 15, 19]])"
   ]
  },
  {
   "cell_type": "markdown",
   "id": "babe5957",
   "metadata": {},
   "source": [
    "## Solution 1"
   ]
  },
  {
   "cell_type": "code",
   "execution_count": 245,
   "id": "3b11a060",
   "metadata": {},
   "outputs": [
    {
     "name": "stdout",
     "output_type": "stream",
     "text": [
      " *  *  *  *  *\n",
      "10 16 15  * 19\n",
      "18  8  * 26 20\n",
      "22  * 13  6  *\n",
      " *  * 12  3  *\n"
     ]
    },
    {
     "data": {
      "text/plain": [
       "4512"
      ]
     },
     "execution_count": 245,
     "metadata": {},
     "output_type": "execute_result"
    }
   ],
   "source": [
    "def solve_1(input):\n",
    "    numbers, boards = input[0][0], getBoards(input)\n",
    "        \n",
    "    for i in numbers:\n",
    "        for board in boards:\n",
    "            for y in range(5):\n",
    "                for x in range(5):\n",
    "                    if board[y][x] == i:\n",
    "                        board[y][x] = '*'\n",
    "            if checkBoard(board):\n",
    "                printBoard(board)\n",
    "                return i * sumBoard(board)\n",
    "    \n",
    "\n",
    "solve_1(test_input)"
   ]
  },
  {
   "cell_type": "code",
   "execution_count": 246,
   "id": "9ae1d9b0",
   "metadata": {},
   "outputs": [
    {
     "name": "stdout",
     "output_type": "stream",
     "text": [
      "64 65  6 86 53\n",
      "10 56  2 88  *\n",
      "11  *  * 84  *\n",
      " *  *  *  *  *\n",
      " *  * 19 14  4\n"
     ]
    },
    {
     "data": {
      "text/plain": [
       "'Solution 1: 39902'"
      ]
     },
     "execution_count": 246,
     "metadata": {},
     "output_type": "execute_result"
    }
   ],
   "source": [
    "f\"Solution 1: {solve_1(final_input)}\""
   ]
  },
  {
   "cell_type": "markdown",
   "id": "c4a93ab3",
   "metadata": {},
   "source": [
    "## Solution 2"
   ]
  },
  {
   "cell_type": "code",
   "execution_count": 243,
   "id": "de89416a",
   "metadata": {},
   "outputs": [
    {
     "name": "stdout",
     "output_type": "stream",
     "text": [
      " 3 15  *  * 22\n",
      " * 18  *  *  *\n",
      "19  8  * 25  *\n",
      "20  *  *  *  *\n",
      " *  *  * 12  6\n"
     ]
    },
    {
     "data": {
      "text/plain": [
       "1924"
      ]
     },
     "execution_count": 243,
     "metadata": {},
     "output_type": "execute_result"
    }
   ],
   "source": [
    "def solve_2(input):\n",
    "    numbers, boards = input[0][0], getBoards(input)\n",
    "        \n",
    "    inplay = {i for i in range(len(boards))}\n",
    "    for i in numbers:\n",
    "        for boardNumber,board in enumerate(boards):\n",
    "            for y in range(5):\n",
    "                for x in range(5):\n",
    "                    if board[y][x] == i:\n",
    "                        board[y][x] = '*'\n",
    "            if boardNumber in inplay and checkBoard(board):\n",
    "                if len(inplay) == 1:\n",
    "                    printBoard(board)\n",
    "                    return i * sumBoard(board)\n",
    "                inplay.remove(boardNumber)\n",
    "    \n",
    "solve_2(test_input)"
   ]
  },
  {
   "cell_type": "code",
   "execution_count": 242,
   "id": "a384f741",
   "metadata": {},
   "outputs": [
    {
     "name": "stdout",
     "output_type": "stream",
     "text": [
      " *  *  *  * 32\n",
      " *  * 38  * 45\n",
      "70  *  * 86  *\n",
      " *  *  * 66 60\n",
      " *  * 84  *  *\n"
     ]
    },
    {
     "data": {
      "text/plain": [
       "'Solution 2: 26936'"
      ]
     },
     "execution_count": 242,
     "metadata": {},
     "output_type": "execute_result"
    }
   ],
   "source": [
    "f\"Solution 2: {solve_2(final_input)}\""
   ]
  },
  {
   "cell_type": "code",
   "execution_count": null,
   "id": "f1e461af",
   "metadata": {},
   "outputs": [],
   "source": []
  }
 ],
 "metadata": {
  "kernelspec": {
   "display_name": "Python 3 (ipykernel)",
   "language": "python",
   "name": "python3"
  },
  "language_info": {
   "codemirror_mode": {
    "name": "ipython",
    "version": 3
   },
   "file_extension": ".py",
   "mimetype": "text/x-python",
   "name": "python",
   "nbconvert_exporter": "python",
   "pygments_lexer": "ipython3",
   "version": "3.9.8"
  }
 },
 "nbformat": 4,
 "nbformat_minor": 5
}
