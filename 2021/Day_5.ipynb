{
 "cells": [
  {
   "cell_type": "markdown",
   "id": "9f697af2",
   "metadata": {},
   "source": [
    "# --- `Day 5`: Hydrothermal Venture ---"
   ]
  },
  {
   "cell_type": "code",
   "execution_count": 1,
   "id": "ac96ba0f",
   "metadata": {},
   "outputs": [],
   "source": [
    "import aocd\n",
    "import re\n",
    "import operator\n",
    "from collections import Counter, defaultdict, deque\n",
    "from itertools import combinations\n",
    "from functools import reduce, lru_cache\n",
    "\n",
    "def prod(iterable):\n",
    "    return reduce(operator.mul, iterable, 1)\n",
    "\n",
    "def count(iterable, predicate = bool):\n",
    "    return sum([1 for item in iterable if predicate(item)])\n",
    "\n",
    "def first(iterable, default = None):\n",
    "    return next(iter(iterable), default)\n",
    "\n",
    "def lmap(func, *iterables):\n",
    "    return list(map(func, *iterables))\n",
    "\n",
    "def ints(s):\n",
    "    return lmap(int, re.findall(r\"-?\\d+\", s))\n",
    "\n",
    "def words(s):\n",
    "    return re.findall(r\"[a-zA-Z]+\", s)\n",
    "\n",
    "def list_diff(x):\n",
    "    return [b - a for a, b in zip(x, x[1:])]\n",
    "\n",
    "def binary_to_int(lst):\n",
    "    return int(\"\".join(str(i) for i in lst), 2)\n",
    "\n",
    "def get_column(lst, index):\n",
    "    return [x[index] for x in lst]"
   ]
  },
  {
   "cell_type": "code",
   "execution_count": 6,
   "id": "7280dabd",
   "metadata": {},
   "outputs": [],
   "source": [
    "def parse_line(line): \n",
    "    return ints(line)\n",
    "    \n",
    "def parse_input(input):\n",
    "    return list(map(parse_line, input.splitlines()))"
   ]
  },
  {
   "cell_type": "code",
   "execution_count": null,
   "id": "621f30ed",
   "metadata": {},
   "outputs": [],
   "source": [
    "final_input = parse_input(aocd.get_data(day=5, year=2021))\n",
    "print(final_input[:5])"
   ]
  },
  {
   "cell_type": "code",
   "execution_count": 8,
   "id": "69f5f045",
   "metadata": {},
   "outputs": [
    {
     "name": "stdout",
     "output_type": "stream",
     "text": [
      "[[0, 9, 5, 9], [8, 0, 0, 8], [9, 4, 3, 4], [2, 2, 2, 1], [7, 0, 7, 4], [6, 4, 2, 0], [0, 9, 2, 9], [3, 4, 1, 4], [0, 0, 8, 8], [5, 5, 8, 2]]\n"
     ]
    }
   ],
   "source": [
    "test_input = parse_input('''\\\n",
    "0,9 -> 5,9\n",
    "8,0 -> 0,8\n",
    "9,4 -> 3,4\n",
    "2,2 -> 2,1\n",
    "7,0 -> 7,4\n",
    "6,4 -> 2,0\n",
    "0,9 -> 2,9\n",
    "3,4 -> 1,4\n",
    "0,0 -> 8,8\n",
    "5,5 -> 8,2\n",
    "''')\n",
    "\n",
    "print(test_input)"
   ]
  },
  {
   "cell_type": "markdown",
   "id": "8a24d2c9",
   "metadata": {},
   "source": [
    "### Helpers"
   ]
  },
  {
   "cell_type": "code",
   "execution_count": 66,
   "id": "9306637d",
   "metadata": {},
   "outputs": [
    {
     "name": "stdout",
     "output_type": "stream",
     "text": [
      "2311.\n",
      "8224.\n",
      "291.7\n",
      "..385\n",
      "12.59\n"
     ]
    }
   ],
   "source": [
    "def printBoard(board):\n",
    "    if len(board) > 30:\n",
    "        return\n",
    "    for row in board:\n",
    "        print(''.join(str(c) if c != 0 else '.' \n",
    "                      for c in row))\n",
    "        \n",
    "printBoard([[2, 3, 1, 1, 0],\n",
    "  [8, 2, 2, 4, 0],\n",
    "  [2, 9, 1, 0, 7],\n",
    "  [0, 0, 3, 8, 5],\n",
    "  [1, 2, 0, 5, 9]])"
   ]
  },
  {
   "cell_type": "markdown",
   "id": "f88b71c4",
   "metadata": {},
   "source": [
    "## Solution 1"
   ]
  },
  {
   "cell_type": "code",
   "execution_count": 69,
   "id": "3b11a060",
   "metadata": {},
   "outputs": [
    {
     "name": "stdout",
     "output_type": "stream",
     "text": [
      ".......1..\n",
      "..1....1..\n",
      "..1....1..\n",
      ".......1..\n",
      ".112111211\n",
      "..........\n",
      "..........\n",
      "..........\n",
      "..........\n",
      "222111....\n"
     ]
    },
    {
     "data": {
      "text/plain": [
       "5"
      ]
     },
     "execution_count": 69,
     "metadata": {},
     "output_type": "execute_result"
    }
   ],
   "source": [
    "def solve_1(input, size):\n",
    "    result = [[0] * size for _ in range(size)]\n",
    "    \n",
    "    for x1, y1, x2, y2 in input:\n",
    "        dx = x2 - x1\n",
    "        dy = y2 - y1\n",
    "        \n",
    "        if dx != 0 and dy != 0:\n",
    "            continue\n",
    "        \n",
    "        incX = 1 if dx > 0 else (0 if dx == 0 else -1)\n",
    "        incY = 1 if dy > 0 else (0 if dy == 0 else -1)\n",
    "        \n",
    "        x = x1; y = y1\n",
    "        for _ in range(max(abs(dx), abs(dy)) + 1):\n",
    "            result[y][x] += 1\n",
    "            x += incX\n",
    "            y += incY\n",
    "            \n",
    "    printBoard(result)        \n",
    "    return count(result[y][x] > 1 \n",
    "                 for x in range(size) \n",
    "                 for y in range(size))\n",
    "\n",
    "solve_1(test_input, 10)"
   ]
  },
  {
   "cell_type": "code",
   "execution_count": null,
   "id": "9ae1d9b0",
   "metadata": {},
   "outputs": [],
   "source": [
    "f\"Solution 1: {solve_1(final_input, 1000)}\""
   ]
  },
  {
   "cell_type": "markdown",
   "id": "c4a93ab3",
   "metadata": {},
   "source": [
    "## Solution 2"
   ]
  },
  {
   "cell_type": "code",
   "execution_count": 71,
   "id": "de89416a",
   "metadata": {},
   "outputs": [
    {
     "name": "stdout",
     "output_type": "stream",
     "text": [
      "1.1....11.\n",
      ".111...2..\n",
      "..2.1.111.\n",
      "...1.2.2..\n",
      ".112313211\n",
      "...1.2....\n",
      "..1...1...\n",
      ".1.....1..\n",
      "1.......1.\n",
      "222111....\n"
     ]
    },
    {
     "data": {
      "text/plain": [
       "12"
      ]
     },
     "execution_count": 71,
     "metadata": {},
     "output_type": "execute_result"
    }
   ],
   "source": [
    "def solve_2(input, size):\n",
    "    result = [[0] * size for _ in range(size)]\n",
    "    \n",
    "    for x1, y1, x2, y2 in input:\n",
    "        dx = x2 - x1\n",
    "        dy = y2 - y1\n",
    "        \n",
    "        incX = 1 if dx > 0 else (0 if dx == 0 else -1)\n",
    "        incY = 1 if dy > 0 else (0 if dy == 0 else -1)\n",
    "        \n",
    "        x = x1; y = y1\n",
    "        for _ in range(max(abs(dx), abs(dy)) + 1):\n",
    "            result[y][x] += 1\n",
    "            x += incX\n",
    "            y += incY\n",
    "       \n",
    "    printBoard(result)\n",
    "    return count(result[y][x] > 1 \n",
    "                 for x in range(size) \n",
    "                 for y in range(size))\n",
    "solve_2(test_input, 10)"
   ]
  },
  {
   "cell_type": "code",
   "execution_count": null,
   "id": "a384f741",
   "metadata": {},
   "outputs": [],
   "source": [
    "f\"Solution 2: {solve_2(final_input, 1000)}\""
   ]
  },
  {
   "cell_type": "code",
   "execution_count": null,
   "id": "f1e461af",
   "metadata": {},
   "outputs": [],
   "source": []
  }
 ],
 "metadata": {
  "kernelspec": {
   "display_name": "Python 3 (ipykernel)",
   "language": "python",
   "name": "python3"
  },
  "language_info": {
   "codemirror_mode": {
    "name": "ipython",
    "version": 3
   },
   "file_extension": ".py",
   "mimetype": "text/x-python",
   "name": "python",
   "nbconvert_exporter": "python",
   "pygments_lexer": "ipython3",
   "version": "3.9.8"
  }
 },
 "nbformat": 4,
 "nbformat_minor": 5
}
