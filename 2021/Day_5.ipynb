{
 "cells": [
  {
   "cell_type": "markdown",
   "id": "9f697af2",
   "metadata": {},
   "source": [
    "# --- `Day 5`: Title ---"
   ]
  },
  {
   "cell_type": "code",
   "execution_count": 1,
   "id": "ac96ba0f",
   "metadata": {},
   "outputs": [],
   "source": [
    "import aocd\n",
    "import re\n",
    "import operator\n",
    "from collections import Counter, defaultdict, deque\n",
    "from itertools import combinations\n",
    "from functools import reduce, lru_cache\n",
    "\n",
    "def prod(iterable):\n",
    "    return reduce(operator.mul, iterable, 1)\n",
    "\n",
    "def count(iterable, predicate = bool):\n",
    "    return sum([1 for item in iterable if predicate(item)])\n",
    "\n",
    "def first(iterable, default = None):\n",
    "    return next(iter(iterable), default)\n",
    "\n",
    "def lmap(func, *iterables):\n",
    "    return list(map(func, *iterables))\n",
    "\n",
    "def ints(s):\n",
    "    return lmap(int, re.findall(r\"-?\\d+\", s))\n",
    "\n",
    "def words(s):\n",
    "    return re.findall(r\"[a-zA-Z]+\", s)\n",
    "\n",
    "def list_diff(x):\n",
    "    return [b - a for a, b in zip(x, x[1:])]\n",
    "\n",
    "def binary_to_int(lst):\n",
    "    return int(\"\".join(str(i) for i in lst), 2)\n",
    "\n",
    "def get_column(lst, index):\n",
    "    return [x[index] for x in lst]"
   ]
  },
  {
   "cell_type": "code",
   "execution_count": 6,
   "id": "7280dabd",
   "metadata": {},
   "outputs": [],
   "source": [
    "def parse_line(line): \n",
    "    return ints(line)\n",
    "    \n",
    "def parse_input(input):\n",
    "    return list(map(parse_line, input.splitlines()))"
   ]
  },
  {
   "cell_type": "code",
   "execution_count": 7,
   "id": "621f30ed",
   "metadata": {},
   "outputs": [
    {
     "name": "stdout",
     "output_type": "stream",
     "text": [
      "[[299, 462, 299, 747], [855, 314, 855, 140], [981, 328, 798, 328], [610, 444, 680, 374], [797, 242, 606, 242]]\n"
     ]
    }
   ],
   "source": [
    "final_input = parse_input(aocd.get_data(day=5, year=2021))\n",
    "print(final_input[:5])"
   ]
  },
  {
   "cell_type": "code",
   "execution_count": 8,
   "id": "69f5f045",
   "metadata": {},
   "outputs": [
    {
     "name": "stdout",
     "output_type": "stream",
     "text": [
      "[[0, 9, 5, 9], [8, 0, 0, 8], [9, 4, 3, 4], [2, 2, 2, 1], [7, 0, 7, 4], [6, 4, 2, 0], [0, 9, 2, 9], [3, 4, 1, 4], [0, 0, 8, 8], [5, 5, 8, 2]]\n"
     ]
    }
   ],
   "source": [
    "test_input = parse_input('''\\\n",
    "0,9 -> 5,9\n",
    "8,0 -> 0,8\n",
    "9,4 -> 3,4\n",
    "2,2 -> 2,1\n",
    "7,0 -> 7,4\n",
    "6,4 -> 2,0\n",
    "0,9 -> 2,9\n",
    "3,4 -> 1,4\n",
    "0,0 -> 8,8\n",
    "5,5 -> 8,2\n",
    "''')\n",
    "\n",
    "print(test_input)"
   ]
  },
  {
   "cell_type": "markdown",
   "id": "f88b71c4",
   "metadata": {},
   "source": [
    "## Solution 1"
   ]
  },
  {
   "cell_type": "code",
   "execution_count": 23,
   "id": "3b11a060",
   "metadata": {},
   "outputs": [
    {
     "data": {
      "text/plain": [
       "5"
      ]
     },
     "execution_count": 23,
     "metadata": {},
     "output_type": "execute_result"
    }
   ],
   "source": [
    "def solve_1(input):\n",
    "    result = [[0] * 1000 for _ in range(1000)]\n",
    "    for i in input:\n",
    "        x1,y1,x2,y2 = i\n",
    "        if x1 == x2:\n",
    "            if y1 < y2:\n",
    "                for y in range(y1, y2 + 1):\n",
    "                    result[y][x1] += 1\n",
    "            elif y1 > y2:\n",
    "                for y in range(y2, y1 + 1):\n",
    "                    result[y][x1] += 1\n",
    "        elif y1 == y2:\n",
    "            if x1 < x2:\n",
    "                for x in range(x1, x2 + 1):\n",
    "                    result[y1][x] += 1\n",
    "            elif x2 < x1:\n",
    "                for x in range(x2, x1 + 1):\n",
    "                    result[y1][x] += 1\n",
    "    #print(result)\n",
    "    return count(result[y][x] >= 2 for x in range(1000) for y in range(1000))\n",
    "\n",
    "solve_1(test_input)"
   ]
  },
  {
   "cell_type": "code",
   "execution_count": 24,
   "id": "9ae1d9b0",
   "metadata": {},
   "outputs": [
    {
     "data": {
      "text/plain": [
       "'Solution 1: 5576'"
      ]
     },
     "execution_count": 24,
     "metadata": {},
     "output_type": "execute_result"
    }
   ],
   "source": [
    "f\"Solution 1: {solve_1(final_input)}\""
   ]
  },
  {
   "cell_type": "markdown",
   "id": "c4a93ab3",
   "metadata": {},
   "source": [
    "## Solution 2"
   ]
  },
  {
   "cell_type": "code",
   "execution_count": 42,
   "id": "de89416a",
   "metadata": {},
   "outputs": [
    {
     "data": {
      "text/plain": [
       "12"
      ]
     },
     "execution_count": 42,
     "metadata": {},
     "output_type": "execute_result"
    }
   ],
   "source": [
    "def solve_2(input):\n",
    "    result = [[0] * 1000 for _ in range(1000)]\n",
    "    for i in input:\n",
    "        x1,y1,x2,y2 = i\n",
    "        if x1 == x2:\n",
    "            if y1 < y2:\n",
    "                for y in range(y1, y2 + 1):\n",
    "                    result[y][x1] += 1\n",
    "            elif y1 > y2:\n",
    "                for y in range(y2, y1 + 1):\n",
    "                    result[y][x1] += 1\n",
    "        elif y1 == y2:\n",
    "            if x1 < x2:\n",
    "                for x in range(x1, x2 + 1):\n",
    "                    result[y1][x] += 1\n",
    "            elif x2 < x1:\n",
    "                for x in range(x2, x1 + 1):\n",
    "                    result[y1][x] += 1\n",
    "        else:\n",
    "            if x1 < x2:\n",
    "                add = 1\n",
    "                if y1 > y2:\n",
    "                    add = -1\n",
    "                y = y1\n",
    "                for x in range(x1, x2 + 1):\n",
    "                    result[y][x] += 1\n",
    "                    y += add\n",
    "            else:\n",
    "                add = 1\n",
    "                if y1 > y2:\n",
    "                    add = -1\n",
    "                y = y1\n",
    "                for x in range(x1, x2 - 1, -1):\n",
    "                    result[y][x] += 1\n",
    "                    y += add\n",
    "                    \n",
    "    return count(result[y][x] >= 2 for x in range(1000) for y in range(1000))\n",
    "\n",
    "solve_2(test_input)"
   ]
  },
  {
   "cell_type": "code",
   "execution_count": 43,
   "id": "a384f741",
   "metadata": {},
   "outputs": [
    {
     "data": {
      "text/plain": [
       "'Solution 2: 18144'"
      ]
     },
     "execution_count": 43,
     "metadata": {},
     "output_type": "execute_result"
    }
   ],
   "source": [
    "f\"Solution 2: {solve_2(final_input)}\""
   ]
  },
  {
   "cell_type": "code",
   "execution_count": null,
   "id": "f1e461af",
   "metadata": {},
   "outputs": [],
   "source": []
  }
 ],
 "metadata": {
  "kernelspec": {
   "display_name": "Python 3 (ipykernel)",
   "language": "python",
   "name": "python3"
  },
  "language_info": {
   "codemirror_mode": {
    "name": "ipython",
    "version": 3
   },
   "file_extension": ".py",
   "mimetype": "text/x-python",
   "name": "python",
   "nbconvert_exporter": "python",
   "pygments_lexer": "ipython3",
   "version": "3.9.8"
  }
 },
 "nbformat": 4,
 "nbformat_minor": 5
}
