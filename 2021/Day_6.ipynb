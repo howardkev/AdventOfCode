{
 "cells": [
  {
   "cell_type": "markdown",
   "id": "9f697af2",
   "metadata": {},
   "source": [
    "# --- `Day 6`: Title ---"
   ]
  },
  {
   "cell_type": "code",
   "execution_count": 3,
   "id": "ac96ba0f",
   "metadata": {},
   "outputs": [],
   "source": [
    "import aocd\n",
    "import re\n",
    "import operator\n",
    "from collections import Counter, defaultdict, deque\n",
    "from itertools import combinations\n",
    "from functools import reduce, lru_cache\n",
    "\n",
    "def prod(iterable):\n",
    "    return reduce(operator.mul, iterable, 1)\n",
    "\n",
    "def count(iterable, predicate = bool):\n",
    "    return sum([1 for item in iterable if predicate(item)])\n",
    "\n",
    "def first(iterable, default = None):\n",
    "    return next(iter(iterable), default)\n",
    "\n",
    "def lmap(func, *iterables):\n",
    "    return list(map(func, *iterables))\n",
    "\n",
    "def ints(s):\n",
    "    return lmap(int, re.findall(r\"-?\\d+\", s))\n",
    "\n",
    "def words(s):\n",
    "    return re.findall(r\"[a-zA-Z]+\", s)\n",
    "\n",
    "def list_diff(x):\n",
    "    return [b - a for a, b in zip(x, x[1:])]\n",
    "\n",
    "def binary_to_int(lst):\n",
    "    return int(\"\".join(str(i) for i in lst), 2)\n",
    "\n",
    "def get_column(lst, index):\n",
    "    return [x[index] for x in lst]"
   ]
  },
  {
   "cell_type": "code",
   "execution_count": 92,
   "id": "7280dabd",
   "metadata": {},
   "outputs": [],
   "source": [
    "def parse_line(line): \n",
    "    return ints(line)\n",
    "    \n",
    "def parse_input(input):\n",
    "    return parse_line(input)"
   ]
  },
  {
   "cell_type": "code",
   "execution_count": null,
   "id": "621f30ed",
   "metadata": {},
   "outputs": [],
   "source": [
    "final_input = parse_input(aocd.get_data(day=6, year=2021))\n",
    "print(final_input[:5])"
   ]
  },
  {
   "cell_type": "code",
   "execution_count": 94,
   "id": "69f5f045",
   "metadata": {},
   "outputs": [
    {
     "name": "stdout",
     "output_type": "stream",
     "text": [
      "[3, 4, 3, 1, 2]\n"
     ]
    }
   ],
   "source": [
    "test_input = parse_input('''\\\n",
    "3,4,3,1,2\n",
    "''')\n",
    "\n",
    "print(test_input)"
   ]
  },
  {
   "cell_type": "markdown",
   "id": "f88b71c4",
   "metadata": {},
   "source": [
    "## Solution 1"
   ]
  },
  {
   "cell_type": "code",
   "execution_count": 100,
   "id": "3b11a060",
   "metadata": {},
   "outputs": [
    {
     "data": {
      "text/plain": [
       "5934"
      ]
     },
     "execution_count": 100,
     "metadata": {},
     "output_type": "execute_result"
    }
   ],
   "source": [
    "def solve_1(input, days):\n",
    "    data = input[:]\n",
    "    for day in range(days):\n",
    "        for i, x in enumerate(data):\n",
    "            data[i] -= 1\n",
    "        if day + 1 == days:\n",
    "            return len(data)\n",
    "        for i, x in enumerate(data):\n",
    "            if data[i] == 0:\n",
    "                data[i] = 7\n",
    "                data.append(9)\n",
    "\n",
    "solve_1(test_input, 80)"
   ]
  },
  {
   "cell_type": "code",
   "execution_count": null,
   "id": "9ae1d9b0",
   "metadata": {},
   "outputs": [],
   "source": [
    "f\"Solution 1: {solve_1(final_input, 80)}\""
   ]
  },
  {
   "cell_type": "markdown",
   "id": "c4a93ab3",
   "metadata": {},
   "source": [
    "## Solution 2"
   ]
  },
  {
   "cell_type": "code",
   "execution_count": 103,
   "id": "de89416a",
   "metadata": {},
   "outputs": [
    {
     "data": {
      "text/plain": [
       "5934"
      ]
     },
     "execution_count": 103,
     "metadata": {},
     "output_type": "execute_result"
    }
   ],
   "source": [
    "def solve_2(input, days):\n",
    "    fish = [0] * 9\n",
    "    for x in input:\n",
    "        fish[x] += 1\n",
    "    \n",
    "    for _ in range(days):\n",
    "        fish = fish[1:] + [fish[0]]\n",
    "        fish[6] += fish[8]\n",
    "    return sum(fish)\n",
    "    \n",
    "solve_2(test_input, 80)"
   ]
  },
  {
   "cell_type": "code",
   "execution_count": null,
   "id": "a384f741",
   "metadata": {},
   "outputs": [],
   "source": [
    "f\"Solution 2: {solve_2(final_input, 256)}\""
   ]
  },
  {
   "cell_type": "code",
   "execution_count": null,
   "id": "f1e461af",
   "metadata": {},
   "outputs": [],
   "source": []
  }
 ],
 "metadata": {
  "kernelspec": {
   "display_name": "Python 3 (ipykernel)",
   "language": "python",
   "name": "python3"
  },
  "language_info": {
   "codemirror_mode": {
    "name": "ipython",
    "version": 3
   },
   "file_extension": ".py",
   "mimetype": "text/x-python",
   "name": "python",
   "nbconvert_exporter": "python",
   "pygments_lexer": "ipython3",
   "version": "3.9.8"
  }
 },
 "nbformat": 4,
 "nbformat_minor": 5
}
