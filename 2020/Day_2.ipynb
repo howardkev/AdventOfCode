{
 "cells": [
  {
   "cell_type": "markdown",
   "id": "824adf01",
   "metadata": {},
   "source": [
    "# --- `Day 2`: Password Philosophy ---"
   ]
  },
  {
   "cell_type": "code",
   "execution_count": 43,
   "id": "5ab712d6",
   "metadata": {},
   "outputs": [],
   "source": [
    "import aocd\n",
    "import re\n",
    "from itertools import combinations\n",
    "\n",
    "def count(iterable, predicate = bool):\n",
    "    return sum([1 for item in iterable if predicate(item)])"
   ]
  },
  {
   "cell_type": "code",
   "execution_count": 32,
   "id": "4a732041",
   "metadata": {},
   "outputs": [],
   "source": [
    "def parse_line(line):\n",
    "    a, b, letter, password = re.findall(r'[^-:\\s]+', line)\n",
    "    return (int(a), int(b), letter, password)\n",
    "    \n",
    "def parse_input(input):\n",
    "    return list(map(parse_line, input.splitlines()))"
   ]
  },
  {
   "cell_type": "code",
   "execution_count": 39,
   "id": "ece1cb63",
   "metadata": {},
   "outputs": [
    {
     "data": {
      "text/plain": [
       "[(1, 2, 'x', 'xpxc'),\n",
       " (1, 5, 'b', 'bwlbbbbcq'),\n",
       " (3, 5, 'v', 'qvjjdhvl'),\n",
       " (9, 12, 't', 'ttfjvvtgxtctrntnhtt'),\n",
       " (3, 4, 'r', 'rqjw')]"
      ]
     },
     "execution_count": 39,
     "metadata": {},
     "output_type": "execute_result"
    }
   ],
   "source": [
    "final_input = parse_input(aocd.get_data(day=2, year=2020))\n",
    "final_input[:5]"
   ]
  },
  {
   "cell_type": "code",
   "execution_count": 40,
   "id": "22abc4f1",
   "metadata": {},
   "outputs": [
    {
     "data": {
      "text/plain": [
       "[(1, 3, 'a', 'abcde'), (1, 3, 'b', 'cdefg'), (2, 9, 'c', 'ccccccccc')]"
      ]
     },
     "execution_count": 40,
     "metadata": {},
     "output_type": "execute_result"
    }
   ],
   "source": [
    "test_input = parse_input('''\\\n",
    "1-3 a: abcde\n",
    "1-3 b: cdefg\n",
    "2-9 c: ccccccccc\n",
    "''')\n",
    "\n",
    "test_input"
   ]
  },
  {
   "cell_type": "markdown",
   "id": "9ae62298",
   "metadata": {},
   "source": [
    "## Solution 1"
   ]
  },
  {
   "cell_type": "code",
   "execution_count": 52,
   "id": "b0f20961",
   "metadata": {},
   "outputs": [
    {
     "name": "stdout",
     "output_type": "stream",
     "text": [
      "True\n",
      "False\n",
      "True\n"
     ]
    }
   ],
   "source": [
    "def valid_password(policy):\n",
    "    a, b, letter, password = policy\n",
    "    return a <= password.count(letter) <= b\n",
    "\n",
    "print(valid_password((1, 2, 'x', 'xpxc')))\n",
    "print(valid_password((1, 3, 'b', 'cdefg')))\n",
    "print(valid_password((2, 9, 'c', 'ccccccccc')))"
   ]
  },
  {
   "cell_type": "code",
   "execution_count": 57,
   "id": "826c330d",
   "metadata": {},
   "outputs": [],
   "source": [
    "def solve_1(policies):\n",
    "    return count(policies, valid_password)\n",
    "\n",
    "assert solve_1(test_input) == 2"
   ]
  },
  {
   "cell_type": "code",
   "execution_count": 46,
   "id": "17612572",
   "metadata": {},
   "outputs": [
    {
     "data": {
      "text/plain": [
       "'Solution 1: 556'"
      ]
     },
     "execution_count": 46,
     "metadata": {},
     "output_type": "execute_result"
    }
   ],
   "source": [
    "f\"Solution 1: {solve_1(final_input)}\""
   ]
  },
  {
   "cell_type": "markdown",
   "id": "a612d73f",
   "metadata": {},
   "source": [
    "## Solution 2"
   ]
  },
  {
   "cell_type": "code",
   "execution_count": 54,
   "id": "4052c11d",
   "metadata": {},
   "outputs": [
    {
     "name": "stdout",
     "output_type": "stream",
     "text": [
      "True\n",
      "False\n",
      "False\n"
     ]
    }
   ],
   "source": [
    "def valid_password_2(policy):\n",
    "    a, b, letter, password = policy\n",
    "    return (password[a - 1] == letter) ^ (password[b - 1] == letter)\n",
    "\n",
    "print(valid_password_2((1, 3, 'a', 'abcde')))\n",
    "print(valid_password_2((1, 3, 'b', 'cdefg')))\n",
    "print(valid_password_2((2, 9, 'c', 'ccccccccc')))"
   ]
  },
  {
   "cell_type": "code",
   "execution_count": 58,
   "id": "31a5b7ec",
   "metadata": {},
   "outputs": [],
   "source": [
    "def solve_2(policies):\n",
    "    return count(policies, valid_password_2)\n",
    "\n",
    "assert solve_2(test_input) == 1"
   ]
  },
  {
   "cell_type": "code",
   "execution_count": 56,
   "id": "7d3cd30b",
   "metadata": {},
   "outputs": [
    {
     "data": {
      "text/plain": [
       "'Solution 2: 605'"
      ]
     },
     "execution_count": 56,
     "metadata": {},
     "output_type": "execute_result"
    }
   ],
   "source": [
    "f\"Solution 2: {solve_2(final_input)}\""
   ]
  }
 ],
 "metadata": {
  "kernelspec": {
   "display_name": "Python 3 (ipykernel)",
   "language": "python",
   "name": "python3"
  },
  "language_info": {
   "codemirror_mode": {
    "name": "ipython",
    "version": 3
   },
   "file_extension": ".py",
   "mimetype": "text/x-python",
   "name": "python",
   "nbconvert_exporter": "python",
   "pygments_lexer": "ipython3",
   "version": "3.9.5"
  }
 },
 "nbformat": 4,
 "nbformat_minor": 5
}
