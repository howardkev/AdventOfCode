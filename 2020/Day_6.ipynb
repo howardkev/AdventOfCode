{
 "cells": [
  {
   "cell_type": "markdown",
   "id": "9f697af2",
   "metadata": {},
   "source": [
    "# --- `Day 6`: Custom Customs ---"
   ]
  },
  {
   "cell_type": "code",
   "execution_count": 1,
   "id": "ac96ba0f",
   "metadata": {},
   "outputs": [],
   "source": [
    "import aocd\n",
    "import re\n",
    "import operator\n",
    "from itertools import combinations\n",
    "from functools import reduce\n",
    "\n",
    "def prod(iterable):\n",
    "    return reduce(operator.mul, iterable, 1)\n",
    "\n",
    "def count(iterable, predicate = bool):\n",
    "    return sum([1 for item in iterable if predicate(item)])"
   ]
  },
  {
   "cell_type": "code",
   "execution_count": 5,
   "id": "7280dabd",
   "metadata": {},
   "outputs": [],
   "source": [
    "def parse_line(group):\n",
    "    return group.splitlines()\n",
    "    \n",
    "def parse_input(input):\n",
    "    return list(map(parse_line, input.split(\"\\n\\n\")))"
   ]
  },
  {
   "cell_type": "code",
   "execution_count": null,
   "id": "621f30ed",
   "metadata": {},
   "outputs": [],
   "source": [
    "final_input = parse_input(aocd.get_data(day=6, year=2020))\n",
    "final_input[:5]"
   ]
  },
  {
   "cell_type": "code",
   "execution_count": 7,
   "id": "69f5f045",
   "metadata": {},
   "outputs": [
    {
     "data": {
      "text/plain": [
       "[['abc'], ['a', 'b', 'c'], ['ab', 'ac'], ['a', 'a', 'a', 'a'], ['b']]"
      ]
     },
     "execution_count": 7,
     "metadata": {},
     "output_type": "execute_result"
    }
   ],
   "source": [
    "test_input = parse_input('''\\\n",
    "abc\n",
    "\n",
    "a\n",
    "b\n",
    "c\n",
    "\n",
    "ab\n",
    "ac\n",
    "\n",
    "a\n",
    "a\n",
    "a\n",
    "a\n",
    "\n",
    "b\n",
    "''')\n",
    "\n",
    "test_input"
   ]
  },
  {
   "cell_type": "markdown",
   "id": "f88b71c4",
   "metadata": {},
   "source": [
    "## Solution 1"
   ]
  },
  {
   "cell_type": "code",
   "execution_count": 20,
   "id": "3b11a060",
   "metadata": {},
   "outputs": [
    {
     "data": {
      "text/plain": [
       "11"
      ]
     },
     "execution_count": 20,
     "metadata": {},
     "output_type": "execute_result"
    }
   ],
   "source": [
    "def solve_1(input):\n",
    "    return sum(len(set(''.join(group))) for group in input)\n",
    "\n",
    "solve_1(test_input)"
   ]
  },
  {
   "cell_type": "code",
   "execution_count": null,
   "id": "9ae1d9b0",
   "metadata": {},
   "outputs": [],
   "source": [
    "f\"Solution 1: {solve_1(final_input)}\""
   ]
  },
  {
   "cell_type": "markdown",
   "id": "c4a93ab3",
   "metadata": {},
   "source": [
    "## Solution 2"
   ]
  },
  {
   "cell_type": "code",
   "execution_count": 31,
   "id": "de89416a",
   "metadata": {},
   "outputs": [
    {
     "data": {
      "text/plain": [
       "6"
      ]
     },
     "execution_count": 31,
     "metadata": {},
     "output_type": "execute_result"
    }
   ],
   "source": [
    "def solve_2(input):\n",
    "    return sum(len(set.intersection(*map(set, group))) for group in input)\n",
    "    \n",
    "solve_2(test_input)"
   ]
  },
  {
   "cell_type": "code",
   "execution_count": null,
   "id": "a384f741",
   "metadata": {},
   "outputs": [],
   "source": [
    "f\"Solution 2: {solve_2(final_input)}\""
   ]
  },
  {
   "cell_type": "code",
   "execution_count": null,
   "id": "f1e461af",
   "metadata": {},
   "outputs": [],
   "source": []
  }
 ],
 "metadata": {
  "kernelspec": {
   "display_name": "Python 3 (ipykernel)",
   "language": "python",
   "name": "python3"
  },
  "language_info": {
   "codemirror_mode": {
    "name": "ipython",
    "version": 3
   },
   "file_extension": ".py",
   "mimetype": "text/x-python",
   "name": "python",
   "nbconvert_exporter": "python",
   "pygments_lexer": "ipython3",
   "version": "3.9.8"
  }
 },
 "nbformat": 4,
 "nbformat_minor": 5
}
