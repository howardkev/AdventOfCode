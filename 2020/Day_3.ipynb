{
 "cells": [
  {
   "cell_type": "markdown",
   "id": "86629a77",
   "metadata": {},
   "source": [
    "# --- `Day 3`: Toboggan Trajectory ---"
   ]
  },
  {
   "cell_type": "code",
   "execution_count": 40,
   "id": "085e6e90",
   "metadata": {},
   "outputs": [],
   "source": [
    "import aocd\n",
    "import re\n",
    "import operator\n",
    "from itertools import combinations\n",
    "from functools import reduce\n",
    "\n",
    "def prod(iterable):\n",
    "    return reduce(operator.mul, iterable, 1)\n",
    "\n",
    "def count(iterable, predicate = bool):\n",
    "    return sum([1 for item in iterable if predicate(item)])"
   ]
  },
  {
   "cell_type": "code",
   "execution_count": 52,
   "id": "30982abc",
   "metadata": {},
   "outputs": [],
   "source": [
    "def parse_line(line): return str(line)\n",
    "    \n",
    "def parse_input(input):\n",
    "    return list(map(parse_line, input.splitlines()))"
   ]
  },
  {
   "cell_type": "code",
   "execution_count": null,
   "id": "44b9603a",
   "metadata": {},
   "outputs": [],
   "source": [
    "final_input = parse_input(aocd.get_data(day=3, year=2020))\n",
    "final_input[:5]"
   ]
  },
  {
   "cell_type": "code",
   "execution_count": 54,
   "id": "4efc5b7d",
   "metadata": {},
   "outputs": [
    {
     "data": {
      "text/plain": [
       "['..##.......',\n",
       " '#...#...#..',\n",
       " '.#....#..#.',\n",
       " '..#.#...#.#',\n",
       " '.#...##..#.',\n",
       " '..#.##.....',\n",
       " '.#.#.#....#',\n",
       " '.#........#',\n",
       " '#.##...#...',\n",
       " '#...##....#',\n",
       " '.#..#...#.#']"
      ]
     },
     "execution_count": 54,
     "metadata": {},
     "output_type": "execute_result"
    }
   ],
   "source": [
    "test_input = parse_input('''\\\n",
    "..##.......\n",
    "#...#...#..\n",
    ".#....#..#.\n",
    "..#.#...#.#\n",
    ".#...##..#.\n",
    "..#.##.....\n",
    ".#.#.#....#\n",
    ".#........#\n",
    "#.##...#...\n",
    "#...##....#\n",
    ".#..#...#.#\n",
    "''')\n",
    "\n",
    "test_input"
   ]
  },
  {
   "cell_type": "markdown",
   "id": "f33eaa4a",
   "metadata": {},
   "source": [
    "## Solution 1"
   ]
  },
  {
   "cell_type": "code",
   "execution_count": 44,
   "id": "78994d3b",
   "metadata": {},
   "outputs": [],
   "source": [
    "def solve_1(input, dx = 3, dy = 1):\n",
    "    return count([row[dx * y % len(row)] == '#' \n",
    "                  for y, row in enumerate(input[::dy])])\n",
    "\n",
    "assert solve_1(test_input) == 7"
   ]
  },
  {
   "cell_type": "code",
   "execution_count": null,
   "id": "5a19315b",
   "metadata": {},
   "outputs": [],
   "source": [
    "f\"Solution 1: {solve_1(final_input)}\""
   ]
  },
  {
   "cell_type": "markdown",
   "id": "9bb188bc",
   "metadata": {},
   "source": [
    "## Solution 2"
   ]
  },
  {
   "cell_type": "code",
   "execution_count": 46,
   "id": "afc77b45",
   "metadata": {},
   "outputs": [],
   "source": [
    "def solve_2(input):\n",
    "    return prod([solve_1(input, dx, dy) \n",
    "                 for dx, dy in [(1, 1), (3, 1), (5, 1), (7, 1), (1, 2)]])\n",
    "    \n",
    "assert solve_2(test_input) == 336"
   ]
  },
  {
   "cell_type": "code",
   "execution_count": null,
   "id": "1b40b67b",
   "metadata": {},
   "outputs": [],
   "source": [
    "f\"Solution 2: {solve_2(final_input)}\""
   ]
  },
  {
   "cell_type": "code",
   "execution_count": null,
   "id": "244936d9",
   "metadata": {},
   "outputs": [],
   "source": []
  }
 ],
 "metadata": {
  "kernelspec": {
   "display_name": "Python 3 (ipykernel)",
   "language": "python",
   "name": "python3"
  },
  "language_info": {
   "codemirror_mode": {
    "name": "ipython",
    "version": 3
   },
   "file_extension": ".py",
   "mimetype": "text/x-python",
   "name": "python",
   "nbconvert_exporter": "python",
   "pygments_lexer": "ipython3",
   "version": "3.9.8"
  }
 },
 "nbformat": 4,
 "nbformat_minor": 5
}
