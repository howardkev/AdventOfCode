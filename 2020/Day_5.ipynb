{
 "cells": [
  {
   "cell_type": "markdown",
   "id": "9f697af2",
   "metadata": {},
   "source": [
    "# --- `Day 5`: Binary Boarding ---"
   ]
  },
  {
   "cell_type": "code",
   "execution_count": 1,
   "id": "ac96ba0f",
   "metadata": {},
   "outputs": [],
   "source": [
    "import aocd\n",
    "import re\n",
    "import operator\n",
    "from itertools import combinations\n",
    "from functools import reduce\n",
    "\n",
    "def prod(iterable):\n",
    "    return reduce(operator.mul, iterable, 1)\n",
    "\n",
    "def count(iterable, predicate = bool):\n",
    "    return sum([1 for item in iterable if predicate(item)])"
   ]
  },
  {
   "cell_type": "code",
   "execution_count": 47,
   "id": "7280dabd",
   "metadata": {},
   "outputs": [],
   "source": [
    "def parse_line(line):\n",
    "    table = str.maketrans(\"BFRL\", \"1010\")\n",
    "    return int(line.translate(table), 2)\n",
    "    \n",
    "def parse_input(input):\n",
    "    return list(map(parse_line, input.splitlines()))"
   ]
  },
  {
   "cell_type": "code",
   "execution_count": null,
   "id": "621f30ed",
   "metadata": {},
   "outputs": [],
   "source": [
    "final_input = parse_input(aocd.get_data(day=5, year=2020))\n",
    "final_input[:5]"
   ]
  },
  {
   "cell_type": "code",
   "execution_count": 49,
   "id": "69f5f045",
   "metadata": {},
   "outputs": [
    {
     "data": {
      "text/plain": [
       "[357]"
      ]
     },
     "execution_count": 49,
     "metadata": {},
     "output_type": "execute_result"
    }
   ],
   "source": [
    "test_input = parse_input('''\\\n",
    "FBFBBFFRLR\n",
    "''')\n",
    "\n",
    "test_input"
   ]
  },
  {
   "cell_type": "markdown",
   "id": "f88b71c4",
   "metadata": {},
   "source": [
    "## Solution 1"
   ]
  },
  {
   "cell_type": "code",
   "execution_count": 50,
   "id": "3b11a060",
   "metadata": {},
   "outputs": [
    {
     "data": {
      "text/plain": [
       "357"
      ]
     },
     "execution_count": 50,
     "metadata": {},
     "output_type": "execute_result"
    }
   ],
   "source": [
    "def solve_1(input):\n",
    "    return max(input)\n",
    "\n",
    "solve_1(test_input)"
   ]
  },
  {
   "cell_type": "code",
   "execution_count": null,
   "id": "9ae1d9b0",
   "metadata": {},
   "outputs": [],
   "source": [
    "f\"Solution 1: {solve_1(final_input)}\""
   ]
  },
  {
   "cell_type": "markdown",
   "id": "c4a93ab3",
   "metadata": {},
   "source": [
    "## Solution 2"
   ]
  },
  {
   "cell_type": "code",
   "execution_count": 61,
   "id": "de89416a",
   "metadata": {},
   "outputs": [],
   "source": [
    "def solve_2(input):\n",
    "    [seat] = set(range(min(input), max(input))) - set(input)\n",
    "    return seat"
   ]
  },
  {
   "cell_type": "code",
   "execution_count": null,
   "id": "a384f741",
   "metadata": {},
   "outputs": [],
   "source": [
    "f\"Solution 2: {solve_2(final_input)}\""
   ]
  },
  {
   "cell_type": "code",
   "execution_count": null,
   "id": "f1e461af",
   "metadata": {},
   "outputs": [],
   "source": []
  }
 ],
 "metadata": {
  "kernelspec": {
   "display_name": "Python 3 (ipykernel)",
   "language": "python",
   "name": "python3"
  },
  "language_info": {
   "codemirror_mode": {
    "name": "ipython",
    "version": 3
   },
   "file_extension": ".py",
   "mimetype": "text/x-python",
   "name": "python",
   "nbconvert_exporter": "python",
   "pygments_lexer": "ipython3",
   "version": "3.9.8"
  }
 },
 "nbformat": 4,
 "nbformat_minor": 5
}
