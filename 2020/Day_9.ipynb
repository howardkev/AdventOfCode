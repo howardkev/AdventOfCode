{
 "cells": [
  {
   "cell_type": "markdown",
   "id": "9f697af2",
   "metadata": {},
   "source": [
    "# --- `Day 9`: Encoding Error ---"
   ]
  },
  {
   "cell_type": "code",
   "execution_count": 20,
   "id": "ac96ba0f",
   "metadata": {},
   "outputs": [],
   "source": [
    "import aocd\n",
    "import re\n",
    "import operator\n",
    "from itertools import combinations\n",
    "from functools import reduce\n",
    "\n",
    "def prod(iterable):\n",
    "    return reduce(operator.mul, iterable, 1)\n",
    "\n",
    "def count(iterable, predicate = bool):\n",
    "    return sum([1 for item in iterable if predicate(item)])\n",
    "\n",
    "def first(iterable, default = None):\n",
    "    return next(iter(iterable), default)"
   ]
  },
  {
   "cell_type": "code",
   "execution_count": 4,
   "id": "7280dabd",
   "metadata": {},
   "outputs": [],
   "source": [
    "def parse_line(line): return int(line)\n",
    "    \n",
    "def parse_input(input):\n",
    "    return list(map(parse_line, input.splitlines()))"
   ]
  },
  {
   "cell_type": "code",
   "execution_count": null,
   "id": "621f30ed",
   "metadata": {},
   "outputs": [],
   "source": [
    "final_input = parse_input(aocd.get_data(day=9, year=2020))\n",
    "final_input[:5]"
   ]
  },
  {
   "cell_type": "code",
   "execution_count": 6,
   "id": "69f5f045",
   "metadata": {},
   "outputs": [
    {
     "data": {
      "text/plain": [
       "[35,\n",
       " 20,\n",
       " 15,\n",
       " 25,\n",
       " 47,\n",
       " 40,\n",
       " 62,\n",
       " 55,\n",
       " 65,\n",
       " 95,\n",
       " 102,\n",
       " 117,\n",
       " 150,\n",
       " 182,\n",
       " 127,\n",
       " 219,\n",
       " 299,\n",
       " 277,\n",
       " 309,\n",
       " 576]"
      ]
     },
     "execution_count": 6,
     "metadata": {},
     "output_type": "execute_result"
    }
   ],
   "source": [
    "test_input = parse_input('''\\\n",
    "35\n",
    "20\n",
    "15\n",
    "25\n",
    "47\n",
    "40\n",
    "62\n",
    "55\n",
    "65\n",
    "95\n",
    "102\n",
    "117\n",
    "150\n",
    "182\n",
    "127\n",
    "219\n",
    "299\n",
    "277\n",
    "309\n",
    "576\n",
    "''')\n",
    "\n",
    "test_input"
   ]
  },
  {
   "cell_type": "markdown",
   "id": "f88b71c4",
   "metadata": {},
   "source": [
    "## Solution 1"
   ]
  },
  {
   "cell_type": "code",
   "execution_count": 10,
   "id": "b773356e",
   "metadata": {},
   "outputs": [
    {
     "name": "stdout",
     "output_type": "stream",
     "text": [
      "[3, 4, 5, 6, 5, 6, 7, 7, 8, 9]\n"
     ]
    }
   ],
   "source": [
    "def two_nums(nums):\n",
    "    return [sum(x) for x in combinations(nums, 2)]\n",
    "\n",
    "print(two_nums([1, 2, 3, 4, 5]))"
   ]
  },
  {
   "cell_type": "code",
   "execution_count": 21,
   "id": "3b11a060",
   "metadata": {},
   "outputs": [
    {
     "data": {
      "text/plain": [
       "127"
      ]
     },
     "execution_count": 21,
     "metadata": {},
     "output_type": "execute_result"
    }
   ],
   "source": [
    "def solve_1(input, preamble):\n",
    "    return first(x for i, x in enumerate(input) \n",
    "                 if i > preamble and not x in two_nums(input[i-preamble:i]))\n",
    "\n",
    "solve_1(test_input, 5)"
   ]
  },
  {
   "cell_type": "code",
   "execution_count": null,
   "id": "9ae1d9b0",
   "metadata": {},
   "outputs": [],
   "source": [
    "f\"Solution 1: {solve_1(final_input, 25)}\""
   ]
  },
  {
   "cell_type": "markdown",
   "id": "c4a93ab3",
   "metadata": {},
   "source": [
    "## Solution 2"
   ]
  },
  {
   "cell_type": "code",
   "execution_count": 29,
   "id": "de89416a",
   "metadata": {},
   "outputs": [
    {
     "data": {
      "text/plain": [
       "62"
      ]
     },
     "execution_count": 29,
     "metadata": {},
     "output_type": "execute_result"
    }
   ],
   "source": [
    "def solve_2(input, target):\n",
    "    left = right = 0\n",
    "    total = input[0]\n",
    "    while True:\n",
    "        while total < target:\n",
    "            right += 1\n",
    "            total += input[right]\n",
    "        while total > target:\n",
    "            total -= input[left]\n",
    "            left += 1\n",
    "        if total == target:\n",
    "            break\n",
    "    return max(input[left:right + 1]) + min(input[left:right + 1])\n",
    "    \n",
    "solve_2(test_input, 127)"
   ]
  },
  {
   "cell_type": "code",
   "execution_count": null,
   "id": "a384f741",
   "metadata": {},
   "outputs": [],
   "source": [
    "f\"Solution 2: {solve_2(final_input, 373803594)}\""
   ]
  },
  {
   "cell_type": "code",
   "execution_count": null,
   "id": "f1e461af",
   "metadata": {},
   "outputs": [],
   "source": []
  }
 ],
 "metadata": {
  "kernelspec": {
   "display_name": "Python 3 (ipykernel)",
   "language": "python",
   "name": "python3"
  },
  "language_info": {
   "codemirror_mode": {
    "name": "ipython",
    "version": 3
   },
   "file_extension": ".py",
   "mimetype": "text/x-python",
   "name": "python",
   "nbconvert_exporter": "python",
   "pygments_lexer": "ipython3",
   "version": "3.9.8"
  }
 },
 "nbformat": 4,
 "nbformat_minor": 5
}
