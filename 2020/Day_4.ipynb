{
 "cells": [
  {
   "cell_type": "markdown",
   "id": "9f697af2",
   "metadata": {},
   "source": [
    "# --- `Day 4`: Passport Processing ---"
   ]
  },
  {
   "cell_type": "code",
   "execution_count": 1,
   "id": "ac96ba0f",
   "metadata": {},
   "outputs": [],
   "source": [
    "import aocd\n",
    "import re\n",
    "import operator\n",
    "from itertools import combinations\n",
    "from functools import reduce\n",
    "\n",
    "def prod(iterable):\n",
    "    return reduce(operator.mul, iterable, 1)\n",
    "\n",
    "def count(iterable, predicate = bool):\n",
    "    return sum([1 for item in iterable if predicate(item)])"
   ]
  },
  {
   "cell_type": "code",
   "execution_count": 29,
   "id": "7280dabd",
   "metadata": {},
   "outputs": [],
   "source": [
    "def parse_line(section): \n",
    "    return dict(re.findall(r'([a-z]+):([^\\s]+)', section))\n",
    "    \n",
    "def parse_input(input):\n",
    "    return list(map(parse_line, input.split(\"\\n\\n\")))"
   ]
  },
  {
   "cell_type": "code",
   "execution_count": 27,
   "id": "621f30ed",
   "metadata": {},
   "outputs": [
    {
     "data": {
      "text/plain": [
       "[{'eyr': '2029',\n",
       "  'iyr': '2013',\n",
       "  'hcl': '#ceb3a1',\n",
       "  'byr': '1939',\n",
       "  'ecl': 'blu',\n",
       "  'hgt': '163cm',\n",
       "  'pid': '660456119'},\n",
       " {'hcl': '#0f8b2e',\n",
       "  'ecl': 'grn',\n",
       "  'byr': '1975',\n",
       "  'iyr': '2011',\n",
       "  'eyr': '2028',\n",
       "  'cid': '207',\n",
       "  'hgt': '158cm',\n",
       "  'pid': '755567813'}]"
      ]
     },
     "execution_count": 27,
     "metadata": {},
     "output_type": "execute_result"
    }
   ],
   "source": [
    "final_input = parse_input(aocd.get_data(day=4, year=2020))\n",
    "final_input[:2]"
   ]
  },
  {
   "cell_type": "code",
   "execution_count": 28,
   "id": "69f5f045",
   "metadata": {},
   "outputs": [
    {
     "data": {
      "text/plain": [
       "[{'ecl': 'gry',\n",
       "  'pid': '860033327',\n",
       "  'eyr': '2020',\n",
       "  'hcl': '#fffffd',\n",
       "  'byr': '1937',\n",
       "  'iyr': '2017',\n",
       "  'cid': '147',\n",
       "  'hgt': '183cm'},\n",
       " {'iyr': '2013',\n",
       "  'ecl': 'amb',\n",
       "  'cid': '350',\n",
       "  'eyr': '2023',\n",
       "  'pid': '028048884',\n",
       "  'hcl': '#cfa07d',\n",
       "  'byr': '1929'},\n",
       " {'hcl': '#ae17e1',\n",
       "  'iyr': '2013',\n",
       "  'eyr': '2024',\n",
       "  'ecl': 'brn',\n",
       "  'pid': '760753108',\n",
       "  'byr': '1931',\n",
       "  'hgt': '179cm'},\n",
       " {'hcl': '#cfa07d',\n",
       "  'eyr': '2025',\n",
       "  'pid': '166559648',\n",
       "  'iyr': '2011',\n",
       "  'ecl': 'brn',\n",
       "  'hgt': '59in'}]"
      ]
     },
     "execution_count": 28,
     "metadata": {},
     "output_type": "execute_result"
    }
   ],
   "source": [
    "test_input = parse_input('''\\\n",
    "ecl:gry pid:860033327 eyr:2020 hcl:#fffffd\n",
    "byr:1937 iyr:2017 cid:147 hgt:183cm\n",
    "\n",
    "iyr:2013 ecl:amb cid:350 eyr:2023 pid:028048884\n",
    "hcl:#cfa07d byr:1929\n",
    "\n",
    "hcl:#ae17e1 iyr:2013\n",
    "eyr:2024\n",
    "ecl:brn pid:760753108 byr:1931\n",
    "hgt:179cm\n",
    "\n",
    "hcl:#cfa07d eyr:2025 pid:166559648\n",
    "iyr:2011 ecl:brn hgt:59in\n",
    "''')\n",
    "\n",
    "test_input"
   ]
  },
  {
   "cell_type": "markdown",
   "id": "f88b71c4",
   "metadata": {},
   "source": [
    "## Solution 1"
   ]
  },
  {
   "cell_type": "code",
   "execution_count": 63,
   "id": "358a4daa",
   "metadata": {},
   "outputs": [
    {
     "name": "stdout",
     "output_type": "stream",
     "text": [
      "True\n",
      "False\n"
     ]
    }
   ],
   "source": [
    "required_fields = {'hcl', 'iyr', 'eyr', 'ecl', 'pid', 'byr', 'hgt'}\n",
    "valid_passport = required_fields.issubset\n",
    "\n",
    "print(valid_passport({\n",
    "  'ecl': 'gry',\n",
    "  'pid': '860033327',\n",
    "  'eyr': '2020',\n",
    "  'hcl': '#fffffd',\n",
    "  'byr': '1937',\n",
    "  'iyr': '2017',\n",
    "  'cid': '147',\n",
    "  'hgt': '183cm'}))\n",
    "print(valid_passport({\n",
    "  'iyr': '2013',\n",
    "  'ecl': 'amb',\n",
    "  'cid': '350',\n",
    "  'eyr': '2023',\n",
    "  'pid': '028048884',\n",
    "  'hcl': '#cfa07d',\n",
    "  'byr': '1929'}))"
   ]
  },
  {
   "cell_type": "code",
   "execution_count": 43,
   "id": "3b11a060",
   "metadata": {},
   "outputs": [],
   "source": [
    "def solve_1(input):\n",
    "    return count(input, valid_passport)\n",
    "\n",
    "assert solve_1(test_input) == 2"
   ]
  },
  {
   "cell_type": "code",
   "execution_count": 44,
   "id": "9ae1d9b0",
   "metadata": {},
   "outputs": [
    {
     "data": {
      "text/plain": [
       "'Solution 1: 204'"
      ]
     },
     "execution_count": 44,
     "metadata": {},
     "output_type": "execute_result"
    }
   ],
   "source": [
    "f\"Solution 1: {solve_1(final_input)}\""
   ]
  },
  {
   "cell_type": "markdown",
   "id": "c4a93ab3",
   "metadata": {},
   "source": [
    "## Solution 2"
   ]
  },
  {
   "cell_type": "markdown",
   "id": "f51c7bc4",
   "metadata": {},
   "source": [
    "- byr (Birth Year) - four digits; at least 1920 and at most 2002.\n",
    "- iyr (Issue Year) - four digits; at least 2010 and at most 2020.\n",
    "- eyr (Expiration Year) - four digits; at least 2020 and at most 2030.\n",
    "- hgt (Height) - a number followed by either cm or in:\n",
    "    - If cm, the number must be at least 150 and at most 193.\n",
    "    - If in, the number must be at least 59 and at most 76.\n",
    "- hcl (Hair Color) - a # followed by exactly six characters 0-9 or a-f.\n",
    "- ecl (Eye Color) - exactly one of: amb blu brn gry grn hzl oth.\n",
    "- pid (Passport ID) - a nine-digit number, including leading zeroes.\n",
    "- cid (Country ID) - ignored, missing or not."
   ]
  },
  {
   "cell_type": "code",
   "execution_count": 111,
   "id": "316df0c5",
   "metadata": {},
   "outputs": [],
   "source": [
    "field_validators = dict(\n",
    "    iyr = lambda v: 2010 <= int(v) <= 2020,\n",
    "    eyr = lambda v: 2020 <= int(v) <= 2030,\n",
    "    hcl = lambda v: re.match(r'#[0-9a-f]{6}$', v),\n",
    "    ecl = lambda v: re.match(r'(amb|blu|brn|gry|grn|hzl|oth)', v),\n",
    "    byr = lambda v: 1920 <= int(v) <= 2002,\n",
    "    hgt = lambda v: ((v.endswith('cm') and (150 <= int(v[:-2]) <= 193)) or\n",
    "        (v.endswith('in') and (59 <= int(v[:-2]) <= 76))),\n",
    "    pid = lambda v: re.match(r'[0-9]{9}$', v)\n",
    ")\n",
    "assert field_validators['iyr'](\"2000\") == False\n",
    "assert field_validators['iyr'](\"2010\")\n",
    "assert field_validators['pid'](\"012345678\")\n",
    "assert field_validators['pid'](\"a012345678\") == None\n",
    "assert field_validators['pid'](\"0123456789\") == None\n",
    "assert field_validators['ecl'](\"brn\")\n",
    "assert field_validators['ecl'](\"ylw\") == None\n",
    "assert field_validators['hcl'](\"#1234ab\")\n",
    "assert field_validators['hcl'](\"#123456ab\") == None\n",
    "assert field_validators['hgt'](\"155cm\")\n",
    "\n",
    "def valid_passport_2(passport):\n",
    "    return (valid_passport(passport) and \n",
    "        all(field_validators[field](passport[field]) \n",
    "            for field in required_fields))"
   ]
  },
  {
   "cell_type": "code",
   "execution_count": 112,
   "id": "de89416a",
   "metadata": {},
   "outputs": [],
   "source": [
    "def solve_2(input):\n",
    "    return count(input, valid_passport_2)\n",
    "    \n",
    "assert solve_2(test_input) == 2"
   ]
  },
  {
   "cell_type": "code",
   "execution_count": 113,
   "id": "a384f741",
   "metadata": {},
   "outputs": [
    {
     "data": {
      "text/plain": [
       "'Solution 2: 179'"
      ]
     },
     "execution_count": 113,
     "metadata": {},
     "output_type": "execute_result"
    }
   ],
   "source": [
    "f\"Solution 2: {solve_2(final_input)}\""
   ]
  },
  {
   "cell_type": "code",
   "execution_count": null,
   "id": "f1e461af",
   "metadata": {},
   "outputs": [],
   "source": []
  }
 ],
 "metadata": {
  "kernelspec": {
   "display_name": "Python 3 (ipykernel)",
   "language": "python",
   "name": "python3"
  },
  "language_info": {
   "codemirror_mode": {
    "name": "ipython",
    "version": 3
   },
   "file_extension": ".py",
   "mimetype": "text/x-python",
   "name": "python",
   "nbconvert_exporter": "python",
   "pygments_lexer": "ipython3",
   "version": "3.9.5"
  }
 },
 "nbformat": 4,
 "nbformat_minor": 5
}
