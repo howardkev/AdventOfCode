{
 "cells": [
  {
   "cell_type": "markdown",
   "id": "9f697af2",
   "metadata": {},
   "source": [
    "# --- `Day 1`: The Tyranny of the Rocket Equation ---"
   ]
  },
  {
   "cell_type": "code",
   "execution_count": 1,
   "id": "ac96ba0f",
   "metadata": {},
   "outputs": [],
   "source": [
    "import aocd\n",
    "import re\n",
    "import operator\n",
    "from itertools import combinations\n",
    "from functools import reduce\n",
    "\n",
    "def prod(iterable):\n",
    "    return reduce(operator.mul, iterable, 1)\n",
    "\n",
    "def count(iterable, predicate = bool):\n",
    "    return sum([1 for item in iterable if predicate(item)])"
   ]
  },
  {
   "cell_type": "code",
   "execution_count": 5,
   "id": "7280dabd",
   "metadata": {},
   "outputs": [],
   "source": [
    "def parse_line(line): return int(line)\n",
    "    \n",
    "def parse_input(input):\n",
    "    return list(map(parse_line, input.splitlines()))"
   ]
  },
  {
   "cell_type": "code",
   "execution_count": 6,
   "id": "621f30ed",
   "metadata": {},
   "outputs": [
    {
     "data": {
      "text/plain": [
       "[142156, 108763, 77236, 78186, 110145]"
      ]
     },
     "execution_count": 6,
     "metadata": {},
     "output_type": "execute_result"
    }
   ],
   "source": [
    "final_input = parse_input(aocd.get_data(day=1, year=2019))\n",
    "final_input[:5]"
   ]
  },
  {
   "cell_type": "code",
   "execution_count": 7,
   "id": "69f5f045",
   "metadata": {},
   "outputs": [
    {
     "data": {
      "text/plain": [
       "[12, 14, 1969, 100756]"
      ]
     },
     "execution_count": 7,
     "metadata": {},
     "output_type": "execute_result"
    }
   ],
   "source": [
    "test_input = parse_input('''\\\n",
    "12\n",
    "14\n",
    "1969\n",
    "100756\n",
    "''')\n",
    "\n",
    "test_input"
   ]
  },
  {
   "cell_type": "markdown",
   "id": "f88b71c4",
   "metadata": {},
   "source": [
    "## Solution 1"
   ]
  },
  {
   "cell_type": "code",
   "execution_count": 10,
   "id": "3b11a060",
   "metadata": {},
   "outputs": [
    {
     "data": {
      "text/plain": [
       "34241"
      ]
     },
     "execution_count": 10,
     "metadata": {},
     "output_type": "execute_result"
    }
   ],
   "source": [
    "def solve_1(input):\n",
    "    return sum((x // 3 - 2) for x in input)\n",
    "\n",
    "solve_1(test_input)"
   ]
  },
  {
   "cell_type": "code",
   "execution_count": 11,
   "id": "9ae1d9b0",
   "metadata": {},
   "outputs": [
    {
     "data": {
      "text/plain": [
       "'Solution 1: 3318632'"
      ]
     },
     "execution_count": 11,
     "metadata": {},
     "output_type": "execute_result"
    }
   ],
   "source": [
    "f\"Solution 1: {solve_1(final_input)}\""
   ]
  },
  {
   "cell_type": "markdown",
   "id": "c4a93ab3",
   "metadata": {},
   "source": [
    "## Solution 2"
   ]
  },
  {
   "cell_type": "code",
   "execution_count": 21,
   "id": "5fc3e6aa",
   "metadata": {},
   "outputs": [
    {
     "data": {
      "text/plain": [
       "[33583, 11192, 3728, 1240, 411, 135, 43, 12, 2]"
      ]
     },
     "execution_count": 21,
     "metadata": {},
     "output_type": "execute_result"
    }
   ],
   "source": [
    "def reduce(number):\n",
    "    number = (number // 3) - 2\n",
    "    while number > 0:\n",
    "        yield number\n",
    "        number = (number // 3) - 2\n",
    "        \n",
    "[x for y in for x in reduce(100756)]"
   ]
  },
  {
   "cell_type": "code",
   "execution_count": 23,
   "id": "de89416a",
   "metadata": {},
   "outputs": [
    {
     "data": {
      "text/plain": [
       "51316"
      ]
     },
     "execution_count": 23,
     "metadata": {},
     "output_type": "execute_result"
    }
   ],
   "source": [
    "def solve_2(input):\n",
    "    return sum(x for y in input for x in reduce(y))\n",
    "    \n",
    "solve_2(test_input)"
   ]
  },
  {
   "cell_type": "code",
   "execution_count": 24,
   "id": "a384f741",
   "metadata": {},
   "outputs": [
    {
     "data": {
      "text/plain": [
       "'Solution 2: 4975084'"
      ]
     },
     "execution_count": 24,
     "metadata": {},
     "output_type": "execute_result"
    }
   ],
   "source": [
    "f\"Solution 2: {solve_2(final_input)}\""
   ]
  },
  {
   "cell_type": "code",
   "execution_count": null,
   "id": "f1e461af",
   "metadata": {},
   "outputs": [],
   "source": []
  }
 ],
 "metadata": {
  "kernelspec": {
   "display_name": "Python 3 (ipykernel)",
   "language": "python",
   "name": "python3"
  },
  "language_info": {
   "codemirror_mode": {
    "name": "ipython",
    "version": 3
   },
   "file_extension": ".py",
   "mimetype": "text/x-python",
   "name": "python",
   "nbconvert_exporter": "python",
   "pygments_lexer": "ipython3",
   "version": "3.9.5"
  }
 },
 "nbformat": 4,
 "nbformat_minor": 5
}
