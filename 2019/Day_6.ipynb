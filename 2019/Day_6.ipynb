{
 "cells": [
  {
   "cell_type": "markdown",
   "id": "9f697af2",
   "metadata": {},
   "source": [
    "# --- `Day 6`: Universal Orbit Map ---"
   ]
  },
  {
   "cell_type": "code",
   "execution_count": 110,
   "id": "ac96ba0f",
   "metadata": {},
   "outputs": [],
   "source": [
    "import aocd\n",
    "import re\n",
    "import operator\n",
    "from collections import Counter, defaultdict, deque\n",
    "from itertools import combinations\n",
    "from functools import reduce, lru_cache\n",
    "\n",
    "def prod(iterable):\n",
    "    return reduce(operator.mul, iterable, 1)\n",
    "\n",
    "def count(iterable, predicate = bool):\n",
    "    return sum([1 for item in iterable if predicate(item)])\n",
    "\n",
    "def first(iterable, default = None):\n",
    "    return next(iter(iterable), default)\n",
    "\n",
    "def lmap(func, *iterables):\n",
    "    return list(map(func, *iterables))\n",
    "\n",
    "def ints(s):\n",
    "    return lmap(int, re.findall(r\"-?\\d+\", s))\n",
    "\n",
    "def words(s):\n",
    "    return re.findall(r\"[a-zA-Z]+\", s)\n",
    "\n",
    "def list_diff(x):\n",
    "    return [b - a for a, b in zip(x, x[1:])]\n",
    "\n",
    "def binary_to_int(lst):\n",
    "    return int(\"\".join(str(i) for i in lst), 2)\n",
    "\n",
    "def get_column(lst, index):\n",
    "    return [x[index] for x in lst]"
   ]
  },
  {
   "cell_type": "code",
   "execution_count": 154,
   "id": "7280dabd",
   "metadata": {},
   "outputs": [],
   "source": [
    "def parse_line(line):\n",
    "    return line.split(\")\")\n",
    "    \n",
    "def parse_input(input):\n",
    "    return list(map(parse_line, input.splitlines()))"
   ]
  },
  {
   "cell_type": "code",
   "execution_count": 155,
   "id": "621f30ed",
   "metadata": {},
   "outputs": [
    {
     "name": "stdout",
     "output_type": "stream",
     "text": [
      "[['KDZ', 'KYY'], ['4K8', 'LQM'], ['R6G', 'QHZ'], ['4JT', 'JVX'], ['PW1', 'HGF']]\n"
     ]
    }
   ],
   "source": [
    "final_input = parse_input(aocd.get_data(day=6, year=2019))\n",
    "print(final_input[:5])"
   ]
  },
  {
   "cell_type": "code",
   "execution_count": 176,
   "id": "69f5f045",
   "metadata": {},
   "outputs": [
    {
     "name": "stdout",
     "output_type": "stream",
     "text": [
      "[['COM', 'B'], ['B', 'C'], ['C', 'D'], ['D', 'E'], ['E', 'F'], ['B', 'G'], ['G', 'H'], ['D', 'I'], ['E', 'J'], ['J', 'K'], ['K', 'L'], ['K', 'YOU'], ['I', 'SAN']]\n"
     ]
    }
   ],
   "source": [
    "test_input = parse_input('''\\\n",
    "COM)B\n",
    "B)C\n",
    "C)D\n",
    "D)E\n",
    "E)F\n",
    "B)G\n",
    "G)H\n",
    "D)I\n",
    "E)J\n",
    "J)K\n",
    "K)L\n",
    "K)YOU\n",
    "I)SAN\n",
    "''')\n",
    "\n",
    "print(test_input)"
   ]
  },
  {
   "cell_type": "markdown",
   "id": "f88b71c4",
   "metadata": {},
   "source": [
    "## Solution 1"
   ]
  },
  {
   "cell_type": "code",
   "execution_count": 174,
   "id": "3b11a060",
   "metadata": {},
   "outputs": [
    {
     "data": {
      "text/plain": [
       "42"
      ]
     },
     "execution_count": 174,
     "metadata": {},
     "output_type": "execute_result"
    }
   ],
   "source": [
    "def createGraph(input):\n",
    "    graph = {}\n",
    "    childCount = defaultdict(int)\n",
    "    for planets in input:\n",
    "        main = planets[0]\n",
    "        for satellite in planets[1:]:\n",
    "            if not main in graph:\n",
    "                graph[main] = set()\n",
    "            graph[main].add(satellite)\n",
    "            childCount[satellite] += 1\n",
    "            if not main in childCount:\n",
    "                childCount[main] = 0\n",
    "    parent = [a for a,b in childCount.items() if b == 0][0]\n",
    "    return (parent, graph)\n",
    "\n",
    "def visit(graph, node, level):\n",
    "    if not node in graph:\n",
    "        return level\n",
    "    children = sum(visit(graph, x, level + 1) for x in graph[node])\n",
    "    return level + children\n",
    "    \n",
    "def solve_1(input):\n",
    "    parent, graph = createGraph(input)\n",
    "    #print(graph)\n",
    "    #print(parent)\n",
    "    #print(visit(graph, \"COM\", 0))\n",
    "    return visit(graph, parent, 0)\n",
    "\n",
    "solve_1(test_input)"
   ]
  },
  {
   "cell_type": "code",
   "execution_count": 175,
   "id": "9ae1d9b0",
   "metadata": {},
   "outputs": [
    {
     "data": {
      "text/plain": [
       "'Solution 1: 139597'"
      ]
     },
     "execution_count": 175,
     "metadata": {},
     "output_type": "execute_result"
    }
   ],
   "source": [
    "f\"Solution 1: {solve_1(final_input)}\""
   ]
  },
  {
   "cell_type": "markdown",
   "id": "c4a93ab3",
   "metadata": {},
   "source": [
    "## Solution 2"
   ]
  },
  {
   "cell_type": "code",
   "execution_count": 191,
   "id": "de89416a",
   "metadata": {},
   "outputs": [
    {
     "data": {
      "text/plain": [
       "4"
      ]
     },
     "execution_count": 191,
     "metadata": {},
     "output_type": "execute_result"
    }
   ],
   "source": [
    "def createGraph2(input):\n",
    "    graph = {}\n",
    "    for planets in input:\n",
    "        main = planets[0]\n",
    "        for satellite in planets[1:]:\n",
    "            if not main in graph:\n",
    "                graph[main] = set()\n",
    "            graph[main].add(satellite)\n",
    "            if not satellite in graph:\n",
    "                graph[satellite] = set()\n",
    "            graph[satellite].add(main)\n",
    "    return graph\n",
    "\n",
    "def getShortestPath(graph, start, finish):\n",
    "    visited = set()\n",
    "    queue = [(start, [start])]\n",
    "    while queue:\n",
    "        vertex, path = queue.pop(0)\n",
    "        visited.add(vertex)\n",
    "        for child in graph[vertex]:\n",
    "            if child == finish:\n",
    "                return path + [finish]\n",
    "            else:\n",
    "                if child not in visited:\n",
    "                    visited.add(child)\n",
    "                    queue.append((child, path + [child]))\n",
    "    return 0\n",
    "\n",
    "def solve_2(input):\n",
    "    graph = createGraph2(input)\n",
    "    path = getShortestPath(graph, first(graph[\"YOU\"]), first(graph[\"SAN\"]))\n",
    "    return len(path) - 1\n",
    "    \n",
    "solve_2(test_input)"
   ]
  },
  {
   "cell_type": "code",
   "execution_count": 192,
   "id": "a384f741",
   "metadata": {},
   "outputs": [
    {
     "data": {
      "text/plain": [
       "'Solution 2: 286'"
      ]
     },
     "execution_count": 192,
     "metadata": {},
     "output_type": "execute_result"
    }
   ],
   "source": [
    "f\"Solution 2: {solve_2(final_input)}\""
   ]
  },
  {
   "cell_type": "code",
   "execution_count": null,
   "id": "f1e461af",
   "metadata": {},
   "outputs": [],
   "source": []
  }
 ],
 "metadata": {
  "kernelspec": {
   "display_name": "Python 3 (ipykernel)",
   "language": "python",
   "name": "python3"
  },
  "language_info": {
   "codemirror_mode": {
    "name": "ipython",
    "version": 3
   },
   "file_extension": ".py",
   "mimetype": "text/x-python",
   "name": "python",
   "nbconvert_exporter": "python",
   "pygments_lexer": "ipython3",
   "version": "3.9.8"
  }
 },
 "nbformat": 4,
 "nbformat_minor": 5
}
