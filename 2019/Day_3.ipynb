{
 "cells": [
  {
   "cell_type": "markdown",
   "id": "9f697af2",
   "metadata": {},
   "source": [
    "# --- `Day 3`: Crossed Wires ---"
   ]
  },
  {
   "cell_type": "code",
   "execution_count": 1,
   "id": "ac96ba0f",
   "metadata": {},
   "outputs": [],
   "source": [
    "import aocd\n",
    "import re\n",
    "import operator\n",
    "from collections import Counter, defaultdict, deque\n",
    "from itertools import combinations\n",
    "from functools import reduce, lru_cache\n",
    "\n",
    "def prod(iterable):\n",
    "    return reduce(operator.mul, iterable, 1)\n",
    "\n",
    "def count(iterable, predicate = bool):\n",
    "    return sum([1 for item in iterable if predicate(item)])\n",
    "\n",
    "def first(iterable, default = None):\n",
    "    return next(iter(iterable), default)\n",
    "\n",
    "def lmap(func, *iterables):\n",
    "    return list(map(func, *iterables))\n",
    "\n",
    "def ints(s):\n",
    "    return lmap(int, re.findall(r\"-?\\d+\", s))\n",
    "\n",
    "def words(s):\n",
    "    return re.findall(r\"[a-zA-Z]+\", s)\n",
    "\n",
    "def list_diff(x):\n",
    "    return [b - a for a, b in zip(x, x[1:])]\n",
    "\n",
    "def binary_to_int(lst):\n",
    "    return int(\"\".join(str(i) for i in lst), 2)\n",
    "\n",
    "def get_column(lst, index):\n",
    "    return [x[index] for x in lst]"
   ]
  },
  {
   "cell_type": "code",
   "execution_count": 2,
   "id": "7280dabd",
   "metadata": {},
   "outputs": [],
   "source": [
    "def parse_line(line):\n",
    "    return line.split(\",\")\n",
    "    \n",
    "def parse_input(input):\n",
    "    return list(map(parse_line, input.splitlines()))"
   ]
  },
  {
   "cell_type": "code",
   "execution_count": null,
   "id": "621f30ed",
   "metadata": {},
   "outputs": [],
   "source": [
    "final_input = parse_input(aocd.get_data(day=3, year=2019))\n",
    "print(final_input[:2])"
   ]
  },
  {
   "cell_type": "code",
   "execution_count": 10,
   "id": "69f5f045",
   "metadata": {},
   "outputs": [
    {
     "data": {
      "text/plain": [
       "[['R8', 'U5', 'L5', 'D3'], ['U7', 'R6', 'D4', 'L4']]"
      ]
     },
     "execution_count": 10,
     "metadata": {},
     "output_type": "execute_result"
    }
   ],
   "source": [
    "test_input = parse_input('''\\\n",
    "R8,U5,L5,D3\n",
    "U7,R6,D4,L4\n",
    "''')\n",
    "\n",
    "test_input"
   ]
  },
  {
   "cell_type": "markdown",
   "id": "f88b71c4",
   "metadata": {},
   "source": [
    "## Solution 1"
   ]
  },
  {
   "cell_type": "code",
   "execution_count": 25,
   "id": "d331f8e2",
   "metadata": {},
   "outputs": [
    {
     "data": {
      "text/plain": [
       "({(1, 0), (2, 0), (3, 0), (4, 0), (5, -2), (5, -1), (5, 0)},\n",
       " [(1, 0), (2, 0), (3, 0), (4, 0), (5, 0), (5, -1), (5, -2)])"
      ]
     },
     "execution_count": 25,
     "metadata": {},
     "output_type": "execute_result"
    }
   ],
   "source": [
    "directions = dict(\n",
    "    R = (1, 0), U = (0, -1), D = (0, 1), L = (-1, 0)\n",
    ")\n",
    "\n",
    "def path(commands):\n",
    "    s = set()\n",
    "    l = []\n",
    "    current = (0, 0)\n",
    "    for command in commands:\n",
    "        direction = command[0]\n",
    "        distance = command[1:]\n",
    "        for i in range(int(distance)):\n",
    "            adjust = directions[direction]\n",
    "            current = (current[0] + adjust[0], current[1] + adjust[1])\n",
    "            s.add(current)\n",
    "            l.append(current)\n",
    "    return (s, l)\n",
    "\n",
    "def manhattan(point):\n",
    "    return abs(point[0]) + abs(point[1])\n",
    "\n",
    "path(['R5', 'U2'])"
   ]
  },
  {
   "cell_type": "code",
   "execution_count": 26,
   "id": "3b11a060",
   "metadata": {},
   "outputs": [
    {
     "data": {
      "text/plain": [
       "6"
      ]
     },
     "execution_count": 26,
     "metadata": {},
     "output_type": "execute_result"
    }
   ],
   "source": [
    "def solve_1(input):\n",
    "    path1,_ = path(input[0])\n",
    "    path2,_ = path(input[1])\n",
    "    return min(map(manhattan, path1.intersection(path2)))\n",
    "\n",
    "solve_1(test_input)"
   ]
  },
  {
   "cell_type": "code",
   "execution_count": null,
   "id": "9ae1d9b0",
   "metadata": {},
   "outputs": [],
   "source": [
    "f\"Solution 1: {solve_1(final_input)}\""
   ]
  },
  {
   "cell_type": "markdown",
   "id": "c4a93ab3",
   "metadata": {},
   "source": [
    "## Solution 2"
   ]
  },
  {
   "cell_type": "code",
   "execution_count": 31,
   "id": "de89416a",
   "metadata": {},
   "outputs": [
    {
     "data": {
      "text/plain": [
       "30"
      ]
     },
     "execution_count": 31,
     "metadata": {},
     "output_type": "execute_result"
    }
   ],
   "source": [
    "def getLength(intersection, path):\n",
    "    count = 0\n",
    "    for i,item in enumerate(path):\n",
    "        if item == intersection:\n",
    "            return i + 1\n",
    "    \n",
    "def solve_2(input):\n",
    "    best = 1000000000000000\n",
    "    circuit1, circuit2 = input\n",
    "    set1,path1 = path(circuit1)\n",
    "    set2,path2 = path(circuit2)\n",
    "    intersections = set1.intersection(set2)\n",
    "    for intersection in intersections:\n",
    "        len1 = getLength(intersection, path1)\n",
    "        len2 = getLength(intersection, path2)\n",
    "        total = len1 + len2\n",
    "        best = min(best, total)\n",
    "    return best\n",
    "    \n",
    "solve_2(test_input)"
   ]
  },
  {
   "cell_type": "code",
   "execution_count": null,
   "id": "a384f741",
   "metadata": {},
   "outputs": [],
   "source": [
    "f\"Solution 2: {solve_2(final_input)}\""
   ]
  },
  {
   "cell_type": "code",
   "execution_count": null,
   "id": "f1e461af",
   "metadata": {},
   "outputs": [],
   "source": []
  }
 ],
 "metadata": {
  "kernelspec": {
   "display_name": "Python 3 (ipykernel)",
   "language": "python",
   "name": "python3"
  },
  "language_info": {
   "codemirror_mode": {
    "name": "ipython",
    "version": 3
   },
   "file_extension": ".py",
   "mimetype": "text/x-python",
   "name": "python",
   "nbconvert_exporter": "python",
   "pygments_lexer": "ipython3",
   "version": "3.9.8"
  }
 },
 "nbformat": 4,
 "nbformat_minor": 5
}
